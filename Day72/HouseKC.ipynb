{
 "metadata": {
  "orig_nbformat": 2,
  "kernelspec": {
   "name": "tensorflow",
   "display_name": "Python 3.7 (tensorflow)",
   "language": "python"
  }
 },
 "nbformat": 4,
 "nbformat_minor": 2,
 "cells": [
  {
   "cell_type": "code",
   "execution_count": 1,
   "metadata": {},
   "outputs": [],
   "source": [
    "import pandas as pd\n",
    "import numpy as np"
   ]
  },
  {
   "cell_type": "code",
   "execution_count": 2,
   "metadata": {},
   "outputs": [],
   "source": [
    "df = pd.read_csv('kc_house_data.csv')"
   ]
  },
  {
   "cell_type": "code",
   "execution_count": 3,
   "metadata": {},
   "outputs": [
    {
     "output_type": "execute_result",
     "data": {
      "text/plain": [
       "           id             date     price  bedrooms  bathrooms  sqft_living  \\\n",
       "0  7129300520  20141013T000000  221900.0         3       1.00         1180   \n",
       "1  6414100192  20141209T000000  538000.0         3       2.25         2570   \n",
       "2  5631500400  20150225T000000  180000.0         2       1.00          770   \n",
       "3  2487200875  20141209T000000  604000.0         4       3.00         1960   \n",
       "4  1954400510  20150218T000000  510000.0         3       2.00         1680   \n",
       "\n",
       "   sqft_lot  floors  waterfront  view  ...  grade  sqft_above  sqft_basement  \\\n",
       "0      5650     1.0           0     0  ...      7        1180              0   \n",
       "1      7242     2.0           0     0  ...      7        2170            400   \n",
       "2     10000     1.0           0     0  ...      6         770              0   \n",
       "3      5000     1.0           0     0  ...      7        1050            910   \n",
       "4      8080     1.0           0     0  ...      8        1680              0   \n",
       "\n",
       "   yr_built  yr_renovated  zipcode      lat     long  sqft_living15  \\\n",
       "0      1955             0    98178  47.5112 -122.257           1340   \n",
       "1      1951          1991    98125  47.7210 -122.319           1690   \n",
       "2      1933             0    98028  47.7379 -122.233           2720   \n",
       "3      1965             0    98136  47.5208 -122.393           1360   \n",
       "4      1987             0    98074  47.6168 -122.045           1800   \n",
       "\n",
       "   sqft_lot15  \n",
       "0        5650  \n",
       "1        7639  \n",
       "2        8062  \n",
       "3        5000  \n",
       "4        7503  \n",
       "\n",
       "[5 rows x 21 columns]"
      ],
      "text/html": "<div>\n<style scoped>\n    .dataframe tbody tr th:only-of-type {\n        vertical-align: middle;\n    }\n\n    .dataframe tbody tr th {\n        vertical-align: top;\n    }\n\n    .dataframe thead th {\n        text-align: right;\n    }\n</style>\n<table border=\"1\" class=\"dataframe\">\n  <thead>\n    <tr style=\"text-align: right;\">\n      <th></th>\n      <th>id</th>\n      <th>date</th>\n      <th>price</th>\n      <th>bedrooms</th>\n      <th>bathrooms</th>\n      <th>sqft_living</th>\n      <th>sqft_lot</th>\n      <th>floors</th>\n      <th>waterfront</th>\n      <th>view</th>\n      <th>...</th>\n      <th>grade</th>\n      <th>sqft_above</th>\n      <th>sqft_basement</th>\n      <th>yr_built</th>\n      <th>yr_renovated</th>\n      <th>zipcode</th>\n      <th>lat</th>\n      <th>long</th>\n      <th>sqft_living15</th>\n      <th>sqft_lot15</th>\n    </tr>\n  </thead>\n  <tbody>\n    <tr>\n      <th>0</th>\n      <td>7129300520</td>\n      <td>20141013T000000</td>\n      <td>221900.0</td>\n      <td>3</td>\n      <td>1.00</td>\n      <td>1180</td>\n      <td>5650</td>\n      <td>1.0</td>\n      <td>0</td>\n      <td>0</td>\n      <td>...</td>\n      <td>7</td>\n      <td>1180</td>\n      <td>0</td>\n      <td>1955</td>\n      <td>0</td>\n      <td>98178</td>\n      <td>47.5112</td>\n      <td>-122.257</td>\n      <td>1340</td>\n      <td>5650</td>\n    </tr>\n    <tr>\n      <th>1</th>\n      <td>6414100192</td>\n      <td>20141209T000000</td>\n      <td>538000.0</td>\n      <td>3</td>\n      <td>2.25</td>\n      <td>2570</td>\n      <td>7242</td>\n      <td>2.0</td>\n      <td>0</td>\n      <td>0</td>\n      <td>...</td>\n      <td>7</td>\n      <td>2170</td>\n      <td>400</td>\n      <td>1951</td>\n      <td>1991</td>\n      <td>98125</td>\n      <td>47.7210</td>\n      <td>-122.319</td>\n      <td>1690</td>\n      <td>7639</td>\n    </tr>\n    <tr>\n      <th>2</th>\n      <td>5631500400</td>\n      <td>20150225T000000</td>\n      <td>180000.0</td>\n      <td>2</td>\n      <td>1.00</td>\n      <td>770</td>\n      <td>10000</td>\n      <td>1.0</td>\n      <td>0</td>\n      <td>0</td>\n      <td>...</td>\n      <td>6</td>\n      <td>770</td>\n      <td>0</td>\n      <td>1933</td>\n      <td>0</td>\n      <td>98028</td>\n      <td>47.7379</td>\n      <td>-122.233</td>\n      <td>2720</td>\n      <td>8062</td>\n    </tr>\n    <tr>\n      <th>3</th>\n      <td>2487200875</td>\n      <td>20141209T000000</td>\n      <td>604000.0</td>\n      <td>4</td>\n      <td>3.00</td>\n      <td>1960</td>\n      <td>5000</td>\n      <td>1.0</td>\n      <td>0</td>\n      <td>0</td>\n      <td>...</td>\n      <td>7</td>\n      <td>1050</td>\n      <td>910</td>\n      <td>1965</td>\n      <td>0</td>\n      <td>98136</td>\n      <td>47.5208</td>\n      <td>-122.393</td>\n      <td>1360</td>\n      <td>5000</td>\n    </tr>\n    <tr>\n      <th>4</th>\n      <td>1954400510</td>\n      <td>20150218T000000</td>\n      <td>510000.0</td>\n      <td>3</td>\n      <td>2.00</td>\n      <td>1680</td>\n      <td>8080</td>\n      <td>1.0</td>\n      <td>0</td>\n      <td>0</td>\n      <td>...</td>\n      <td>8</td>\n      <td>1680</td>\n      <td>0</td>\n      <td>1987</td>\n      <td>0</td>\n      <td>98074</td>\n      <td>47.6168</td>\n      <td>-122.045</td>\n      <td>1800</td>\n      <td>7503</td>\n    </tr>\n  </tbody>\n</table>\n<p>5 rows × 21 columns</p>\n</div>"
     },
     "metadata": {},
     "execution_count": 3
    }
   ],
   "source": [
    "df.head()"
   ]
  },
  {
   "cell_type": "code",
   "execution_count": 4,
   "metadata": {},
   "outputs": [],
   "source": [
    "import plotly.express as px\n",
    "import matplotlib.pyplot as plt\n",
    "import seaborn as sns"
   ]
  },
  {
   "cell_type": "code",
   "execution_count": 5,
   "metadata": {},
   "outputs": [],
   "source": [
    "from sklearn.model_selection import train_test_split"
   ]
  },
  {
   "cell_type": "code",
   "execution_count": 6,
   "metadata": {},
   "outputs": [],
   "source": [
    "from sklearn.tree import DecisionTreeRegressor\n",
    "from sklearn.ensemble import RandomForestRegressor"
   ]
  },
  {
   "cell_type": "code",
   "execution_count": 8,
   "metadata": {},
   "outputs": [],
   "source": [
    "from sklearn.feature_selection import mutual_info_regression\n",
    "from sklearn.metrics import r2_score,mean_absolute_error\n",
    "from sklearn.metrics import accuracy_score,recall_score,precision_score,f1_score,confusion_matrix,roc_auc_score\n",
    "from sklearn.linear_model import LinearRegression\n",
    "from sklearn.preprocessing import StandardScaler, MinMaxScaler"
   ]
  },
  {
   "cell_type": "code",
   "execution_count": 9,
   "metadata": {},
   "outputs": [],
   "source": [
    "%matplotlib inline"
   ]
  },
  {
   "cell_type": "code",
   "execution_count": 10,
   "metadata": {},
   "outputs": [
    {
     "output_type": "execute_result",
     "data": {
      "text/plain": [
       "               id             date      price  bedrooms  bathrooms  \\\n",
       "16567  7603100095  20141110T000000  1260000.0         3       3.00   \n",
       "3542   1563100705  20140912T000000   690000.0         4       3.50   \n",
       "21163  1099950050  20141229T000000   620000.0         4       3.50   \n",
       "8107   1683900040  20141215T000000   330000.0         3       2.25   \n",
       "12696  2344300220  20140714T000000  1100000.0         4       3.50   \n",
       "9844   9552701000  20150316T000000   818000.0         4       2.25   \n",
       "2082   4401200350  20150210T000000   822500.0         3       2.50   \n",
       "690    9133600075  20140821T000000   373000.0         3       1.75   \n",
       "17993  4254000620  20141007T000000   410000.0         3       2.50   \n",
       "6697   8651610660  20150429T000000   769000.0         4       2.50   \n",
       "\n",
       "       sqft_living  sqft_lot  floors  waterfront  view  ...  grade  \\\n",
       "16567         3230      8625     2.0           0     3  ...     10   \n",
       "3542          1930      5400     1.5           0     2  ...      7   \n",
       "21163         3880      8244     2.0           0     0  ...     10   \n",
       "8107          1440      5150     2.0           0     0  ...      7   \n",
       "12696         2210      7597     1.0           0     0  ...      9   \n",
       "9844          2460      8001     2.0           0     0  ...      8   \n",
       "2082          3090      7708     2.0           0     0  ...     10   \n",
       "690           1830     11788     1.0           0     1  ...      8   \n",
       "17993         1860     15457     2.0           0     0  ...      8   \n",
       "6697          2440      6733     2.0           0     0  ...      9   \n",
       "\n",
       "       sqft_above  sqft_basement  yr_built  yr_renovated  zipcode      lat  \\\n",
       "16567        2220           1010      1998             0    98116  47.5620   \n",
       "3542         1930              0      1920             0    98116  47.5679   \n",
       "21163        3060            820      2007             0    98019  47.7426   \n",
       "8107         1440              0      1997             0    98106  47.5456   \n",
       "12696        1550            660      1977          2006    98004  47.5816   \n",
       "9844         2460              0      1984             0    98006  47.5480   \n",
       "2082         3090              0      1999             0    98052  47.6868   \n",
       "690          1430            400      1958             0    98055  47.4862   \n",
       "17993        1860              0      1997             0    98019  47.7383   \n",
       "6697         2440              0      1999             0    98074  47.6374   \n",
       "\n",
       "          long  sqft_living15  sqft_lot15  \n",
       "16567 -122.404           2330        6022  \n",
       "3542  -122.409           1500        3340  \n",
       "21163 -121.976           3180       10947  \n",
       "8107  -122.356           1530        5238  \n",
       "12696 -122.197           2370        8811  \n",
       "9844  -122.154           2460        9126  \n",
       "2082  -122.108           3140        8592  \n",
       "690   -122.224           2140       11964  \n",
       "17993 -121.955           2040       14055  \n",
       "6697  -122.064           2570        6496  \n",
       "\n",
       "[10 rows x 21 columns]"
      ],
      "text/html": "<div>\n<style scoped>\n    .dataframe tbody tr th:only-of-type {\n        vertical-align: middle;\n    }\n\n    .dataframe tbody tr th {\n        vertical-align: top;\n    }\n\n    .dataframe thead th {\n        text-align: right;\n    }\n</style>\n<table border=\"1\" class=\"dataframe\">\n  <thead>\n    <tr style=\"text-align: right;\">\n      <th></th>\n      <th>id</th>\n      <th>date</th>\n      <th>price</th>\n      <th>bedrooms</th>\n      <th>bathrooms</th>\n      <th>sqft_living</th>\n      <th>sqft_lot</th>\n      <th>floors</th>\n      <th>waterfront</th>\n      <th>view</th>\n      <th>...</th>\n      <th>grade</th>\n      <th>sqft_above</th>\n      <th>sqft_basement</th>\n      <th>yr_built</th>\n      <th>yr_renovated</th>\n      <th>zipcode</th>\n      <th>lat</th>\n      <th>long</th>\n      <th>sqft_living15</th>\n      <th>sqft_lot15</th>\n    </tr>\n  </thead>\n  <tbody>\n    <tr>\n      <th>16567</th>\n      <td>7603100095</td>\n      <td>20141110T000000</td>\n      <td>1260000.0</td>\n      <td>3</td>\n      <td>3.00</td>\n      <td>3230</td>\n      <td>8625</td>\n      <td>2.0</td>\n      <td>0</td>\n      <td>3</td>\n      <td>...</td>\n      <td>10</td>\n      <td>2220</td>\n      <td>1010</td>\n      <td>1998</td>\n      <td>0</td>\n      <td>98116</td>\n      <td>47.5620</td>\n      <td>-122.404</td>\n      <td>2330</td>\n      <td>6022</td>\n    </tr>\n    <tr>\n      <th>3542</th>\n      <td>1563100705</td>\n      <td>20140912T000000</td>\n      <td>690000.0</td>\n      <td>4</td>\n      <td>3.50</td>\n      <td>1930</td>\n      <td>5400</td>\n      <td>1.5</td>\n      <td>0</td>\n      <td>2</td>\n      <td>...</td>\n      <td>7</td>\n      <td>1930</td>\n      <td>0</td>\n      <td>1920</td>\n      <td>0</td>\n      <td>98116</td>\n      <td>47.5679</td>\n      <td>-122.409</td>\n      <td>1500</td>\n      <td>3340</td>\n    </tr>\n    <tr>\n      <th>21163</th>\n      <td>1099950050</td>\n      <td>20141229T000000</td>\n      <td>620000.0</td>\n      <td>4</td>\n      <td>3.50</td>\n      <td>3880</td>\n      <td>8244</td>\n      <td>2.0</td>\n      <td>0</td>\n      <td>0</td>\n      <td>...</td>\n      <td>10</td>\n      <td>3060</td>\n      <td>820</td>\n      <td>2007</td>\n      <td>0</td>\n      <td>98019</td>\n      <td>47.7426</td>\n      <td>-121.976</td>\n      <td>3180</td>\n      <td>10947</td>\n    </tr>\n    <tr>\n      <th>8107</th>\n      <td>1683900040</td>\n      <td>20141215T000000</td>\n      <td>330000.0</td>\n      <td>3</td>\n      <td>2.25</td>\n      <td>1440</td>\n      <td>5150</td>\n      <td>2.0</td>\n      <td>0</td>\n      <td>0</td>\n      <td>...</td>\n      <td>7</td>\n      <td>1440</td>\n      <td>0</td>\n      <td>1997</td>\n      <td>0</td>\n      <td>98106</td>\n      <td>47.5456</td>\n      <td>-122.356</td>\n      <td>1530</td>\n      <td>5238</td>\n    </tr>\n    <tr>\n      <th>12696</th>\n      <td>2344300220</td>\n      <td>20140714T000000</td>\n      <td>1100000.0</td>\n      <td>4</td>\n      <td>3.50</td>\n      <td>2210</td>\n      <td>7597</td>\n      <td>1.0</td>\n      <td>0</td>\n      <td>0</td>\n      <td>...</td>\n      <td>9</td>\n      <td>1550</td>\n      <td>660</td>\n      <td>1977</td>\n      <td>2006</td>\n      <td>98004</td>\n      <td>47.5816</td>\n      <td>-122.197</td>\n      <td>2370</td>\n      <td>8811</td>\n    </tr>\n    <tr>\n      <th>9844</th>\n      <td>9552701000</td>\n      <td>20150316T000000</td>\n      <td>818000.0</td>\n      <td>4</td>\n      <td>2.25</td>\n      <td>2460</td>\n      <td>8001</td>\n      <td>2.0</td>\n      <td>0</td>\n      <td>0</td>\n      <td>...</td>\n      <td>8</td>\n      <td>2460</td>\n      <td>0</td>\n      <td>1984</td>\n      <td>0</td>\n      <td>98006</td>\n      <td>47.5480</td>\n      <td>-122.154</td>\n      <td>2460</td>\n      <td>9126</td>\n    </tr>\n    <tr>\n      <th>2082</th>\n      <td>4401200350</td>\n      <td>20150210T000000</td>\n      <td>822500.0</td>\n      <td>3</td>\n      <td>2.50</td>\n      <td>3090</td>\n      <td>7708</td>\n      <td>2.0</td>\n      <td>0</td>\n      <td>0</td>\n      <td>...</td>\n      <td>10</td>\n      <td>3090</td>\n      <td>0</td>\n      <td>1999</td>\n      <td>0</td>\n      <td>98052</td>\n      <td>47.6868</td>\n      <td>-122.108</td>\n      <td>3140</td>\n      <td>8592</td>\n    </tr>\n    <tr>\n      <th>690</th>\n      <td>9133600075</td>\n      <td>20140821T000000</td>\n      <td>373000.0</td>\n      <td>3</td>\n      <td>1.75</td>\n      <td>1830</td>\n      <td>11788</td>\n      <td>1.0</td>\n      <td>0</td>\n      <td>1</td>\n      <td>...</td>\n      <td>8</td>\n      <td>1430</td>\n      <td>400</td>\n      <td>1958</td>\n      <td>0</td>\n      <td>98055</td>\n      <td>47.4862</td>\n      <td>-122.224</td>\n      <td>2140</td>\n      <td>11964</td>\n    </tr>\n    <tr>\n      <th>17993</th>\n      <td>4254000620</td>\n      <td>20141007T000000</td>\n      <td>410000.0</td>\n      <td>3</td>\n      <td>2.50</td>\n      <td>1860</td>\n      <td>15457</td>\n      <td>2.0</td>\n      <td>0</td>\n      <td>0</td>\n      <td>...</td>\n      <td>8</td>\n      <td>1860</td>\n      <td>0</td>\n      <td>1997</td>\n      <td>0</td>\n      <td>98019</td>\n      <td>47.7383</td>\n      <td>-121.955</td>\n      <td>2040</td>\n      <td>14055</td>\n    </tr>\n    <tr>\n      <th>6697</th>\n      <td>8651610660</td>\n      <td>20150429T000000</td>\n      <td>769000.0</td>\n      <td>4</td>\n      <td>2.50</td>\n      <td>2440</td>\n      <td>6733</td>\n      <td>2.0</td>\n      <td>0</td>\n      <td>0</td>\n      <td>...</td>\n      <td>9</td>\n      <td>2440</td>\n      <td>0</td>\n      <td>1999</td>\n      <td>0</td>\n      <td>98074</td>\n      <td>47.6374</td>\n      <td>-122.064</td>\n      <td>2570</td>\n      <td>6496</td>\n    </tr>\n  </tbody>\n</table>\n<p>10 rows × 21 columns</p>\n</div>"
     },
     "metadata": {},
     "execution_count": 10
    }
   ],
   "source": [
    "df.sample(10)"
   ]
  },
  {
   "cell_type": "code",
   "execution_count": 11,
   "metadata": {},
   "outputs": [
    {
     "output_type": "execute_result",
     "data": {
      "text/plain": [
       "id                 int64\n",
       "date              object\n",
       "price            float64\n",
       "bedrooms           int64\n",
       "bathrooms        float64\n",
       "sqft_living        int64\n",
       "sqft_lot           int64\n",
       "floors           float64\n",
       "waterfront         int64\n",
       "view               int64\n",
       "condition          int64\n",
       "grade              int64\n",
       "sqft_above         int64\n",
       "sqft_basement      int64\n",
       "yr_built           int64\n",
       "yr_renovated       int64\n",
       "zipcode            int64\n",
       "lat              float64\n",
       "long             float64\n",
       "sqft_living15      int64\n",
       "sqft_lot15         int64\n",
       "dtype: object"
      ]
     },
     "metadata": {},
     "execution_count": 11
    }
   ],
   "source": [
    "df.dtypes"
   ]
  },
  {
   "cell_type": "code",
   "execution_count": 12,
   "metadata": {},
   "outputs": [
    {
     "output_type": "stream",
     "name": "stdout",
     "text": [
      "<class 'pandas.core.frame.DataFrame'>\nRangeIndex: 21613 entries, 0 to 21612\nData columns (total 21 columns):\n #   Column         Non-Null Count  Dtype  \n---  ------         --------------  -----  \n 0   id             21613 non-null  int64  \n 1   date           21613 non-null  object \n 2   price          21613 non-null  float64\n 3   bedrooms       21613 non-null  int64  \n 4   bathrooms      21613 non-null  float64\n 5   sqft_living    21613 non-null  int64  \n 6   sqft_lot       21613 non-null  int64  \n 7   floors         21613 non-null  float64\n 8   waterfront     21613 non-null  int64  \n 9   view           21613 non-null  int64  \n 10  condition      21613 non-null  int64  \n 11  grade          21613 non-null  int64  \n 12  sqft_above     21613 non-null  int64  \n 13  sqft_basement  21613 non-null  int64  \n 14  yr_built       21613 non-null  int64  \n 15  yr_renovated   21613 non-null  int64  \n 16  zipcode        21613 non-null  int64  \n 17  lat            21613 non-null  float64\n 18  long           21613 non-null  float64\n 19  sqft_living15  21613 non-null  int64  \n 20  sqft_lot15     21613 non-null  int64  \ndtypes: float64(5), int64(15), object(1)\nmemory usage: 3.5+ MB\n"
     ]
    }
   ],
   "source": [
    "df.info()"
   ]
  },
  {
   "cell_type": "code",
   "execution_count": 14,
   "metadata": {},
   "outputs": [
    {
     "output_type": "execute_result",
     "data": {
      "text/plain": [
       "(21613, 21)"
      ]
     },
     "metadata": {},
     "execution_count": 14
    }
   ],
   "source": [
    "df.shape"
   ]
  },
  {
   "cell_type": "code",
   "execution_count": 16,
   "metadata": {},
   "outputs": [
    {
     "output_type": "execute_result",
     "data": {
      "text/plain": [
       "id               0\n",
       "date             0\n",
       "price            0\n",
       "bedrooms         0\n",
       "bathrooms        0\n",
       "sqft_living      0\n",
       "sqft_lot         0\n",
       "floors           0\n",
       "waterfront       0\n",
       "view             0\n",
       "condition        0\n",
       "grade            0\n",
       "sqft_above       0\n",
       "sqft_basement    0\n",
       "yr_built         0\n",
       "yr_renovated     0\n",
       "zipcode          0\n",
       "lat              0\n",
       "long             0\n",
       "sqft_living15    0\n",
       "sqft_lot15       0\n",
       "dtype: int64"
      ]
     },
     "metadata": {},
     "execution_count": 16
    }
   ],
   "source": [
    "df.isnull().sum()"
   ]
  },
  {
   "cell_type": "code",
   "execution_count": 17,
   "metadata": {},
   "outputs": [
    {
     "output_type": "execute_result",
     "data": {
      "text/plain": [
       "                 id         price      bedrooms     bathrooms   sqft_living  \\\n",
       "count  2.161300e+04  2.161300e+04  21613.000000  21613.000000  21613.000000   \n",
       "mean   4.580302e+09  5.400881e+05      3.370842      2.114757   2079.899736   \n",
       "std    2.876566e+09  3.671272e+05      0.930062      0.770163    918.440897   \n",
       "min    1.000102e+06  7.500000e+04      0.000000      0.000000    290.000000   \n",
       "25%    2.123049e+09  3.219500e+05      3.000000      1.750000   1427.000000   \n",
       "50%    3.904930e+09  4.500000e+05      3.000000      2.250000   1910.000000   \n",
       "75%    7.308900e+09  6.450000e+05      4.000000      2.500000   2550.000000   \n",
       "max    9.900000e+09  7.700000e+06     33.000000      8.000000  13540.000000   \n",
       "\n",
       "           sqft_lot        floors    waterfront          view     condition  \\\n",
       "count  2.161300e+04  21613.000000  21613.000000  21613.000000  21613.000000   \n",
       "mean   1.510697e+04      1.494309      0.007542      0.234303      3.409430   \n",
       "std    4.142051e+04      0.539989      0.086517      0.766318      0.650743   \n",
       "min    5.200000e+02      1.000000      0.000000      0.000000      1.000000   \n",
       "25%    5.040000e+03      1.000000      0.000000      0.000000      3.000000   \n",
       "50%    7.618000e+03      1.500000      0.000000      0.000000      3.000000   \n",
       "75%    1.068800e+04      2.000000      0.000000      0.000000      4.000000   \n",
       "max    1.651359e+06      3.500000      1.000000      4.000000      5.000000   \n",
       "\n",
       "              grade    sqft_above  sqft_basement      yr_built  yr_renovated  \\\n",
       "count  21613.000000  21613.000000   21613.000000  21613.000000  21613.000000   \n",
       "mean       7.656873   1788.390691     291.509045   1971.005136     84.402258   \n",
       "std        1.175459    828.090978     442.575043     29.373411    401.679240   \n",
       "min        1.000000    290.000000       0.000000   1900.000000      0.000000   \n",
       "25%        7.000000   1190.000000       0.000000   1951.000000      0.000000   \n",
       "50%        7.000000   1560.000000       0.000000   1975.000000      0.000000   \n",
       "75%        8.000000   2210.000000     560.000000   1997.000000      0.000000   \n",
       "max       13.000000   9410.000000    4820.000000   2015.000000   2015.000000   \n",
       "\n",
       "            zipcode           lat          long  sqft_living15     sqft_lot15  \n",
       "count  21613.000000  21613.000000  21613.000000   21613.000000   21613.000000  \n",
       "mean   98077.939805     47.560053   -122.213896    1986.552492   12768.455652  \n",
       "std       53.505026      0.138564      0.140828     685.391304   27304.179631  \n",
       "min    98001.000000     47.155900   -122.519000     399.000000     651.000000  \n",
       "25%    98033.000000     47.471000   -122.328000    1490.000000    5100.000000  \n",
       "50%    98065.000000     47.571800   -122.230000    1840.000000    7620.000000  \n",
       "75%    98118.000000     47.678000   -122.125000    2360.000000   10083.000000  \n",
       "max    98199.000000     47.777600   -121.315000    6210.000000  871200.000000  "
      ],
      "text/html": "<div>\n<style scoped>\n    .dataframe tbody tr th:only-of-type {\n        vertical-align: middle;\n    }\n\n    .dataframe tbody tr th {\n        vertical-align: top;\n    }\n\n    .dataframe thead th {\n        text-align: right;\n    }\n</style>\n<table border=\"1\" class=\"dataframe\">\n  <thead>\n    <tr style=\"text-align: right;\">\n      <th></th>\n      <th>id</th>\n      <th>price</th>\n      <th>bedrooms</th>\n      <th>bathrooms</th>\n      <th>sqft_living</th>\n      <th>sqft_lot</th>\n      <th>floors</th>\n      <th>waterfront</th>\n      <th>view</th>\n      <th>condition</th>\n      <th>grade</th>\n      <th>sqft_above</th>\n      <th>sqft_basement</th>\n      <th>yr_built</th>\n      <th>yr_renovated</th>\n      <th>zipcode</th>\n      <th>lat</th>\n      <th>long</th>\n      <th>sqft_living15</th>\n      <th>sqft_lot15</th>\n    </tr>\n  </thead>\n  <tbody>\n    <tr>\n      <th>count</th>\n      <td>2.161300e+04</td>\n      <td>2.161300e+04</td>\n      <td>21613.000000</td>\n      <td>21613.000000</td>\n      <td>21613.000000</td>\n      <td>2.161300e+04</td>\n      <td>21613.000000</td>\n      <td>21613.000000</td>\n      <td>21613.000000</td>\n      <td>21613.000000</td>\n      <td>21613.000000</td>\n      <td>21613.000000</td>\n      <td>21613.000000</td>\n      <td>21613.000000</td>\n      <td>21613.000000</td>\n      <td>21613.000000</td>\n      <td>21613.000000</td>\n      <td>21613.000000</td>\n      <td>21613.000000</td>\n      <td>21613.000000</td>\n    </tr>\n    <tr>\n      <th>mean</th>\n      <td>4.580302e+09</td>\n      <td>5.400881e+05</td>\n      <td>3.370842</td>\n      <td>2.114757</td>\n      <td>2079.899736</td>\n      <td>1.510697e+04</td>\n      <td>1.494309</td>\n      <td>0.007542</td>\n      <td>0.234303</td>\n      <td>3.409430</td>\n      <td>7.656873</td>\n      <td>1788.390691</td>\n      <td>291.509045</td>\n      <td>1971.005136</td>\n      <td>84.402258</td>\n      <td>98077.939805</td>\n      <td>47.560053</td>\n      <td>-122.213896</td>\n      <td>1986.552492</td>\n      <td>12768.455652</td>\n    </tr>\n    <tr>\n      <th>std</th>\n      <td>2.876566e+09</td>\n      <td>3.671272e+05</td>\n      <td>0.930062</td>\n      <td>0.770163</td>\n      <td>918.440897</td>\n      <td>4.142051e+04</td>\n      <td>0.539989</td>\n      <td>0.086517</td>\n      <td>0.766318</td>\n      <td>0.650743</td>\n      <td>1.175459</td>\n      <td>828.090978</td>\n      <td>442.575043</td>\n      <td>29.373411</td>\n      <td>401.679240</td>\n      <td>53.505026</td>\n      <td>0.138564</td>\n      <td>0.140828</td>\n      <td>685.391304</td>\n      <td>27304.179631</td>\n    </tr>\n    <tr>\n      <th>min</th>\n      <td>1.000102e+06</td>\n      <td>7.500000e+04</td>\n      <td>0.000000</td>\n      <td>0.000000</td>\n      <td>290.000000</td>\n      <td>5.200000e+02</td>\n      <td>1.000000</td>\n      <td>0.000000</td>\n      <td>0.000000</td>\n      <td>1.000000</td>\n      <td>1.000000</td>\n      <td>290.000000</td>\n      <td>0.000000</td>\n      <td>1900.000000</td>\n      <td>0.000000</td>\n      <td>98001.000000</td>\n      <td>47.155900</td>\n      <td>-122.519000</td>\n      <td>399.000000</td>\n      <td>651.000000</td>\n    </tr>\n    <tr>\n      <th>25%</th>\n      <td>2.123049e+09</td>\n      <td>3.219500e+05</td>\n      <td>3.000000</td>\n      <td>1.750000</td>\n      <td>1427.000000</td>\n      <td>5.040000e+03</td>\n      <td>1.000000</td>\n      <td>0.000000</td>\n      <td>0.000000</td>\n      <td>3.000000</td>\n      <td>7.000000</td>\n      <td>1190.000000</td>\n      <td>0.000000</td>\n      <td>1951.000000</td>\n      <td>0.000000</td>\n      <td>98033.000000</td>\n      <td>47.471000</td>\n      <td>-122.328000</td>\n      <td>1490.000000</td>\n      <td>5100.000000</td>\n    </tr>\n    <tr>\n      <th>50%</th>\n      <td>3.904930e+09</td>\n      <td>4.500000e+05</td>\n      <td>3.000000</td>\n      <td>2.250000</td>\n      <td>1910.000000</td>\n      <td>7.618000e+03</td>\n      <td>1.500000</td>\n      <td>0.000000</td>\n      <td>0.000000</td>\n      <td>3.000000</td>\n      <td>7.000000</td>\n      <td>1560.000000</td>\n      <td>0.000000</td>\n      <td>1975.000000</td>\n      <td>0.000000</td>\n      <td>98065.000000</td>\n      <td>47.571800</td>\n      <td>-122.230000</td>\n      <td>1840.000000</td>\n      <td>7620.000000</td>\n    </tr>\n    <tr>\n      <th>75%</th>\n      <td>7.308900e+09</td>\n      <td>6.450000e+05</td>\n      <td>4.000000</td>\n      <td>2.500000</td>\n      <td>2550.000000</td>\n      <td>1.068800e+04</td>\n      <td>2.000000</td>\n      <td>0.000000</td>\n      <td>0.000000</td>\n      <td>4.000000</td>\n      <td>8.000000</td>\n      <td>2210.000000</td>\n      <td>560.000000</td>\n      <td>1997.000000</td>\n      <td>0.000000</td>\n      <td>98118.000000</td>\n      <td>47.678000</td>\n      <td>-122.125000</td>\n      <td>2360.000000</td>\n      <td>10083.000000</td>\n    </tr>\n    <tr>\n      <th>max</th>\n      <td>9.900000e+09</td>\n      <td>7.700000e+06</td>\n      <td>33.000000</td>\n      <td>8.000000</td>\n      <td>13540.000000</td>\n      <td>1.651359e+06</td>\n      <td>3.500000</td>\n      <td>1.000000</td>\n      <td>4.000000</td>\n      <td>5.000000</td>\n      <td>13.000000</td>\n      <td>9410.000000</td>\n      <td>4820.000000</td>\n      <td>2015.000000</td>\n      <td>2015.000000</td>\n      <td>98199.000000</td>\n      <td>47.777600</td>\n      <td>-121.315000</td>\n      <td>6210.000000</td>\n      <td>871200.000000</td>\n    </tr>\n  </tbody>\n</table>\n</div>"
     },
     "metadata": {},
     "execution_count": 17
    }
   ],
   "source": [
    "df.describe()"
   ]
  },
  {
   "cell_type": "code",
   "execution_count": 18,
   "metadata": {},
   "outputs": [],
   "source": [
    "df_new = df.copy()"
   ]
  },
  {
   "cell_type": "code",
   "execution_count": 19,
   "metadata": {},
   "outputs": [
    {
     "output_type": "execute_result",
     "data": {
      "text/plain": [
       "      price  bedrooms  bathrooms  sqft_living  sqft_lot  floors  waterfront  \\\n",
       "0  221900.0         3       1.00         1180      5650     1.0           0   \n",
       "1  538000.0         3       2.25         2570      7242     2.0           0   \n",
       "2  180000.0         2       1.00          770     10000     1.0           0   \n",
       "3  604000.0         4       3.00         1960      5000     1.0           0   \n",
       "4  510000.0         3       2.00         1680      8080     1.0           0   \n",
       "\n",
       "   view  condition  grade  sqft_above  sqft_basement  yr_built  yr_renovated  \\\n",
       "0     0          3      7        1180              0      1955             0   \n",
       "1     0          3      7        2170            400      1951          1991   \n",
       "2     0          3      6         770              0      1933             0   \n",
       "3     0          5      7        1050            910      1965             0   \n",
       "4     0          3      8        1680              0      1987             0   \n",
       "\n",
       "   zipcode  \n",
       "0    98178  \n",
       "1    98125  \n",
       "2    98028  \n",
       "3    98136  \n",
       "4    98074  "
      ],
      "text/html": "<div>\n<style scoped>\n    .dataframe tbody tr th:only-of-type {\n        vertical-align: middle;\n    }\n\n    .dataframe tbody tr th {\n        vertical-align: top;\n    }\n\n    .dataframe thead th {\n        text-align: right;\n    }\n</style>\n<table border=\"1\" class=\"dataframe\">\n  <thead>\n    <tr style=\"text-align: right;\">\n      <th></th>\n      <th>price</th>\n      <th>bedrooms</th>\n      <th>bathrooms</th>\n      <th>sqft_living</th>\n      <th>sqft_lot</th>\n      <th>floors</th>\n      <th>waterfront</th>\n      <th>view</th>\n      <th>condition</th>\n      <th>grade</th>\n      <th>sqft_above</th>\n      <th>sqft_basement</th>\n      <th>yr_built</th>\n      <th>yr_renovated</th>\n      <th>zipcode</th>\n    </tr>\n  </thead>\n  <tbody>\n    <tr>\n      <th>0</th>\n      <td>221900.0</td>\n      <td>3</td>\n      <td>1.00</td>\n      <td>1180</td>\n      <td>5650</td>\n      <td>1.0</td>\n      <td>0</td>\n      <td>0</td>\n      <td>3</td>\n      <td>7</td>\n      <td>1180</td>\n      <td>0</td>\n      <td>1955</td>\n      <td>0</td>\n      <td>98178</td>\n    </tr>\n    <tr>\n      <th>1</th>\n      <td>538000.0</td>\n      <td>3</td>\n      <td>2.25</td>\n      <td>2570</td>\n      <td>7242</td>\n      <td>2.0</td>\n      <td>0</td>\n      <td>0</td>\n      <td>3</td>\n      <td>7</td>\n      <td>2170</td>\n      <td>400</td>\n      <td>1951</td>\n      <td>1991</td>\n      <td>98125</td>\n    </tr>\n    <tr>\n      <th>2</th>\n      <td>180000.0</td>\n      <td>2</td>\n      <td>1.00</td>\n      <td>770</td>\n      <td>10000</td>\n      <td>1.0</td>\n      <td>0</td>\n      <td>0</td>\n      <td>3</td>\n      <td>6</td>\n      <td>770</td>\n      <td>0</td>\n      <td>1933</td>\n      <td>0</td>\n      <td>98028</td>\n    </tr>\n    <tr>\n      <th>3</th>\n      <td>604000.0</td>\n      <td>4</td>\n      <td>3.00</td>\n      <td>1960</td>\n      <td>5000</td>\n      <td>1.0</td>\n      <td>0</td>\n      <td>0</td>\n      <td>5</td>\n      <td>7</td>\n      <td>1050</td>\n      <td>910</td>\n      <td>1965</td>\n      <td>0</td>\n      <td>98136</td>\n    </tr>\n    <tr>\n      <th>4</th>\n      <td>510000.0</td>\n      <td>3</td>\n      <td>2.00</td>\n      <td>1680</td>\n      <td>8080</td>\n      <td>1.0</td>\n      <td>0</td>\n      <td>0</td>\n      <td>3</td>\n      <td>8</td>\n      <td>1680</td>\n      <td>0</td>\n      <td>1987</td>\n      <td>0</td>\n      <td>98074</td>\n    </tr>\n  </tbody>\n</table>\n</div>"
     },
     "metadata": {},
     "execution_count": 19
    }
   ],
   "source": [
    "df_new = df_new[['price', 'bedrooms', 'bathrooms', 'sqft_living',\n",
    "       'sqft_lot', 'floors', 'waterfront', 'view', 'condition', 'grade',\n",
    "       'sqft_above', 'sqft_basement', 'yr_built', 'yr_renovated', 'zipcode']]\n",
    "df_new.head(5)"
   ]
  },
  {
   "cell_type": "code",
   "execution_count": 21,
   "metadata": {},
   "outputs": [],
   "source": [
    "feature_cols = ['bedrooms', 'bathrooms', 'sqft_living',\n",
    "       'sqft_lot', 'floors', 'waterfront', 'view', 'condition', 'grade',\n",
    "       'sqft_above', 'sqft_basement', 'yr_built', 'yr_renovated', 'zipcode']\n",
    "X = df_new[feature_cols]\n",
    "Y = df_new['price']\n",
    "# Divide the data into test and train data set\n",
    "X_train,X_test,y_train,y_test = train_test_split(X,Y,test_size=0.3,random_state=1)"
   ]
  },
  {
   "cell_type": "code",
   "execution_count": 23,
   "metadata": {},
   "outputs": [
    {
     "output_type": "execute_result",
     "data": {
      "text/plain": [
       "(6484, 14)"
      ]
     },
     "metadata": {},
     "execution_count": 23
    }
   ],
   "source": [
    "X_test.shape"
   ]
  },
  {
   "cell_type": "code",
   "execution_count": 24,
   "metadata": {},
   "outputs": [
    {
     "output_type": "execute_result",
     "data": {
      "text/plain": [
       "   bedrooms  bathrooms  sqft_living  sqft_lot    floors  waterfront      view  \\\n",
       "0 -0.393550  -0.152345    -0.595960 -0.207161 -0.920449   -0.087901 -0.303647   \n",
       "1 -1.461345  -1.462646    -1.404175 -0.186186 -0.920449   -0.087901 -0.303647   \n",
       "\n",
       "   condition     grade  sqft_above  sqft_basement  yr_built  yr_renovated  \\\n",
       "0  -0.629308 -0.565486   -0.300744      -0.664205  0.914405     -0.209648   \n",
       "1   2.439444 -1.421781   -1.193915      -0.664205 -0.921398     -0.209648   \n",
       "\n",
       "    zipcode  \n",
       "0 -0.745393  \n",
       "1  1.683322  "
      ],
      "text/html": "<div>\n<style scoped>\n    .dataframe tbody tr th:only-of-type {\n        vertical-align: middle;\n    }\n\n    .dataframe tbody tr th {\n        vertical-align: top;\n    }\n\n    .dataframe thead th {\n        text-align: right;\n    }\n</style>\n<table border=\"1\" class=\"dataframe\">\n  <thead>\n    <tr style=\"text-align: right;\">\n      <th></th>\n      <th>bedrooms</th>\n      <th>bathrooms</th>\n      <th>sqft_living</th>\n      <th>sqft_lot</th>\n      <th>floors</th>\n      <th>waterfront</th>\n      <th>view</th>\n      <th>condition</th>\n      <th>grade</th>\n      <th>sqft_above</th>\n      <th>sqft_basement</th>\n      <th>yr_built</th>\n      <th>yr_renovated</th>\n      <th>zipcode</th>\n    </tr>\n  </thead>\n  <tbody>\n    <tr>\n      <th>0</th>\n      <td>-0.393550</td>\n      <td>-0.152345</td>\n      <td>-0.595960</td>\n      <td>-0.207161</td>\n      <td>-0.920449</td>\n      <td>-0.087901</td>\n      <td>-0.303647</td>\n      <td>-0.629308</td>\n      <td>-0.565486</td>\n      <td>-0.300744</td>\n      <td>-0.664205</td>\n      <td>0.914405</td>\n      <td>-0.209648</td>\n      <td>-0.745393</td>\n    </tr>\n    <tr>\n      <th>1</th>\n      <td>-1.461345</td>\n      <td>-1.462646</td>\n      <td>-1.404175</td>\n      <td>-0.186186</td>\n      <td>-0.920449</td>\n      <td>-0.087901</td>\n      <td>-0.303647</td>\n      <td>2.439444</td>\n      <td>-1.421781</td>\n      <td>-1.193915</td>\n      <td>-0.664205</td>\n      <td>-0.921398</td>\n      <td>-0.209648</td>\n      <td>1.683322</td>\n    </tr>\n  </tbody>\n</table>\n</div>"
     },
     "metadata": {},
     "execution_count": 24
    }
   ],
   "source": [
    "Standardscaler = StandardScaler()\n",
    "X_train_colmn = X_train.columns\n",
    "X_train_SS = pd.DataFrame(Standardscaler.fit_transform(X_train),columns = X_train_colmn )\n",
    "X_train_SS.head(2)"
   ]
  },
  {
   "cell_type": "code",
   "execution_count": 25,
   "metadata": {},
   "outputs": [
    {
     "output_type": "execute_result",
     "data": {
      "text/plain": [
       "zipcode          0.395575\n",
       "sqft_living      0.350683\n",
       "grade            0.329852\n",
       "sqft_above       0.259764\n",
       "bathrooms        0.201251\n",
       "bedrooms         0.082008\n",
       "yr_built         0.077512\n",
       "floors           0.070020\n",
       "sqft_basement    0.067925\n",
       "sqft_lot         0.064260\n",
       "view             0.055290\n",
       "waterfront       0.013474\n",
       "yr_renovated     0.007608\n",
       "condition        0.006964\n",
       "dtype: float64"
      ]
     },
     "metadata": {},
     "execution_count": 25
    }
   ],
   "source": [
    "mutual_info = mutual_info_regression(X_train_SS.fillna(0), y_train)\n",
    "mutual_info = pd.Series(mutual_info)\n",
    "mutual_info.index = X_train_SS.columns\n",
    "mutual_info.sort_values(ascending=False)"
   ]
  },
  {
   "cell_type": "code",
   "execution_count": 26,
   "metadata": {},
   "outputs": [
    {
     "output_type": "execute_result",
     "data": {
      "text/plain": [
       "['bedrooms',\n",
       " 'bathrooms',\n",
       " 'sqft_living',\n",
       " 'sqft_lot',\n",
       " 'floors',\n",
       " 'view',\n",
       " 'grade',\n",
       " 'sqft_above',\n",
       " 'sqft_basement',\n",
       " 'yr_built',\n",
       " 'zipcode']"
      ]
     },
     "metadata": {},
     "execution_count": 26
    }
   ],
   "source": [
    "Req_Columns = list(mutual_info[mutual_info>0.05].index)\n",
    "Req_Columns"
   ]
  },
  {
   "cell_type": "code",
   "execution_count": 28,
   "metadata": {},
   "outputs": [
    {
     "output_type": "execute_result",
     "data": {
      "text/plain": [
       "   bedrooms  bathrooms  sqft_living  sqft_lot    floors      view     grade  \\\n",
       "0 -0.393550  -0.152345    -0.595960 -0.207161 -0.920449 -0.303647 -0.565486   \n",
       "1 -1.461345  -1.462646    -1.404175 -0.186186 -0.920449 -0.303647 -1.421781   \n",
       "2 -0.393550  -1.462646    -1.348817 -0.110694 -0.920449 -0.303647 -1.421781   \n",
       "\n",
       "   sqft_above  sqft_basement  yr_built   zipcode  \n",
       "0   -0.300744      -0.664205  0.914405 -0.745393  \n",
       "1   -1.193915      -0.664205 -0.921398  1.683322  \n",
       "2   -1.132739      -0.664205 -0.581434  1.272309  "
      ],
      "text/html": "<div>\n<style scoped>\n    .dataframe tbody tr th:only-of-type {\n        vertical-align: middle;\n    }\n\n    .dataframe tbody tr th {\n        vertical-align: top;\n    }\n\n    .dataframe thead th {\n        text-align: right;\n    }\n</style>\n<table border=\"1\" class=\"dataframe\">\n  <thead>\n    <tr style=\"text-align: right;\">\n      <th></th>\n      <th>bedrooms</th>\n      <th>bathrooms</th>\n      <th>sqft_living</th>\n      <th>sqft_lot</th>\n      <th>floors</th>\n      <th>view</th>\n      <th>grade</th>\n      <th>sqft_above</th>\n      <th>sqft_basement</th>\n      <th>yr_built</th>\n      <th>zipcode</th>\n    </tr>\n  </thead>\n  <tbody>\n    <tr>\n      <th>0</th>\n      <td>-0.393550</td>\n      <td>-0.152345</td>\n      <td>-0.595960</td>\n      <td>-0.207161</td>\n      <td>-0.920449</td>\n      <td>-0.303647</td>\n      <td>-0.565486</td>\n      <td>-0.300744</td>\n      <td>-0.664205</td>\n      <td>0.914405</td>\n      <td>-0.745393</td>\n    </tr>\n    <tr>\n      <th>1</th>\n      <td>-1.461345</td>\n      <td>-1.462646</td>\n      <td>-1.404175</td>\n      <td>-0.186186</td>\n      <td>-0.920449</td>\n      <td>-0.303647</td>\n      <td>-1.421781</td>\n      <td>-1.193915</td>\n      <td>-0.664205</td>\n      <td>-0.921398</td>\n      <td>1.683322</td>\n    </tr>\n    <tr>\n      <th>2</th>\n      <td>-0.393550</td>\n      <td>-1.462646</td>\n      <td>-1.348817</td>\n      <td>-0.110694</td>\n      <td>-0.920449</td>\n      <td>-0.303647</td>\n      <td>-1.421781</td>\n      <td>-1.132739</td>\n      <td>-0.664205</td>\n      <td>-0.581434</td>\n      <td>1.272309</td>\n    </tr>\n  </tbody>\n</table>\n</div>"
     },
     "metadata": {},
     "execution_count": 28
    }
   ],
   "source": [
    "Train_SS = X_train_SS[Req_Columns]\n",
    "Train_SS.head(3)"
   ]
  },
  {
   "cell_type": "code",
   "execution_count": 29,
   "metadata": {},
   "outputs": [
    {
     "output_type": "stream",
     "name": "stdout",
     "text": [
      "(6484, 11)\n"
     ]
    },
    {
     "output_type": "execute_result",
     "data": {
      "text/plain": [
       "   bedrooms  bathrooms  sqft_living  sqft_lot    floors      view     grade  \\\n",
       "0  0.681985   0.812534     0.741232 -0.224828  0.958088 -0.310653  1.132754   \n",
       "1 -0.411214   0.176514    -0.476079 -0.228944 -0.903816 -0.310653 -0.543753   \n",
       "2 -1.504414  -0.777515     0.300481  4.617035  0.958088 -0.310653  2.809260   \n",
       "\n",
       "   sqft_above  sqft_basement  yr_built   zipcode  \n",
       "0    1.167660      -0.646077  0.998294 -0.374868  \n",
       "1   -0.568170       0.068726  0.520034 -1.254174  \n",
       "2    0.675059      -0.646077  1.169102 -0.618081  "
      ],
      "text/html": "<div>\n<style scoped>\n    .dataframe tbody tr th:only-of-type {\n        vertical-align: middle;\n    }\n\n    .dataframe tbody tr th {\n        vertical-align: top;\n    }\n\n    .dataframe thead th {\n        text-align: right;\n    }\n</style>\n<table border=\"1\" class=\"dataframe\">\n  <thead>\n    <tr style=\"text-align: right;\">\n      <th></th>\n      <th>bedrooms</th>\n      <th>bathrooms</th>\n      <th>sqft_living</th>\n      <th>sqft_lot</th>\n      <th>floors</th>\n      <th>view</th>\n      <th>grade</th>\n      <th>sqft_above</th>\n      <th>sqft_basement</th>\n      <th>yr_built</th>\n      <th>zipcode</th>\n    </tr>\n  </thead>\n  <tbody>\n    <tr>\n      <th>0</th>\n      <td>0.681985</td>\n      <td>0.812534</td>\n      <td>0.741232</td>\n      <td>-0.224828</td>\n      <td>0.958088</td>\n      <td>-0.310653</td>\n      <td>1.132754</td>\n      <td>1.167660</td>\n      <td>-0.646077</td>\n      <td>0.998294</td>\n      <td>-0.374868</td>\n    </tr>\n    <tr>\n      <th>1</th>\n      <td>-0.411214</td>\n      <td>0.176514</td>\n      <td>-0.476079</td>\n      <td>-0.228944</td>\n      <td>-0.903816</td>\n      <td>-0.310653</td>\n      <td>-0.543753</td>\n      <td>-0.568170</td>\n      <td>0.068726</td>\n      <td>0.520034</td>\n      <td>-1.254174</td>\n    </tr>\n    <tr>\n      <th>2</th>\n      <td>-1.504414</td>\n      <td>-0.777515</td>\n      <td>0.300481</td>\n      <td>4.617035</td>\n      <td>0.958088</td>\n      <td>-0.310653</td>\n      <td>2.809260</td>\n      <td>0.675059</td>\n      <td>-0.646077</td>\n      <td>1.169102</td>\n      <td>-0.618081</td>\n    </tr>\n  </tbody>\n</table>\n</div>"
     },
     "metadata": {},
     "execution_count": 29
    }
   ],
   "source": [
    "Standardscaler = StandardScaler()\n",
    "X_test_columns = X_test.columns\n",
    "X_test_SS = pd.DataFrame(Standardscaler.fit_transform(X_test),columns = X_test_columns )\n",
    "#--------------------\n",
    "#Creating the Testing ADS with selected columns\n",
    "Test_SS = X_test_SS[Req_Columns]\n",
    "print(Test_SS.shape)\n",
    "Test_SS.head(3)"
   ]
  },
  {
   "source": [
    "## Creating function for evaluating metrics"
   ],
   "cell_type": "markdown",
   "metadata": {}
  },
  {
   "cell_type": "code",
   "execution_count": 30,
   "metadata": {},
   "outputs": [],
   "source": [
    "def evaluation(Y_test,Y_pred):\n",
    "    acc=accuracy_score(Y_test,np.round(Y_pred))\n",
    "    rcl=recall_score(Y_test,Y_pred, average='weighted')\n",
    "    f1=f1_score(Y_test,Y_pred, average='weighted')\n",
    "    auc_score=roc_auc_score(Y_test,Y_pred, average='weighted')\n",
    "    prec_score=precision_score(Y_test,Y_pred, average='weighted')\n",
    "    r2 = r2_score(Y_test, Y_pred)\n",
    "    \n",
    "    metric_dict={'accuracy': round(acc,3),\n",
    "               'recall': round(rcl,3),\n",
    "               'F1 score': round(f1,3),\n",
    "               'auc score': round(auc_score,3),\n",
    "               'precision': round(prec_score,3),\n",
    "               'R2 Score' : round(r2,3)\n",
    "              }\n",
    "    return print(metric_dict)"
   ]
  },
  {
   "source": [
    "## Decision Tree"
   ],
   "cell_type": "markdown",
   "metadata": {}
  },
  {
   "cell_type": "code",
   "execution_count": 31,
   "metadata": {},
   "outputs": [
    {
     "output_type": "stream",
     "name": "stdout",
     "text": [
      "Accuracy on Training set:  0.9993142836070922\nAccuracy on Testing set:  0.6349083681033845\nR2 score 0.6349083681033845\n"
     ]
    }
   ],
   "source": [
    "decTree_reg = DecisionTreeRegressor()\n",
    "#Train the model with train data set\n",
    "decTree_reg = decTree_reg.fit(Train_SS, y_train)\n",
    "\n",
    "# Predict the data\n",
    "y_pred = decTree_reg.predict(Test_SS)\n",
    "r2_dt = r2_score(y_test, y_pred)\n",
    "#evaluation(y_test, y_pred)\n",
    "print(\"Accuracy on Training set: \",decTree_reg.score(Train_SS,y_train))\n",
    "print(\"Accuracy on Testing set: \",decTree_reg.score(Test_SS,y_test))\n",
    "print(\"R2 score\", r2_dt)"
   ]
  },
  {
   "source": [
    "## Linear Regression"
   ],
   "cell_type": "markdown",
   "metadata": {}
  },
  {
   "cell_type": "code",
   "execution_count": 32,
   "metadata": {},
   "outputs": [
    {
     "output_type": "stream",
     "name": "stdout",
     "text": [
      "Accuracy on Training set:  0.6343579723851325\nAccuracy on Testing set:  0.63\n"
     ]
    }
   ],
   "source": [
    "linear_reg = LinearRegression()\n",
    "linear_reg.fit(Train_SS, y_train)\n",
    "y_pred= linear_reg.predict(Test_SS)\n",
    "r2_ln=r2_score(y_test,y_pred)\n",
    "print(\"Accuracy on Training set: \",linear_reg.score(Train_SS,y_train))\n",
    "print(\"Accuracy on Testing set: \",round(linear_reg.score(Test_SS,y_test),2))"
   ]
  },
  {
   "source": [
    "## KNeighbors Regressor"
   ],
   "cell_type": "markdown",
   "metadata": {}
  },
  {
   "cell_type": "code",
   "execution_count": 34,
   "metadata": {},
   "outputs": [
    {
     "output_type": "stream",
     "name": "stdout",
     "text": [
      "Accuracy on Training set:  0.8766494394637693\n",
      "Accuracy on Testing set:  0.6801387630084237\n",
      "R2 score 0.6801387630084237\n"
     ]
    }
   ],
   "source": [
    "from sklearn.neighbors import KNeighborsRegressor\n",
    "neigh = KNeighborsRegressor(n_neighbors=2)\n",
    "neigh.fit(Train_SS, y_train)\n",
    "y_pred= neigh.predict(Test_SS)\n",
    "r2_KN=r2_score(y_test,y_pred)\n",
    "print(\"Accuracy on Training set: \",neigh.score(Train_SS,y_train))\n",
    "print(\"Accuracy on Testing set: \",neigh.score(Test_SS,y_test))\n",
    "print(\"R2 score\", r2_KN)"
   ]
  },
  {
   "cell_type": "code",
   "execution_count": 38,
   "metadata": {},
   "outputs": [
    {
     "output_type": "stream",
     "name": "stdout",
     "text": [
      "Max Accuracy error:- 0.7011520390741177 at K = 5\n"
     ]
    },
    {
     "output_type": "display_data",
     "data": {
      "text/plain": "<Figure size 720x432 with 1 Axes>",
      "image/svg+xml": "<?xml version=\"1.0\" encoding=\"utf-8\" standalone=\"no\"?>\n<!DOCTYPE svg PUBLIC \"-//W3C//DTD SVG 1.1//EN\"\n  \"http://www.w3.org/Graphics/SVG/1.1/DTD/svg11.dtd\">\n<!-- Created with matplotlib (https://matplotlib.org/) -->\n<svg height=\"386.034375pt\" version=\"1.1\" viewBox=\"0 0 615.34375 386.034375\" width=\"615.34375pt\" xmlns=\"http://www.w3.org/2000/svg\" xmlns:xlink=\"http://www.w3.org/1999/xlink\">\n <metadata>\n  <rdf:RDF xmlns:cc=\"http://creativecommons.org/ns#\" xmlns:dc=\"http://purl.org/dc/elements/1.1/\" xmlns:rdf=\"http://www.w3.org/1999/02/22-rdf-syntax-ns#\">\n   <cc:Work>\n    <dc:type rdf:resource=\"http://purl.org/dc/dcmitype/StillImage\"/>\n    <dc:date>2021-02-28T19:42:29.025015</dc:date>\n    <dc:format>image/svg+xml</dc:format>\n    <dc:creator>\n     <cc:Agent>\n      <dc:title>Matplotlib v3.3.1, https://matplotlib.org/</dc:title>\n     </cc:Agent>\n    </dc:creator>\n   </cc:Work>\n  </rdf:RDF>\n </metadata>\n <defs>\n  <style type=\"text/css\">*{stroke-linecap:butt;stroke-linejoin:round;}</style>\n </defs>\n <g id=\"figure_1\">\n  <g id=\"patch_1\">\n   <path d=\"M 0 386.034375 \nL 615.34375 386.034375 \nL 615.34375 0 \nL 0 0 \nz\n\" style=\"fill:none;\"/>\n  </g>\n  <g id=\"axes_1\">\n   <g id=\"patch_2\">\n    <path d=\"M 50.14375 348.478125 \nL 608.14375 348.478125 \nL 608.14375 22.318125 \nL 50.14375 22.318125 \nz\n\" style=\"fill:#ffffff;\"/>\n   </g>\n   <g id=\"matplotlib.axis_1\">\n    <g id=\"xtick_1\">\n     <g id=\"line2d_1\">\n      <defs>\n       <path d=\"M 0 0 \nL 0 3.5 \n\" id=\"mc184a5ec7e\" style=\"stroke:#000000;stroke-width:0.8;\"/>\n      </defs>\n      <g>\n       <use style=\"stroke:#000000;stroke-width:0.8;\" x=\"62.158104\" xlink:href=\"#mc184a5ec7e\" y=\"348.478125\"/>\n      </g>\n     </g>\n     <g id=\"text_1\">\n      <!-- 0 -->\n      <g transform=\"translate(58.976854 363.076562)scale(0.1 -0.1)\">\n       <defs>\n        <path d=\"M 31.78125 66.40625 \nQ 24.171875 66.40625 20.328125 58.90625 \nQ 16.5 51.421875 16.5 36.375 \nQ 16.5 21.390625 20.328125 13.890625 \nQ 24.171875 6.390625 31.78125 6.390625 \nQ 39.453125 6.390625 43.28125 13.890625 \nQ 47.125 21.390625 47.125 36.375 \nQ 47.125 51.421875 43.28125 58.90625 \nQ 39.453125 66.40625 31.78125 66.40625 \nz\nM 31.78125 74.21875 \nQ 44.046875 74.21875 50.515625 64.515625 \nQ 56.984375 54.828125 56.984375 36.375 \nQ 56.984375 17.96875 50.515625 8.265625 \nQ 44.046875 -1.421875 31.78125 -1.421875 \nQ 19.53125 -1.421875 13.0625 8.265625 \nQ 6.59375 17.96875 6.59375 36.375 \nQ 6.59375 54.828125 13.0625 64.515625 \nQ 19.53125 74.21875 31.78125 74.21875 \nz\n\" id=\"DejaVuSans-48\"/>\n       </defs>\n       <use xlink:href=\"#DejaVuSans-48\"/>\n      </g>\n     </g>\n    </g>\n    <g id=\"xtick_2\">\n     <g id=\"line2d_2\">\n      <g>\n       <use style=\"stroke:#000000;stroke-width:0.8;\" x=\"128.904516\" xlink:href=\"#mc184a5ec7e\" y=\"348.478125\"/>\n      </g>\n     </g>\n     <g id=\"text_2\">\n      <!-- 5 -->\n      <g transform=\"translate(125.723266 363.076562)scale(0.1 -0.1)\">\n       <defs>\n        <path d=\"M 10.796875 72.90625 \nL 49.515625 72.90625 \nL 49.515625 64.59375 \nL 19.828125 64.59375 \nL 19.828125 46.734375 \nQ 21.96875 47.46875 24.109375 47.828125 \nQ 26.265625 48.1875 28.421875 48.1875 \nQ 40.625 48.1875 47.75 41.5 \nQ 54.890625 34.8125 54.890625 23.390625 \nQ 54.890625 11.625 47.5625 5.09375 \nQ 40.234375 -1.421875 26.90625 -1.421875 \nQ 22.3125 -1.421875 17.546875 -0.640625 \nQ 12.796875 0.140625 7.71875 1.703125 \nL 7.71875 11.625 \nQ 12.109375 9.234375 16.796875 8.0625 \nQ 21.484375 6.890625 26.703125 6.890625 \nQ 35.15625 6.890625 40.078125 11.328125 \nQ 45.015625 15.765625 45.015625 23.390625 \nQ 45.015625 31 40.078125 35.4375 \nQ 35.15625 39.890625 26.703125 39.890625 \nQ 22.75 39.890625 18.8125 39.015625 \nQ 14.890625 38.140625 10.796875 36.28125 \nz\n\" id=\"DejaVuSans-53\"/>\n       </defs>\n       <use xlink:href=\"#DejaVuSans-53\"/>\n      </g>\n     </g>\n    </g>\n    <g id=\"xtick_3\">\n     <g id=\"line2d_3\">\n      <g>\n       <use style=\"stroke:#000000;stroke-width:0.8;\" x=\"195.650927\" xlink:href=\"#mc184a5ec7e\" y=\"348.478125\"/>\n      </g>\n     </g>\n     <g id=\"text_3\">\n      <!-- 10 -->\n      <g transform=\"translate(189.288427 363.076562)scale(0.1 -0.1)\">\n       <defs>\n        <path d=\"M 12.40625 8.296875 \nL 28.515625 8.296875 \nL 28.515625 63.921875 \nL 10.984375 60.40625 \nL 10.984375 69.390625 \nL 28.421875 72.90625 \nL 38.28125 72.90625 \nL 38.28125 8.296875 \nL 54.390625 8.296875 \nL 54.390625 0 \nL 12.40625 0 \nz\n\" id=\"DejaVuSans-49\"/>\n       </defs>\n       <use xlink:href=\"#DejaVuSans-49\"/>\n       <use x=\"63.623047\" xlink:href=\"#DejaVuSans-48\"/>\n      </g>\n     </g>\n    </g>\n    <g id=\"xtick_4\">\n     <g id=\"line2d_4\">\n      <g>\n       <use style=\"stroke:#000000;stroke-width:0.8;\" x=\"262.397339\" xlink:href=\"#mc184a5ec7e\" y=\"348.478125\"/>\n      </g>\n     </g>\n     <g id=\"text_4\">\n      <!-- 15 -->\n      <g transform=\"translate(256.034839 363.076562)scale(0.1 -0.1)\">\n       <use xlink:href=\"#DejaVuSans-49\"/>\n       <use x=\"63.623047\" xlink:href=\"#DejaVuSans-53\"/>\n      </g>\n     </g>\n    </g>\n    <g id=\"xtick_5\">\n     <g id=\"line2d_5\">\n      <g>\n       <use style=\"stroke:#000000;stroke-width:0.8;\" x=\"329.14375\" xlink:href=\"#mc184a5ec7e\" y=\"348.478125\"/>\n      </g>\n     </g>\n     <g id=\"text_5\">\n      <!-- 20 -->\n      <g transform=\"translate(322.78125 363.076562)scale(0.1 -0.1)\">\n       <defs>\n        <path d=\"M 19.1875 8.296875 \nL 53.609375 8.296875 \nL 53.609375 0 \nL 7.328125 0 \nL 7.328125 8.296875 \nQ 12.9375 14.109375 22.625 23.890625 \nQ 32.328125 33.6875 34.8125 36.53125 \nQ 39.546875 41.84375 41.421875 45.53125 \nQ 43.3125 49.21875 43.3125 52.78125 \nQ 43.3125 58.59375 39.234375 62.25 \nQ 35.15625 65.921875 28.609375 65.921875 \nQ 23.96875 65.921875 18.8125 64.3125 \nQ 13.671875 62.703125 7.8125 59.421875 \nL 7.8125 69.390625 \nQ 13.765625 71.78125 18.9375 73 \nQ 24.125 74.21875 28.421875 74.21875 \nQ 39.75 74.21875 46.484375 68.546875 \nQ 53.21875 62.890625 53.21875 53.421875 \nQ 53.21875 48.921875 51.53125 44.890625 \nQ 49.859375 40.875 45.40625 35.40625 \nQ 44.1875 33.984375 37.640625 27.21875 \nQ 31.109375 20.453125 19.1875 8.296875 \nz\n\" id=\"DejaVuSans-50\"/>\n       </defs>\n       <use xlink:href=\"#DejaVuSans-50\"/>\n       <use x=\"63.623047\" xlink:href=\"#DejaVuSans-48\"/>\n      </g>\n     </g>\n    </g>\n    <g id=\"xtick_6\">\n     <g id=\"line2d_6\">\n      <g>\n       <use style=\"stroke:#000000;stroke-width:0.8;\" x=\"395.890161\" xlink:href=\"#mc184a5ec7e\" y=\"348.478125\"/>\n      </g>\n     </g>\n     <g id=\"text_6\">\n      <!-- 25 -->\n      <g transform=\"translate(389.527661 363.076562)scale(0.1 -0.1)\">\n       <use xlink:href=\"#DejaVuSans-50\"/>\n       <use x=\"63.623047\" xlink:href=\"#DejaVuSans-53\"/>\n      </g>\n     </g>\n    </g>\n    <g id=\"xtick_7\">\n     <g id=\"line2d_7\">\n      <g>\n       <use style=\"stroke:#000000;stroke-width:0.8;\" x=\"462.636573\" xlink:href=\"#mc184a5ec7e\" y=\"348.478125\"/>\n      </g>\n     </g>\n     <g id=\"text_7\">\n      <!-- 30 -->\n      <g transform=\"translate(456.274073 363.076562)scale(0.1 -0.1)\">\n       <defs>\n        <path d=\"M 40.578125 39.3125 \nQ 47.65625 37.796875 51.625 33 \nQ 55.609375 28.21875 55.609375 21.1875 \nQ 55.609375 10.40625 48.1875 4.484375 \nQ 40.765625 -1.421875 27.09375 -1.421875 \nQ 22.515625 -1.421875 17.65625 -0.515625 \nQ 12.796875 0.390625 7.625 2.203125 \nL 7.625 11.71875 \nQ 11.71875 9.328125 16.59375 8.109375 \nQ 21.484375 6.890625 26.8125 6.890625 \nQ 36.078125 6.890625 40.9375 10.546875 \nQ 45.796875 14.203125 45.796875 21.1875 \nQ 45.796875 27.640625 41.28125 31.265625 \nQ 36.765625 34.90625 28.71875 34.90625 \nL 20.21875 34.90625 \nL 20.21875 43.015625 \nL 29.109375 43.015625 \nQ 36.375 43.015625 40.234375 45.921875 \nQ 44.09375 48.828125 44.09375 54.296875 \nQ 44.09375 59.90625 40.109375 62.90625 \nQ 36.140625 65.921875 28.71875 65.921875 \nQ 24.65625 65.921875 20.015625 65.03125 \nQ 15.375 64.15625 9.8125 62.3125 \nL 9.8125 71.09375 \nQ 15.4375 72.65625 20.34375 73.4375 \nQ 25.25 74.21875 29.59375 74.21875 \nQ 40.828125 74.21875 47.359375 69.109375 \nQ 53.90625 64.015625 53.90625 55.328125 \nQ 53.90625 49.265625 50.4375 45.09375 \nQ 46.96875 40.921875 40.578125 39.3125 \nz\n\" id=\"DejaVuSans-51\"/>\n       </defs>\n       <use xlink:href=\"#DejaVuSans-51\"/>\n       <use x=\"63.623047\" xlink:href=\"#DejaVuSans-48\"/>\n      </g>\n     </g>\n    </g>\n    <g id=\"xtick_8\">\n     <g id=\"line2d_8\">\n      <g>\n       <use style=\"stroke:#000000;stroke-width:0.8;\" x=\"529.382984\" xlink:href=\"#mc184a5ec7e\" y=\"348.478125\"/>\n      </g>\n     </g>\n     <g id=\"text_8\">\n      <!-- 35 -->\n      <g transform=\"translate(523.020484 363.076562)scale(0.1 -0.1)\">\n       <use xlink:href=\"#DejaVuSans-51\"/>\n       <use x=\"63.623047\" xlink:href=\"#DejaVuSans-53\"/>\n      </g>\n     </g>\n    </g>\n    <g id=\"xtick_9\">\n     <g id=\"line2d_9\">\n      <g>\n       <use style=\"stroke:#000000;stroke-width:0.8;\" x=\"596.129396\" xlink:href=\"#mc184a5ec7e\" y=\"348.478125\"/>\n      </g>\n     </g>\n     <g id=\"text_9\">\n      <!-- 40 -->\n      <g transform=\"translate(589.766896 363.076562)scale(0.1 -0.1)\">\n       <defs>\n        <path d=\"M 37.796875 64.3125 \nL 12.890625 25.390625 \nL 37.796875 25.390625 \nz\nM 35.203125 72.90625 \nL 47.609375 72.90625 \nL 47.609375 25.390625 \nL 58.015625 25.390625 \nL 58.015625 17.1875 \nL 47.609375 17.1875 \nL 47.609375 0 \nL 37.796875 0 \nL 37.796875 17.1875 \nL 4.890625 17.1875 \nL 4.890625 26.703125 \nz\n\" id=\"DejaVuSans-52\"/>\n       </defs>\n       <use xlink:href=\"#DejaVuSans-52\"/>\n       <use x=\"63.623047\" xlink:href=\"#DejaVuSans-48\"/>\n      </g>\n     </g>\n    </g>\n    <g id=\"text_10\">\n     <!-- K -->\n     <g transform=\"translate(325.864844 376.754687)scale(0.1 -0.1)\">\n      <defs>\n       <path d=\"M 9.8125 72.90625 \nL 19.671875 72.90625 \nL 19.671875 42.09375 \nL 52.390625 72.90625 \nL 65.09375 72.90625 \nL 28.90625 38.921875 \nL 67.671875 0 \nL 54.6875 0 \nL 19.671875 35.109375 \nL 19.671875 0 \nL 9.8125 0 \nz\n\" id=\"DejaVuSans-75\"/>\n      </defs>\n      <use xlink:href=\"#DejaVuSans-75\"/>\n     </g>\n    </g>\n   </g>\n   <g id=\"matplotlib.axis_2\">\n    <g id=\"ytick_1\">\n     <g id=\"line2d_10\">\n      <defs>\n       <path d=\"M 0 0 \nL -3.5 0 \n\" id=\"mc33b8c76b2\" style=\"stroke:#000000;stroke-width:0.8;\"/>\n      </defs>\n      <g>\n       <use style=\"stroke:#000000;stroke-width:0.8;\" x=\"50.14375\" xlink:href=\"#mc33b8c76b2\" y=\"345.331179\"/>\n      </g>\n     </g>\n     <g id=\"text_11\">\n      <!-- 0.54 -->\n      <g transform=\"translate(20.878125 349.130398)scale(0.1 -0.1)\">\n       <defs>\n        <path d=\"M 10.6875 12.40625 \nL 21 12.40625 \nL 21 0 \nL 10.6875 0 \nz\n\" id=\"DejaVuSans-46\"/>\n       </defs>\n       <use xlink:href=\"#DejaVuSans-48\"/>\n       <use x=\"63.623047\" xlink:href=\"#DejaVuSans-46\"/>\n       <use x=\"95.410156\" xlink:href=\"#DejaVuSans-53\"/>\n       <use x=\"159.033203\" xlink:href=\"#DejaVuSans-52\"/>\n      </g>\n     </g>\n    </g>\n    <g id=\"ytick_2\">\n     <g id=\"line2d_11\">\n      <g>\n       <use style=\"stroke:#000000;stroke-width:0.8;\" x=\"50.14375\" xlink:href=\"#mc33b8c76b2\" y=\"307.083124\"/>\n      </g>\n     </g>\n     <g id=\"text_12\">\n      <!-- 0.56 -->\n      <g transform=\"translate(20.878125 310.882343)scale(0.1 -0.1)\">\n       <defs>\n        <path d=\"M 33.015625 40.375 \nQ 26.375 40.375 22.484375 35.828125 \nQ 18.609375 31.296875 18.609375 23.390625 \nQ 18.609375 15.53125 22.484375 10.953125 \nQ 26.375 6.390625 33.015625 6.390625 \nQ 39.65625 6.390625 43.53125 10.953125 \nQ 47.40625 15.53125 47.40625 23.390625 \nQ 47.40625 31.296875 43.53125 35.828125 \nQ 39.65625 40.375 33.015625 40.375 \nz\nM 52.59375 71.296875 \nL 52.59375 62.3125 \nQ 48.875 64.0625 45.09375 64.984375 \nQ 41.3125 65.921875 37.59375 65.921875 \nQ 27.828125 65.921875 22.671875 59.328125 \nQ 17.53125 52.734375 16.796875 39.40625 \nQ 19.671875 43.65625 24.015625 45.921875 \nQ 28.375 48.1875 33.59375 48.1875 \nQ 44.578125 48.1875 50.953125 41.515625 \nQ 57.328125 34.859375 57.328125 23.390625 \nQ 57.328125 12.15625 50.6875 5.359375 \nQ 44.046875 -1.421875 33.015625 -1.421875 \nQ 20.359375 -1.421875 13.671875 8.265625 \nQ 6.984375 17.96875 6.984375 36.375 \nQ 6.984375 53.65625 15.1875 63.9375 \nQ 23.390625 74.21875 37.203125 74.21875 \nQ 40.921875 74.21875 44.703125 73.484375 \nQ 48.484375 72.75 52.59375 71.296875 \nz\n\" id=\"DejaVuSans-54\"/>\n       </defs>\n       <use xlink:href=\"#DejaVuSans-48\"/>\n       <use x=\"63.623047\" xlink:href=\"#DejaVuSans-46\"/>\n       <use x=\"95.410156\" xlink:href=\"#DejaVuSans-53\"/>\n       <use x=\"159.033203\" xlink:href=\"#DejaVuSans-54\"/>\n      </g>\n     </g>\n    </g>\n    <g id=\"ytick_3\">\n     <g id=\"line2d_12\">\n      <g>\n       <use style=\"stroke:#000000;stroke-width:0.8;\" x=\"50.14375\" xlink:href=\"#mc33b8c76b2\" y=\"268.83507\"/>\n      </g>\n     </g>\n     <g id=\"text_13\">\n      <!-- 0.58 -->\n      <g transform=\"translate(20.878125 272.634289)scale(0.1 -0.1)\">\n       <defs>\n        <path d=\"M 31.78125 34.625 \nQ 24.75 34.625 20.71875 30.859375 \nQ 16.703125 27.09375 16.703125 20.515625 \nQ 16.703125 13.921875 20.71875 10.15625 \nQ 24.75 6.390625 31.78125 6.390625 \nQ 38.8125 6.390625 42.859375 10.171875 \nQ 46.921875 13.96875 46.921875 20.515625 \nQ 46.921875 27.09375 42.890625 30.859375 \nQ 38.875 34.625 31.78125 34.625 \nz\nM 21.921875 38.8125 \nQ 15.578125 40.375 12.03125 44.71875 \nQ 8.5 49.078125 8.5 55.328125 \nQ 8.5 64.0625 14.71875 69.140625 \nQ 20.953125 74.21875 31.78125 74.21875 \nQ 42.671875 74.21875 48.875 69.140625 \nQ 55.078125 64.0625 55.078125 55.328125 \nQ 55.078125 49.078125 51.53125 44.71875 \nQ 48 40.375 41.703125 38.8125 \nQ 48.828125 37.15625 52.796875 32.3125 \nQ 56.78125 27.484375 56.78125 20.515625 \nQ 56.78125 9.90625 50.3125 4.234375 \nQ 43.84375 -1.421875 31.78125 -1.421875 \nQ 19.734375 -1.421875 13.25 4.234375 \nQ 6.78125 9.90625 6.78125 20.515625 \nQ 6.78125 27.484375 10.78125 32.3125 \nQ 14.796875 37.15625 21.921875 38.8125 \nz\nM 18.3125 54.390625 \nQ 18.3125 48.734375 21.84375 45.5625 \nQ 25.390625 42.390625 31.78125 42.390625 \nQ 38.140625 42.390625 41.71875 45.5625 \nQ 45.3125 48.734375 45.3125 54.390625 \nQ 45.3125 60.0625 41.71875 63.234375 \nQ 38.140625 66.40625 31.78125 66.40625 \nQ 25.390625 66.40625 21.84375 63.234375 \nQ 18.3125 60.0625 18.3125 54.390625 \nz\n\" id=\"DejaVuSans-56\"/>\n       </defs>\n       <use xlink:href=\"#DejaVuSans-48\"/>\n       <use x=\"63.623047\" xlink:href=\"#DejaVuSans-46\"/>\n       <use x=\"95.410156\" xlink:href=\"#DejaVuSans-53\"/>\n       <use x=\"159.033203\" xlink:href=\"#DejaVuSans-56\"/>\n      </g>\n     </g>\n    </g>\n    <g id=\"ytick_4\">\n     <g id=\"line2d_13\">\n      <g>\n       <use style=\"stroke:#000000;stroke-width:0.8;\" x=\"50.14375\" xlink:href=\"#mc33b8c76b2\" y=\"230.587015\"/>\n      </g>\n     </g>\n     <g id=\"text_14\">\n      <!-- 0.60 -->\n      <g transform=\"translate(20.878125 234.386234)scale(0.1 -0.1)\">\n       <use xlink:href=\"#DejaVuSans-48\"/>\n       <use x=\"63.623047\" xlink:href=\"#DejaVuSans-46\"/>\n       <use x=\"95.410156\" xlink:href=\"#DejaVuSans-54\"/>\n       <use x=\"159.033203\" xlink:href=\"#DejaVuSans-48\"/>\n      </g>\n     </g>\n    </g>\n    <g id=\"ytick_5\">\n     <g id=\"line2d_14\">\n      <g>\n       <use style=\"stroke:#000000;stroke-width:0.8;\" x=\"50.14375\" xlink:href=\"#mc33b8c76b2\" y=\"192.338961\"/>\n      </g>\n     </g>\n     <g id=\"text_15\">\n      <!-- 0.62 -->\n      <g transform=\"translate(20.878125 196.138179)scale(0.1 -0.1)\">\n       <use xlink:href=\"#DejaVuSans-48\"/>\n       <use x=\"63.623047\" xlink:href=\"#DejaVuSans-46\"/>\n       <use x=\"95.410156\" xlink:href=\"#DejaVuSans-54\"/>\n       <use x=\"159.033203\" xlink:href=\"#DejaVuSans-50\"/>\n      </g>\n     </g>\n    </g>\n    <g id=\"ytick_6\">\n     <g id=\"line2d_15\">\n      <g>\n       <use style=\"stroke:#000000;stroke-width:0.8;\" x=\"50.14375\" xlink:href=\"#mc33b8c76b2\" y=\"154.090906\"/>\n      </g>\n     </g>\n     <g id=\"text_16\">\n      <!-- 0.64 -->\n      <g transform=\"translate(20.878125 157.890125)scale(0.1 -0.1)\">\n       <use xlink:href=\"#DejaVuSans-48\"/>\n       <use x=\"63.623047\" xlink:href=\"#DejaVuSans-46\"/>\n       <use x=\"95.410156\" xlink:href=\"#DejaVuSans-54\"/>\n       <use x=\"159.033203\" xlink:href=\"#DejaVuSans-52\"/>\n      </g>\n     </g>\n    </g>\n    <g id=\"ytick_7\">\n     <g id=\"line2d_16\">\n      <g>\n       <use style=\"stroke:#000000;stroke-width:0.8;\" x=\"50.14375\" xlink:href=\"#mc33b8c76b2\" y=\"115.842851\"/>\n      </g>\n     </g>\n     <g id=\"text_17\">\n      <!-- 0.66 -->\n      <g transform=\"translate(20.878125 119.64207)scale(0.1 -0.1)\">\n       <use xlink:href=\"#DejaVuSans-48\"/>\n       <use x=\"63.623047\" xlink:href=\"#DejaVuSans-46\"/>\n       <use x=\"95.410156\" xlink:href=\"#DejaVuSans-54\"/>\n       <use x=\"159.033203\" xlink:href=\"#DejaVuSans-54\"/>\n      </g>\n     </g>\n    </g>\n    <g id=\"ytick_8\">\n     <g id=\"line2d_17\">\n      <g>\n       <use style=\"stroke:#000000;stroke-width:0.8;\" x=\"50.14375\" xlink:href=\"#mc33b8c76b2\" y=\"77.594797\"/>\n      </g>\n     </g>\n     <g id=\"text_18\">\n      <!-- 0.68 -->\n      <g transform=\"translate(20.878125 81.394016)scale(0.1 -0.1)\">\n       <use xlink:href=\"#DejaVuSans-48\"/>\n       <use x=\"63.623047\" xlink:href=\"#DejaVuSans-46\"/>\n       <use x=\"95.410156\" xlink:href=\"#DejaVuSans-54\"/>\n       <use x=\"159.033203\" xlink:href=\"#DejaVuSans-56\"/>\n      </g>\n     </g>\n    </g>\n    <g id=\"ytick_9\">\n     <g id=\"line2d_18\">\n      <g>\n       <use style=\"stroke:#000000;stroke-width:0.8;\" x=\"50.14375\" xlink:href=\"#mc33b8c76b2\" y=\"39.346742\"/>\n      </g>\n     </g>\n     <g id=\"text_19\">\n      <!-- 0.70 -->\n      <g transform=\"translate(20.878125 43.145961)scale(0.1 -0.1)\">\n       <defs>\n        <path d=\"M 8.203125 72.90625 \nL 55.078125 72.90625 \nL 55.078125 68.703125 \nL 28.609375 0 \nL 18.3125 0 \nL 43.21875 64.59375 \nL 8.203125 64.59375 \nz\n\" id=\"DejaVuSans-55\"/>\n       </defs>\n       <use xlink:href=\"#DejaVuSans-48\"/>\n       <use x=\"63.623047\" xlink:href=\"#DejaVuSans-46\"/>\n       <use x=\"95.410156\" xlink:href=\"#DejaVuSans-55\"/>\n       <use x=\"159.033203\" xlink:href=\"#DejaVuSans-48\"/>\n      </g>\n     </g>\n    </g>\n    <g id=\"text_20\">\n     <!-- Accuracy -->\n     <g transform=\"translate(14.798437 208.22625)rotate(-90)scale(0.1 -0.1)\">\n      <defs>\n       <path d=\"M 34.1875 63.1875 \nL 20.796875 26.90625 \nL 47.609375 26.90625 \nz\nM 28.609375 72.90625 \nL 39.796875 72.90625 \nL 67.578125 0 \nL 57.328125 0 \nL 50.6875 18.703125 \nL 17.828125 18.703125 \nL 11.1875 0 \nL 0.78125 0 \nz\n\" id=\"DejaVuSans-65\"/>\n       <path d=\"M 48.78125 52.59375 \nL 48.78125 44.1875 \nQ 44.96875 46.296875 41.140625 47.34375 \nQ 37.3125 48.390625 33.40625 48.390625 \nQ 24.65625 48.390625 19.8125 42.84375 \nQ 14.984375 37.3125 14.984375 27.296875 \nQ 14.984375 17.28125 19.8125 11.734375 \nQ 24.65625 6.203125 33.40625 6.203125 \nQ 37.3125 6.203125 41.140625 7.25 \nQ 44.96875 8.296875 48.78125 10.40625 \nL 48.78125 2.09375 \nQ 45.015625 0.34375 40.984375 -0.53125 \nQ 36.96875 -1.421875 32.421875 -1.421875 \nQ 20.0625 -1.421875 12.78125 6.34375 \nQ 5.515625 14.109375 5.515625 27.296875 \nQ 5.515625 40.671875 12.859375 48.328125 \nQ 20.21875 56 33.015625 56 \nQ 37.15625 56 41.109375 55.140625 \nQ 45.0625 54.296875 48.78125 52.59375 \nz\n\" id=\"DejaVuSans-99\"/>\n       <path d=\"M 8.5 21.578125 \nL 8.5 54.6875 \nL 17.484375 54.6875 \nL 17.484375 21.921875 \nQ 17.484375 14.15625 20.5 10.265625 \nQ 23.53125 6.390625 29.59375 6.390625 \nQ 36.859375 6.390625 41.078125 11.03125 \nQ 45.3125 15.671875 45.3125 23.6875 \nL 45.3125 54.6875 \nL 54.296875 54.6875 \nL 54.296875 0 \nL 45.3125 0 \nL 45.3125 8.40625 \nQ 42.046875 3.421875 37.71875 1 \nQ 33.40625 -1.421875 27.6875 -1.421875 \nQ 18.265625 -1.421875 13.375 4.4375 \nQ 8.5 10.296875 8.5 21.578125 \nz\nM 31.109375 56 \nz\n\" id=\"DejaVuSans-117\"/>\n       <path d=\"M 41.109375 46.296875 \nQ 39.59375 47.171875 37.8125 47.578125 \nQ 36.03125 48 33.890625 48 \nQ 26.265625 48 22.1875 43.046875 \nQ 18.109375 38.09375 18.109375 28.8125 \nL 18.109375 0 \nL 9.078125 0 \nL 9.078125 54.6875 \nL 18.109375 54.6875 \nL 18.109375 46.1875 \nQ 20.953125 51.171875 25.484375 53.578125 \nQ 30.03125 56 36.53125 56 \nQ 37.453125 56 38.578125 55.875 \nQ 39.703125 55.765625 41.0625 55.515625 \nz\n\" id=\"DejaVuSans-114\"/>\n       <path d=\"M 34.28125 27.484375 \nQ 23.390625 27.484375 19.1875 25 \nQ 14.984375 22.515625 14.984375 16.5 \nQ 14.984375 11.71875 18.140625 8.90625 \nQ 21.296875 6.109375 26.703125 6.109375 \nQ 34.1875 6.109375 38.703125 11.40625 \nQ 43.21875 16.703125 43.21875 25.484375 \nL 43.21875 27.484375 \nz\nM 52.203125 31.203125 \nL 52.203125 0 \nL 43.21875 0 \nL 43.21875 8.296875 \nQ 40.140625 3.328125 35.546875 0.953125 \nQ 30.953125 -1.421875 24.3125 -1.421875 \nQ 15.921875 -1.421875 10.953125 3.296875 \nQ 6 8.015625 6 15.921875 \nQ 6 25.140625 12.171875 29.828125 \nQ 18.359375 34.515625 30.609375 34.515625 \nL 43.21875 34.515625 \nL 43.21875 35.40625 \nQ 43.21875 41.609375 39.140625 45 \nQ 35.0625 48.390625 27.6875 48.390625 \nQ 23 48.390625 18.546875 47.265625 \nQ 14.109375 46.140625 10.015625 43.890625 \nL 10.015625 52.203125 \nQ 14.9375 54.109375 19.578125 55.046875 \nQ 24.21875 56 28.609375 56 \nQ 40.484375 56 46.34375 49.84375 \nQ 52.203125 43.703125 52.203125 31.203125 \nz\n\" id=\"DejaVuSans-97\"/>\n       <path d=\"M 32.171875 -5.078125 \nQ 28.375 -14.84375 24.75 -17.8125 \nQ 21.140625 -20.796875 15.09375 -20.796875 \nL 7.90625 -20.796875 \nL 7.90625 -13.28125 \nL 13.1875 -13.28125 \nQ 16.890625 -13.28125 18.9375 -11.515625 \nQ 21 -9.765625 23.484375 -3.21875 \nL 25.09375 0.875 \nL 2.984375 54.6875 \nL 12.5 54.6875 \nL 29.59375 11.921875 \nL 46.6875 54.6875 \nL 56.203125 54.6875 \nz\n\" id=\"DejaVuSans-121\"/>\n      </defs>\n      <use xlink:href=\"#DejaVuSans-65\"/>\n      <use x=\"66.658203\" xlink:href=\"#DejaVuSans-99\"/>\n      <use x=\"121.638672\" xlink:href=\"#DejaVuSans-99\"/>\n      <use x=\"176.619141\" xlink:href=\"#DejaVuSans-117\"/>\n      <use x=\"239.998047\" xlink:href=\"#DejaVuSans-114\"/>\n      <use x=\"281.111328\" xlink:href=\"#DejaVuSans-97\"/>\n      <use x=\"342.390625\" xlink:href=\"#DejaVuSans-99\"/>\n      <use x=\"397.371094\" xlink:href=\"#DejaVuSans-121\"/>\n     </g>\n    </g>\n   </g>\n   <g id=\"line2d_19\">\n    <path clip-path=\"url(#p5dc8494830)\" d=\"M 75.507386 333.65267 \nL 88.856669 77.329426 \nL 102.205951 45.538699 \nL 115.555233 42.020638 \nL 128.904516 37.14358 \nL 142.253798 56.597238 \nL 155.60308 60.756127 \nL 168.952362 65.162276 \nL 182.301645 67.260156 \nL 195.650927 71.333853 \nL 209.000209 72.99692 \nL 222.349492 80.055458 \nL 235.698774 80.695048 \nL 249.048056 86.438782 \nL 262.397339 90.980888 \nL 275.746621 92.686694 \nL 289.095903 96.537086 \nL 302.445185 98.701297 \nL 315.794468 103.805811 \nL 329.14375 109.975817 \nL 342.493032 112.774963 \nL 355.842315 116.687714 \nL 369.191597 120.549564 \nL 382.540879 122.262782 \nL 395.890161 126.128105 \nL 409.239444 128.445999 \nL 422.588726 131.551419 \nL 435.938008 135.447426 \nL 449.287291 138.086565 \nL 462.636573 139.190228 \nL 475.985855 141.998612 \nL 489.335138 145.318587 \nL 502.68442 147.113653 \nL 516.033702 150.306013 \nL 529.382984 152.2839 \nL 542.732267 154.459472 \nL 556.081549 156.847539 \nL 569.430831 157.657825 \nL 582.780114 160.888709 \n\" style=\"fill:none;stroke:#800080;stroke-dasharray:5.55,2.4;stroke-dashoffset:0;stroke-width:1.5;\"/>\n    <defs>\n     <path d=\"M 0 0.5 \nC 0.132602 0.5 0.25979 0.447317 0.353553 0.353553 \nC 0.447317 0.25979 0.5 0.132602 0.5 0 \nC 0.5 -0.132602 0.447317 -0.25979 0.353553 -0.353553 \nC 0.25979 -0.447317 0.132602 -0.5 0 -0.5 \nC -0.132602 -0.5 -0.25979 -0.447317 -0.353553 -0.353553 \nC -0.447317 -0.25979 -0.5 -0.132602 -0.5 0 \nC -0.5 0.132602 -0.447317 0.25979 -0.353553 0.353553 \nC -0.25979 0.447317 -0.132602 0.5 0 0.5 \nz\n\" id=\"m539c8d138d\" style=\"stroke:#800080;\"/>\n    </defs>\n    <g clip-path=\"url(#p5dc8494830)\">\n     <use style=\"fill:#ff0000;stroke:#800080;\" x=\"75.507386\" xlink:href=\"#m539c8d138d\" y=\"333.65267\"/>\n     <use style=\"fill:#ff0000;stroke:#800080;\" x=\"88.856669\" xlink:href=\"#m539c8d138d\" y=\"77.329426\"/>\n     <use style=\"fill:#ff0000;stroke:#800080;\" x=\"102.205951\" xlink:href=\"#m539c8d138d\" y=\"45.538699\"/>\n     <use style=\"fill:#ff0000;stroke:#800080;\" x=\"115.555233\" xlink:href=\"#m539c8d138d\" y=\"42.020638\"/>\n     <use style=\"fill:#ff0000;stroke:#800080;\" x=\"128.904516\" xlink:href=\"#m539c8d138d\" y=\"37.14358\"/>\n     <use style=\"fill:#ff0000;stroke:#800080;\" x=\"142.253798\" xlink:href=\"#m539c8d138d\" y=\"56.597238\"/>\n     <use style=\"fill:#ff0000;stroke:#800080;\" x=\"155.60308\" xlink:href=\"#m539c8d138d\" y=\"60.756127\"/>\n     <use style=\"fill:#ff0000;stroke:#800080;\" x=\"168.952362\" xlink:href=\"#m539c8d138d\" y=\"65.162276\"/>\n     <use style=\"fill:#ff0000;stroke:#800080;\" x=\"182.301645\" xlink:href=\"#m539c8d138d\" y=\"67.260156\"/>\n     <use style=\"fill:#ff0000;stroke:#800080;\" x=\"195.650927\" xlink:href=\"#m539c8d138d\" y=\"71.333853\"/>\n     <use style=\"fill:#ff0000;stroke:#800080;\" x=\"209.000209\" xlink:href=\"#m539c8d138d\" y=\"72.99692\"/>\n     <use style=\"fill:#ff0000;stroke:#800080;\" x=\"222.349492\" xlink:href=\"#m539c8d138d\" y=\"80.055458\"/>\n     <use style=\"fill:#ff0000;stroke:#800080;\" x=\"235.698774\" xlink:href=\"#m539c8d138d\" y=\"80.695048\"/>\n     <use style=\"fill:#ff0000;stroke:#800080;\" x=\"249.048056\" xlink:href=\"#m539c8d138d\" y=\"86.438782\"/>\n     <use style=\"fill:#ff0000;stroke:#800080;\" x=\"262.397339\" xlink:href=\"#m539c8d138d\" y=\"90.980888\"/>\n     <use style=\"fill:#ff0000;stroke:#800080;\" x=\"275.746621\" xlink:href=\"#m539c8d138d\" y=\"92.686694\"/>\n     <use style=\"fill:#ff0000;stroke:#800080;\" x=\"289.095903\" xlink:href=\"#m539c8d138d\" y=\"96.537086\"/>\n     <use style=\"fill:#ff0000;stroke:#800080;\" x=\"302.445185\" xlink:href=\"#m539c8d138d\" y=\"98.701297\"/>\n     <use style=\"fill:#ff0000;stroke:#800080;\" x=\"315.794468\" xlink:href=\"#m539c8d138d\" y=\"103.805811\"/>\n     <use style=\"fill:#ff0000;stroke:#800080;\" x=\"329.14375\" xlink:href=\"#m539c8d138d\" y=\"109.975817\"/>\n     <use style=\"fill:#ff0000;stroke:#800080;\" x=\"342.493032\" xlink:href=\"#m539c8d138d\" y=\"112.774963\"/>\n     <use style=\"fill:#ff0000;stroke:#800080;\" x=\"355.842315\" xlink:href=\"#m539c8d138d\" y=\"116.687714\"/>\n     <use style=\"fill:#ff0000;stroke:#800080;\" x=\"369.191597\" xlink:href=\"#m539c8d138d\" y=\"120.549564\"/>\n     <use style=\"fill:#ff0000;stroke:#800080;\" x=\"382.540879\" xlink:href=\"#m539c8d138d\" y=\"122.262782\"/>\n     <use style=\"fill:#ff0000;stroke:#800080;\" x=\"395.890161\" xlink:href=\"#m539c8d138d\" y=\"126.128105\"/>\n     <use style=\"fill:#ff0000;stroke:#800080;\" x=\"409.239444\" xlink:href=\"#m539c8d138d\" y=\"128.445999\"/>\n     <use style=\"fill:#ff0000;stroke:#800080;\" x=\"422.588726\" xlink:href=\"#m539c8d138d\" y=\"131.551419\"/>\n     <use style=\"fill:#ff0000;stroke:#800080;\" x=\"435.938008\" xlink:href=\"#m539c8d138d\" y=\"135.447426\"/>\n     <use style=\"fill:#ff0000;stroke:#800080;\" x=\"449.287291\" xlink:href=\"#m539c8d138d\" y=\"138.086565\"/>\n     <use style=\"fill:#ff0000;stroke:#800080;\" x=\"462.636573\" xlink:href=\"#m539c8d138d\" y=\"139.190228\"/>\n     <use style=\"fill:#ff0000;stroke:#800080;\" x=\"475.985855\" xlink:href=\"#m539c8d138d\" y=\"141.998612\"/>\n     <use style=\"fill:#ff0000;stroke:#800080;\" x=\"489.335138\" xlink:href=\"#m539c8d138d\" y=\"145.318587\"/>\n     <use style=\"fill:#ff0000;stroke:#800080;\" x=\"502.68442\" xlink:href=\"#m539c8d138d\" y=\"147.113653\"/>\n     <use style=\"fill:#ff0000;stroke:#800080;\" x=\"516.033702\" xlink:href=\"#m539c8d138d\" y=\"150.306013\"/>\n     <use style=\"fill:#ff0000;stroke:#800080;\" x=\"529.382984\" xlink:href=\"#m539c8d138d\" y=\"152.2839\"/>\n     <use style=\"fill:#ff0000;stroke:#800080;\" x=\"542.732267\" xlink:href=\"#m539c8d138d\" y=\"154.459472\"/>\n     <use style=\"fill:#ff0000;stroke:#800080;\" x=\"556.081549\" xlink:href=\"#m539c8d138d\" y=\"156.847539\"/>\n     <use style=\"fill:#ff0000;stroke:#800080;\" x=\"569.430831\" xlink:href=\"#m539c8d138d\" y=\"157.657825\"/>\n     <use style=\"fill:#ff0000;stroke:#800080;\" x=\"582.780114\" xlink:href=\"#m539c8d138d\" y=\"160.888709\"/>\n    </g>\n   </g>\n   <g id=\"patch_3\">\n    <path d=\"M 50.14375 348.478125 \nL 50.14375 22.318125 \n\" style=\"fill:none;stroke:#000000;stroke-linecap:square;stroke-linejoin:miter;stroke-width:0.8;\"/>\n   </g>\n   <g id=\"patch_4\">\n    <path d=\"M 608.14375 348.478125 \nL 608.14375 22.318125 \n\" style=\"fill:none;stroke:#000000;stroke-linecap:square;stroke-linejoin:miter;stroke-width:0.8;\"/>\n   </g>\n   <g id=\"patch_5\">\n    <path d=\"M 50.14375 348.478125 \nL 608.14375 348.478125 \n\" style=\"fill:none;stroke:#000000;stroke-linecap:square;stroke-linejoin:miter;stroke-width:0.8;\"/>\n   </g>\n   <g id=\"patch_6\">\n    <path d=\"M 50.14375 22.318125 \nL 608.14375 22.318125 \n\" style=\"fill:none;stroke:#000000;stroke-linecap:square;stroke-linejoin:miter;stroke-width:0.8;\"/>\n   </g>\n   <g id=\"text_21\">\n    <!-- Accuracy vs. K Value -->\n    <g transform=\"translate(267.033437 16.318125)scale(0.12 -0.12)\">\n     <defs>\n      <path id=\"DejaVuSans-32\"/>\n      <path d=\"M 2.984375 54.6875 \nL 12.5 54.6875 \nL 29.59375 8.796875 \nL 46.6875 54.6875 \nL 56.203125 54.6875 \nL 35.6875 0 \nL 23.484375 0 \nz\n\" id=\"DejaVuSans-118\"/>\n      <path d=\"M 44.28125 53.078125 \nL 44.28125 44.578125 \nQ 40.484375 46.53125 36.375 47.5 \nQ 32.28125 48.484375 27.875 48.484375 \nQ 21.1875 48.484375 17.84375 46.4375 \nQ 14.5 44.390625 14.5 40.28125 \nQ 14.5 37.15625 16.890625 35.375 \nQ 19.28125 33.59375 26.515625 31.984375 \nL 29.59375 31.296875 \nQ 39.15625 29.25 43.1875 25.515625 \nQ 47.21875 21.78125 47.21875 15.09375 \nQ 47.21875 7.46875 41.1875 3.015625 \nQ 35.15625 -1.421875 24.609375 -1.421875 \nQ 20.21875 -1.421875 15.453125 -0.5625 \nQ 10.6875 0.296875 5.421875 2 \nL 5.421875 11.28125 \nQ 10.40625 8.6875 15.234375 7.390625 \nQ 20.0625 6.109375 24.8125 6.109375 \nQ 31.15625 6.109375 34.5625 8.28125 \nQ 37.984375 10.453125 37.984375 14.40625 \nQ 37.984375 18.0625 35.515625 20.015625 \nQ 33.0625 21.96875 24.703125 23.78125 \nL 21.578125 24.515625 \nQ 13.234375 26.265625 9.515625 29.90625 \nQ 5.8125 33.546875 5.8125 39.890625 \nQ 5.8125 47.609375 11.28125 51.796875 \nQ 16.75 56 26.8125 56 \nQ 31.78125 56 36.171875 55.265625 \nQ 40.578125 54.546875 44.28125 53.078125 \nz\n\" id=\"DejaVuSans-115\"/>\n      <path d=\"M 28.609375 0 \nL 0.78125 72.90625 \nL 11.078125 72.90625 \nL 34.1875 11.53125 \nL 57.328125 72.90625 \nL 67.578125 72.90625 \nL 39.796875 0 \nz\n\" id=\"DejaVuSans-86\"/>\n      <path d=\"M 9.421875 75.984375 \nL 18.40625 75.984375 \nL 18.40625 0 \nL 9.421875 0 \nz\n\" id=\"DejaVuSans-108\"/>\n      <path d=\"M 56.203125 29.59375 \nL 56.203125 25.203125 \nL 14.890625 25.203125 \nQ 15.484375 15.921875 20.484375 11.0625 \nQ 25.484375 6.203125 34.421875 6.203125 \nQ 39.59375 6.203125 44.453125 7.46875 \nQ 49.3125 8.734375 54.109375 11.28125 \nL 54.109375 2.78125 \nQ 49.265625 0.734375 44.1875 -0.34375 \nQ 39.109375 -1.421875 33.890625 -1.421875 \nQ 20.796875 -1.421875 13.15625 6.1875 \nQ 5.515625 13.8125 5.515625 26.8125 \nQ 5.515625 40.234375 12.765625 48.109375 \nQ 20.015625 56 32.328125 56 \nQ 43.359375 56 49.78125 48.890625 \nQ 56.203125 41.796875 56.203125 29.59375 \nz\nM 47.21875 32.234375 \nQ 47.125 39.59375 43.09375 43.984375 \nQ 39.0625 48.390625 32.421875 48.390625 \nQ 24.90625 48.390625 20.390625 44.140625 \nQ 15.875 39.890625 15.1875 32.171875 \nz\n\" id=\"DejaVuSans-101\"/>\n     </defs>\n     <use xlink:href=\"#DejaVuSans-65\"/>\n     <use x=\"66.658203\" xlink:href=\"#DejaVuSans-99\"/>\n     <use x=\"121.638672\" xlink:href=\"#DejaVuSans-99\"/>\n     <use x=\"176.619141\" xlink:href=\"#DejaVuSans-117\"/>\n     <use x=\"239.998047\" xlink:href=\"#DejaVuSans-114\"/>\n     <use x=\"281.111328\" xlink:href=\"#DejaVuSans-97\"/>\n     <use x=\"342.390625\" xlink:href=\"#DejaVuSans-99\"/>\n     <use x=\"397.371094\" xlink:href=\"#DejaVuSans-121\"/>\n     <use x=\"456.550781\" xlink:href=\"#DejaVuSans-32\"/>\n     <use x=\"488.337891\" xlink:href=\"#DejaVuSans-118\"/>\n     <use x=\"547.517578\" xlink:href=\"#DejaVuSans-115\"/>\n     <use x=\"599.617188\" xlink:href=\"#DejaVuSans-46\"/>\n     <use x=\"631.404297\" xlink:href=\"#DejaVuSans-32\"/>\n     <use x=\"663.191406\" xlink:href=\"#DejaVuSans-75\"/>\n     <use x=\"728.767578\" xlink:href=\"#DejaVuSans-32\"/>\n     <use x=\"760.554688\" xlink:href=\"#DejaVuSans-86\"/>\n     <use x=\"821.212891\" xlink:href=\"#DejaVuSans-97\"/>\n     <use x=\"882.492188\" xlink:href=\"#DejaVuSans-108\"/>\n     <use x=\"910.275391\" xlink:href=\"#DejaVuSans-117\"/>\n     <use x=\"973.654297\" xlink:href=\"#DejaVuSans-101\"/>\n    </g>\n   </g>\n  </g>\n </g>\n <defs>\n  <clipPath id=\"p5dc8494830\">\n   <rect height=\"326.16\" width=\"558\" x=\"50.14375\" y=\"22.318125\"/>\n  </clipPath>\n </defs>\n</svg>\n",
      "image/png": "[encoded data removed]"
     },
     "metadata": {
      "needs_background": "light"
     }
    }
   ],
   "source": [
    "score = []\n",
    "for i in range(1,40):\n",
    "    knn = KNeighborsRegressor(n_neighbors=i)\n",
    "    knn.fit(Train_SS, y_train)\n",
    "    pred_i = knn.predict(Test_SS)\n",
    "    r2_KN_i=r2_score(y_test,pred_i)\n",
    "    score.append(r2_KN_i)\n",
    "\n",
    "plt.figure(figsize=(10,6))\n",
    "plt.plot(range(1,40),score,color='purple', linestyle='dashed', \n",
    "         marker='o',markerfacecolor='red', markersize=1)\n",
    "plt.title('Accuracy vs. K Value')\n",
    "plt.xlabel('K')\n",
    "plt.ylabel('Accuracy')\n",
    "print(\"Max Accuracy error:-\",max(score),\"at K =\",score.index(max(score))+1)"
   ]
  },
  {
   "source": [
    "## RandomForest Regressor"
   ],
   "cell_type": "markdown",
   "metadata": {}
  },
  {
   "cell_type": "code",
   "execution_count": 36,
   "metadata": {},
   "outputs": [
    {
     "output_type": "stream",
     "name": "stdout",
     "text": [
      "Accuracy on Training set:  0.9710594368702156\nAccuracy on Testing set:  0.7922040491133998\nR2 score 0.7922040491133998\n"
     ]
    }
   ],
   "source": [
    "reg_rf = RandomForestRegressor()\n",
    "reg_rf.fit(Train_SS, y_train)\n",
    "y_pred= reg_rf.predict(Test_SS)\n",
    "r2_rf=r2_score(y_test,y_pred)\n",
    "print(\"Accuracy on Training set: \",reg_rf.score(Train_SS,y_train))\n",
    "print(\"Accuracy on Testing set: \",reg_rf.score(Test_SS,y_test))\n",
    "print(\"R2 score\", r2_rf)"
   ]
  }
 ]
}