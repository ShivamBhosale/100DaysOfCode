{
 "metadata": {
  "orig_nbformat": 2,
  "kernelspec": {
   "name": "tensorflow",
   "display_name": "Python 3.7 (tensorflow)",
   "language": "python"
  }
 },
 "nbformat": 4,
 "nbformat_minor": 2,
 "cells": [
  {
   "cell_type": "code",
   "execution_count": 1,
   "metadata": {},
   "outputs": [],
   "source": [
    "import tensorflow as tf"
   ]
  },
  {
   "cell_type": "code",
   "execution_count": 2,
   "metadata": {},
   "outputs": [],
   "source": [
    "import os\n",
    "import zipfile\n",
    "\n",
    "local_zip = 'tmp/plant.zip'\n",
    "\n",
    "zip_ref = zipfile.ZipFile(local_zip, 'r')\n",
    "\n",
    "zip_ref.extractall('/tmp')\n",
    "zip_ref.close()"
   ]
  },
  {
   "cell_type": "code",
   "execution_count": 3,
   "metadata": {},
   "outputs": [],
   "source": [
    "base_dir = '/tmp/plant'"
   ]
  },
  {
   "cell_type": "code",
   "execution_count": 4,
   "metadata": {},
   "outputs": [],
   "source": [
    "train_dir = os.path.join(base_dir, 'train')\n",
    "validation_dir = os.path.join(base_dir, 'validation')"
   ]
  },
  {
   "cell_type": "code",
   "execution_count": 10,
   "metadata": {},
   "outputs": [],
   "source": [
    "train_tomato_healthy_dir = os.path.join(train_dir, \"Tomato_healthy\")\n",
    "train_tomato_earlyblight_dir = os.path.join(train_dir, 'Tomato_healthy')\n",
    "train_pepper_healthy_dir = os.path.join(train_dir, \"Pepper_healthy\")\n",
    "train_pepper_bacterialspot_dir = os.path.join(train_dir, \"Pepper_baterialspots\")\n"
   ]
  },
  {
   "cell_type": "code",
   "execution_count": 24,
   "metadata": {},
   "outputs": [],
   "source": [
    "validation_tomato_healthy_dir = os.path.join(validation_dir, \"Tomato_healthy\")\n",
    "validation_tomato_earlyblight_dir = os.path.join(validation_dir, 'Tomato_healthy')\n",
    "validation_pepper_healthy_dir = os.path.join(validation_dir, \"Pepper_healthy\")\n",
    "validation_pepper_bacterialspot_dir = os.path.join(validation_dir, \"Pepper_baterialspots\")\n"
   ]
  },
  {
   "cell_type": "code",
   "execution_count": 25,
   "metadata": {},
   "outputs": [],
   "source": [
    "train_tomato_healthy_fnames = os.listdir( train_tomato_healthy_dir )\n",
    "train_tomato_earlyblight_fnames = os.listdir( train_tomato_earlyblight_dir )\n",
    "train_pepper_healthy_fnames = os.listdir( train_pepper_healthy_dir )\n",
    "train_pepper_bacterialspots_fnames = os.listdir( train_pepper_bacterialspot_dir )"
   ]
  },
  {
   "cell_type": "code",
   "execution_count": 26,
   "metadata": {},
   "outputs": [
    {
     "output_type": "stream",
     "name": "stdout",
     "text": [
      "['9e2a71e5-2a59-4e62-9c6c-581fe9091a10___RS_HL 0132.JPG', 'e2991a66-412d-4841-8dc0-524e38338a82___GH_HL Leaf 517.1.JPG', 'a5e54e01-2cd5-482a-bfba-8728ca32473c___GH_HL Leaf 426.JPG', 'e9392a5e-2fac-48c5-a23d-df3aa3f61048___GH_HL Leaf 217.JPG', 'ccfba9c3-41a5-40de-b71a-980bc3336ae7___GH_HL Leaf 522.2.JPG', '87a77f4d-38bd-42dc-bdd3-5f2a1fa95ca7___GH_HL Leaf 469.3.JPG', 'ab1658d8-ef48-4068-b2b5-ce49fb3d06c0___GH_HL Leaf 397.1.JPG', 'd80d474d-1d8a-4381-8960-db93b611b5c8___GH_HL Leaf 390.JPG', 'efe6c986-b85c-40f1-8cb5-345acbb36b71___RS_HL 0579.JPG', 'cdf10741-0ed4-4a27-a2e9-8970e4426730___RS_HL 0356.JPG']\n['9e2a71e5-2a59-4e62-9c6c-581fe9091a10___RS_HL 0132.JPG', 'e2991a66-412d-4841-8dc0-524e38338a82___GH_HL Leaf 517.1.JPG', 'a5e54e01-2cd5-482a-bfba-8728ca32473c___GH_HL Leaf 426.JPG', 'e9392a5e-2fac-48c5-a23d-df3aa3f61048___GH_HL Leaf 217.JPG', 'ccfba9c3-41a5-40de-b71a-980bc3336ae7___GH_HL Leaf 522.2.JPG', '87a77f4d-38bd-42dc-bdd3-5f2a1fa95ca7___GH_HL Leaf 469.3.JPG', 'ab1658d8-ef48-4068-b2b5-ce49fb3d06c0___GH_HL Leaf 397.1.JPG', 'd80d474d-1d8a-4381-8960-db93b611b5c8___GH_HL Leaf 390.JPG', 'efe6c986-b85c-40f1-8cb5-345acbb36b71___RS_HL 0579.JPG', 'cdf10741-0ed4-4a27-a2e9-8970e4426730___RS_HL 0356.JPG']\n['ade83a82-f521-48d3-acde-24d5ad677350___JR_HL 7764.JPG', 'f4b1affb-3b72-44b5-890c-e7d45ab612b3___JR_HL 8825.JPG', '4b7612c8-8f1c-4cdf-a4bb-2a9d266daa91___JR_HL 8852.JPG', 'b7103e2b-ef67-441b-b462-be6f0513dee0___JR_HL 8452.JPG', '9915883a-fcc4-457a-bcc3-404fd25ba386___JR_HL 7605.JPG', 'c0ecb719-fde8-4003-98bd-b82c6162a5b2___JR_HL 8893.JPG', '570d3d5f-0991-4cd0-9c6b-d9f30250891e___JR_HL 8165.JPG', '1d6e01ff-affd-4867-895d-fb82b6b0dce3___JR_HL 7952.JPG', '322bea7e-a6c3-4c86-99f5-76c2225243cc___JR_HL 5929.JPG', '7da6a94b-14ac-4fd8-9a26-33be1c09d411___JR_HL 8789.JPG']\n['47fbd17d-c078-4465-8816-c675abd9c850___JR_B.Spot 3185.JPG', '42ef264d-f255-4674-885a-0921a0e7f649___JR_B.Spot 9022.JPG', '435993b8-c7f7-47fd-85ad-bdb04ab3e8bb___JR_B.Spot 8976.JPG', '1fca0f2b-857b-4cef-9218-42b1bdd92d00___JR_B.Spot 8969.JPG', '9cee73cb-272f-4121-b82d-c8c2b3ca71a0___NREC_B.Spot 1813.JPG', '816dee9f-b43f-42da-b0c9-3fb8b29d511d___NREC_B.Spot 9182.JPG', '1694ae00-3c5f-488c-9402-e65c70c73cf2___JR_B.Spot 3179.JPG', '9f36da2c-ab51-4fff-b394-ad22b15508eb___JR_B.Spot 9032.JPG', 'c66fe682-9e42-4343-a4d4-add4d6244859___NREC_B.Spot 9131.JPG', 'b21d5a06-eab3-47a9-86d1-70295f8f8848___NREC_B.Spot 1940.JPG']\n"
     ]
    }
   ],
   "source": [
    "print(train_tomato_healthy_fnames[:10])\n",
    "print(train_tomato_earlyblight_fnames[:10])\n",
    "print(train_pepper_healthy_fnames[:10])\n",
    "print(train_pepper_bacterialspots_fnames[:10])"
   ]
  },
  {
   "cell_type": "code",
   "execution_count": 27,
   "metadata": {},
   "outputs": [
    {
     "output_type": "stream",
     "name": "stdout",
     "text": [
      "total training healthy tomato images : 1591\ntotal training infected tomato with early blight images : 1591\ntotal training healthy pepper images : 1479\ntotal training infected pepper with bacterial spots images : 997\n"
     ]
    }
   ],
   "source": [
    "print('total training healthy tomato images :', len(os.listdir(train_tomato_healthy_dir ) ))\n",
    "print('total training infected tomato with early blight images :', len(os.listdir( train_tomato_earlyblight_dir ) ))\n",
    "print('total training healthy pepper images :', len(os.listdir( train_pepper_healthy_dir ) ))\n",
    "print('total training infected pepper with bacterial spots images :', len(os.listdir( train_pepper_bacterialspot_dir ) ))"
   ]
  },
  {
   "cell_type": "code",
   "execution_count": 28,
   "metadata": {},
   "outputs": [
    {
     "output_type": "stream",
     "name": "stdout",
     "text": [
      "total training healthy tomato images : 1592\ntotal training infected tomato with early blight images : 1592\ntotal training healthy pepper images : 1479\ntotal training infected pepper with bacterial spots images : 998\n"
     ]
    }
   ],
   "source": [
    "print('total training healthy tomato images :', len(os.listdir(validation_tomato_healthy_dir ) ))\n",
    "print('total training infected tomato with early blight images :', len(os.listdir( validation_tomato_earlyblight_dir ) ))\n",
    "print('total training healthy pepper images :', len(os.listdir( validation_pepper_healthy_dir ) ))\n",
    "print('total training infected pepper with bacterial spots images :', len(os.listdir( validation_pepper_bacterialspot_dir) ))"
   ]
  },
  {
   "cell_type": "code",
   "execution_count": 29,
   "metadata": {},
   "outputs": [],
   "source": [
    "from tensorflow import keras"
   ]
  },
  {
   "cell_type": "code",
   "execution_count": 85,
   "metadata": {},
   "outputs": [],
   "source": [
    "model=keras.models.Sequential([\n",
    "keras.layers.Conv2D(16,(3,3),activation='relu',input_shape=(256,256,3)),\n",
    "keras.layers.MaxPooling2D(2,2),\n",
    "keras.layers.Conv2D(32,(3,3)),\n",
    "keras.layers.MaxPooling2D(2,2),\n",
    "keras.layers.Conv2D(64,(3,3)),\n",
    "keras.layers.MaxPooling2D(2,2),\n",
    "keras.layers.Flatten(),\n",
    "keras.layers.Dense(units=512,activation='relu'),\n",
    "keras.layers.Dense(units=4,activation='softmax')])"
   ]
  },
  {
   "cell_type": "code",
   "execution_count": 86,
   "metadata": {},
   "outputs": [
    {
     "output_type": "stream",
     "name": "stdout",
     "text": [
      "Model: \"sequential_9\"\n_________________________________________________________________\nLayer (type)                 Output Shape              Param #   \n=================================================================\nconv2d_25 (Conv2D)           (None, 254, 254, 16)      448       \n_________________________________________________________________\nmax_pooling2d_18 (MaxPooling (None, 127, 127, 16)      0         \n_________________________________________________________________\nconv2d_26 (Conv2D)           (None, 125, 125, 32)      4640      \n_________________________________________________________________\nmax_pooling2d_19 (MaxPooling (None, 62, 62, 32)        0         \n_________________________________________________________________\nconv2d_27 (Conv2D)           (None, 60, 60, 64)        18496     \n_________________________________________________________________\nmax_pooling2d_20 (MaxPooling (None, 30, 30, 64)        0         \n_________________________________________________________________\nflatten_6 (Flatten)          (None, 57600)             0         \n_________________________________________________________________\ndense_11 (Dense)             (None, 512)               29491712  \n_________________________________________________________________\ndense_12 (Dense)             (None, 4)                 2052      \n=================================================================\nTotal params: 29,517,348\nTrainable params: 29,517,348\nNon-trainable params: 0\n_________________________________________________________________\n"
     ]
    }
   ],
   "source": [
    "model.summary()"
   ]
  },
  {
   "cell_type": "code",
   "execution_count": 87,
   "metadata": {},
   "outputs": [],
   "source": [
    "from tensorflow.keras.optimizers import RMSprop\n",
    "model.compile(optimizer=RMSprop(lr=0.001),loss=\"categorical_crossentropy\",metrics=['accuracy'])"
   ]
  },
  {
   "cell_type": "code",
   "execution_count": 88,
   "metadata": {},
   "outputs": [],
   "source": [
    "from tensorflow.keras.preprocessing.image import ImageDataGenerator"
   ]
  },
  {
   "cell_type": "code",
   "execution_count": 89,
   "metadata": {},
   "outputs": [],
   "source": [
    "train_datagen = ImageDataGenerator(rescale=1.0/255, rotation_range=0.4,\n",
    "    zoom_range=0.2,\n",
    "    width_shift_range=0.2,\n",
    "    height_shift_range=0.2,\n",
    "    shear_range=0.2,\n",
    "    horizontal_flip=True\n",
    ")\n",
    "test_datagen = ImageDataGenerator(rescale=1.0/255)"
   ]
  },
  {
   "cell_type": "code",
   "execution_count": 90,
   "metadata": {},
   "outputs": [
    {
     "output_type": "stream",
     "name": "stdout",
     "text": [
      "Found 5066 images belonging to 4 classes.\n"
     ]
    }
   ],
   "source": [
    "train_generator = train_datagen.flow_from_directory(\n",
    "    train_dir,\n",
    "    batch_size=20,\n",
    "    shuffle=True,\n",
    "    class_mode='categorical',\n",
    "    target_size=(256,256))"
   ]
  },
  {
   "cell_type": "code",
   "execution_count": 91,
   "metadata": {},
   "outputs": [
    {
     "output_type": "stream",
     "name": "stdout",
     "text": [
      "Found 5066 images belonging to 4 classes.\n"
     ]
    }
   ],
   "source": [
    "validation_generator= test_datagen.flow_from_directory(\n",
    "    validation_dir,\n",
    "    batch_size=20,\n",
    "    class_mode='categorical',\n",
    "    shuffle=False,\n",
    "    target_size=(256,256)\n",
    ")"
   ]
  },
  {
   "cell_type": "code",
   "execution_count": 92,
   "metadata": {},
   "outputs": [
    {
     "output_type": "stream",
     "name": "stdout",
     "text": [
      "Epoch 1/10\n",
      "100/100 - 79s - loss: 3.0413 - accuracy: 0.5292 - val_loss: 3.6267 - val_accuracy: 0.0070\n",
      "Epoch 2/10\n",
      "100/100 - 91s - loss: 0.9896 - accuracy: 0.6390 - val_loss: 0.7090 - val_accuracy: 0.6810\n",
      "Epoch 3/10\n",
      "100/100 - 84s - loss: 0.7036 - accuracy: 0.7523 - val_loss: 1.3517 - val_accuracy: 0.4300\n",
      "Epoch 4/10\n",
      "100/100 - 83s - loss: 0.7030 - accuracy: 0.7563 - val_loss: 0.3038 - val_accuracy: 0.9200\n",
      "Epoch 5/10\n",
      "100/100 - 88s - loss: 0.6474 - accuracy: 0.7885 - val_loss: 0.1874 - val_accuracy: 0.9460\n",
      "Epoch 6/10\n",
      "100/100 - 85s - loss: 0.4789 - accuracy: 0.8200 - val_loss: 0.8189 - val_accuracy: 0.7060\n",
      "Epoch 7/10\n",
      "100/100 - 87s - loss: 0.5063 - accuracy: 0.8150 - val_loss: 0.4556 - val_accuracy: 0.8090\n",
      "Epoch 8/10\n",
      "100/100 - 87s - loss: 0.4638 - accuracy: 0.8405 - val_loss: 0.5190 - val_accuracy: 0.8370\n",
      "Epoch 9/10\n",
      "100/100 - 88s - loss: 0.3944 - accuracy: 0.8605 - val_loss: 0.3392 - val_accuracy: 0.8880\n",
      "Epoch 10/10\n",
      "100/100 - 93s - loss: 0.4190 - accuracy: 0.8656 - val_loss: 0.2354 - val_accuracy: 0.9200\n"
     ]
    }
   ],
   "source": [
    "history = model.fit_generator(\n",
    "    train_generator,\n",
    "    validation_data=validation_generator,\n",
    "    epochs=10,\n",
    "    steps_per_epoch=100,\n",
    "    validation_steps=50,\n",
    "    verbose=2\n",
    ")"
   ]
  },
  {
   "cell_type": "code",
   "execution_count": 93,
   "metadata": {},
   "outputs": [
    {
     "output_type": "stream",
     "name": "stdout",
     "text": [
      "Model Trained successfully\n"
     ]
    }
   ],
   "source": [
    "print(\"Model Trained successfully\")"
   ]
  },
  {
   "cell_type": "code",
   "execution_count": 94,
   "metadata": {},
   "outputs": [],
   "source": [
    "model.save('plant5.hdf5')"
   ]
  },
  {
   "cell_type": "code",
   "execution_count": null,
   "metadata": {},
   "outputs": [],
   "source": []
  }
 ]
}