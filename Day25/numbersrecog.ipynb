{
 "metadata": {
  "orig_nbformat": 2,
  "kernelspec": {
   "name": "tensorflow",
   "display_name": "Python 3.7 (tensorflow)",
   "language": "python"
  }
 },
 "nbformat": 4,
 "nbformat_minor": 2,
 "cells": [
  {
   "cell_type": "code",
   "execution_count": 1,
   "metadata": {},
   "outputs": [],
   "source": [
    "import tensorflow as tf\n",
    "from tensorflow import keras"
   ]
  },
  {
   "cell_type": "code",
   "execution_count": 2,
   "metadata": {},
   "outputs": [],
   "source": [
    "mnist = keras.datasets.mnist"
   ]
  },
  {
   "cell_type": "code",
   "execution_count": 3,
   "metadata": {},
   "outputs": [],
   "source": [
    "(x_train,y_train),(x_test,y_test) = mnist.load_data()"
   ]
  },
  {
   "cell_type": "code",
   "execution_count": 4,
   "metadata": {},
   "outputs": [],
   "source": [
    "x_train = keras.utils.normalize(x_train,axis=1)\n",
    "x_test =  keras.utils.normalize(x_test,axis=1)"
   ]
  },
  {
   "cell_type": "code",
   "execution_count": 5,
   "metadata": {},
   "outputs": [],
   "source": [
    "model = keras.models.Sequential([keras.layers.Flatten(),\n",
    "keras.layers.Dense(units=128, activation='relu'),\n",
    "keras.layers.Dense(units=128, activation='relu'),\n",
    "keras.layers.Dense(units=10,activation='softmax')])"
   ]
  },
  {
   "cell_type": "code",
   "execution_count": 6,
   "metadata": {},
   "outputs": [],
   "source": [
    "model.compile(optimizer='adam',loss=\"sparse_categorical_crossentropy\",metrics=['accuracy'])"
   ]
  },
  {
   "cell_type": "code",
   "execution_count": 7,
   "metadata": {},
   "outputs": [
    {
     "output_type": "stream",
     "name": "stdout",
     "text": [
      "Epoch 1/5\n",
      "1875/1875 [==============================] - 2s 860us/step - loss: 0.2624 - accuracy: 0.9218\n",
      "Epoch 2/5\n",
      "1875/1875 [==============================] - 2s 834us/step - loss: 0.1080 - accuracy: 0.9665\n",
      "Epoch 3/5\n",
      "1875/1875 [==============================] - 2s 847us/step - loss: 0.0727 - accuracy: 0.9772\n",
      "Epoch 4/5\n",
      "1875/1875 [==============================] - 2s 834us/step - loss: 0.0539 - accuracy: 0.9827\n",
      "Epoch 5/5\n",
      "1875/1875 [==============================] - 2s 843us/step - loss: 0.0421 - accuracy: 0.9861\n"
     ]
    },
    {
     "output_type": "execute_result",
     "data": {
      "text/plain": [
       "<tensorflow.python.keras.callbacks.History at 0x7fe320b5fd10>"
      ]
     },
     "metadata": {},
     "execution_count": 7
    }
   ],
   "source": [
    "model.fit(x_train,y_train,epochs=5)"
   ]
  },
  {
   "cell_type": "code",
   "execution_count": 9,
   "metadata": {},
   "outputs": [
    {
     "output_type": "stream",
     "name": "stdout",
     "text": [
      "313/313 [==============================] - 0s 592us/step - loss: 0.0925 - accuracy: 0.9731\n"
     ]
    }
   ],
   "source": [
    "loss,accuracy=model.evaluate(x_test,y_test)"
   ]
  },
  {
   "cell_type": "code",
   "execution_count": 10,
   "metadata": {},
   "outputs": [],
   "source": [
    "model.save('digits.hdf5')"
   ]
  },
  {
   "cell_type": "code",
   "execution_count": null,
   "metadata": {},
   "outputs": [],
   "source": []
  }
 ]
}