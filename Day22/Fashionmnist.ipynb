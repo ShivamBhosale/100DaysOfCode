{
 "metadata": {
  "orig_nbformat": 2,
  "kernelspec": {
   "name": "tensorflow",
   "display_name": "Python 3.7 (tensorflow)",
   "language": "python"
  }
 },
 "nbformat": 4,
 "nbformat_minor": 2,
 "cells": [
  {
   "cell_type": "code",
   "execution_count": 1,
   "metadata": {},
   "outputs": [],
   "source": [
    "import tensorflow as tf\n",
    "import numpy as np\n",
    "from tensorflow import keras"
   ]
  },
  {
   "cell_type": "code",
   "execution_count": 2,
   "metadata": {},
   "outputs": [],
   "source": [
    "mnist = tf.keras.datasets.fashion_mnist"
   ]
  },
  {
   "cell_type": "code",
   "execution_count": 3,
   "metadata": {},
   "outputs": [],
   "source": [
    "(training_images,training_labels),(testing_images,testing_labels)=mnist.load_data()"
   ]
  },
  {
   "cell_type": "code",
   "execution_count": 7,
   "metadata": {},
   "outputs": [
    {
     "output_type": "stream",
     "name": "stdout",
     "text": [
      "[[  0   0   0   0   0   1   0   0   0   0  41 188 103  54  48  43  87 168\n  133  16   0   0   0   0   0   0   0   0]\n [  0   0   0   1   0   0   0  49 136 219 216 228 236 255 255 255 255 217\n  215 254 231 160  45   0   0   0   0   0]\n [  0   0   0   0   0  14 176 222 224 212 203 198 196 200 215 204 202 201\n  201 201 209 218 224 164   0   0   0   0]\n [  0   0   0   0   0 188 219 200 198 202 198 199 199 201 196 198 198 200\n  200 200 200 201 200 225  41   0   0   0]\n [  0   0   0   0  51 219 199 203 203 212 238 248 250 245 249 246 247 252\n  248 235 207 203 203 222 140   0   0   0]\n [  0   0   0   0 116 226 206 204 207 204 101  75  47  73  48  50  45  51\n   63 113 222 202 206 220 224   0   0   0]\n [  0   0   0   0 200 222 209 203 215 200   0  70  98   0 103  59  68  71\n   49   0 219 206 214 210 250  38   0   0]\n [  0   0   0   0 247 218 212 210 215 214   0 254 243 139 255 174 251 255\n  205   0 215 217 214 208 220  95   0   0]\n [  0   0   0  45 226 214 214 215 224 205   0  42  35  60  16  17  12  13\n   70   0 189 216 212 206 212 156   0   0]\n [  0   0   0 164 235 214 211 220 216 201  52  71  89  94  83  78  70  76\n   92  87 206 207 222 213 219 208   0   0]\n [  0   0   0 106 187 223 237 248 211 198 252 250 248 245 248 252 253 250\n  252 239 201 212 225 215 193 113   0   0]\n [  0   0   0   0   0  17  54 159 222 193 208 192 197 200 200 200 200 201\n  203 195 210 165   0   0   0   0   0   0]\n [  0   0   0   0   0   0   0  47 225 192 214 203 206 204 204 205 206 204\n  212 197 218 107   0   0   0   0   0   0]\n [  0   0   0   0   1   6   0  46 212 195 212 202 206 205 204 205 206 204\n  212 200 218  91   0   3   1   0   0   0]\n [  0   0   0   0   0   1   0  11 197 199 205 202 205 206 204 205 207 204\n  205 205 218  77   0   5   0   0   0   0]\n [  0   0   0   0   0   3   0   2 191 198 201 205 206 205 205 206 209 206\n  199 209 219  74   0   5   0   0   0   0]\n [  0   0   0   0   0   2   0   0 188 197 200 207 207 204 207 207 210 208\n  198 207 221  72   0   4   0   0   0   0]\n [  0   0   0   0   0   2   0   0 215 198 203 206 208 205 207 207 210 208\n  200 202 222  75   0   4   0   0   0   0]\n [  0   0   0   0   0   1   0   0 212 198 209 206 209 206 208 207 211 206\n  205 198 221  80   0   3   0   0   0   0]\n [  0   0   0   0   0   1   0   0 204 201 205 208 207 205 211 205 210 210\n  209 195 221  96   0   3   0   0   0   0]\n [  0   0   0   0   0   1   0   0 202 201 205 209 207 205 213 206 210 209\n  210 194 217 105   0   2   0   0   0   0]\n [  0   0   0   0   0   1   0   0 204 204 205 208 207 205 215 207 210 208\n  211 193 213 115   0   2   0   0   0   0]\n [  0   0   0   0   0   0   0   0 204 207 207 208 206 206 215 210 210 207\n  212 195 210 118   0   2   0   0   0   0]\n [  0   0   0   0   0   1   0   0 198 208 208 208 204 207 212 212 210 207\n  211 196 207 121   0   1   0   0   0   0]\n [  0   0   0   0   0   1   0   0 198 210 207 208 206 209 213 212 211 207\n  210 197 207 124   0   1   0   0   0   0]\n [  0   0   0   0   0   0   0   0 172 210 203 201 199 204 207 205 204 201\n  205 197 206 127   0   0   0   0   0   0]\n [  0   0   0   0   0   0   0   0 188 221 214 234 236 238 244 244 244 240\n  243 214 224 162   0   2   0   0   0   0]\n [  0   0   0   0   0   1   0   0 139 146 130 135 135 137 125 124 125 121\n  119 114 130  76   0   0   0   0   0   0]]\n0\n"
     ]
    },
    {
     "output_type": "display_data",
     "data": {
      "text/plain": "<Figure size 432x288 with 1 Axes>",
      "image/svg+xml": "<?xml version=\"1.0\" encoding=\"utf-8\" standalone=\"no\"?>\n<!DOCTYPE svg PUBLIC \"-//W3C//DTD SVG 1.1//EN\"\n  \"http://www.w3.org/Graphics/SVG/1.1/DTD/svg11.dtd\">\n<!-- Created with matplotlib (https://matplotlib.org/) -->\n<svg height=\"248.518125pt\" version=\"1.1\" viewBox=\"0 0 251.565 248.518125\" width=\"251.565pt\" xmlns=\"http://www.w3.org/2000/svg\" xmlns:xlink=\"http://www.w3.org/1999/xlink\">\n <metadata>\n  <rdf:RDF xmlns:cc=\"http://creativecommons.org/ns#\" xmlns:dc=\"http://purl.org/dc/elements/1.1/\" xmlns:rdf=\"http://www.w3.org/1999/02/22-rdf-syntax-ns#\">\n   <cc:Work>\n    <dc:type rdf:resource=\"http://purl.org/dc/dcmitype/StillImage\"/>\n    <dc:date>2021-01-09T16:19:27.634617</dc:date>\n    <dc:format>image/svg+xml</dc:format>\n    <dc:creator>\n     <cc:Agent>\n      <dc:title>Matplotlib v3.3.1, https://matplotlib.org/</dc:title>\n     </cc:Agent>\n    </dc:creator>\n   </cc:Work>\n  </rdf:RDF>\n </metadata>\n <defs>\n  <style type=\"text/css\">*{stroke-linecap:butt;stroke-linejoin:round;}</style>\n </defs>\n <g id=\"figure_1\">\n  <g id=\"patch_1\">\n   <path d=\"M 0 248.518125 \nL 251.565 248.518125 \nL 251.565 0 \nL 0 0 \nz\n\" style=\"fill:none;\"/>\n  </g>\n  <g id=\"axes_1\">\n   <g id=\"patch_2\">\n    <path d=\"M 26.925 224.64 \nL 244.365 224.64 \nL 244.365 7.2 \nL 26.925 7.2 \nz\n\" style=\"fill:#ffffff;\"/>\n   </g>\n   <g clip-path=\"url(#pba30d8de24)\">\n    <image height=\"218\" id=\"image705d1f590e\" transform=\"scale(1 -1)translate(0 -218)\" width=\"218\" x=\"26.925\" xlink:href=\"data:image/png;base64,\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\" y=\"-6.64\"/>\n   </g>\n   <g id=\"matplotlib.axis_1\">\n    <g id=\"xtick_1\">\n     <g id=\"line2d_1\">\n      <defs>\n       <path d=\"M 0 0 \nL 0 3.5 \n\" id=\"m830e89437d\" style=\"stroke:#000000;stroke-width:0.8;\"/>\n      </defs>\n      <g>\n       <use style=\"stroke:#000000;stroke-width:0.8;\" x=\"30.807857\" xlink:href=\"#m830e89437d\" y=\"224.64\"/>\n      </g>\n     </g>\n     <g id=\"text_1\">\n      <!-- 0 -->\n      <g transform=\"translate(27.626607 239.238437)scale(0.1 -0.1)\">\n       <defs>\n        <path d=\"M 31.78125 66.40625 \nQ 24.171875 66.40625 20.328125 58.90625 \nQ 16.5 51.421875 16.5 36.375 \nQ 16.5 21.390625 20.328125 13.890625 \nQ 24.171875 6.390625 31.78125 6.390625 \nQ 39.453125 6.390625 43.28125 13.890625 \nQ 47.125 21.390625 47.125 36.375 \nQ 47.125 51.421875 43.28125 58.90625 \nQ 39.453125 66.40625 31.78125 66.40625 \nz\nM 31.78125 74.21875 \nQ 44.046875 74.21875 50.515625 64.515625 \nQ 56.984375 54.828125 56.984375 36.375 \nQ 56.984375 17.96875 50.515625 8.265625 \nQ 44.046875 -1.421875 31.78125 -1.421875 \nQ 19.53125 -1.421875 13.0625 8.265625 \nQ 6.59375 17.96875 6.59375 36.375 \nQ 6.59375 54.828125 13.0625 64.515625 \nQ 19.53125 74.21875 31.78125 74.21875 \nz\n\" id=\"DejaVuSans-48\"/>\n       </defs>\n       <use xlink:href=\"#DejaVuSans-48\"/>\n      </g>\n     </g>\n    </g>\n    <g id=\"xtick_2\">\n     <g id=\"line2d_2\">\n      <g>\n       <use style=\"stroke:#000000;stroke-width:0.8;\" x=\"69.636429\" xlink:href=\"#m830e89437d\" y=\"224.64\"/>\n      </g>\n     </g>\n     <g id=\"text_2\">\n      <!-- 5 -->\n      <g transform=\"translate(66.455179 239.238437)scale(0.1 -0.1)\">\n       <defs>\n        <path d=\"M 10.796875 72.90625 \nL 49.515625 72.90625 \nL 49.515625 64.59375 \nL 19.828125 64.59375 \nL 19.828125 46.734375 \nQ 21.96875 47.46875 24.109375 47.828125 \nQ 26.265625 48.1875 28.421875 48.1875 \nQ 40.625 48.1875 47.75 41.5 \nQ 54.890625 34.8125 54.890625 23.390625 \nQ 54.890625 11.625 47.5625 5.09375 \nQ 40.234375 -1.421875 26.90625 -1.421875 \nQ 22.3125 -1.421875 17.546875 -0.640625 \nQ 12.796875 0.140625 7.71875 1.703125 \nL 7.71875 11.625 \nQ 12.109375 9.234375 16.796875 8.0625 \nQ 21.484375 6.890625 26.703125 6.890625 \nQ 35.15625 6.890625 40.078125 11.328125 \nQ 45.015625 15.765625 45.015625 23.390625 \nQ 45.015625 31 40.078125 35.4375 \nQ 35.15625 39.890625 26.703125 39.890625 \nQ 22.75 39.890625 18.8125 39.015625 \nQ 14.890625 38.140625 10.796875 36.28125 \nz\n\" id=\"DejaVuSans-53\"/>\n       </defs>\n       <use xlink:href=\"#DejaVuSans-53\"/>\n      </g>\n     </g>\n    </g>\n    <g id=\"xtick_3\">\n     <g id=\"line2d_3\">\n      <g>\n       <use style=\"stroke:#000000;stroke-width:0.8;\" x=\"108.465\" xlink:href=\"#m830e89437d\" y=\"224.64\"/>\n      </g>\n     </g>\n     <g id=\"text_3\">\n      <!-- 10 -->\n      <g transform=\"translate(102.1025 239.238437)scale(0.1 -0.1)\">\n       <defs>\n        <path d=\"M 12.40625 8.296875 \nL 28.515625 8.296875 \nL 28.515625 63.921875 \nL 10.984375 60.40625 \nL 10.984375 69.390625 \nL 28.421875 72.90625 \nL 38.28125 72.90625 \nL 38.28125 8.296875 \nL 54.390625 8.296875 \nL 54.390625 0 \nL 12.40625 0 \nz\n\" id=\"DejaVuSans-49\"/>\n       </defs>\n       <use xlink:href=\"#DejaVuSans-49\"/>\n       <use x=\"63.623047\" xlink:href=\"#DejaVuSans-48\"/>\n      </g>\n     </g>\n    </g>\n    <g id=\"xtick_4\">\n     <g id=\"line2d_4\">\n      <g>\n       <use style=\"stroke:#000000;stroke-width:0.8;\" x=\"147.293571\" xlink:href=\"#m830e89437d\" y=\"224.64\"/>\n      </g>\n     </g>\n     <g id=\"text_4\">\n      <!-- 15 -->\n      <g transform=\"translate(140.931071 239.238437)scale(0.1 -0.1)\">\n       <use xlink:href=\"#DejaVuSans-49\"/>\n       <use x=\"63.623047\" xlink:href=\"#DejaVuSans-53\"/>\n      </g>\n     </g>\n    </g>\n    <g id=\"xtick_5\">\n     <g id=\"line2d_5\">\n      <g>\n       <use style=\"stroke:#000000;stroke-width:0.8;\" x=\"186.122143\" xlink:href=\"#m830e89437d\" y=\"224.64\"/>\n      </g>\n     </g>\n     <g id=\"text_5\">\n      <!-- 20 -->\n      <g transform=\"translate(179.759643 239.238437)scale(0.1 -0.1)\">\n       <defs>\n        <path d=\"M 19.1875 8.296875 \nL 53.609375 8.296875 \nL 53.609375 0 \nL 7.328125 0 \nL 7.328125 8.296875 \nQ 12.9375 14.109375 22.625 23.890625 \nQ 32.328125 33.6875 34.8125 36.53125 \nQ 39.546875 41.84375 41.421875 45.53125 \nQ 43.3125 49.21875 43.3125 52.78125 \nQ 43.3125 58.59375 39.234375 62.25 \nQ 35.15625 65.921875 28.609375 65.921875 \nQ 23.96875 65.921875 18.8125 64.3125 \nQ 13.671875 62.703125 7.8125 59.421875 \nL 7.8125 69.390625 \nQ 13.765625 71.78125 18.9375 73 \nQ 24.125 74.21875 28.421875 74.21875 \nQ 39.75 74.21875 46.484375 68.546875 \nQ 53.21875 62.890625 53.21875 53.421875 \nQ 53.21875 48.921875 51.53125 44.890625 \nQ 49.859375 40.875 45.40625 35.40625 \nQ 44.1875 33.984375 37.640625 27.21875 \nQ 31.109375 20.453125 19.1875 8.296875 \nz\n\" id=\"DejaVuSans-50\"/>\n       </defs>\n       <use xlink:href=\"#DejaVuSans-50\"/>\n       <use x=\"63.623047\" xlink:href=\"#DejaVuSans-48\"/>\n      </g>\n     </g>\n    </g>\n    <g id=\"xtick_6\">\n     <g id=\"line2d_6\">\n      <g>\n       <use style=\"stroke:#000000;stroke-width:0.8;\" x=\"224.950714\" xlink:href=\"#m830e89437d\" y=\"224.64\"/>\n      </g>\n     </g>\n     <g id=\"text_6\">\n      <!-- 25 -->\n      <g transform=\"translate(218.588214 239.238437)scale(0.1 -0.1)\">\n       <use xlink:href=\"#DejaVuSans-50\"/>\n       <use x=\"63.623047\" xlink:href=\"#DejaVuSans-53\"/>\n      </g>\n     </g>\n    </g>\n   </g>\n   <g id=\"matplotlib.axis_2\">\n    <g id=\"ytick_1\">\n     <g id=\"line2d_7\">\n      <defs>\n       <path d=\"M 0 0 \nL -3.5 0 \n\" id=\"m406a2277eb\" style=\"stroke:#000000;stroke-width:0.8;\"/>\n      </defs>\n      <g>\n       <use style=\"stroke:#000000;stroke-width:0.8;\" x=\"26.925\" xlink:href=\"#m406a2277eb\" y=\"11.082857\"/>\n      </g>\n     </g>\n     <g id=\"text_7\">\n      <!-- 0 -->\n      <g transform=\"translate(13.5625 14.882076)scale(0.1 -0.1)\">\n       <use xlink:href=\"#DejaVuSans-48\"/>\n      </g>\n     </g>\n    </g>\n    <g id=\"ytick_2\">\n     <g id=\"line2d_8\">\n      <g>\n       <use style=\"stroke:#000000;stroke-width:0.8;\" x=\"26.925\" xlink:href=\"#m406a2277eb\" y=\"49.911429\"/>\n      </g>\n     </g>\n     <g id=\"text_8\">\n      <!-- 5 -->\n      <g transform=\"translate(13.5625 53.710647)scale(0.1 -0.1)\">\n       <use xlink:href=\"#DejaVuSans-53\"/>\n      </g>\n     </g>\n    </g>\n    <g id=\"ytick_3\">\n     <g id=\"line2d_9\">\n      <g>\n       <use style=\"stroke:#000000;stroke-width:0.8;\" x=\"26.925\" xlink:href=\"#m406a2277eb\" y=\"88.74\"/>\n      </g>\n     </g>\n     <g id=\"text_9\">\n      <!-- 10 -->\n      <g transform=\"translate(7.2 92.539219)scale(0.1 -0.1)\">\n       <use xlink:href=\"#DejaVuSans-49\"/>\n       <use x=\"63.623047\" xlink:href=\"#DejaVuSans-48\"/>\n      </g>\n     </g>\n    </g>\n    <g id=\"ytick_4\">\n     <g id=\"line2d_10\">\n      <g>\n       <use style=\"stroke:#000000;stroke-width:0.8;\" x=\"26.925\" xlink:href=\"#m406a2277eb\" y=\"127.568571\"/>\n      </g>\n     </g>\n     <g id=\"text_10\">\n      <!-- 15 -->\n      <g transform=\"translate(7.2 131.36779)scale(0.1 -0.1)\">\n       <use xlink:href=\"#DejaVuSans-49\"/>\n       <use x=\"63.623047\" xlink:href=\"#DejaVuSans-53\"/>\n      </g>\n     </g>\n    </g>\n    <g id=\"ytick_5\">\n     <g id=\"line2d_11\">\n      <g>\n       <use style=\"stroke:#000000;stroke-width:0.8;\" x=\"26.925\" xlink:href=\"#m406a2277eb\" y=\"166.397143\"/>\n      </g>\n     </g>\n     <g id=\"text_11\">\n      <!-- 20 -->\n      <g transform=\"translate(7.2 170.196362)scale(0.1 -0.1)\">\n       <use xlink:href=\"#DejaVuSans-50\"/>\n       <use x=\"63.623047\" xlink:href=\"#DejaVuSans-48\"/>\n      </g>\n     </g>\n    </g>\n    <g id=\"ytick_6\">\n     <g id=\"line2d_12\">\n      <g>\n       <use style=\"stroke:#000000;stroke-width:0.8;\" x=\"26.925\" xlink:href=\"#m406a2277eb\" y=\"205.225714\"/>\n      </g>\n     </g>\n     <g id=\"text_12\">\n      <!-- 25 -->\n      <g transform=\"translate(7.2 209.024933)scale(0.1 -0.1)\">\n       <use xlink:href=\"#DejaVuSans-50\"/>\n       <use x=\"63.623047\" xlink:href=\"#DejaVuSans-53\"/>\n      </g>\n     </g>\n    </g>\n   </g>\n   <g id=\"patch_3\">\n    <path d=\"M 26.925 224.64 \nL 26.925 7.2 \n\" style=\"fill:none;stroke:#000000;stroke-linecap:square;stroke-linejoin:miter;stroke-width:0.8;\"/>\n   </g>\n   <g id=\"patch_4\">\n    <path d=\"M 244.365 224.64 \nL 244.365 7.2 \n\" style=\"fill:none;stroke:#000000;stroke-linecap:square;stroke-linejoin:miter;stroke-width:0.8;\"/>\n   </g>\n   <g id=\"patch_5\">\n    <path d=\"M 26.925 224.64 \nL 244.365 224.64 \n\" style=\"fill:none;stroke:#000000;stroke-linecap:square;stroke-linejoin:miter;stroke-width:0.8;\"/>\n   </g>\n   <g id=\"patch_6\">\n    <path d=\"M 26.925 7.2 \nL 244.365 7.2 \n\" style=\"fill:none;stroke:#000000;stroke-linecap:square;stroke-linejoin:miter;stroke-width:0.8;\"/>\n   </g>\n  </g>\n </g>\n <defs>\n  <clipPath id=\"pba30d8de24\">\n   <rect height=\"217.44\" width=\"217.44\" x=\"26.925\" y=\"7.2\"/>\n  </clipPath>\n </defs>\n</svg>\n",
      "image/png": "[encoded data removed]"
     },
     "metadata": {
      "needs_background": "light"
     }
    }
   ],
   "source": [
    "import matplotlib.pyplot as plt\n",
    "plt.imshow(training_images[1])\n",
    "print(training_images[1])\n",
    "print(training_labels[1])"
   ]
  },
  {
   "cell_type": "code",
   "execution_count": 8,
   "metadata": {},
   "outputs": [],
   "source": [
    "training_images=training_images/255.0"
   ]
  },
  {
   "cell_type": "code",
   "execution_count": 9,
   "metadata": {},
   "outputs": [],
   "source": [
    "testing_images=testing_images/255.0"
   ]
  },
  {
   "cell_type": "code",
   "execution_count": 12,
   "metadata": {},
   "outputs": [],
   "source": [
    "model=keras.Sequential([keras.layers.Flatten(),\n",
    "keras.layers.Dense(units=512,activation='relu'),\n",
    "keras.layers.Dense(units=10,activation='softmax')])"
   ]
  },
  {
   "cell_type": "code",
   "execution_count": 13,
   "metadata": {},
   "outputs": [],
   "source": [
    "model.compile(optimizer='adam',loss='sparse_categorical_crossentropy')"
   ]
  },
  {
   "cell_type": "code",
   "execution_count": 14,
   "metadata": {},
   "outputs": [
    {
     "output_type": "stream",
     "name": "stdout",
     "text": [
      "Epoch 1/5\n",
      "1875/1875 [==============================] - 2s 1ms/step - loss: 0.4725\n",
      "Epoch 2/5\n",
      "1875/1875 [==============================] - 2s 1ms/step - loss: 0.3579\n",
      "Epoch 3/5\n",
      "1875/1875 [==============================] - 2s 1ms/step - loss: 0.3197\n",
      "Epoch 4/5\n",
      "1875/1875 [==============================] - 2s 1ms/step - loss: 0.2980\n",
      "Epoch 5/5\n",
      "1875/1875 [==============================] - 2s 1ms/step - loss: 0.2796\n"
     ]
    },
    {
     "output_type": "execute_result",
     "data": {
      "text/plain": [
       "<tensorflow.python.keras.callbacks.History at 0x7fe57af30d10>"
      ]
     },
     "metadata": {},
     "execution_count": 14
    }
   ],
   "source": [
    "model.fit(training_images,training_labels,epochs=5)"
   ]
  },
  {
   "cell_type": "code",
   "execution_count": 15,
   "metadata": {},
   "outputs": [
    {
     "output_type": "stream",
     "name": "stdout",
     "text": [
      "313/313 [==============================] - 0s 757us/step - loss: 0.3520\n"
     ]
    },
    {
     "output_type": "execute_result",
     "data": {
      "text/plain": [
       "0.3520389795303345"
      ]
     },
     "metadata": {},
     "execution_count": 15
    }
   ],
   "source": [
    "model.evaluate(testing_images,testing_labels)"
   ]
  },
  {
   "cell_type": "code",
   "execution_count": 16,
   "metadata": {},
   "outputs": [
    {
     "output_type": "stream",
     "name": "stdout",
     "text": [
      "Model: \"sequential\"\n_________________________________________________________________\nLayer (type)                 Output Shape              Param #   \n=================================================================\nflatten_1 (Flatten)          (None, 784)               0         \n_________________________________________________________________\ndense_1 (Dense)              (None, 512)               401920    \n_________________________________________________________________\ndense_2 (Dense)              (None, 10)                5130      \n=================================================================\nTotal params: 407,050\nTrainable params: 407,050\nNon-trainable params: 0\n_________________________________________________________________\n"
     ]
    }
   ],
   "source": [
    "model.summary()"
   ]
  },
  {
   "cell_type": "code",
   "execution_count": null,
   "metadata": {},
   "outputs": [],
   "source": []
  }
 ]
}