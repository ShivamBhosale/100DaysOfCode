{
 "metadata": {
  "orig_nbformat": 2,
  "kernelspec": {
   "name": "tensorflow",
   "display_name": "Python 3.7 (tensorflow)",
   "language": "python"
  }
 },
 "nbformat": 4,
 "nbformat_minor": 2,
 "cells": [
  {
   "source": [
    "# Stock Price Prediction Using LSTM"
   ],
   "cell_type": "markdown",
   "metadata": {}
  },
  {
   "cell_type": "code",
   "execution_count": 88,
   "metadata": {},
   "outputs": [],
   "source": [
    "import numpy as np\n",
    "import matplotlib.pyplot as plt\n",
    "import pandas as pd\n",
    "import pandas_datareader as web\n",
    "import datetime as dt"
   ]
  },
  {
   "cell_type": "code",
   "execution_count": 89,
   "metadata": {},
   "outputs": [],
   "source": [
    "import tensorflow as tf\n",
    "from sklearn.preprocessing import MinMaxScaler\n",
    "from tensorflow.keras.models import Sequential\n",
    "from tensorflow.keras.layers import Dense, Dropout, LSTM"
   ]
  },
  {
   "cell_type": "code",
   "execution_count": 90,
   "metadata": {},
   "outputs": [],
   "source": [
    "company ='FB'\n",
    "start = dt.datetime(2012,1,1)\n",
    "end = dt.datetime(2020,1,1)"
   ]
  },
  {
   "source": [
    "## Load The Data"
   ],
   "cell_type": "markdown",
   "metadata": {}
  },
  {
   "cell_type": "code",
   "execution_count": 91,
   "metadata": {},
   "outputs": [],
   "source": [
    "data = web.DataReader(company, 'yahoo', start, end)"
   ]
  },
  {
   "cell_type": "code",
   "execution_count": 92,
   "metadata": {},
   "outputs": [
    {
     "output_type": "execute_result",
     "data": {
      "text/plain": [
       "                 High        Low       Open      Close     Volume  Adj Close\n",
       "Date                                                                        \n",
       "2012-05-18  45.000000  38.000000  42.049999  38.230000  573576400  38.230000\n",
       "2012-05-21  36.660000  33.000000  36.529999  34.029999  168192700  34.029999\n",
       "2012-05-22  33.590000  30.940001  32.610001  31.000000  101786600  31.000000\n",
       "2012-05-23  32.500000  31.360001  31.370001  32.000000   73600000  32.000000\n",
       "2012-05-24  33.209999  31.770000  32.950001  33.029999   50237200  33.029999"
      ],
      "text/html": "<div>\n<style scoped>\n    .dataframe tbody tr th:only-of-type {\n        vertical-align: middle;\n    }\n\n    .dataframe tbody tr th {\n        vertical-align: top;\n    }\n\n    .dataframe thead th {\n        text-align: right;\n    }\n</style>\n<table border=\"1\" class=\"dataframe\">\n  <thead>\n    <tr style=\"text-align: right;\">\n      <th></th>\n      <th>High</th>\n      <th>Low</th>\n      <th>Open</th>\n      <th>Close</th>\n      <th>Volume</th>\n      <th>Adj Close</th>\n    </tr>\n    <tr>\n      <th>Date</th>\n      <th></th>\n      <th></th>\n      <th></th>\n      <th></th>\n      <th></th>\n      <th></th>\n    </tr>\n  </thead>\n  <tbody>\n    <tr>\n      <th>2012-05-18</th>\n      <td>45.000000</td>\n      <td>38.000000</td>\n      <td>42.049999</td>\n      <td>38.230000</td>\n      <td>573576400</td>\n      <td>38.230000</td>\n    </tr>\n    <tr>\n      <th>2012-05-21</th>\n      <td>36.660000</td>\n      <td>33.000000</td>\n      <td>36.529999</td>\n      <td>34.029999</td>\n      <td>168192700</td>\n      <td>34.029999</td>\n    </tr>\n    <tr>\n      <th>2012-05-22</th>\n      <td>33.590000</td>\n      <td>30.940001</td>\n      <td>32.610001</td>\n      <td>31.000000</td>\n      <td>101786600</td>\n      <td>31.000000</td>\n    </tr>\n    <tr>\n      <th>2012-05-23</th>\n      <td>32.500000</td>\n      <td>31.360001</td>\n      <td>31.370001</td>\n      <td>32.000000</td>\n      <td>73600000</td>\n      <td>32.000000</td>\n    </tr>\n    <tr>\n      <th>2012-05-24</th>\n      <td>33.209999</td>\n      <td>31.770000</td>\n      <td>32.950001</td>\n      <td>33.029999</td>\n      <td>50237200</td>\n      <td>33.029999</td>\n    </tr>\n  </tbody>\n</table>\n</div>"
     },
     "metadata": {},
     "execution_count": 92
    }
   ],
   "source": [
    "data.head()"
   ]
  },
  {
   "source": [
    "## Prepare The Data"
   ],
   "cell_type": "markdown",
   "metadata": {}
  },
  {
   "cell_type": "code",
   "execution_count": 93,
   "metadata": {},
   "outputs": [],
   "source": [
    "scaler = MinMaxScaler(feature_range=(0,1))\n",
    "scaled_data = scaler.fit_transform(data['Close'].values.reshape(-1,1))"
   ]
  },
  {
   "cell_type": "code",
   "execution_count": 94,
   "metadata": {},
   "outputs": [],
   "source": [
    "prediction_days = 60"
   ]
  },
  {
   "cell_type": "code",
   "execution_count": 95,
   "metadata": {},
   "outputs": [],
   "source": [
    "X_train = []\n",
    "Y_train = []"
   ]
  },
  {
   "cell_type": "code",
   "execution_count": 96,
   "metadata": {},
   "outputs": [],
   "source": [
    "for x in range(prediction_days, len(scaled_data)):\n",
    "    X_train.append(scaled_data[x-prediction_days:x,0])\n",
    "    Y_train.append(scaled_data[x,0])"
   ]
  },
  {
   "cell_type": "code",
   "execution_count": 97,
   "metadata": {},
   "outputs": [],
   "source": [
    "X_train, Y_train = np.array(X_train), np.array(Y_train)"
   ]
  },
  {
   "cell_type": "code",
   "execution_count": 98,
   "metadata": {},
   "outputs": [],
   "source": [
    "X_train = np.reshape(X_train, (X_train.shape[0], X_train.shape[1], 1))"
   ]
  },
  {
   "source": [
    "## Build the Model"
   ],
   "cell_type": "markdown",
   "metadata": {}
  },
  {
   "cell_type": "code",
   "execution_count": 99,
   "metadata": {},
   "outputs": [],
   "source": [
    "model = Sequential()\n",
    "model.add(LSTM(units=50,return_sequences=True, input_shape=(X_train.shape[1],1)))\n",
    "model.add(Dropout(0.2))\n",
    "model.add(LSTM(units=50,return_sequences=True))\n",
    "model.add(Dropout(0.2))\n",
    "model.add(LSTM(units=50,return_sequences=True))\n",
    "model.add(Dropout(0.2))\n",
    "model.add(Dense(units=1))"
   ]
  },
  {
   "cell_type": "code",
   "execution_count": 100,
   "metadata": {},
   "outputs": [],
   "source": [
    "model.compile(optimizer='adam',loss='mean_squared_error')"
   ]
  },
  {
   "cell_type": "code",
   "execution_count": 101,
   "metadata": {},
   "outputs": [
    {
     "output_type": "stream",
     "name": "stdout",
     "text": [
      "Epoch 1/25\n",
      "59/59 [==============================] - 3s 46ms/step - loss: 0.0497\n",
      "Epoch 2/25\n",
      "59/59 [==============================] - 3s 44ms/step - loss: 0.0179\n",
      "Epoch 3/25\n",
      "59/59 [==============================] - 3s 43ms/step - loss: 0.0137\n",
      "Epoch 4/25\n",
      "59/59 [==============================] - 2s 42ms/step - loss: 0.0115\n",
      "Epoch 5/25\n",
      "59/59 [==============================] - 2s 41ms/step - loss: 0.0100\n",
      "Epoch 6/25\n",
      "59/59 [==============================] - 2s 41ms/step - loss: 0.0088\n",
      "Epoch 7/25\n",
      "59/59 [==============================] - 2s 41ms/step - loss: 0.0082\n",
      "Epoch 8/25\n",
      "59/59 [==============================] - 2s 41ms/step - loss: 0.0074\n",
      "Epoch 9/25\n",
      "59/59 [==============================] - 2s 41ms/step - loss: 0.0075\n",
      "Epoch 10/25\n",
      "59/59 [==============================] - 2s 42ms/step - loss: 0.0065\n",
      "Epoch 11/25\n",
      "59/59 [==============================] - 2s 41ms/step - loss: 0.0062\n",
      "Epoch 12/25\n",
      "59/59 [==============================] - 2s 41ms/step - loss: 0.0061\n",
      "Epoch 13/25\n",
      "59/59 [==============================] - 2s 41ms/step - loss: 0.0055\n",
      "Epoch 14/25\n",
      "59/59 [==============================] - 2s 41ms/step - loss: 0.0053\n",
      "Epoch 15/25\n",
      "59/59 [==============================] - 2s 41ms/step - loss: 0.0051\n",
      "Epoch 16/25\n",
      "59/59 [==============================] - 2s 42ms/step - loss: 0.0049\n",
      "Epoch 17/25\n",
      "59/59 [==============================] - 2s 41ms/step - loss: 0.0052\n",
      "Epoch 18/25\n",
      "59/59 [==============================] - 2s 42ms/step - loss: 0.0047\n",
      "Epoch 19/25\n",
      "59/59 [==============================] - 2s 42ms/step - loss: 0.0046\n",
      "Epoch 20/25\n",
      "59/59 [==============================] - 3s 43ms/step - loss: 0.0044\n",
      "Epoch 21/25\n",
      "59/59 [==============================] - 2s 42ms/step - loss: 0.0042\n",
      "Epoch 22/25\n",
      "59/59 [==============================] - 2s 42ms/step - loss: 0.0044\n",
      "Epoch 23/25\n",
      "59/59 [==============================] - 2s 41ms/step - loss: 0.0041\n",
      "Epoch 24/25\n",
      "59/59 [==============================] - 2s 42ms/step - loss: 0.0045\n",
      "Epoch 25/25\n",
      "59/59 [==============================] - 3s 43ms/step - loss: 0.0040\n"
     ]
    },
    {
     "output_type": "execute_result",
     "data": {
      "text/plain": [
       "<tensorflow.python.keras.callbacks.History at 0x7fe1dc22f410>"
      ]
     },
     "metadata": {},
     "execution_count": 101
    }
   ],
   "source": [
    "model.fit(X_train, Y_train, epochs=25, batch_size=32)"
   ]
  },
  {
   "source": [
    "  ## Test the Model Accuracy on Existing Data"
   ],
   "cell_type": "markdown",
   "metadata": {}
  },
  {
   "cell_type": "code",
   "execution_count": 135,
   "metadata": {},
   "outputs": [],
   "source": [
    "test_start = dt.datetime(2020,1,1)\n",
    "test_end = dt.datetime.now()"
   ]
  },
  {
   "cell_type": "code",
   "execution_count": 136,
   "metadata": {},
   "outputs": [
    {
     "output_type": "execute_result",
     "data": {
      "text/plain": [
       "                  High         Low        Open       Close    Volume  \\\n",
       "Date                                                                   \n",
       "2019-12-31  205.559998  203.600006  204.000000  205.250000   8953500   \n",
       "2020-01-02  209.789993  206.270004  206.750000  209.779999  12077100   \n",
       "2020-01-03  210.399994  206.949997  207.210007  208.669998  11188400   \n",
       "2020-01-06  212.779999  206.520004  206.699997  212.600006  17058900   \n",
       "2020-01-07  214.580002  211.750000  212.820007  213.059998  14912400   \n",
       "\n",
       "             Adj Close  \n",
       "Date                    \n",
       "2019-12-31  205.250000  \n",
       "2020-01-02  209.779999  \n",
       "2020-01-03  208.669998  \n",
       "2020-01-06  212.600006  \n",
       "2020-01-07  213.059998  "
      ],
      "text/html": "<div>\n<style scoped>\n    .dataframe tbody tr th:only-of-type {\n        vertical-align: middle;\n    }\n\n    .dataframe tbody tr th {\n        vertical-align: top;\n    }\n\n    .dataframe thead th {\n        text-align: right;\n    }\n</style>\n<table border=\"1\" class=\"dataframe\">\n  <thead>\n    <tr style=\"text-align: right;\">\n      <th></th>\n      <th>High</th>\n      <th>Low</th>\n      <th>Open</th>\n      <th>Close</th>\n      <th>Volume</th>\n      <th>Adj Close</th>\n    </tr>\n    <tr>\n      <th>Date</th>\n      <th></th>\n      <th></th>\n      <th></th>\n      <th></th>\n      <th></th>\n      <th></th>\n    </tr>\n  </thead>\n  <tbody>\n    <tr>\n      <th>2019-12-31</th>\n      <td>205.559998</td>\n      <td>203.600006</td>\n      <td>204.000000</td>\n      <td>205.250000</td>\n      <td>8953500</td>\n      <td>205.250000</td>\n    </tr>\n    <tr>\n      <th>2020-01-02</th>\n      <td>209.789993</td>\n      <td>206.270004</td>\n      <td>206.750000</td>\n      <td>209.779999</td>\n      <td>12077100</td>\n      <td>209.779999</td>\n    </tr>\n    <tr>\n      <th>2020-01-03</th>\n      <td>210.399994</td>\n      <td>206.949997</td>\n      <td>207.210007</td>\n      <td>208.669998</td>\n      <td>11188400</td>\n      <td>208.669998</td>\n    </tr>\n    <tr>\n      <th>2020-01-06</th>\n      <td>212.779999</td>\n      <td>206.520004</td>\n      <td>206.699997</td>\n      <td>212.600006</td>\n      <td>17058900</td>\n      <td>212.600006</td>\n    </tr>\n    <tr>\n      <th>2020-01-07</th>\n      <td>214.580002</td>\n      <td>211.750000</td>\n      <td>212.820007</td>\n      <td>213.059998</td>\n      <td>14912400</td>\n      <td>213.059998</td>\n    </tr>\n  </tbody>\n</table>\n</div>"
     },
     "metadata": {},
     "execution_count": 136
    }
   ],
   "source": [
    "test_data = web.DataReader(company, 'yahoo',test_start,test_end)\n",
    "test_data.head()"
   ]
  },
  {
   "cell_type": "code",
   "execution_count": 137,
   "metadata": {},
   "outputs": [],
   "source": [
    "actual_prices = test_data['Close'].values"
   ]
  },
  {
   "cell_type": "code",
   "execution_count": 138,
   "metadata": {},
   "outputs": [],
   "source": [
    "total_dataset=pd.concat((data['Close'],test_data['Close']),axis=0)"
   ]
  },
  {
   "cell_type": "code",
   "execution_count": 139,
   "metadata": {},
   "outputs": [],
   "source": [
    "model_inputs = total_dataset[len(total_dataset) - len(test_data) - prediction_days:].values"
   ]
  },
  {
   "cell_type": "code",
   "execution_count": 140,
   "metadata": {},
   "outputs": [],
   "source": [
    "model_inputs = model_inputs.reshape(-1,1)"
   ]
  },
  {
   "cell_type": "code",
   "execution_count": 141,
   "metadata": {},
   "outputs": [],
   "source": [
    "model_inputs = scaler.transform(model_inputs)"
   ]
  },
  {
   "source": [
    "## Make Prediction on test data"
   ],
   "cell_type": "markdown",
   "metadata": {}
  },
  {
   "cell_type": "code",
   "execution_count": 142,
   "metadata": {},
   "outputs": [],
   "source": [
    "x_test = []\n",
    "\n",
    "for X in range(prediction_days, len(model_inputs)):\n",
    "    x_test.append(model_inputs[X-prediction_days:X,0])\n"
   ]
  },
  {
   "cell_type": "code",
   "execution_count": 143,
   "metadata": {},
   "outputs": [],
   "source": [
    "x_test = np.array(x_test)\n",
    "x_test = np.reshape(x_test, (x_test.shape[0], x_test.shape[1], 1))"
   ]
  },
  {
   "cell_type": "code",
   "execution_count": 147,
   "metadata": {},
   "outputs": [
    {
     "output_type": "execute_result",
     "data": {
      "text/plain": [
       "array([[[0.7412479 ],\n",
       "        [0.78736746],\n",
       "        [0.79247   ],\n",
       "        ...,\n",
       "        [0.88180304],\n",
       "        [0.87731206],\n",
       "        [0.87506986]],\n",
       "\n",
       "       [[0.73225725],\n",
       "        [0.7941555 ],\n",
       "        [0.7939048 ],\n",
       "        ...,\n",
       "        [0.877311  ],\n",
       "        [0.8750688 ],\n",
       "        [0.8740556 ]],\n",
       "\n",
       "       [[0.7420418 ],\n",
       "        [0.79523087],\n",
       "        [0.80567014],\n",
       "        ...,\n",
       "        [0.8750676 ],\n",
       "        [0.87405443],\n",
       "        [0.8799608 ]],\n",
       "\n",
       "       ...,\n",
       "\n",
       "       [[1.151057  ],\n",
       "        [1.0433534 ],\n",
       "        [1.0556043 ],\n",
       "        ...,\n",
       "        [0.9973041 ],\n",
       "        [1.0033165 ],\n",
       "        [0.9967574 ]],\n",
       "\n",
       "       [[1.1423779 ],\n",
       "        [1.0585761 ],\n",
       "        [1.1067214 ],\n",
       "        ...,\n",
       "        [1.0033193 ],\n",
       "        [0.9967598 ],\n",
       "        [0.98486364]],\n",
       "\n",
       "       [[1.1619035 ],\n",
       "        [1.134112  ],\n",
       "        [1.1206524 ],\n",
       "        ...,\n",
       "        [0.99676263],\n",
       "        [0.984866  ],\n",
       "        [0.9710183 ]]], dtype=float32)"
      ]
     },
     "metadata": {},
     "execution_count": 147
    }
   ],
   "source": [
    "predicted_prices = model.predict(x_test)\n",
    "predicted_prices"
   ]
  },
  {
   "cell_type": "code",
   "execution_count": 148,
   "metadata": {},
   "outputs": [
    {
     "output_type": "error",
     "ename": "ValueError",
     "evalue": "x and y can be no greater than 2-D, but have shapes (274,) and (274, 60, 1)",
     "traceback": [
      "\u001b[0;31m---------------------------------------------------------------------------\u001b[0m",
      "\u001b[0;31mValueError\u001b[0m                                Traceback (most recent call last)",
      "\u001b[0;32m<ipython-input-148-0d2dfc4b812f>\u001b[0m in \u001b[0;36m<module>\u001b[0;34m\u001b[0m\n\u001b[1;32m      1\u001b[0m \u001b[0mplt\u001b[0m\u001b[0;34m.\u001b[0m\u001b[0mplot\u001b[0m\u001b[0;34m(\u001b[0m\u001b[0mactual_prices\u001b[0m\u001b[0;34m,\u001b[0m \u001b[0mcolor\u001b[0m\u001b[0;34m=\u001b[0m\u001b[0;34m\"black\"\u001b[0m\u001b[0;34m)\u001b[0m\u001b[0;34m\u001b[0m\u001b[0;34m\u001b[0m\u001b[0m\n\u001b[0;32m----> 2\u001b[0;31m \u001b[0mplt\u001b[0m\u001b[0;34m.\u001b[0m\u001b[0mplot\u001b[0m\u001b[0;34m(\u001b[0m\u001b[0mpredicted_prices\u001b[0m \u001b[0;34m,\u001b[0m \u001b[0mcolor\u001b[0m\u001b[0;34m=\u001b[0m\u001b[0;34m\"green\"\u001b[0m\u001b[0;34m)\u001b[0m\u001b[0;34m\u001b[0m\u001b[0;34m\u001b[0m\u001b[0m\n\u001b[0m\u001b[1;32m      3\u001b[0m \u001b[0mplt\u001b[0m\u001b[0;34m.\u001b[0m\u001b[0mtitle\u001b[0m\u001b[0;34m(\u001b[0m\u001b[0;34mf\"{company} Shape Price\"\u001b[0m\u001b[0;34m)\u001b[0m\u001b[0;34m\u001b[0m\u001b[0;34m\u001b[0m\u001b[0m\n\u001b[1;32m      4\u001b[0m \u001b[0mplt\u001b[0m\u001b[0;34m.\u001b[0m\u001b[0mxlabel\u001b[0m\u001b[0;34m(\u001b[0m\u001b[0;34m\"Time\"\u001b[0m\u001b[0;34m)\u001b[0m\u001b[0;34m\u001b[0m\u001b[0;34m\u001b[0m\u001b[0m\n\u001b[1;32m      5\u001b[0m \u001b[0mplt\u001b[0m\u001b[0;34m.\u001b[0m\u001b[0mylabel\u001b[0m\u001b[0;34m(\u001b[0m\u001b[0;34mf\"{Comapany} Share Price\"\u001b[0m\u001b[0;34m)\u001b[0m\u001b[0;34m\u001b[0m\u001b[0;34m\u001b[0m\u001b[0m\n",
      "\u001b[0;32m~/opt/anaconda3/envs/tensorflow/lib/python3.7/site-packages/matplotlib/pyplot.py\u001b[0m in \u001b[0;36mplot\u001b[0;34m(scalex, scaley, data, *args, **kwargs)\u001b[0m\n\u001b[1;32m   2824\u001b[0m     return gca().plot(\n\u001b[1;32m   2825\u001b[0m         \u001b[0;34m*\u001b[0m\u001b[0margs\u001b[0m\u001b[0;34m,\u001b[0m \u001b[0mscalex\u001b[0m\u001b[0;34m=\u001b[0m\u001b[0mscalex\u001b[0m\u001b[0;34m,\u001b[0m \u001b[0mscaley\u001b[0m\u001b[0;34m=\u001b[0m\u001b[0mscaley\u001b[0m\u001b[0;34m,\u001b[0m\u001b[0;34m\u001b[0m\u001b[0;34m\u001b[0m\u001b[0m\n\u001b[0;32m-> 2826\u001b[0;31m         **({\"data\": data} if data is not None else {}), **kwargs)\n\u001b[0m\u001b[1;32m   2827\u001b[0m \u001b[0;34m\u001b[0m\u001b[0m\n\u001b[1;32m   2828\u001b[0m \u001b[0;34m\u001b[0m\u001b[0m\n",
      "\u001b[0;32m~/opt/anaconda3/envs/tensorflow/lib/python3.7/site-packages/matplotlib/axes/_axes.py\u001b[0m in \u001b[0;36mplot\u001b[0;34m(self, scalex, scaley, data, *args, **kwargs)\u001b[0m\n\u001b[1;32m   1741\u001b[0m         \"\"\"\n\u001b[1;32m   1742\u001b[0m         \u001b[0mkwargs\u001b[0m \u001b[0;34m=\u001b[0m \u001b[0mcbook\u001b[0m\u001b[0;34m.\u001b[0m\u001b[0mnormalize_kwargs\u001b[0m\u001b[0;34m(\u001b[0m\u001b[0mkwargs\u001b[0m\u001b[0;34m,\u001b[0m \u001b[0mmlines\u001b[0m\u001b[0;34m.\u001b[0m\u001b[0mLine2D\u001b[0m\u001b[0;34m)\u001b[0m\u001b[0;34m\u001b[0m\u001b[0;34m\u001b[0m\u001b[0m\n\u001b[0;32m-> 1743\u001b[0;31m         \u001b[0mlines\u001b[0m \u001b[0;34m=\u001b[0m \u001b[0;34m[\u001b[0m\u001b[0;34m*\u001b[0m\u001b[0mself\u001b[0m\u001b[0;34m.\u001b[0m\u001b[0m_get_lines\u001b[0m\u001b[0;34m(\u001b[0m\u001b[0;34m*\u001b[0m\u001b[0margs\u001b[0m\u001b[0;34m,\u001b[0m \u001b[0mdata\u001b[0m\u001b[0;34m=\u001b[0m\u001b[0mdata\u001b[0m\u001b[0;34m,\u001b[0m \u001b[0;34m**\u001b[0m\u001b[0mkwargs\u001b[0m\u001b[0;34m)\u001b[0m\u001b[0;34m]\u001b[0m\u001b[0;34m\u001b[0m\u001b[0;34m\u001b[0m\u001b[0m\n\u001b[0m\u001b[1;32m   1744\u001b[0m         \u001b[0;32mfor\u001b[0m \u001b[0mline\u001b[0m \u001b[0;32min\u001b[0m \u001b[0mlines\u001b[0m\u001b[0;34m:\u001b[0m\u001b[0;34m\u001b[0m\u001b[0;34m\u001b[0m\u001b[0m\n\u001b[1;32m   1745\u001b[0m             \u001b[0mself\u001b[0m\u001b[0;34m.\u001b[0m\u001b[0madd_line\u001b[0m\u001b[0;34m(\u001b[0m\u001b[0mline\u001b[0m\u001b[0;34m)\u001b[0m\u001b[0;34m\u001b[0m\u001b[0;34m\u001b[0m\u001b[0m\n",
      "\u001b[0;32m~/opt/anaconda3/envs/tensorflow/lib/python3.7/site-packages/matplotlib/axes/_base.py\u001b[0m in \u001b[0;36m__call__\u001b[0;34m(self, data, *args, **kwargs)\u001b[0m\n\u001b[1;32m    271\u001b[0m                 \u001b[0mthis\u001b[0m \u001b[0;34m+=\u001b[0m \u001b[0margs\u001b[0m\u001b[0;34m[\u001b[0m\u001b[0;36m0\u001b[0m\u001b[0;34m]\u001b[0m\u001b[0;34m,\u001b[0m\u001b[0;34m\u001b[0m\u001b[0;34m\u001b[0m\u001b[0m\n\u001b[1;32m    272\u001b[0m                 \u001b[0margs\u001b[0m \u001b[0;34m=\u001b[0m \u001b[0margs\u001b[0m\u001b[0;34m[\u001b[0m\u001b[0;36m1\u001b[0m\u001b[0;34m:\u001b[0m\u001b[0;34m]\u001b[0m\u001b[0;34m\u001b[0m\u001b[0;34m\u001b[0m\u001b[0m\n\u001b[0;32m--> 273\u001b[0;31m             \u001b[0;32myield\u001b[0m \u001b[0;32mfrom\u001b[0m \u001b[0mself\u001b[0m\u001b[0;34m.\u001b[0m\u001b[0m_plot_args\u001b[0m\u001b[0;34m(\u001b[0m\u001b[0mthis\u001b[0m\u001b[0;34m,\u001b[0m \u001b[0mkwargs\u001b[0m\u001b[0;34m)\u001b[0m\u001b[0;34m\u001b[0m\u001b[0;34m\u001b[0m\u001b[0m\n\u001b[0m\u001b[1;32m    274\u001b[0m \u001b[0;34m\u001b[0m\u001b[0m\n\u001b[1;32m    275\u001b[0m     \u001b[0;32mdef\u001b[0m \u001b[0mget_next_color\u001b[0m\u001b[0;34m(\u001b[0m\u001b[0mself\u001b[0m\u001b[0;34m)\u001b[0m\u001b[0;34m:\u001b[0m\u001b[0;34m\u001b[0m\u001b[0;34m\u001b[0m\u001b[0m\n",
      "\u001b[0;32m~/opt/anaconda3/envs/tensorflow/lib/python3.7/site-packages/matplotlib/axes/_base.py\u001b[0m in \u001b[0;36m_plot_args\u001b[0;34m(self, tup, kwargs)\u001b[0m\n\u001b[1;32m    400\u001b[0m                              f\"have shapes {x.shape} and {y.shape}\")\n\u001b[1;32m    401\u001b[0m         \u001b[0;32mif\u001b[0m \u001b[0mx\u001b[0m\u001b[0;34m.\u001b[0m\u001b[0mndim\u001b[0m \u001b[0;34m>\u001b[0m \u001b[0;36m2\u001b[0m \u001b[0;32mor\u001b[0m \u001b[0my\u001b[0m\u001b[0;34m.\u001b[0m\u001b[0mndim\u001b[0m \u001b[0;34m>\u001b[0m \u001b[0;36m2\u001b[0m\u001b[0;34m:\u001b[0m\u001b[0;34m\u001b[0m\u001b[0;34m\u001b[0m\u001b[0m\n\u001b[0;32m--> 402\u001b[0;31m             raise ValueError(f\"x and y can be no greater than 2-D, but have \"\n\u001b[0m\u001b[1;32m    403\u001b[0m                              f\"shapes {x.shape} and {y.shape}\")\n\u001b[1;32m    404\u001b[0m         \u001b[0;32mif\u001b[0m \u001b[0mx\u001b[0m\u001b[0;34m.\u001b[0m\u001b[0mndim\u001b[0m \u001b[0;34m==\u001b[0m \u001b[0;36m1\u001b[0m\u001b[0;34m:\u001b[0m\u001b[0;34m\u001b[0m\u001b[0;34m\u001b[0m\u001b[0m\n",
      "\u001b[0;31mValueError\u001b[0m: x and y can be no greater than 2-D, but have shapes (274,) and (274, 60, 1)"
     ]
    }
   ],
   "source": [
    "plt.plot(actual_prices, color=\"black\")\n",
    "plt.plot(predicted_prices , color=\"green\")\n",
    "plt.title(f\"{company} Shape Price\")\n",
    "plt.xlabel(\"Time\")\n",
    "plt.ylabel(f\"{Comapany} Share Price\")\n",
    "plt.legend()\n",
    "plt.show()\n"
   ]
  },
  {
   "source": [
    "# Predict Next Day"
   ],
   "cell_type": "markdown",
   "metadata": {}
  },
  {
   "cell_type": "code",
   "execution_count": 149,
   "metadata": {},
   "outputs": [],
   "source": [
    "real_data = [model_inputs[len(model_inputs) + 1 - prediction_days:len(model_inputs+1),0]]"
   ]
  },
  {
   "cell_type": "code",
   "execution_count": 150,
   "metadata": {},
   "outputs": [],
   "source": [
    "real_data = np.array(real_data)\n",
    "real_data = np.reshape(real_data, (real_data.shape[0], real_data.shape[1],1))"
   ]
  },
  {
   "cell_type": "code",
   "execution_count": 153,
   "metadata": {},
   "outputs": [
    {
     "output_type": "stream",
     "name": "stdout",
     "text": [
      "Prediction: [[[1.3051783 ]\n  [1.1208848 ]\n  [1.0967513 ]\n  [1.0784489 ]\n  [1.0574282 ]\n  [1.0353905 ]\n  [1.0194259 ]\n  [1.009683  ]\n  [0.99996436]\n  [0.9911301 ]\n  [0.9867295 ]\n  [0.98225236]\n  [0.9788908 ]\n  [0.9850303 ]\n  [0.98901916]\n  [0.9931903 ]\n  [0.99473965]\n  [1.0037543 ]\n  [1.0100965 ]\n  [1.0079132 ]\n  [1.0034257 ]\n  [1.0052153 ]\n  [1.0048937 ]\n  [0.9997239 ]\n  [0.9953729 ]\n  [0.9899596 ]\n  [0.9873705 ]\n  [0.9877267 ]\n  [0.9887613 ]\n  [0.9886488 ]\n  [0.99026775]\n  [0.9883133 ]\n  [0.9818485 ]\n  [0.9783399 ]\n  [0.9762393 ]\n  [0.9841498 ]\n  [0.9899174 ]\n  [0.9885348 ]\n  [0.9878504 ]\n  [0.98363924]\n  [0.9824307 ]\n  [0.97548807]\n  [0.9754865 ]\n  [0.9756422 ]\n  [0.9666265 ]\n  [0.9551803 ]\n  [0.94857836]\n  [0.9406314 ]\n  [0.941512  ]\n  [0.95364225]\n  [0.9688264 ]\n  [0.9826971 ]\n  [0.9909725 ]\n  [0.9973272 ]\n  [1.0033376 ]\n  [0.99677587]\n  [0.9848776 ]\n  [0.9710283 ]\n  [0.9654764 ]]]\n"
     ]
    }
   ],
   "source": [
    "prediction = model.predict(real_data)\n",
    "print(f\"Prediction: {prediction}\")"
   ]
  },
  {
   "cell_type": "code",
   "execution_count": null,
   "metadata": {},
   "outputs": [],
   "source": []
  }
 ]
}