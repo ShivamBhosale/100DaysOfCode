{
 "metadata": {
  "orig_nbformat": 2,
  "kernelspec": {
   "name": "tensorflow",
   "display_name": "Python 3.7 (tensorflow)",
   "language": "python"
  }
 },
 "nbformat": 4,
 "nbformat_minor": 2,
 "cells": [
  {
   "source": [
    "# Restaurant Sales Analyis"
   ],
   "cell_type": "markdown",
   "metadata": {}
  },
  {
   "cell_type": "code",
   "execution_count": 31,
   "metadata": {},
   "outputs": [],
   "source": [
    "import numpy as np \n",
    "import pandas as pd \n",
    "import seaborn as sns\n",
    "import matplotlib.pyplot as plt\n",
    "import plotly.express as px"
   ]
  },
  {
   "cell_type": "code",
   "execution_count": 2,
   "metadata": {},
   "outputs": [
    {
     "output_type": "execute_result",
     "data": {
      "text/plain": [
       "       Restaurant                                            Content  Sales  \\\n",
       "Rank                                                                          \n",
       "1      McDonald's                                                NaN  40412   \n",
       "2       Starbucks                                                NaN  21380   \n",
       "3     Chick-fil-A  While Popeyes got a lot of the chicken buzz in...  11320   \n",
       "4       Taco Bell                                                NaN  11293   \n",
       "5     Burger King                                                NaN  10204   \n",
       "\n",
       "     YOY_Sales  Units YOY_Units Headquarters             Segment_Category  \n",
       "Rank                                                                       \n",
       "1         4.9%  13846     -0.5%          NaN       Quick Service & Burger  \n",
       "2         8.6%  15049      3.0%          NaN  Quick Service & Coffee Cafe  \n",
       "3        13.0%   2470      5.0%          NaN      Quick Service & Chicken  \n",
       "4         9.0%   6766      2.7%          NaN      Quick Service & Mexican  \n",
       "5         2.7%   7346      0.2%          NaN       Quick Service & Burger  "
      ],
      "text/html": "<div>\n<style scoped>\n    .dataframe tbody tr th:only-of-type {\n        vertical-align: middle;\n    }\n\n    .dataframe tbody tr th {\n        vertical-align: top;\n    }\n\n    .dataframe thead th {\n        text-align: right;\n    }\n</style>\n<table border=\"1\" class=\"dataframe\">\n  <thead>\n    <tr style=\"text-align: right;\">\n      <th></th>\n      <th>Restaurant</th>\n      <th>Content</th>\n      <th>Sales</th>\n      <th>YOY_Sales</th>\n      <th>Units</th>\n      <th>YOY_Units</th>\n      <th>Headquarters</th>\n      <th>Segment_Category</th>\n    </tr>\n    <tr>\n      <th>Rank</th>\n      <th></th>\n      <th></th>\n      <th></th>\n      <th></th>\n      <th></th>\n      <th></th>\n      <th></th>\n      <th></th>\n    </tr>\n  </thead>\n  <tbody>\n    <tr>\n      <th>1</th>\n      <td>McDonald's</td>\n      <td>NaN</td>\n      <td>40412</td>\n      <td>4.9%</td>\n      <td>13846</td>\n      <td>-0.5%</td>\n      <td>NaN</td>\n      <td>Quick Service &amp; Burger</td>\n    </tr>\n    <tr>\n      <th>2</th>\n      <td>Starbucks</td>\n      <td>NaN</td>\n      <td>21380</td>\n      <td>8.6%</td>\n      <td>15049</td>\n      <td>3.0%</td>\n      <td>NaN</td>\n      <td>Quick Service &amp; Coffee Cafe</td>\n    </tr>\n    <tr>\n      <th>3</th>\n      <td>Chick-fil-A</td>\n      <td>While Popeyes got a lot of the chicken buzz in...</td>\n      <td>11320</td>\n      <td>13.0%</td>\n      <td>2470</td>\n      <td>5.0%</td>\n      <td>NaN</td>\n      <td>Quick Service &amp; Chicken</td>\n    </tr>\n    <tr>\n      <th>4</th>\n      <td>Taco Bell</td>\n      <td>NaN</td>\n      <td>11293</td>\n      <td>9.0%</td>\n      <td>6766</td>\n      <td>2.7%</td>\n      <td>NaN</td>\n      <td>Quick Service &amp; Mexican</td>\n    </tr>\n    <tr>\n      <th>5</th>\n      <td>Burger King</td>\n      <td>NaN</td>\n      <td>10204</td>\n      <td>2.7%</td>\n      <td>7346</td>\n      <td>0.2%</td>\n      <td>NaN</td>\n      <td>Quick Service &amp; Burger</td>\n    </tr>\n  </tbody>\n</table>\n</div>"
     },
     "metadata": {},
     "execution_count": 2
    }
   ],
   "source": [
    "df_250 = pd.read_csv('Top250.csv',index_col=0)\n",
    "df_250.head()"
   ]
  },
  {
   "cell_type": "code",
   "execution_count": 3,
   "metadata": {},
   "outputs": [
    {
     "output_type": "execute_result",
     "data": {
      "text/plain": [
       "Restaurant            0\n",
       "Content             217\n",
       "Sales                 0\n",
       "YOY_Sales             0\n",
       "Units                 0\n",
       "YOY_Units             0\n",
       "Headquarters        198\n",
       "Segment_Category      0\n",
       "dtype: int64"
      ]
     },
     "metadata": {},
     "execution_count": 3
    }
   ],
   "source": [
    "df_250.isna().sum()"
   ]
  },
  {
   "cell_type": "code",
   "execution_count": 4,
   "metadata": {},
   "outputs": [
    {
     "output_type": "execute_result",
     "data": {
      "text/plain": [
       "       Restaurant  Sales YOY_Sales  Units YOY_Units  \\\n",
       "Rank                                                  \n",
       "1      McDonald's  40412      4.9%  13846     -0.5%   \n",
       "2       Starbucks  21380      8.6%  15049      3.0%   \n",
       "3     Chick-fil-A  11320     13.0%   2470      5.0%   \n",
       "4       Taco Bell  11293      9.0%   6766      2.7%   \n",
       "5     Burger King  10204      2.7%   7346      0.2%   \n",
       "\n",
       "                 Segment_Category  \n",
       "Rank                               \n",
       "1          Quick Service & Burger  \n",
       "2     Quick Service & Coffee Cafe  \n",
       "3         Quick Service & Chicken  \n",
       "4         Quick Service & Mexican  \n",
       "5          Quick Service & Burger  "
      ],
      "text/html": "<div>\n<style scoped>\n    .dataframe tbody tr th:only-of-type {\n        vertical-align: middle;\n    }\n\n    .dataframe tbody tr th {\n        vertical-align: top;\n    }\n\n    .dataframe thead th {\n        text-align: right;\n    }\n</style>\n<table border=\"1\" class=\"dataframe\">\n  <thead>\n    <tr style=\"text-align: right;\">\n      <th></th>\n      <th>Restaurant</th>\n      <th>Sales</th>\n      <th>YOY_Sales</th>\n      <th>Units</th>\n      <th>YOY_Units</th>\n      <th>Segment_Category</th>\n    </tr>\n    <tr>\n      <th>Rank</th>\n      <th></th>\n      <th></th>\n      <th></th>\n      <th></th>\n      <th></th>\n      <th></th>\n    </tr>\n  </thead>\n  <tbody>\n    <tr>\n      <th>1</th>\n      <td>McDonald's</td>\n      <td>40412</td>\n      <td>4.9%</td>\n      <td>13846</td>\n      <td>-0.5%</td>\n      <td>Quick Service &amp; Burger</td>\n    </tr>\n    <tr>\n      <th>2</th>\n      <td>Starbucks</td>\n      <td>21380</td>\n      <td>8.6%</td>\n      <td>15049</td>\n      <td>3.0%</td>\n      <td>Quick Service &amp; Coffee Cafe</td>\n    </tr>\n    <tr>\n      <th>3</th>\n      <td>Chick-fil-A</td>\n      <td>11320</td>\n      <td>13.0%</td>\n      <td>2470</td>\n      <td>5.0%</td>\n      <td>Quick Service &amp; Chicken</td>\n    </tr>\n    <tr>\n      <th>4</th>\n      <td>Taco Bell</td>\n      <td>11293</td>\n      <td>9.0%</td>\n      <td>6766</td>\n      <td>2.7%</td>\n      <td>Quick Service &amp; Mexican</td>\n    </tr>\n    <tr>\n      <th>5</th>\n      <td>Burger King</td>\n      <td>10204</td>\n      <td>2.7%</td>\n      <td>7346</td>\n      <td>0.2%</td>\n      <td>Quick Service &amp; Burger</td>\n    </tr>\n  </tbody>\n</table>\n</div>"
     },
     "metadata": {},
     "execution_count": 4
    }
   ],
   "source": [
    "df_250 = df_250.drop(['Content','Headquarters'],axis=1) #since over 70% of these data pts are missing\n",
    "df_250.head()"
   ]
  },
  {
   "cell_type": "code",
   "execution_count": 8,
   "metadata": {},
   "outputs": [],
   "source": [
    "def remove_punctuation(column):  #trying to remove the % sign and dividing by 100 since it is percentage\n",
    "    no_punc = [x for x in column if x not in \"%\"]\n",
    "    no_punc = \"\".join(no_punc)\n",
    "    divide_100 = float(no_punc)/100\n",
    "    return divide_100"
   ]
  },
  {
   "cell_type": "code",
   "execution_count": 9,
   "metadata": {},
   "outputs": [],
   "source": [
    "df_250['new_sales_perc'] = df_250['YOY_Sales'].apply(remove_punctuation)"
   ]
  },
  {
   "cell_type": "code",
   "execution_count": 10,
   "metadata": {},
   "outputs": [
    {
     "output_type": "execute_result",
     "data": {
      "text/plain": [
       "       Restaurant  Sales YOY_Sales  Units YOY_Units  \\\n",
       "Rank                                                  \n",
       "1      McDonald's  40412      4.9%  13846     -0.5%   \n",
       "2       Starbucks  21380      8.6%  15049      3.0%   \n",
       "3     Chick-fil-A  11320     13.0%   2470      5.0%   \n",
       "4       Taco Bell  11293      9.0%   6766      2.7%   \n",
       "5     Burger King  10204      2.7%   7346      0.2%   \n",
       "\n",
       "                 Segment_Category  new_sales_perc  \n",
       "Rank                                               \n",
       "1          Quick Service & Burger           0.049  \n",
       "2     Quick Service & Coffee Cafe           0.086  \n",
       "3         Quick Service & Chicken           0.130  \n",
       "4         Quick Service & Mexican           0.090  \n",
       "5          Quick Service & Burger           0.027  "
      ],
      "text/html": "<div>\n<style scoped>\n    .dataframe tbody tr th:only-of-type {\n        vertical-align: middle;\n    }\n\n    .dataframe tbody tr th {\n        vertical-align: top;\n    }\n\n    .dataframe thead th {\n        text-align: right;\n    }\n</style>\n<table border=\"1\" class=\"dataframe\">\n  <thead>\n    <tr style=\"text-align: right;\">\n      <th></th>\n      <th>Restaurant</th>\n      <th>Sales</th>\n      <th>YOY_Sales</th>\n      <th>Units</th>\n      <th>YOY_Units</th>\n      <th>Segment_Category</th>\n      <th>new_sales_perc</th>\n    </tr>\n    <tr>\n      <th>Rank</th>\n      <th></th>\n      <th></th>\n      <th></th>\n      <th></th>\n      <th></th>\n      <th></th>\n      <th></th>\n    </tr>\n  </thead>\n  <tbody>\n    <tr>\n      <th>1</th>\n      <td>McDonald's</td>\n      <td>40412</td>\n      <td>4.9%</td>\n      <td>13846</td>\n      <td>-0.5%</td>\n      <td>Quick Service &amp; Burger</td>\n      <td>0.049</td>\n    </tr>\n    <tr>\n      <th>2</th>\n      <td>Starbucks</td>\n      <td>21380</td>\n      <td>8.6%</td>\n      <td>15049</td>\n      <td>3.0%</td>\n      <td>Quick Service &amp; Coffee Cafe</td>\n      <td>0.086</td>\n    </tr>\n    <tr>\n      <th>3</th>\n      <td>Chick-fil-A</td>\n      <td>11320</td>\n      <td>13.0%</td>\n      <td>2470</td>\n      <td>5.0%</td>\n      <td>Quick Service &amp; Chicken</td>\n      <td>0.130</td>\n    </tr>\n    <tr>\n      <th>4</th>\n      <td>Taco Bell</td>\n      <td>11293</td>\n      <td>9.0%</td>\n      <td>6766</td>\n      <td>2.7%</td>\n      <td>Quick Service &amp; Mexican</td>\n      <td>0.090</td>\n    </tr>\n    <tr>\n      <th>5</th>\n      <td>Burger King</td>\n      <td>10204</td>\n      <td>2.7%</td>\n      <td>7346</td>\n      <td>0.2%</td>\n      <td>Quick Service &amp; Burger</td>\n      <td>0.027</td>\n    </tr>\n  </tbody>\n</table>\n</div>"
     },
     "metadata": {},
     "execution_count": 10
    }
   ],
   "source": [
    "df_250.head()"
   ]
  },
  {
   "cell_type": "code",
   "execution_count": 11,
   "metadata": {},
   "outputs": [],
   "source": [
    "df_250['new_sales'] = df_250['new_sales_perc']*df_250['Sales'] +df_250['Sales']"
   ]
  },
  {
   "cell_type": "code",
   "execution_count": 12,
   "metadata": {},
   "outputs": [
    {
     "output_type": "execute_result",
     "data": {
      "text/plain": [
       "       Restaurant  Sales YOY_Sales  Units YOY_Units  \\\n",
       "Rank                                                  \n",
       "1      McDonald's  40412      4.9%  13846     -0.5%   \n",
       "2       Starbucks  21380      8.6%  15049      3.0%   \n",
       "3     Chick-fil-A  11320     13.0%   2470      5.0%   \n",
       "4       Taco Bell  11293      9.0%   6766      2.7%   \n",
       "5     Burger King  10204      2.7%   7346      0.2%   \n",
       "\n",
       "                 Segment_Category  new_sales_perc  new_sales  \n",
       "Rank                                                          \n",
       "1          Quick Service & Burger           0.049  42392.188  \n",
       "2     Quick Service & Coffee Cafe           0.086  23218.680  \n",
       "3         Quick Service & Chicken           0.130  12791.600  \n",
       "4         Quick Service & Mexican           0.090  12309.370  \n",
       "5          Quick Service & Burger           0.027  10479.508  "
      ],
      "text/html": "<div>\n<style scoped>\n    .dataframe tbody tr th:only-of-type {\n        vertical-align: middle;\n    }\n\n    .dataframe tbody tr th {\n        vertical-align: top;\n    }\n\n    .dataframe thead th {\n        text-align: right;\n    }\n</style>\n<table border=\"1\" class=\"dataframe\">\n  <thead>\n    <tr style=\"text-align: right;\">\n      <th></th>\n      <th>Restaurant</th>\n      <th>Sales</th>\n      <th>YOY_Sales</th>\n      <th>Units</th>\n      <th>YOY_Units</th>\n      <th>Segment_Category</th>\n      <th>new_sales_perc</th>\n      <th>new_sales</th>\n    </tr>\n    <tr>\n      <th>Rank</th>\n      <th></th>\n      <th></th>\n      <th></th>\n      <th></th>\n      <th></th>\n      <th></th>\n      <th></th>\n      <th></th>\n    </tr>\n  </thead>\n  <tbody>\n    <tr>\n      <th>1</th>\n      <td>McDonald's</td>\n      <td>40412</td>\n      <td>4.9%</td>\n      <td>13846</td>\n      <td>-0.5%</td>\n      <td>Quick Service &amp; Burger</td>\n      <td>0.049</td>\n      <td>42392.188</td>\n    </tr>\n    <tr>\n      <th>2</th>\n      <td>Starbucks</td>\n      <td>21380</td>\n      <td>8.6%</td>\n      <td>15049</td>\n      <td>3.0%</td>\n      <td>Quick Service &amp; Coffee Cafe</td>\n      <td>0.086</td>\n      <td>23218.680</td>\n    </tr>\n    <tr>\n      <th>3</th>\n      <td>Chick-fil-A</td>\n      <td>11320</td>\n      <td>13.0%</td>\n      <td>2470</td>\n      <td>5.0%</td>\n      <td>Quick Service &amp; Chicken</td>\n      <td>0.130</td>\n      <td>12791.600</td>\n    </tr>\n    <tr>\n      <th>4</th>\n      <td>Taco Bell</td>\n      <td>11293</td>\n      <td>9.0%</td>\n      <td>6766</td>\n      <td>2.7%</td>\n      <td>Quick Service &amp; Mexican</td>\n      <td>0.090</td>\n      <td>12309.370</td>\n    </tr>\n    <tr>\n      <th>5</th>\n      <td>Burger King</td>\n      <td>10204</td>\n      <td>2.7%</td>\n      <td>7346</td>\n      <td>0.2%</td>\n      <td>Quick Service &amp; Burger</td>\n      <td>0.027</td>\n      <td>10479.508</td>\n    </tr>\n  </tbody>\n</table>\n</div>"
     },
     "metadata": {},
     "execution_count": 12
    }
   ],
   "source": [
    "df_250.head()"
   ]
  },
  {
   "cell_type": "code",
   "execution_count": 13,
   "metadata": {},
   "outputs": [],
   "source": [
    "df_250['new_units_perc'] = df_250['YOY_Units'].apply(remove_punctuation)"
   ]
  },
  {
   "cell_type": "code",
   "execution_count": 14,
   "metadata": {},
   "outputs": [
    {
     "output_type": "execute_result",
     "data": {
      "text/plain": [
       "       Restaurant  Sales YOY_Sales  Units YOY_Units  \\\n",
       "Rank                                                  \n",
       "1      McDonald's  40412      4.9%  13846     -0.5%   \n",
       "2       Starbucks  21380      8.6%  15049      3.0%   \n",
       "3     Chick-fil-A  11320     13.0%   2470      5.0%   \n",
       "4       Taco Bell  11293      9.0%   6766      2.7%   \n",
       "5     Burger King  10204      2.7%   7346      0.2%   \n",
       "\n",
       "                 Segment_Category  new_sales_perc  new_sales  new_units_perc  \n",
       "Rank                                                                          \n",
       "1          Quick Service & Burger           0.049  42392.188          -0.005  \n",
       "2     Quick Service & Coffee Cafe           0.086  23218.680           0.030  \n",
       "3         Quick Service & Chicken           0.130  12791.600           0.050  \n",
       "4         Quick Service & Mexican           0.090  12309.370           0.027  \n",
       "5          Quick Service & Burger           0.027  10479.508           0.002  "
      ],
      "text/html": "<div>\n<style scoped>\n    .dataframe tbody tr th:only-of-type {\n        vertical-align: middle;\n    }\n\n    .dataframe tbody tr th {\n        vertical-align: top;\n    }\n\n    .dataframe thead th {\n        text-align: right;\n    }\n</style>\n<table border=\"1\" class=\"dataframe\">\n  <thead>\n    <tr style=\"text-align: right;\">\n      <th></th>\n      <th>Restaurant</th>\n      <th>Sales</th>\n      <th>YOY_Sales</th>\n      <th>Units</th>\n      <th>YOY_Units</th>\n      <th>Segment_Category</th>\n      <th>new_sales_perc</th>\n      <th>new_sales</th>\n      <th>new_units_perc</th>\n    </tr>\n    <tr>\n      <th>Rank</th>\n      <th></th>\n      <th></th>\n      <th></th>\n      <th></th>\n      <th></th>\n      <th></th>\n      <th></th>\n      <th></th>\n      <th></th>\n    </tr>\n  </thead>\n  <tbody>\n    <tr>\n      <th>1</th>\n      <td>McDonald's</td>\n      <td>40412</td>\n      <td>4.9%</td>\n      <td>13846</td>\n      <td>-0.5%</td>\n      <td>Quick Service &amp; Burger</td>\n      <td>0.049</td>\n      <td>42392.188</td>\n      <td>-0.005</td>\n    </tr>\n    <tr>\n      <th>2</th>\n      <td>Starbucks</td>\n      <td>21380</td>\n      <td>8.6%</td>\n      <td>15049</td>\n      <td>3.0%</td>\n      <td>Quick Service &amp; Coffee Cafe</td>\n      <td>0.086</td>\n      <td>23218.680</td>\n      <td>0.030</td>\n    </tr>\n    <tr>\n      <th>3</th>\n      <td>Chick-fil-A</td>\n      <td>11320</td>\n      <td>13.0%</td>\n      <td>2470</td>\n      <td>5.0%</td>\n      <td>Quick Service &amp; Chicken</td>\n      <td>0.130</td>\n      <td>12791.600</td>\n      <td>0.050</td>\n    </tr>\n    <tr>\n      <th>4</th>\n      <td>Taco Bell</td>\n      <td>11293</td>\n      <td>9.0%</td>\n      <td>6766</td>\n      <td>2.7%</td>\n      <td>Quick Service &amp; Mexican</td>\n      <td>0.090</td>\n      <td>12309.370</td>\n      <td>0.027</td>\n    </tr>\n    <tr>\n      <th>5</th>\n      <td>Burger King</td>\n      <td>10204</td>\n      <td>2.7%</td>\n      <td>7346</td>\n      <td>0.2%</td>\n      <td>Quick Service &amp; Burger</td>\n      <td>0.027</td>\n      <td>10479.508</td>\n      <td>0.002</td>\n    </tr>\n  </tbody>\n</table>\n</div>"
     },
     "metadata": {},
     "execution_count": 14
    }
   ],
   "source": [
    "df_250.head()"
   ]
  },
  {
   "cell_type": "code",
   "execution_count": 15,
   "metadata": {},
   "outputs": [],
   "source": [
    "df_250['new_units'] = df_250['new_units_perc']*df_250['Units'] +df_250['Units']"
   ]
  },
  {
   "cell_type": "code",
   "execution_count": 16,
   "metadata": {},
   "outputs": [],
   "source": [
    "df_250['new_units'] = df_250['new_units'].astype('int')"
   ]
  },
  {
   "cell_type": "code",
   "execution_count": 17,
   "metadata": {},
   "outputs": [
    {
     "output_type": "execute_result",
     "data": {
      "text/plain": [
       "       Restaurant  Sales YOY_Sales  Units YOY_Units  \\\n",
       "Rank                                                  \n",
       "1      McDonald's  40412      4.9%  13846     -0.5%   \n",
       "2       Starbucks  21380      8.6%  15049      3.0%   \n",
       "3     Chick-fil-A  11320     13.0%   2470      5.0%   \n",
       "4       Taco Bell  11293      9.0%   6766      2.7%   \n",
       "5     Burger King  10204      2.7%   7346      0.2%   \n",
       "\n",
       "                 Segment_Category  new_sales_perc  new_sales  new_units_perc  \\\n",
       "Rank                                                                           \n",
       "1          Quick Service & Burger           0.049  42392.188          -0.005   \n",
       "2     Quick Service & Coffee Cafe           0.086  23218.680           0.030   \n",
       "3         Quick Service & Chicken           0.130  12791.600           0.050   \n",
       "4         Quick Service & Mexican           0.090  12309.370           0.027   \n",
       "5          Quick Service & Burger           0.027  10479.508           0.002   \n",
       "\n",
       "      new_units  \n",
       "Rank             \n",
       "1         13776  \n",
       "2         15500  \n",
       "3          2593  \n",
       "4          6948  \n",
       "5          7360  "
      ],
      "text/html": "<div>\n<style scoped>\n    .dataframe tbody tr th:only-of-type {\n        vertical-align: middle;\n    }\n\n    .dataframe tbody tr th {\n        vertical-align: top;\n    }\n\n    .dataframe thead th {\n        text-align: right;\n    }\n</style>\n<table border=\"1\" class=\"dataframe\">\n  <thead>\n    <tr style=\"text-align: right;\">\n      <th></th>\n      <th>Restaurant</th>\n      <th>Sales</th>\n      <th>YOY_Sales</th>\n      <th>Units</th>\n      <th>YOY_Units</th>\n      <th>Segment_Category</th>\n      <th>new_sales_perc</th>\n      <th>new_sales</th>\n      <th>new_units_perc</th>\n      <th>new_units</th>\n    </tr>\n    <tr>\n      <th>Rank</th>\n      <th></th>\n      <th></th>\n      <th></th>\n      <th></th>\n      <th></th>\n      <th></th>\n      <th></th>\n      <th></th>\n      <th></th>\n      <th></th>\n    </tr>\n  </thead>\n  <tbody>\n    <tr>\n      <th>1</th>\n      <td>McDonald's</td>\n      <td>40412</td>\n      <td>4.9%</td>\n      <td>13846</td>\n      <td>-0.5%</td>\n      <td>Quick Service &amp; Burger</td>\n      <td>0.049</td>\n      <td>42392.188</td>\n      <td>-0.005</td>\n      <td>13776</td>\n    </tr>\n    <tr>\n      <th>2</th>\n      <td>Starbucks</td>\n      <td>21380</td>\n      <td>8.6%</td>\n      <td>15049</td>\n      <td>3.0%</td>\n      <td>Quick Service &amp; Coffee Cafe</td>\n      <td>0.086</td>\n      <td>23218.680</td>\n      <td>0.030</td>\n      <td>15500</td>\n    </tr>\n    <tr>\n      <th>3</th>\n      <td>Chick-fil-A</td>\n      <td>11320</td>\n      <td>13.0%</td>\n      <td>2470</td>\n      <td>5.0%</td>\n      <td>Quick Service &amp; Chicken</td>\n      <td>0.130</td>\n      <td>12791.600</td>\n      <td>0.050</td>\n      <td>2593</td>\n    </tr>\n    <tr>\n      <th>4</th>\n      <td>Taco Bell</td>\n      <td>11293</td>\n      <td>9.0%</td>\n      <td>6766</td>\n      <td>2.7%</td>\n      <td>Quick Service &amp; Mexican</td>\n      <td>0.090</td>\n      <td>12309.370</td>\n      <td>0.027</td>\n      <td>6948</td>\n    </tr>\n    <tr>\n      <th>5</th>\n      <td>Burger King</td>\n      <td>10204</td>\n      <td>2.7%</td>\n      <td>7346</td>\n      <td>0.2%</td>\n      <td>Quick Service &amp; Burger</td>\n      <td>0.027</td>\n      <td>10479.508</td>\n      <td>0.002</td>\n      <td>7360</td>\n    </tr>\n  </tbody>\n</table>\n</div>"
     },
     "metadata": {},
     "execution_count": 17
    }
   ],
   "source": [
    "df_250.head()"
   ]
  },
  {
   "cell_type": "code",
   "execution_count": 18,
   "metadata": {},
   "outputs": [],
   "source": [
    "def gain_loss(column):  #calculating gain or loss using the '-' sign\n",
    "    for x in str(column):\n",
    "        if(x.startswith('-')):\n",
    "            return 0  #0 means we have incurred loss\n",
    "        else:\n",
    "            return 1"
   ]
  },
  {
   "cell_type": "code",
   "execution_count": 19,
   "metadata": {},
   "outputs": [],
   "source": [
    "df_250['gl_sales'] = df_250['new_sales_perc'].apply(gain_loss)"
   ]
  },
  {
   "cell_type": "code",
   "execution_count": 20,
   "metadata": {},
   "outputs": [],
   "source": [
    "df_250['gl_units'] = df_250['new_units_perc'].apply(gain_loss)"
   ]
  },
  {
   "cell_type": "code",
   "execution_count": 21,
   "metadata": {},
   "outputs": [
    {
     "output_type": "execute_result",
     "data": {
      "text/plain": [
       "       Restaurant  Sales YOY_Sales  Units YOY_Units  \\\n",
       "Rank                                                  \n",
       "1      McDonald's  40412      4.9%  13846     -0.5%   \n",
       "2       Starbucks  21380      8.6%  15049      3.0%   \n",
       "3     Chick-fil-A  11320     13.0%   2470      5.0%   \n",
       "4       Taco Bell  11293      9.0%   6766      2.7%   \n",
       "5     Burger King  10204      2.7%   7346      0.2%   \n",
       "\n",
       "                 Segment_Category  new_sales_perc  new_sales  new_units_perc  \\\n",
       "Rank                                                                           \n",
       "1          Quick Service & Burger           0.049  42392.188          -0.005   \n",
       "2     Quick Service & Coffee Cafe           0.086  23218.680           0.030   \n",
       "3         Quick Service & Chicken           0.130  12791.600           0.050   \n",
       "4         Quick Service & Mexican           0.090  12309.370           0.027   \n",
       "5          Quick Service & Burger           0.027  10479.508           0.002   \n",
       "\n",
       "      new_units  gl_sales  gl_units  \n",
       "Rank                                 \n",
       "1         13776         1         0  \n",
       "2         15500         1         1  \n",
       "3          2593         1         1  \n",
       "4          6948         1         1  \n",
       "5          7360         1         1  "
      ],
      "text/html": "<div>\n<style scoped>\n    .dataframe tbody tr th:only-of-type {\n        vertical-align: middle;\n    }\n\n    .dataframe tbody tr th {\n        vertical-align: top;\n    }\n\n    .dataframe thead th {\n        text-align: right;\n    }\n</style>\n<table border=\"1\" class=\"dataframe\">\n  <thead>\n    <tr style=\"text-align: right;\">\n      <th></th>\n      <th>Restaurant</th>\n      <th>Sales</th>\n      <th>YOY_Sales</th>\n      <th>Units</th>\n      <th>YOY_Units</th>\n      <th>Segment_Category</th>\n      <th>new_sales_perc</th>\n      <th>new_sales</th>\n      <th>new_units_perc</th>\n      <th>new_units</th>\n      <th>gl_sales</th>\n      <th>gl_units</th>\n    </tr>\n    <tr>\n      <th>Rank</th>\n      <th></th>\n      <th></th>\n      <th></th>\n      <th></th>\n      <th></th>\n      <th></th>\n      <th></th>\n      <th></th>\n      <th></th>\n      <th></th>\n      <th></th>\n      <th></th>\n    </tr>\n  </thead>\n  <tbody>\n    <tr>\n      <th>1</th>\n      <td>McDonald's</td>\n      <td>40412</td>\n      <td>4.9%</td>\n      <td>13846</td>\n      <td>-0.5%</td>\n      <td>Quick Service &amp; Burger</td>\n      <td>0.049</td>\n      <td>42392.188</td>\n      <td>-0.005</td>\n      <td>13776</td>\n      <td>1</td>\n      <td>0</td>\n    </tr>\n    <tr>\n      <th>2</th>\n      <td>Starbucks</td>\n      <td>21380</td>\n      <td>8.6%</td>\n      <td>15049</td>\n      <td>3.0%</td>\n      <td>Quick Service &amp; Coffee Cafe</td>\n      <td>0.086</td>\n      <td>23218.680</td>\n      <td>0.030</td>\n      <td>15500</td>\n      <td>1</td>\n      <td>1</td>\n    </tr>\n    <tr>\n      <th>3</th>\n      <td>Chick-fil-A</td>\n      <td>11320</td>\n      <td>13.0%</td>\n      <td>2470</td>\n      <td>5.0%</td>\n      <td>Quick Service &amp; Chicken</td>\n      <td>0.130</td>\n      <td>12791.600</td>\n      <td>0.050</td>\n      <td>2593</td>\n      <td>1</td>\n      <td>1</td>\n    </tr>\n    <tr>\n      <th>4</th>\n      <td>Taco Bell</td>\n      <td>11293</td>\n      <td>9.0%</td>\n      <td>6766</td>\n      <td>2.7%</td>\n      <td>Quick Service &amp; Mexican</td>\n      <td>0.090</td>\n      <td>12309.370</td>\n      <td>0.027</td>\n      <td>6948</td>\n      <td>1</td>\n      <td>1</td>\n    </tr>\n    <tr>\n      <th>5</th>\n      <td>Burger King</td>\n      <td>10204</td>\n      <td>2.7%</td>\n      <td>7346</td>\n      <td>0.2%</td>\n      <td>Quick Service &amp; Burger</td>\n      <td>0.027</td>\n      <td>10479.508</td>\n      <td>0.002</td>\n      <td>7360</td>\n      <td>1</td>\n      <td>1</td>\n    </tr>\n  </tbody>\n</table>\n</div>"
     },
     "metadata": {},
     "execution_count": 21
    }
   ],
   "source": [
    "df_250.head()"
   ]
  },
  {
   "cell_type": "code",
   "execution_count": 22,
   "metadata": {},
   "outputs": [
    {
     "output_type": "execute_result",
     "data": {
      "text/plain": [
       "       Restaurant  Sales  Units             Segment_Category  new_sales  \\\n",
       "Rank                                                                      \n",
       "1      McDonald's  40412  13846       Quick Service & Burger  42392.188   \n",
       "2       Starbucks  21380  15049  Quick Service & Coffee Cafe  23218.680   \n",
       "3     Chick-fil-A  11320   2470      Quick Service & Chicken  12791.600   \n",
       "4       Taco Bell  11293   6766      Quick Service & Mexican  12309.370   \n",
       "5     Burger King  10204   7346       Quick Service & Burger  10479.508   \n",
       "\n",
       "      new_units  gl_sales  gl_units  \n",
       "Rank                                 \n",
       "1         13776         1         0  \n",
       "2         15500         1         1  \n",
       "3          2593         1         1  \n",
       "4          6948         1         1  \n",
       "5          7360         1         1  "
      ],
      "text/html": "<div>\n<style scoped>\n    .dataframe tbody tr th:only-of-type {\n        vertical-align: middle;\n    }\n\n    .dataframe tbody tr th {\n        vertical-align: top;\n    }\n\n    .dataframe thead th {\n        text-align: right;\n    }\n</style>\n<table border=\"1\" class=\"dataframe\">\n  <thead>\n    <tr style=\"text-align: right;\">\n      <th></th>\n      <th>Restaurant</th>\n      <th>Sales</th>\n      <th>Units</th>\n      <th>Segment_Category</th>\n      <th>new_sales</th>\n      <th>new_units</th>\n      <th>gl_sales</th>\n      <th>gl_units</th>\n    </tr>\n    <tr>\n      <th>Rank</th>\n      <th></th>\n      <th></th>\n      <th></th>\n      <th></th>\n      <th></th>\n      <th></th>\n      <th></th>\n      <th></th>\n    </tr>\n  </thead>\n  <tbody>\n    <tr>\n      <th>1</th>\n      <td>McDonald's</td>\n      <td>40412</td>\n      <td>13846</td>\n      <td>Quick Service &amp; Burger</td>\n      <td>42392.188</td>\n      <td>13776</td>\n      <td>1</td>\n      <td>0</td>\n    </tr>\n    <tr>\n      <th>2</th>\n      <td>Starbucks</td>\n      <td>21380</td>\n      <td>15049</td>\n      <td>Quick Service &amp; Coffee Cafe</td>\n      <td>23218.680</td>\n      <td>15500</td>\n      <td>1</td>\n      <td>1</td>\n    </tr>\n    <tr>\n      <th>3</th>\n      <td>Chick-fil-A</td>\n      <td>11320</td>\n      <td>2470</td>\n      <td>Quick Service &amp; Chicken</td>\n      <td>12791.600</td>\n      <td>2593</td>\n      <td>1</td>\n      <td>1</td>\n    </tr>\n    <tr>\n      <th>4</th>\n      <td>Taco Bell</td>\n      <td>11293</td>\n      <td>6766</td>\n      <td>Quick Service &amp; Mexican</td>\n      <td>12309.370</td>\n      <td>6948</td>\n      <td>1</td>\n      <td>1</td>\n    </tr>\n    <tr>\n      <th>5</th>\n      <td>Burger King</td>\n      <td>10204</td>\n      <td>7346</td>\n      <td>Quick Service &amp; Burger</td>\n      <td>10479.508</td>\n      <td>7360</td>\n      <td>1</td>\n      <td>1</td>\n    </tr>\n  </tbody>\n</table>\n</div>"
     },
     "metadata": {},
     "execution_count": 22
    }
   ],
   "source": [
    "df = df_250.drop(['YOY_Sales','YOY_Units','new_sales_perc','new_units_perc'],axis=1)\n",
    "df.head()"
   ]
  },
  {
   "cell_type": "code",
   "execution_count": 23,
   "metadata": {},
   "outputs": [
    {
     "output_type": "execute_result",
     "data": {
      "text/plain": [
       "Varied Menu                        22\n",
       "Mexican                            14\n",
       "Quick Service & Burger             13\n",
       "Italian/Pizza                      10\n",
       "Family Style                       10\n",
       "Burger                             10\n",
       "Steak                               9\n",
       "Pizza                               9\n",
       "Casual Dining & Varied Menu         9\n",
       "Seafood                             8\n",
       "Quick Service & Pizza               8\n",
       "Bakery Cafe                         8\n",
       "BBQ                                 7\n",
       "Sandwich                            7\n",
       "Family Dining & Family Style        7\n",
       "Chicken                             7\n",
       "Fast Casual & Sandwich              6\n",
       "Sports Bar                          6\n",
       "Quick Service & Chicken             6\n",
       "Quick Service & Sandwich            4\n",
       "Fast Casual & Chicken               4\n",
       "Coffee Cafe                         4\n",
       "Casual Dining & Steak               4\n",
       "Casual Dining & Italian/Pizza       4\n",
       "Family Casual                       4\n",
       "Fast Casual & Burger                4\n",
       "Quick Service & Coffee Cafe         4\n",
       "Frozen Desserts                     4\n",
       "Snack                               4\n",
       "Quick Service & Beverage            3\n",
       "Fast Casual & Mexican               3\n",
       "Asian                               3\n",
       "Casual Dining & Sports Bar          3\n",
       "Asian/Noodle                        3\n",
       "Quick Service & Mexican             2\n",
       "Casual Dining & Seafood             2\n",
       "Quick Service & Frozen Desserts     2\n",
       "Fast Casual & Asian/Noodle          2\n",
       "Quick Service & Snack               2\n",
       "Fast Casual & Pizza                 1\n",
       "Fine Dining & Steak                 1\n",
       "Casual Dining & Asian               1\n",
       "Quick Service & Bakery Cafe         1\n",
       "Quick Service & Seafood             1\n",
       "Fast Casual & Bakery Cafe           1\n",
       "Ethnic                              1\n",
       "Healthy                             1\n",
       "Quick Service & Family Casual       1\n",
       "Name: Segment_Category, dtype: int64"
      ]
     },
     "metadata": {},
     "execution_count": 23
    }
   ],
   "source": [
    "df['Segment_Category'].value_counts()"
   ]
  },
  {
   "cell_type": "code",
   "execution_count": 25,
   "metadata": {},
   "outputs": [
    {
     "output_type": "stream",
     "name": "stderr",
     "text": [
      "/Users/shivambhosale/opt/anaconda3/envs/tensorflow/lib/python3.7/site-packages/seaborn/_decorators.py:43: FutureWarning: Pass the following variable as a keyword arg: x. From version 0.12, the only valid positional argument will be `data`, and passing other arguments without an explicit keyword will result in an error or misinterpretation.\n  FutureWarning\n/Users/shivambhosale/opt/anaconda3/envs/tensorflow/lib/python3.7/site-packages/seaborn/_decorators.py:43: FutureWarning: Pass the following variable as a keyword arg: x. From version 0.12, the only valid positional argument will be `data`, and passing other arguments without an explicit keyword will result in an error or misinterpretation.\n  FutureWarning\n"
     ]
    },
    {
     "output_type": "display_data",
     "data": {
      "text/plain": "<Figure size 432x288 with 2 Axes>",
      "image/svg+xml": "<?xml version=\"1.0\" encoding=\"utf-8\" standalone=\"no\"?>\n<!DOCTYPE svg PUBLIC \"-//W3C//DTD SVG 1.1//EN\"\n  \"http://www.w3.org/Graphics/SVG/1.1/DTD/svg11.dtd\">\n<!-- Created with matplotlib (https://matplotlib.org/) -->\n<svg height=\"278.64625pt\" version=\"1.1\" viewBox=\"0 0 424.440625 278.64625\" width=\"424.440625pt\" xmlns=\"http://www.w3.org/2000/svg\" xmlns:xlink=\"http://www.w3.org/1999/xlink\">\n <metadata>\n  <rdf:RDF xmlns:cc=\"http://creativecommons.org/ns#\" xmlns:dc=\"http://purl.org/dc/elements/1.1/\" xmlns:rdf=\"http://www.w3.org/1999/02/22-rdf-syntax-ns#\">\n   <cc:Work>\n    <dc:type rdf:resource=\"http://purl.org/dc/dcmitype/StillImage\"/>\n    <dc:date>2021-03-25T15:45:31.979060</dc:date>\n    <dc:format>image/svg+xml</dc:format>\n    <dc:creator>\n     <cc:Agent>\n      <dc:title>Matplotlib v3.3.1, https://matplotlib.org/</dc:title>\n     </cc:Agent>\n    </dc:creator>\n   </cc:Work>\n  </rdf:RDF>\n </metadata>\n <defs>\n  <style type=\"text/css\">*{stroke-linecap:butt;stroke-linejoin:round;}</style>\n </defs>\n <g id=\"figure_1\">\n  <g id=\"patch_1\">\n   <path d=\"M 0 278.64625 \nL 424.440625 278.64625 \nL 424.440625 0 \nL 0 0 \nz\n\" style=\"fill:none;\"/>\n  </g>\n  <g id=\"axes_1\">\n   <g id=\"patch_2\">\n    <path d=\"M 46.965625 240.811875 \nL 206.640625 240.811875 \nL 206.640625 22.318125 \nL 46.965625 22.318125 \nz\n\" style=\"fill:#ffffff;\"/>\n   </g>\n   <g id=\"patch_3\">\n    <path clip-path=\"url(#p8ae46d8198)\" d=\"M 54.949375 240.811875 \nL 118.819375 240.811875 \nL 118.819375 131.691884 \nL 54.949375 131.691884 \nz\n\" style=\"fill:#3274a1;\"/>\n   </g>\n   <g id=\"patch_4\">\n    <path clip-path=\"url(#p8ae46d8198)\" d=\"M 134.786875 240.811875 \nL 198.656875 240.811875 \nL 198.656875 32.722589 \nL 134.786875 32.722589 \nz\n\" style=\"fill:#e1812c;\"/>\n   </g>\n   <g id=\"matplotlib.axis_1\">\n    <g id=\"xtick_1\">\n     <g id=\"line2d_1\">\n      <defs>\n       <path d=\"M 0 0 \nL 0 3.5 \n\" id=\"mceed37b50a\" style=\"stroke:#000000;stroke-width:0.8;\"/>\n      </defs>\n      <g>\n       <use style=\"stroke:#000000;stroke-width:0.8;\" x=\"86.884375\" xlink:href=\"#mceed37b50a\" y=\"240.811875\"/>\n      </g>\n     </g>\n     <g id=\"text_1\">\n      <!-- 0 -->\n      <g transform=\"translate(83.703125 255.410313)scale(0.1 -0.1)\">\n       <defs>\n        <path d=\"M 31.78125 66.40625 \nQ 24.171875 66.40625 20.328125 58.90625 \nQ 16.5 51.421875 16.5 36.375 \nQ 16.5 21.390625 20.328125 13.890625 \nQ 24.171875 6.390625 31.78125 6.390625 \nQ 39.453125 6.390625 43.28125 13.890625 \nQ 47.125 21.390625 47.125 36.375 \nQ 47.125 51.421875 43.28125 58.90625 \nQ 39.453125 66.40625 31.78125 66.40625 \nz\nM 31.78125 74.21875 \nQ 44.046875 74.21875 50.515625 64.515625 \nQ 56.984375 54.828125 56.984375 36.375 \nQ 56.984375 17.96875 50.515625 8.265625 \nQ 44.046875 -1.421875 31.78125 -1.421875 \nQ 19.53125 -1.421875 13.0625 8.265625 \nQ 6.59375 17.96875 6.59375 36.375 \nQ 6.59375 54.828125 13.0625 64.515625 \nQ 19.53125 74.21875 31.78125 74.21875 \nz\n\" id=\"DejaVuSans-48\"/>\n       </defs>\n       <use xlink:href=\"#DejaVuSans-48\"/>\n      </g>\n     </g>\n    </g>\n    <g id=\"xtick_2\">\n     <g id=\"line2d_2\">\n      <g>\n       <use style=\"stroke:#000000;stroke-width:0.8;\" x=\"166.721875\" xlink:href=\"#mceed37b50a\" y=\"240.811875\"/>\n      </g>\n     </g>\n     <g id=\"text_2\">\n      <!-- 1 -->\n      <g transform=\"translate(163.540625 255.410313)scale(0.1 -0.1)\">\n       <defs>\n        <path d=\"M 12.40625 8.296875 \nL 28.515625 8.296875 \nL 28.515625 63.921875 \nL 10.984375 60.40625 \nL 10.984375 69.390625 \nL 28.421875 72.90625 \nL 38.28125 72.90625 \nL 38.28125 8.296875 \nL 54.390625 8.296875 \nL 54.390625 0 \nL 12.40625 0 \nz\n\" id=\"DejaVuSans-49\"/>\n       </defs>\n       <use xlink:href=\"#DejaVuSans-49\"/>\n      </g>\n     </g>\n    </g>\n    <g id=\"text_3\">\n     <!-- gl_sales -->\n     <g transform=\"translate(107.000781 269.088438)scale(0.1 -0.1)\">\n      <defs>\n       <path d=\"M 45.40625 27.984375 \nQ 45.40625 37.75 41.375 43.109375 \nQ 37.359375 48.484375 30.078125 48.484375 \nQ 22.859375 48.484375 18.828125 43.109375 \nQ 14.796875 37.75 14.796875 27.984375 \nQ 14.796875 18.265625 18.828125 12.890625 \nQ 22.859375 7.515625 30.078125 7.515625 \nQ 37.359375 7.515625 41.375 12.890625 \nQ 45.40625 18.265625 45.40625 27.984375 \nz\nM 54.390625 6.78125 \nQ 54.390625 -7.171875 48.1875 -13.984375 \nQ 42 -20.796875 29.203125 -20.796875 \nQ 24.46875 -20.796875 20.265625 -20.09375 \nQ 16.0625 -19.390625 12.109375 -17.921875 \nL 12.109375 -9.1875 \nQ 16.0625 -11.328125 19.921875 -12.34375 \nQ 23.78125 -13.375 27.78125 -13.375 \nQ 36.625 -13.375 41.015625 -8.765625 \nQ 45.40625 -4.15625 45.40625 5.171875 \nL 45.40625 9.625 \nQ 42.625 4.78125 38.28125 2.390625 \nQ 33.9375 0 27.875 0 \nQ 17.828125 0 11.671875 7.65625 \nQ 5.515625 15.328125 5.515625 27.984375 \nQ 5.515625 40.671875 11.671875 48.328125 \nQ 17.828125 56 27.875 56 \nQ 33.9375 56 38.28125 53.609375 \nQ 42.625 51.21875 45.40625 46.390625 \nL 45.40625 54.6875 \nL 54.390625 54.6875 \nz\n\" id=\"DejaVuSans-103\"/>\n       <path d=\"M 9.421875 75.984375 \nL 18.40625 75.984375 \nL 18.40625 0 \nL 9.421875 0 \nz\n\" id=\"DejaVuSans-108\"/>\n       <path d=\"M 50.984375 -16.609375 \nL 50.984375 -23.578125 \nL -0.984375 -23.578125 \nL -0.984375 -16.609375 \nz\n\" id=\"DejaVuSans-95\"/>\n       <path d=\"M 44.28125 53.078125 \nL 44.28125 44.578125 \nQ 40.484375 46.53125 36.375 47.5 \nQ 32.28125 48.484375 27.875 48.484375 \nQ 21.1875 48.484375 17.84375 46.4375 \nQ 14.5 44.390625 14.5 40.28125 \nQ 14.5 37.15625 16.890625 35.375 \nQ 19.28125 33.59375 26.515625 31.984375 \nL 29.59375 31.296875 \nQ 39.15625 29.25 43.1875 25.515625 \nQ 47.21875 21.78125 47.21875 15.09375 \nQ 47.21875 7.46875 41.1875 3.015625 \nQ 35.15625 -1.421875 24.609375 -1.421875 \nQ 20.21875 -1.421875 15.453125 -0.5625 \nQ 10.6875 0.296875 5.421875 2 \nL 5.421875 11.28125 \nQ 10.40625 8.6875 15.234375 7.390625 \nQ 20.0625 6.109375 24.8125 6.109375 \nQ 31.15625 6.109375 34.5625 8.28125 \nQ 37.984375 10.453125 37.984375 14.40625 \nQ 37.984375 18.0625 35.515625 20.015625 \nQ 33.0625 21.96875 24.703125 23.78125 \nL 21.578125 24.515625 \nQ 13.234375 26.265625 9.515625 29.90625 \nQ 5.8125 33.546875 5.8125 39.890625 \nQ 5.8125 47.609375 11.28125 51.796875 \nQ 16.75 56 26.8125 56 \nQ 31.78125 56 36.171875 55.265625 \nQ 40.578125 54.546875 44.28125 53.078125 \nz\n\" id=\"DejaVuSans-115\"/>\n       <path d=\"M 34.28125 27.484375 \nQ 23.390625 27.484375 19.1875 25 \nQ 14.984375 22.515625 14.984375 16.5 \nQ 14.984375 11.71875 18.140625 8.90625 \nQ 21.296875 6.109375 26.703125 6.109375 \nQ 34.1875 6.109375 38.703125 11.40625 \nQ 43.21875 16.703125 43.21875 25.484375 \nL 43.21875 27.484375 \nz\nM 52.203125 31.203125 \nL 52.203125 0 \nL 43.21875 0 \nL 43.21875 8.296875 \nQ 40.140625 3.328125 35.546875 0.953125 \nQ 30.953125 -1.421875 24.3125 -1.421875 \nQ 15.921875 -1.421875 10.953125 3.296875 \nQ 6 8.015625 6 15.921875 \nQ 6 25.140625 12.171875 29.828125 \nQ 18.359375 34.515625 30.609375 34.515625 \nL 43.21875 34.515625 \nL 43.21875 35.40625 \nQ 43.21875 41.609375 39.140625 45 \nQ 35.0625 48.390625 27.6875 48.390625 \nQ 23 48.390625 18.546875 47.265625 \nQ 14.109375 46.140625 10.015625 43.890625 \nL 10.015625 52.203125 \nQ 14.9375 54.109375 19.578125 55.046875 \nQ 24.21875 56 28.609375 56 \nQ 40.484375 56 46.34375 49.84375 \nQ 52.203125 43.703125 52.203125 31.203125 \nz\n\" id=\"DejaVuSans-97\"/>\n       <path d=\"M 56.203125 29.59375 \nL 56.203125 25.203125 \nL 14.890625 25.203125 \nQ 15.484375 15.921875 20.484375 11.0625 \nQ 25.484375 6.203125 34.421875 6.203125 \nQ 39.59375 6.203125 44.453125 7.46875 \nQ 49.3125 8.734375 54.109375 11.28125 \nL 54.109375 2.78125 \nQ 49.265625 0.734375 44.1875 -0.34375 \nQ 39.109375 -1.421875 33.890625 -1.421875 \nQ 20.796875 -1.421875 13.15625 6.1875 \nQ 5.515625 13.8125 5.515625 26.8125 \nQ 5.515625 40.234375 12.765625 48.109375 \nQ 20.015625 56 32.328125 56 \nQ 43.359375 56 49.78125 48.890625 \nQ 56.203125 41.796875 56.203125 29.59375 \nz\nM 47.21875 32.234375 \nQ 47.125 39.59375 43.09375 43.984375 \nQ 39.0625 48.390625 32.421875 48.390625 \nQ 24.90625 48.390625 20.390625 44.140625 \nQ 15.875 39.890625 15.1875 32.171875 \nz\n\" id=\"DejaVuSans-101\"/>\n      </defs>\n      <use xlink:href=\"#DejaVuSans-103\"/>\n      <use x=\"63.476562\" xlink:href=\"#DejaVuSans-108\"/>\n      <use x=\"91.259766\" xlink:href=\"#DejaVuSans-95\"/>\n      <use x=\"141.259766\" xlink:href=\"#DejaVuSans-115\"/>\n      <use x=\"193.359375\" xlink:href=\"#DejaVuSans-97\"/>\n      <use x=\"254.638672\" xlink:href=\"#DejaVuSans-108\"/>\n      <use x=\"282.421875\" xlink:href=\"#DejaVuSans-101\"/>\n      <use x=\"343.945312\" xlink:href=\"#DejaVuSans-115\"/>\n     </g>\n    </g>\n   </g>\n   <g id=\"matplotlib.axis_2\">\n    <g id=\"ytick_1\">\n     <g id=\"line2d_3\">\n      <defs>\n       <path d=\"M 0 0 \nL -3.5 0 \n\" id=\"m2411e0c603\" style=\"stroke:#000000;stroke-width:0.8;\"/>\n      </defs>\n      <g>\n       <use style=\"stroke:#000000;stroke-width:0.8;\" x=\"46.965625\" xlink:href=\"#m2411e0c603\" y=\"240.811875\"/>\n      </g>\n     </g>\n     <g id=\"text_4\">\n      <!-- 0 -->\n      <g transform=\"translate(33.603125 244.611094)scale(0.1 -0.1)\">\n       <use xlink:href=\"#DejaVuSans-48\"/>\n      </g>\n     </g>\n    </g>\n    <g id=\"ytick_2\">\n     <g id=\"line2d_4\">\n      <g>\n       <use style=\"stroke:#000000;stroke-width:0.8;\" x=\"46.965625\" xlink:href=\"#m2411e0c603\" y=\"215.435133\"/>\n      </g>\n     </g>\n     <g id=\"text_5\">\n      <!-- 20 -->\n      <g transform=\"translate(27.240625 219.234352)scale(0.1 -0.1)\">\n       <defs>\n        <path d=\"M 19.1875 8.296875 \nL 53.609375 8.296875 \nL 53.609375 0 \nL 7.328125 0 \nL 7.328125 8.296875 \nQ 12.9375 14.109375 22.625 23.890625 \nQ 32.328125 33.6875 34.8125 36.53125 \nQ 39.546875 41.84375 41.421875 45.53125 \nQ 43.3125 49.21875 43.3125 52.78125 \nQ 43.3125 58.59375 39.234375 62.25 \nQ 35.15625 65.921875 28.609375 65.921875 \nQ 23.96875 65.921875 18.8125 64.3125 \nQ 13.671875 62.703125 7.8125 59.421875 \nL 7.8125 69.390625 \nQ 13.765625 71.78125 18.9375 73 \nQ 24.125 74.21875 28.421875 74.21875 \nQ 39.75 74.21875 46.484375 68.546875 \nQ 53.21875 62.890625 53.21875 53.421875 \nQ 53.21875 48.921875 51.53125 44.890625 \nQ 49.859375 40.875 45.40625 35.40625 \nQ 44.1875 33.984375 37.640625 27.21875 \nQ 31.109375 20.453125 19.1875 8.296875 \nz\n\" id=\"DejaVuSans-50\"/>\n       </defs>\n       <use xlink:href=\"#DejaVuSans-50\"/>\n       <use x=\"63.623047\" xlink:href=\"#DejaVuSans-48\"/>\n      </g>\n     </g>\n    </g>\n    <g id=\"ytick_3\">\n     <g id=\"line2d_5\">\n      <g>\n       <use style=\"stroke:#000000;stroke-width:0.8;\" x=\"46.965625\" xlink:href=\"#m2411e0c603\" y=\"190.058391\"/>\n      </g>\n     </g>\n     <g id=\"text_6\">\n      <!-- 40 -->\n      <g transform=\"translate(27.240625 193.857609)scale(0.1 -0.1)\">\n       <defs>\n        <path d=\"M 37.796875 64.3125 \nL 12.890625 25.390625 \nL 37.796875 25.390625 \nz\nM 35.203125 72.90625 \nL 47.609375 72.90625 \nL 47.609375 25.390625 \nL 58.015625 25.390625 \nL 58.015625 17.1875 \nL 47.609375 17.1875 \nL 47.609375 0 \nL 37.796875 0 \nL 37.796875 17.1875 \nL 4.890625 17.1875 \nL 4.890625 26.703125 \nz\n\" id=\"DejaVuSans-52\"/>\n       </defs>\n       <use xlink:href=\"#DejaVuSans-52\"/>\n       <use x=\"63.623047\" xlink:href=\"#DejaVuSans-48\"/>\n      </g>\n     </g>\n    </g>\n    <g id=\"ytick_4\">\n     <g id=\"line2d_6\">\n      <g>\n       <use style=\"stroke:#000000;stroke-width:0.8;\" x=\"46.965625\" xlink:href=\"#m2411e0c603\" y=\"164.681649\"/>\n      </g>\n     </g>\n     <g id=\"text_7\">\n      <!-- 60 -->\n      <g transform=\"translate(27.240625 168.480867)scale(0.1 -0.1)\">\n       <defs>\n        <path d=\"M 33.015625 40.375 \nQ 26.375 40.375 22.484375 35.828125 \nQ 18.609375 31.296875 18.609375 23.390625 \nQ 18.609375 15.53125 22.484375 10.953125 \nQ 26.375 6.390625 33.015625 6.390625 \nQ 39.65625 6.390625 43.53125 10.953125 \nQ 47.40625 15.53125 47.40625 23.390625 \nQ 47.40625 31.296875 43.53125 35.828125 \nQ 39.65625 40.375 33.015625 40.375 \nz\nM 52.59375 71.296875 \nL 52.59375 62.3125 \nQ 48.875 64.0625 45.09375 64.984375 \nQ 41.3125 65.921875 37.59375 65.921875 \nQ 27.828125 65.921875 22.671875 59.328125 \nQ 17.53125 52.734375 16.796875 39.40625 \nQ 19.671875 43.65625 24.015625 45.921875 \nQ 28.375 48.1875 33.59375 48.1875 \nQ 44.578125 48.1875 50.953125 41.515625 \nQ 57.328125 34.859375 57.328125 23.390625 \nQ 57.328125 12.15625 50.6875 5.359375 \nQ 44.046875 -1.421875 33.015625 -1.421875 \nQ 20.359375 -1.421875 13.671875 8.265625 \nQ 6.984375 17.96875 6.984375 36.375 \nQ 6.984375 53.65625 15.1875 63.9375 \nQ 23.390625 74.21875 37.203125 74.21875 \nQ 40.921875 74.21875 44.703125 73.484375 \nQ 48.484375 72.75 52.59375 71.296875 \nz\n\" id=\"DejaVuSans-54\"/>\n       </defs>\n       <use xlink:href=\"#DejaVuSans-54\"/>\n       <use x=\"63.623047\" xlink:href=\"#DejaVuSans-48\"/>\n      </g>\n     </g>\n    </g>\n    <g id=\"ytick_5\">\n     <g id=\"line2d_7\">\n      <g>\n       <use style=\"stroke:#000000;stroke-width:0.8;\" x=\"46.965625\" xlink:href=\"#m2411e0c603\" y=\"139.304906\"/>\n      </g>\n     </g>\n     <g id=\"text_8\">\n      <!-- 80 -->\n      <g transform=\"translate(27.240625 143.104125)scale(0.1 -0.1)\">\n       <defs>\n        <path d=\"M 31.78125 34.625 \nQ 24.75 34.625 20.71875 30.859375 \nQ 16.703125 27.09375 16.703125 20.515625 \nQ 16.703125 13.921875 20.71875 10.15625 \nQ 24.75 6.390625 31.78125 6.390625 \nQ 38.8125 6.390625 42.859375 10.171875 \nQ 46.921875 13.96875 46.921875 20.515625 \nQ 46.921875 27.09375 42.890625 30.859375 \nQ 38.875 34.625 31.78125 34.625 \nz\nM 21.921875 38.8125 \nQ 15.578125 40.375 12.03125 44.71875 \nQ 8.5 49.078125 8.5 55.328125 \nQ 8.5 64.0625 14.71875 69.140625 \nQ 20.953125 74.21875 31.78125 74.21875 \nQ 42.671875 74.21875 48.875 69.140625 \nQ 55.078125 64.0625 55.078125 55.328125 \nQ 55.078125 49.078125 51.53125 44.71875 \nQ 48 40.375 41.703125 38.8125 \nQ 48.828125 37.15625 52.796875 32.3125 \nQ 56.78125 27.484375 56.78125 20.515625 \nQ 56.78125 9.90625 50.3125 4.234375 \nQ 43.84375 -1.421875 31.78125 -1.421875 \nQ 19.734375 -1.421875 13.25 4.234375 \nQ 6.78125 9.90625 6.78125 20.515625 \nQ 6.78125 27.484375 10.78125 32.3125 \nQ 14.796875 37.15625 21.921875 38.8125 \nz\nM 18.3125 54.390625 \nQ 18.3125 48.734375 21.84375 45.5625 \nQ 25.390625 42.390625 31.78125 42.390625 \nQ 38.140625 42.390625 41.71875 45.5625 \nQ 45.3125 48.734375 45.3125 54.390625 \nQ 45.3125 60.0625 41.71875 63.234375 \nQ 38.140625 66.40625 31.78125 66.40625 \nQ 25.390625 66.40625 21.84375 63.234375 \nQ 18.3125 60.0625 18.3125 54.390625 \nz\n\" id=\"DejaVuSans-56\"/>\n       </defs>\n       <use xlink:href=\"#DejaVuSans-56\"/>\n       <use x=\"63.623047\" xlink:href=\"#DejaVuSans-48\"/>\n      </g>\n     </g>\n    </g>\n    <g id=\"ytick_6\">\n     <g id=\"line2d_8\">\n      <g>\n       <use style=\"stroke:#000000;stroke-width:0.8;\" x=\"46.965625\" xlink:href=\"#m2411e0c603\" y=\"113.928164\"/>\n      </g>\n     </g>\n     <g id=\"text_9\">\n      <!-- 100 -->\n      <g transform=\"translate(20.878125 117.727383)scale(0.1 -0.1)\">\n       <use xlink:href=\"#DejaVuSans-49\"/>\n       <use x=\"63.623047\" xlink:href=\"#DejaVuSans-48\"/>\n       <use x=\"127.246094\" xlink:href=\"#DejaVuSans-48\"/>\n      </g>\n     </g>\n    </g>\n    <g id=\"ytick_7\">\n     <g id=\"line2d_9\">\n      <g>\n       <use style=\"stroke:#000000;stroke-width:0.8;\" x=\"46.965625\" xlink:href=\"#m2411e0c603\" y=\"88.551422\"/>\n      </g>\n     </g>\n     <g id=\"text_10\">\n      <!-- 120 -->\n      <g transform=\"translate(20.878125 92.350641)scale(0.1 -0.1)\">\n       <use xlink:href=\"#DejaVuSans-49\"/>\n       <use x=\"63.623047\" xlink:href=\"#DejaVuSans-50\"/>\n       <use x=\"127.246094\" xlink:href=\"#DejaVuSans-48\"/>\n      </g>\n     </g>\n    </g>\n    <g id=\"ytick_8\">\n     <g id=\"line2d_10\">\n      <g>\n       <use style=\"stroke:#000000;stroke-width:0.8;\" x=\"46.965625\" xlink:href=\"#m2411e0c603\" y=\"63.17468\"/>\n      </g>\n     </g>\n     <g id=\"text_11\">\n      <!-- 140 -->\n      <g transform=\"translate(20.878125 66.973899)scale(0.1 -0.1)\">\n       <use xlink:href=\"#DejaVuSans-49\"/>\n       <use x=\"63.623047\" xlink:href=\"#DejaVuSans-52\"/>\n       <use x=\"127.246094\" xlink:href=\"#DejaVuSans-48\"/>\n      </g>\n     </g>\n    </g>\n    <g id=\"ytick_9\">\n     <g id=\"line2d_11\">\n      <g>\n       <use style=\"stroke:#000000;stroke-width:0.8;\" x=\"46.965625\" xlink:href=\"#m2411e0c603\" y=\"37.797938\"/>\n      </g>\n     </g>\n     <g id=\"text_12\">\n      <!-- 160 -->\n      <g transform=\"translate(20.878125 41.597156)scale(0.1 -0.1)\">\n       <use xlink:href=\"#DejaVuSans-49\"/>\n       <use x=\"63.623047\" xlink:href=\"#DejaVuSans-54\"/>\n       <use x=\"127.246094\" xlink:href=\"#DejaVuSans-48\"/>\n      </g>\n     </g>\n    </g>\n    <g id=\"text_13\">\n     <!-- count -->\n     <g transform=\"translate(14.798438 145.67125)rotate(-90)scale(0.1 -0.1)\">\n      <defs>\n       <path d=\"M 48.78125 52.59375 \nL 48.78125 44.1875 \nQ 44.96875 46.296875 41.140625 47.34375 \nQ 37.3125 48.390625 33.40625 48.390625 \nQ 24.65625 48.390625 19.8125 42.84375 \nQ 14.984375 37.3125 14.984375 27.296875 \nQ 14.984375 17.28125 19.8125 11.734375 \nQ 24.65625 6.203125 33.40625 6.203125 \nQ 37.3125 6.203125 41.140625 7.25 \nQ 44.96875 8.296875 48.78125 10.40625 \nL 48.78125 2.09375 \nQ 45.015625 0.34375 40.984375 -0.53125 \nQ 36.96875 -1.421875 32.421875 -1.421875 \nQ 20.0625 -1.421875 12.78125 6.34375 \nQ 5.515625 14.109375 5.515625 27.296875 \nQ 5.515625 40.671875 12.859375 48.328125 \nQ 20.21875 56 33.015625 56 \nQ 37.15625 56 41.109375 55.140625 \nQ 45.0625 54.296875 48.78125 52.59375 \nz\n\" id=\"DejaVuSans-99\"/>\n       <path d=\"M 30.609375 48.390625 \nQ 23.390625 48.390625 19.1875 42.75 \nQ 14.984375 37.109375 14.984375 27.296875 \nQ 14.984375 17.484375 19.15625 11.84375 \nQ 23.34375 6.203125 30.609375 6.203125 \nQ 37.796875 6.203125 41.984375 11.859375 \nQ 46.1875 17.53125 46.1875 27.296875 \nQ 46.1875 37.015625 41.984375 42.703125 \nQ 37.796875 48.390625 30.609375 48.390625 \nz\nM 30.609375 56 \nQ 42.328125 56 49.015625 48.375 \nQ 55.71875 40.765625 55.71875 27.296875 \nQ 55.71875 13.875 49.015625 6.21875 \nQ 42.328125 -1.421875 30.609375 -1.421875 \nQ 18.84375 -1.421875 12.171875 6.21875 \nQ 5.515625 13.875 5.515625 27.296875 \nQ 5.515625 40.765625 12.171875 48.375 \nQ 18.84375 56 30.609375 56 \nz\n\" id=\"DejaVuSans-111\"/>\n       <path d=\"M 8.5 21.578125 \nL 8.5 54.6875 \nL 17.484375 54.6875 \nL 17.484375 21.921875 \nQ 17.484375 14.15625 20.5 10.265625 \nQ 23.53125 6.390625 29.59375 6.390625 \nQ 36.859375 6.390625 41.078125 11.03125 \nQ 45.3125 15.671875 45.3125 23.6875 \nL 45.3125 54.6875 \nL 54.296875 54.6875 \nL 54.296875 0 \nL 45.3125 0 \nL 45.3125 8.40625 \nQ 42.046875 3.421875 37.71875 1 \nQ 33.40625 -1.421875 27.6875 -1.421875 \nQ 18.265625 -1.421875 13.375 4.4375 \nQ 8.5 10.296875 8.5 21.578125 \nz\nM 31.109375 56 \nz\n\" id=\"DejaVuSans-117\"/>\n       <path d=\"M 54.890625 33.015625 \nL 54.890625 0 \nL 45.90625 0 \nL 45.90625 32.71875 \nQ 45.90625 40.484375 42.875 44.328125 \nQ 39.84375 48.1875 33.796875 48.1875 \nQ 26.515625 48.1875 22.3125 43.546875 \nQ 18.109375 38.921875 18.109375 30.90625 \nL 18.109375 0 \nL 9.078125 0 \nL 9.078125 54.6875 \nL 18.109375 54.6875 \nL 18.109375 46.1875 \nQ 21.34375 51.125 25.703125 53.5625 \nQ 30.078125 56 35.796875 56 \nQ 45.21875 56 50.046875 50.171875 \nQ 54.890625 44.34375 54.890625 33.015625 \nz\n\" id=\"DejaVuSans-110\"/>\n       <path d=\"M 18.3125 70.21875 \nL 18.3125 54.6875 \nL 36.8125 54.6875 \nL 36.8125 47.703125 \nL 18.3125 47.703125 \nL 18.3125 18.015625 \nQ 18.3125 11.328125 20.140625 9.421875 \nQ 21.96875 7.515625 27.59375 7.515625 \nL 36.8125 7.515625 \nL 36.8125 0 \nL 27.59375 0 \nQ 17.1875 0 13.234375 3.875 \nQ 9.28125 7.765625 9.28125 18.015625 \nL 9.28125 47.703125 \nL 2.6875 47.703125 \nL 2.6875 54.6875 \nL 9.28125 54.6875 \nL 9.28125 70.21875 \nz\n\" id=\"DejaVuSans-116\"/>\n      </defs>\n      <use xlink:href=\"#DejaVuSans-99\"/>\n      <use x=\"54.980469\" xlink:href=\"#DejaVuSans-111\"/>\n      <use x=\"116.162109\" xlink:href=\"#DejaVuSans-117\"/>\n      <use x=\"179.541016\" xlink:href=\"#DejaVuSans-110\"/>\n      <use x=\"242.919922\" xlink:href=\"#DejaVuSans-116\"/>\n     </g>\n    </g>\n   </g>\n   <g id=\"patch_5\">\n    <path d=\"M 46.965625 240.811875 \nL 46.965625 22.318125 \n\" style=\"fill:none;stroke:#000000;stroke-linecap:square;stroke-linejoin:miter;stroke-width:0.8;\"/>\n   </g>\n   <g id=\"patch_6\">\n    <path d=\"M 206.640625 240.811875 \nL 206.640625 22.318125 \n\" style=\"fill:none;stroke:#000000;stroke-linecap:square;stroke-linejoin:miter;stroke-width:0.8;\"/>\n   </g>\n   <g id=\"patch_7\">\n    <path d=\"M 46.965625 240.811875 \nL 206.640625 240.811875 \n\" style=\"fill:none;stroke:#000000;stroke-linecap:square;stroke-linejoin:miter;stroke-width:0.8;\"/>\n   </g>\n   <g id=\"patch_8\">\n    <path d=\"M 46.965625 22.318125 \nL 206.640625 22.318125 \n\" style=\"fill:none;stroke:#000000;stroke-linecap:square;stroke-linejoin:miter;stroke-width:0.8;\"/>\n   </g>\n   <g id=\"text_14\">\n    <!-- Gain/Loss in Sales -->\n    <g transform=\"translate(72.5725 16.318125)scale(0.12 -0.12)\">\n     <defs>\n      <path d=\"M 59.515625 10.40625 \nL 59.515625 29.984375 \nL 43.40625 29.984375 \nL 43.40625 38.09375 \nL 69.28125 38.09375 \nL 69.28125 6.78125 \nQ 63.578125 2.734375 56.6875 0.65625 \nQ 49.8125 -1.421875 42 -1.421875 \nQ 24.90625 -1.421875 15.25 8.5625 \nQ 5.609375 18.5625 5.609375 36.375 \nQ 5.609375 54.25 15.25 64.234375 \nQ 24.90625 74.21875 42 74.21875 \nQ 49.125 74.21875 55.546875 72.453125 \nQ 61.96875 70.703125 67.390625 67.28125 \nL 67.390625 56.78125 \nQ 61.921875 61.421875 55.765625 63.765625 \nQ 49.609375 66.109375 42.828125 66.109375 \nQ 29.4375 66.109375 22.71875 58.640625 \nQ 16.015625 51.171875 16.015625 36.375 \nQ 16.015625 21.625 22.71875 14.15625 \nQ 29.4375 6.6875 42.828125 6.6875 \nQ 48.046875 6.6875 52.140625 7.59375 \nQ 56.25 8.5 59.515625 10.40625 \nz\n\" id=\"DejaVuSans-71\"/>\n      <path d=\"M 9.421875 54.6875 \nL 18.40625 54.6875 \nL 18.40625 0 \nL 9.421875 0 \nz\nM 9.421875 75.984375 \nL 18.40625 75.984375 \nL 18.40625 64.59375 \nL 9.421875 64.59375 \nz\n\" id=\"DejaVuSans-105\"/>\n      <path d=\"M 25.390625 72.90625 \nL 33.6875 72.90625 \nL 8.296875 -9.28125 \nL 0 -9.28125 \nz\n\" id=\"DejaVuSans-47\"/>\n      <path d=\"M 9.8125 72.90625 \nL 19.671875 72.90625 \nL 19.671875 8.296875 \nL 55.171875 8.296875 \nL 55.171875 0 \nL 9.8125 0 \nz\n\" id=\"DejaVuSans-76\"/>\n      <path id=\"DejaVuSans-32\"/>\n      <path d=\"M 53.515625 70.515625 \nL 53.515625 60.890625 \nQ 47.90625 63.578125 42.921875 64.890625 \nQ 37.9375 66.21875 33.296875 66.21875 \nQ 25.25 66.21875 20.875 63.09375 \nQ 16.5 59.96875 16.5 54.203125 \nQ 16.5 49.359375 19.40625 46.890625 \nQ 22.3125 44.4375 30.421875 42.921875 \nL 36.375 41.703125 \nQ 47.40625 39.59375 52.65625 34.296875 \nQ 57.90625 29 57.90625 20.125 \nQ 57.90625 9.515625 50.796875 4.046875 \nQ 43.703125 -1.421875 29.984375 -1.421875 \nQ 24.8125 -1.421875 18.96875 -0.25 \nQ 13.140625 0.921875 6.890625 3.21875 \nL 6.890625 13.375 \nQ 12.890625 10.015625 18.65625 8.296875 \nQ 24.421875 6.59375 29.984375 6.59375 \nQ 38.421875 6.59375 43.015625 9.90625 \nQ 47.609375 13.234375 47.609375 19.390625 \nQ 47.609375 24.75 44.3125 27.78125 \nQ 41.015625 30.8125 33.5 32.328125 \nL 27.484375 33.5 \nQ 16.453125 35.6875 11.515625 40.375 \nQ 6.59375 45.0625 6.59375 53.421875 \nQ 6.59375 63.09375 13.40625 68.65625 \nQ 20.21875 74.21875 32.171875 74.21875 \nQ 37.3125 74.21875 42.625 73.28125 \nQ 47.953125 72.359375 53.515625 70.515625 \nz\n\" id=\"DejaVuSans-83\"/>\n     </defs>\n     <use xlink:href=\"#DejaVuSans-71\"/>\n     <use x=\"77.490234\" xlink:href=\"#DejaVuSans-97\"/>\n     <use x=\"138.769531\" xlink:href=\"#DejaVuSans-105\"/>\n     <use x=\"166.552734\" xlink:href=\"#DejaVuSans-110\"/>\n     <use x=\"229.931641\" xlink:href=\"#DejaVuSans-47\"/>\n     <use x=\"263.623047\" xlink:href=\"#DejaVuSans-76\"/>\n     <use x=\"317.585938\" xlink:href=\"#DejaVuSans-111\"/>\n     <use x=\"378.767578\" xlink:href=\"#DejaVuSans-115\"/>\n     <use x=\"430.867188\" xlink:href=\"#DejaVuSans-115\"/>\n     <use x=\"482.966797\" xlink:href=\"#DejaVuSans-32\"/>\n     <use x=\"514.753906\" xlink:href=\"#DejaVuSans-105\"/>\n     <use x=\"542.537109\" xlink:href=\"#DejaVuSans-110\"/>\n     <use x=\"605.916016\" xlink:href=\"#DejaVuSans-32\"/>\n     <use x=\"637.703125\" xlink:href=\"#DejaVuSans-83\"/>\n     <use x=\"701.179688\" xlink:href=\"#DejaVuSans-97\"/>\n     <use x=\"762.458984\" xlink:href=\"#DejaVuSans-108\"/>\n     <use x=\"790.242188\" xlink:href=\"#DejaVuSans-101\"/>\n     <use x=\"851.765625\" xlink:href=\"#DejaVuSans-115\"/>\n    </g>\n   </g>\n  </g>\n  <g id=\"axes_2\">\n   <g id=\"patch_9\">\n    <path d=\"M 257.565625 240.811875 \nL 417.240625 240.811875 \nL 417.240625 22.318125 \nL 257.565625 22.318125 \nz\n\" style=\"fill:#ffffff;\"/>\n   </g>\n   <g id=\"patch_10\">\n    <path clip-path=\"url(#p468e65208a)\" d=\"M 265.549375 240.811875 \nL 329.419375 240.811875 \nL 329.419375 90.12653 \nL 265.549375 90.12653 \nz\n\" style=\"fill:#3274a1;\"/>\n   </g>\n   <g id=\"patch_11\">\n    <path clip-path=\"url(#p468e65208a)\" d=\"M 345.386875 240.811875 \nL 409.256875 240.811875 \nL 409.256875 32.722589 \nL 345.386875 32.722589 \nz\n\" style=\"fill:#e1812c;\"/>\n   </g>\n   <g id=\"matplotlib.axis_3\">\n    <g id=\"xtick_3\">\n     <g id=\"line2d_12\">\n      <g>\n       <use style=\"stroke:#000000;stroke-width:0.8;\" x=\"297.484375\" xlink:href=\"#mceed37b50a\" y=\"240.811875\"/>\n      </g>\n     </g>\n     <g id=\"text_15\">\n      <!-- 0 -->\n      <g transform=\"translate(294.303125 255.410313)scale(0.1 -0.1)\">\n       <use xlink:href=\"#DejaVuSans-48\"/>\n      </g>\n     </g>\n    </g>\n    <g id=\"xtick_4\">\n     <g id=\"line2d_13\">\n      <g>\n       <use style=\"stroke:#000000;stroke-width:0.8;\" x=\"377.321875\" xlink:href=\"#mceed37b50a\" y=\"240.811875\"/>\n      </g>\n     </g>\n     <g id=\"text_16\">\n      <!-- 1 -->\n      <g transform=\"translate(374.140625 255.410313)scale(0.1 -0.1)\">\n       <use xlink:href=\"#DejaVuSans-49\"/>\n      </g>\n     </g>\n    </g>\n    <g id=\"text_17\">\n     <!-- gl_units -->\n     <g transform=\"translate(318.048437 269.088438)scale(0.1 -0.1)\">\n      <use xlink:href=\"#DejaVuSans-103\"/>\n      <use x=\"63.476562\" xlink:href=\"#DejaVuSans-108\"/>\n      <use x=\"91.259766\" xlink:href=\"#DejaVuSans-95\"/>\n      <use x=\"141.259766\" xlink:href=\"#DejaVuSans-117\"/>\n      <use x=\"204.638672\" xlink:href=\"#DejaVuSans-110\"/>\n      <use x=\"268.017578\" xlink:href=\"#DejaVuSans-105\"/>\n      <use x=\"295.800781\" xlink:href=\"#DejaVuSans-116\"/>\n      <use x=\"335.009766\" xlink:href=\"#DejaVuSans-115\"/>\n     </g>\n    </g>\n   </g>\n   <g id=\"matplotlib.axis_4\">\n    <g id=\"ytick_10\">\n     <g id=\"line2d_14\">\n      <g>\n       <use style=\"stroke:#000000;stroke-width:0.8;\" x=\"257.565625\" xlink:href=\"#m2411e0c603\" y=\"240.811875\"/>\n      </g>\n     </g>\n     <g id=\"text_18\">\n      <!-- 0 -->\n      <g transform=\"translate(244.203125 244.611094)scale(0.1 -0.1)\">\n       <use xlink:href=\"#DejaVuSans-48\"/>\n      </g>\n     </g>\n    </g>\n    <g id=\"ytick_11\">\n     <g id=\"line2d_15\">\n      <g>\n       <use style=\"stroke:#000000;stroke-width:0.8;\" x=\"257.565625\" xlink:href=\"#m2411e0c603\" y=\"212.109905\"/>\n      </g>\n     </g>\n     <g id=\"text_19\">\n      <!-- 20 -->\n      <g transform=\"translate(237.840625 215.909123)scale(0.1 -0.1)\">\n       <use xlink:href=\"#DejaVuSans-50\"/>\n       <use x=\"63.623047\" xlink:href=\"#DejaVuSans-48\"/>\n      </g>\n     </g>\n    </g>\n    <g id=\"ytick_12\">\n     <g id=\"line2d_16\">\n      <g>\n       <use style=\"stroke:#000000;stroke-width:0.8;\" x=\"257.565625\" xlink:href=\"#m2411e0c603\" y=\"183.407934\"/>\n      </g>\n     </g>\n     <g id=\"text_20\">\n      <!-- 40 -->\n      <g transform=\"translate(237.840625 187.207153)scale(0.1 -0.1)\">\n       <use xlink:href=\"#DejaVuSans-52\"/>\n       <use x=\"63.623047\" xlink:href=\"#DejaVuSans-48\"/>\n      </g>\n     </g>\n    </g>\n    <g id=\"ytick_13\">\n     <g id=\"line2d_17\">\n      <g>\n       <use style=\"stroke:#000000;stroke-width:0.8;\" x=\"257.565625\" xlink:href=\"#m2411e0c603\" y=\"154.705964\"/>\n      </g>\n     </g>\n     <g id=\"text_21\">\n      <!-- 60 -->\n      <g transform=\"translate(237.840625 158.505182)scale(0.1 -0.1)\">\n       <use xlink:href=\"#DejaVuSans-54\"/>\n       <use x=\"63.623047\" xlink:href=\"#DejaVuSans-48\"/>\n      </g>\n     </g>\n    </g>\n    <g id=\"ytick_14\">\n     <g id=\"line2d_18\">\n      <g>\n       <use style=\"stroke:#000000;stroke-width:0.8;\" x=\"257.565625\" xlink:href=\"#m2411e0c603\" y=\"126.003993\"/>\n      </g>\n     </g>\n     <g id=\"text_22\">\n      <!-- 80 -->\n      <g transform=\"translate(237.840625 129.803212)scale(0.1 -0.1)\">\n       <use xlink:href=\"#DejaVuSans-56\"/>\n       <use x=\"63.623047\" xlink:href=\"#DejaVuSans-48\"/>\n      </g>\n     </g>\n    </g>\n    <g id=\"ytick_15\">\n     <g id=\"line2d_19\">\n      <g>\n       <use style=\"stroke:#000000;stroke-width:0.8;\" x=\"257.565625\" xlink:href=\"#m2411e0c603\" y=\"97.302023\"/>\n      </g>\n     </g>\n     <g id=\"text_23\">\n      <!-- 100 -->\n      <g transform=\"translate(231.478125 101.101242)scale(0.1 -0.1)\">\n       <use xlink:href=\"#DejaVuSans-49\"/>\n       <use x=\"63.623047\" xlink:href=\"#DejaVuSans-48\"/>\n       <use x=\"127.246094\" xlink:href=\"#DejaVuSans-48\"/>\n      </g>\n     </g>\n    </g>\n    <g id=\"ytick_16\">\n     <g id=\"line2d_20\">\n      <g>\n       <use style=\"stroke:#000000;stroke-width:0.8;\" x=\"257.565625\" xlink:href=\"#m2411e0c603\" y=\"68.600052\"/>\n      </g>\n     </g>\n     <g id=\"text_24\">\n      <!-- 120 -->\n      <g transform=\"translate(231.478125 72.399271)scale(0.1 -0.1)\">\n       <use xlink:href=\"#DejaVuSans-49\"/>\n       <use x=\"63.623047\" xlink:href=\"#DejaVuSans-50\"/>\n       <use x=\"127.246094\" xlink:href=\"#DejaVuSans-48\"/>\n      </g>\n     </g>\n    </g>\n    <g id=\"ytick_17\">\n     <g id=\"line2d_21\">\n      <g>\n       <use style=\"stroke:#000000;stroke-width:0.8;\" x=\"257.565625\" xlink:href=\"#m2411e0c603\" y=\"39.898082\"/>\n      </g>\n     </g>\n     <g id=\"text_25\">\n      <!-- 140 -->\n      <g transform=\"translate(231.478125 43.697301)scale(0.1 -0.1)\">\n       <use xlink:href=\"#DejaVuSans-49\"/>\n       <use x=\"63.623047\" xlink:href=\"#DejaVuSans-52\"/>\n       <use x=\"127.246094\" xlink:href=\"#DejaVuSans-48\"/>\n      </g>\n     </g>\n    </g>\n    <g id=\"text_26\">\n     <!-- count -->\n     <g transform=\"translate(225.398438 145.67125)rotate(-90)scale(0.1 -0.1)\">\n      <use xlink:href=\"#DejaVuSans-99\"/>\n      <use x=\"54.980469\" xlink:href=\"#DejaVuSans-111\"/>\n      <use x=\"116.162109\" xlink:href=\"#DejaVuSans-117\"/>\n      <use x=\"179.541016\" xlink:href=\"#DejaVuSans-110\"/>\n      <use x=\"242.919922\" xlink:href=\"#DejaVuSans-116\"/>\n     </g>\n    </g>\n   </g>\n   <g id=\"patch_12\">\n    <path d=\"M 257.565625 240.811875 \nL 257.565625 22.318125 \n\" style=\"fill:none;stroke:#000000;stroke-linecap:square;stroke-linejoin:miter;stroke-width:0.8;\"/>\n   </g>\n   <g id=\"patch_13\">\n    <path d=\"M 417.240625 240.811875 \nL 417.240625 22.318125 \n\" style=\"fill:none;stroke:#000000;stroke-linecap:square;stroke-linejoin:miter;stroke-width:0.8;\"/>\n   </g>\n   <g id=\"patch_14\">\n    <path d=\"M 257.565625 240.811875 \nL 417.240625 240.811875 \n\" style=\"fill:none;stroke:#000000;stroke-linecap:square;stroke-linejoin:miter;stroke-width:0.8;\"/>\n   </g>\n   <g id=\"patch_15\">\n    <path d=\"M 257.565625 22.318125 \nL 417.240625 22.318125 \n\" style=\"fill:none;stroke:#000000;stroke-linecap:square;stroke-linejoin:miter;stroke-width:0.8;\"/>\n   </g>\n   <g id=\"text_27\">\n    <!-- Gain/Loss in Units -->\n    <g transform=\"translate(283.804375 16.318125)scale(0.12 -0.12)\">\n     <defs>\n      <path d=\"M 8.6875 72.90625 \nL 18.609375 72.90625 \nL 18.609375 28.609375 \nQ 18.609375 16.890625 22.84375 11.734375 \nQ 27.09375 6.59375 36.625 6.59375 \nQ 46.09375 6.59375 50.34375 11.734375 \nQ 54.59375 16.890625 54.59375 28.609375 \nL 54.59375 72.90625 \nL 64.5 72.90625 \nL 64.5 27.390625 \nQ 64.5 13.140625 57.4375 5.859375 \nQ 50.390625 -1.421875 36.625 -1.421875 \nQ 22.796875 -1.421875 15.734375 5.859375 \nQ 8.6875 13.140625 8.6875 27.390625 \nz\n\" id=\"DejaVuSans-85\"/>\n     </defs>\n     <use xlink:href=\"#DejaVuSans-71\"/>\n     <use x=\"77.490234\" xlink:href=\"#DejaVuSans-97\"/>\n     <use x=\"138.769531\" xlink:href=\"#DejaVuSans-105\"/>\n     <use x=\"166.552734\" xlink:href=\"#DejaVuSans-110\"/>\n     <use x=\"229.931641\" xlink:href=\"#DejaVuSans-47\"/>\n     <use x=\"263.623047\" xlink:href=\"#DejaVuSans-76\"/>\n     <use x=\"317.585938\" xlink:href=\"#DejaVuSans-111\"/>\n     <use x=\"378.767578\" xlink:href=\"#DejaVuSans-115\"/>\n     <use x=\"430.867188\" xlink:href=\"#DejaVuSans-115\"/>\n     <use x=\"482.966797\" xlink:href=\"#DejaVuSans-32\"/>\n     <use x=\"514.753906\" xlink:href=\"#DejaVuSans-105\"/>\n     <use x=\"542.537109\" xlink:href=\"#DejaVuSans-110\"/>\n     <use x=\"605.916016\" xlink:href=\"#DejaVuSans-32\"/>\n     <use x=\"637.703125\" xlink:href=\"#DejaVuSans-85\"/>\n     <use x=\"710.896484\" xlink:href=\"#DejaVuSans-110\"/>\n     <use x=\"774.275391\" xlink:href=\"#DejaVuSans-105\"/>\n     <use x=\"802.058594\" xlink:href=\"#DejaVuSans-116\"/>\n     <use x=\"841.267578\" xlink:href=\"#DejaVuSans-115\"/>\n    </g>\n   </g>\n  </g>\n </g>\n <defs>\n  <clipPath id=\"p8ae46d8198\">\n   <rect height=\"218.49375\" width=\"159.675\" x=\"46.965625\" y=\"22.318125\"/>\n  </clipPath>\n  <clipPath id=\"p468e65208a\">\n   <rect height=\"218.49375\" width=\"159.675\" x=\"257.565625\" y=\"22.318125\"/>\n  </clipPath>\n </defs>\n</svg>\n",
      "image/png": "[encoded data removed]"
     },
     "metadata": {
      "needs_background": "light"
     }
    }
   ],
   "source": [
    "plt.subplot(1,2,1)\n",
    "plt.title(\"Gain/Loss in Sales\")\n",
    "sns.countplot(df['gl_sales'])\n",
    "\n",
    "plt.subplot(1,2,2)\n",
    "plt.title(\"Gain/Loss in Units\")\n",
    "sns.countplot(df['gl_units'])\n",
    "\n",
    "plt.tight_layout()"
   ]
  },
  {
   "cell_type": "code",
   "execution_count": 29,
   "metadata": {},
   "outputs": [
    {
     "output_type": "execute_result",
     "data": {
      "text/plain": [
       "<seaborn.axisgrid.FacetGrid at 0x7fc15733a4d0>"
      ]
     },
     "metadata": {},
     "execution_count": 29
    },
    {
     "output_type": "display_data",
     "data": {
      "text/plain": "<Figure size 360x360 with 1 Axes>",
      "image/svg+xml": "<?xml version=\"1.0\" encoding=\"utf-8\" standalone=\"no\"?>\n<!DOCTYPE svg PUBLIC \"-//W3C//DTD SVG 1.1//EN\"\n  \"http://www.w3.org/Graphics/SVG/1.1/DTD/svg11.dtd\">\n<!-- Created with matplotlib (https://matplotlib.org/) -->\n<svg height=\"366.15625pt\" version=\"1.1\" viewBox=\"0 0 366.595752 366.15625\" width=\"366.595752pt\" xmlns=\"http://www.w3.org/2000/svg\" xmlns:xlink=\"http://www.w3.org/1999/xlink\">\n <metadata>\n  <rdf:RDF xmlns:cc=\"http://creativecommons.org/ns#\" xmlns:dc=\"http://purl.org/dc/elements/1.1/\" xmlns:rdf=\"http://www.w3.org/1999/02/22-rdf-syntax-ns#\">\n   <cc:Work>\n    <dc:type rdf:resource=\"http://purl.org/dc/dcmitype/StillImage\"/>\n    <dc:date>2021-03-25T15:46:09.253206</dc:date>\n    <dc:format>image/svg+xml</dc:format>\n    <dc:creator>\n     <cc:Agent>\n      <dc:title>Matplotlib v3.3.1, https://matplotlib.org/</dc:title>\n     </cc:Agent>\n    </dc:creator>\n   </cc:Work>\n  </rdf:RDF>\n </metadata>\n <defs>\n  <style type=\"text/css\">*{stroke-linecap:butt;stroke-linejoin:round;}</style>\n </defs>\n <g id=\"figure_1\">\n  <g id=\"patch_1\">\n   <path d=\"M 0 366.15625 \nL 366.595752 366.15625 \nL 366.595752 0 \nL 0 0 \nz\n\" style=\"fill:none;\"/>\n  </g>\n  <g id=\"axes_1\">\n   <g id=\"patch_2\">\n    <path d=\"M 59.690625 328.6 \nL 346.421867 328.6 \nL 346.421867 7.2 \nL 59.690625 7.2 \nz\n\" style=\"fill:#ffffff;\"/>\n   </g>\n   <g id=\"PathCollection_1\">\n    <defs>\n     <path d=\"M 0 3 \nC 0.795609 3 1.55874 2.683901 2.12132 2.12132 \nC 2.683901 1.55874 3 0.795609 3 0 \nC 3 -0.795609 2.683901 -1.55874 2.12132 -2.12132 \nC 1.55874 -2.683901 0.795609 -3 0 -3 \nC -0.795609 -3 -1.55874 -2.683901 -2.12132 -2.12132 \nC -2.683901 -1.55874 -3 -0.795609 -3 0 \nC -3 0.795609 -2.683901 1.55874 -2.12132 2.12132 \nC -1.55874 2.683901 -0.795609 3 0 3 \nz\n\" id=\"m8b9911dbbf\" style=\"stroke:#1f77b4;stroke-opacity:0.8;\"/>\n    </defs>\n    <g clip-path=\"url(#pae06d2e3d5)\">\n     <use style=\"fill:#1f77b4;fill-opacity:0.8;stroke:#1f77b4;stroke-opacity:0.8;\" x=\"346.421867\" xlink:href=\"#m8b9911dbbf\" y=\"215.134478\"/>\n     <use style=\"fill:#1f77b4;fill-opacity:0.8;stroke:#1f77b4;stroke-opacity:0.8;\" x=\"210.963668\" xlink:href=\"#m8b9911dbbf\" y=\"206.588903\"/>\n     <use style=\"fill:#1f77b4;fill-opacity:0.8;stroke:#1f77b4;stroke-opacity:0.8;\" x=\"139.362708\" xlink:href=\"#m8b9911dbbf\" y=\"295.944503\"/>\n     <use style=\"fill:#1f77b4;fill-opacity:0.8;stroke:#1f77b4;stroke-opacity:0.8;\" x=\"139.170538\" xlink:href=\"#m8b9911dbbf\" y=\"265.427637\"/>\n     <use style=\"fill:#1f77b4;fill-opacity:0.8;stroke:#1f77b4;stroke-opacity:0.8;\" x=\"131.419699\" xlink:href=\"#m8b9911dbbf\" y=\"261.307576\"/>\n     <use style=\"fill:#1f77b4;fill-opacity:0.8;stroke:#1f77b4;stroke-opacity:0.8;\" x=\"131.391229\" xlink:href=\"#m8b9911dbbf\" y=\"144.418603\"/>\n     <use style=\"fill:#1f77b4;fill-opacity:0.8;stroke:#1f77b4;stroke-opacity:0.8;\" x=\"128.273811\" xlink:href=\"#m8b9911dbbf\" y=\"271.920285\"/>\n     <use style=\"fill:#1f77b4;fill-opacity:0.8;stroke:#1f77b4;stroke-opacity:0.8;\" x=\"124.473124\" xlink:href=\"#m8b9911dbbf\" y=\"245.08306\"/>\n     <use style=\"fill:#1f77b4;fill-opacity:0.8;stroke:#1f77b4;stroke-opacity:0.8;\" x=\"108.928741\" xlink:href=\"#m8b9911dbbf\" y=\"269.973912\"/>\n     <use style=\"fill:#1f77b4;fill-opacity:0.8;stroke:#1f77b4;stroke-opacity:0.8;\" x=\"100.715271\" xlink:href=\"#m8b9911dbbf\" y=\"298.146605\"/>\n     <use style=\"fill:#1f77b4;fill-opacity:0.8;stroke:#1f77b4;stroke-opacity:0.8;\" x=\"98.352297\" xlink:href=\"#m8b9911dbbf\" y=\"261.591718\"/>\n     <use style=\"fill:#1f77b4;fill-opacity:0.8;stroke:#1f77b4;stroke-opacity:0.8;\" x=\"98.003545\" xlink:href=\"#m8b9911dbbf\" y=\"295.134698\"/>\n     <use style=\"fill:#1f77b4;fill-opacity:0.8;stroke:#1f77b4;stroke-opacity:0.8;\" x=\"92.153049\" xlink:href=\"#m8b9911dbbf\" y=\"288.443151\"/>\n     <use style=\"fill:#1f77b4;fill-opacity:0.8;stroke:#1f77b4;stroke-opacity:0.8;\" x=\"91.149496\" xlink:href=\"#m8b9911dbbf\" y=\"284.614335\"/>\n     <use style=\"fill:#1f77b4;fill-opacity:0.8;stroke:#1f77b4;stroke-opacity:0.8;\" x=\"89.306092\" xlink:href=\"#m8b9911dbbf\" y=\"307.338603\"/>\n     <use style=\"fill:#1f77b4;fill-opacity:0.8;stroke:#1f77b4;stroke-opacity:0.8;\" x=\"87.868379\" xlink:href=\"#m8b9911dbbf\" y=\"301.662864\"/>\n     <use style=\"fill:#1f77b4;fill-opacity:0.8;stroke:#1f77b4;stroke-opacity:0.8;\" x=\"86.879061\" xlink:href=\"#m8b9911dbbf\" y=\"297.798531\"/>\n     <use style=\"fill:#1f77b4;fill-opacity:0.8;stroke:#1f77b4;stroke-opacity:0.8;\" x=\"86.437783\" xlink:href=\"#m8b9911dbbf\" y=\"289.629444\"/>\n     <use style=\"fill:#1f77b4;fill-opacity:0.8;stroke:#1f77b4;stroke-opacity:0.8;\" x=\"85.925331\" xlink:href=\"#m8b9911dbbf\" y=\"295.901882\"/>\n     <use style=\"fill:#1f77b4;fill-opacity:0.8;stroke:#1f77b4;stroke-opacity:0.8;\" x=\"85.918213\" xlink:href=\"#m8b9911dbbf\" y=\"283.392524\"/>\n     <use style=\"fill:#1f77b4;fill-opacity:0.8;stroke:#1f77b4;stroke-opacity:0.8;\" x=\"85.555226\" xlink:href=\"#m8b9911dbbf\" y=\"282.369612\"/>\n     <use style=\"fill:#1f77b4;fill-opacity:0.8;stroke:#1f77b4;stroke-opacity:0.8;\" x=\"84.907544\" xlink:href=\"#m8b9911dbbf\" y=\"304.923395\"/>\n     <use style=\"fill:#1f77b4;fill-opacity:0.8;stroke:#1f77b4;stroke-opacity:0.8;\" x=\"84.1531\" xlink:href=\"#m8b9911dbbf\" y=\"304.667667\"/>\n     <use style=\"fill:#1f77b4;fill-opacity:0.8;stroke:#1f77b4;stroke-opacity:0.8;\" x=\"83.733174\" xlink:href=\"#m8b9911dbbf\" y=\"297.55701\"/>\n     <use style=\"fill:#1f77b4;fill-opacity:0.8;stroke:#1f77b4;stroke-opacity:0.8;\" x=\"82.039235\" xlink:href=\"#m8b9911dbbf\" y=\"301.343204\"/>\n     <use style=\"fill:#1f77b4;fill-opacity:0.8;stroke:#1f77b4;stroke-opacity:0.8;\" x=\"80.259887\" xlink:href=\"#m8b9911dbbf\" y=\"309.562015\"/>\n     <use style=\"fill:#1f77b4;fill-opacity:0.8;stroke:#1f77b4;stroke-opacity:0.8;\" x=\"77.946735\" xlink:href=\"#m8b9911dbbf\" y=\"302.422944\"/>\n     <use style=\"fill:#1f77b4;fill-opacity:0.8;stroke:#1f77b4;stroke-opacity:0.8;\" x=\"77.569513\" xlink:href=\"#m8b9911dbbf\" y=\"291.170915\"/>\n     <use style=\"fill:#1f77b4;fill-opacity:0.8;stroke:#1f77b4;stroke-opacity:0.8;\" x=\"77.548161\" xlink:href=\"#m8b9911dbbf\" y=\"308.347308\"/>\n     <use style=\"fill:#1f77b4;fill-opacity:0.8;stroke:#1f77b4;stroke-opacity:0.8;\" x=\"76.985887\" xlink:href=\"#m8b9911dbbf\" y=\"307.594331\"/>\n     <use style=\"fill:#1f77b4;fill-opacity:0.8;stroke:#1f77b4;stroke-opacity:0.8;\" x=\"76.516139\" xlink:href=\"#m8b9911dbbf\" y=\"308.666968\"/>\n     <use style=\"fill:#1f77b4;fill-opacity:0.8;stroke:#1f77b4;stroke-opacity:0.8;\" x=\"76.4592\" xlink:href=\"#m8b9911dbbf\" y=\"308.801935\"/>\n     <use style=\"fill:#1f77b4;fill-opacity:0.8;stroke:#1f77b4;stroke-opacity:0.8;\" x=\"74.309748\" xlink:href=\"#m8b9911dbbf\" y=\"312.026948\"/>\n     <use style=\"fill:#1f77b4;fill-opacity:0.8;stroke:#1f77b4;stroke-opacity:0.8;\" x=\"73.775943\" xlink:href=\"#m8b9911dbbf\" y=\"293.692677\"/>\n     <use style=\"fill:#1f77b4;fill-opacity:0.8;stroke:#1f77b4;stroke-opacity:0.8;\" x=\"73.170965\" xlink:href=\"#m8b9911dbbf\" y=\"300.561813\"/>\n     <use style=\"fill:#1f77b4;fill-opacity:0.8;stroke:#1f77b4;stroke-opacity:0.8;\" x=\"72.217234\" xlink:href=\"#m8b9911dbbf\" y=\"307.026047\"/>\n     <use style=\"fill:#1f77b4;fill-opacity:0.8;stroke:#1f77b4;stroke-opacity:0.8;\" x=\"72.082004\" xlink:href=\"#m8b9911dbbf\" y=\"309.725397\"/>\n     <use style=\"fill:#1f77b4;fill-opacity:0.8;stroke:#1f77b4;stroke-opacity:0.8;\" x=\"71.569552\" xlink:href=\"#m8b9911dbbf\" y=\"308.290479\"/>\n     <use style=\"fill:#1f77b4;fill-opacity:0.8;stroke:#1f77b4;stroke-opacity:0.8;\" x=\"71.2208\" xlink:href=\"#m8b9911dbbf\" y=\"310.059264\"/>\n     <use style=\"fill:#1f77b4;fill-opacity:0.8;stroke:#1f77b4;stroke-opacity:0.8;\" x=\"70.615821\" xlink:href=\"#m8b9911dbbf\" y=\"303.772619\"/>\n     <use style=\"fill:#1f77b4;fill-opacity:0.8;stroke:#1f77b4;stroke-opacity:0.8;\" x=\"69.811556\" xlink:href=\"#m8b9911dbbf\" y=\"309.540705\"/>\n     <use style=\"fill:#1f77b4;fill-opacity:0.8;stroke:#1f77b4;stroke-opacity:0.8;\" x=\"69.22793\" xlink:href=\"#m8b9911dbbf\" y=\"310.243956\"/>\n     <use style=\"fill:#1f77b4;fill-opacity:0.8;stroke:#1f77b4;stroke-opacity:0.8;\" x=\"68.921882\" xlink:href=\"#m8b9911dbbf\" y=\"305.711889\"/>\n     <use style=\"fill:#1f77b4;fill-opacity:0.8;stroke:#1f77b4;stroke-opacity:0.8;\" x=\"68.494839\" xlink:href=\"#m8b9911dbbf\" y=\"304.745806\"/>\n     <use style=\"fill:#1f77b4;fill-opacity:0.8;stroke:#1f77b4;stroke-opacity:0.8;\" x=\"68.359608\" xlink:href=\"#m8b9911dbbf\" y=\"299.574419\"/>\n     <use style=\"fill:#1f77b4;fill-opacity:0.8;stroke:#1f77b4;stroke-opacity:0.8;\" x=\"68.331139\" xlink:href=\"#m8b9911dbbf\" y=\"301.648657\"/>\n     <use style=\"fill:#1f77b4;fill-opacity:0.8;stroke:#1f77b4;stroke-opacity:0.8;\" x=\"68.267082\" xlink:href=\"#m8b9911dbbf\" y=\"308.19103\"/>\n     <use style=\"fill:#1f77b4;fill-opacity:0.8;stroke:#1f77b4;stroke-opacity:0.8;\" x=\"67.057125\" xlink:href=\"#m8b9911dbbf\" y=\"312.012741\"/>\n     <use style=\"fill:#1f77b4;fill-opacity:0.8;stroke:#1f77b4;stroke-opacity:0.8;\" x=\"66.516204\" xlink:href=\"#m8b9911dbbf\" y=\"310.755412\"/>\n     <use style=\"fill:#1f77b4;fill-opacity:0.8;stroke:#1f77b4;stroke-opacity:0.8;\" x=\"65.605178\" xlink:href=\"#m8b9911dbbf\" y=\"310.996933\"/>\n     <use style=\"fill:#1f77b4;fill-opacity:0.8;stroke:#1f77b4;stroke-opacity:0.8;\" x=\"65.555356\" xlink:href=\"#m8b9911dbbf\" y=\"309.398634\"/>\n     <use style=\"fill:#1f77b4;fill-opacity:0.8;stroke:#1f77b4;stroke-opacity:0.8;\" x=\"65.320482\" xlink:href=\"#m8b9911dbbf\" y=\"311.920395\"/>\n     <use style=\"fill:#1f77b4;fill-opacity:0.8;stroke:#1f77b4;stroke-opacity:0.8;\" x=\"65.206604\" xlink:href=\"#m8b9911dbbf\" y=\"308.304686\"/>\n     <use style=\"fill:#1f77b4;fill-opacity:0.8;stroke:#1f77b4;stroke-opacity:0.8;\" x=\"65.156782\" xlink:href=\"#m8b9911dbbf\" y=\"310.066368\"/>\n     <use style=\"fill:#1f77b4;fill-opacity:0.8;stroke:#1f77b4;stroke-opacity:0.8;\" x=\"65.10696\" xlink:href=\"#m8b9911dbbf\" y=\"310.904587\"/>\n     <use style=\"fill:#1f77b4;fill-opacity:0.8;stroke:#1f77b4;stroke-opacity:0.8;\" x=\"64.900556\" xlink:href=\"#m8b9911dbbf\" y=\"311.067969\"/>\n     <use style=\"fill:#1f77b4;fill-opacity:0.8;stroke:#1f77b4;stroke-opacity:0.8;\" x=\"64.843617\" xlink:href=\"#m8b9911dbbf\" y=\"309.256563\"/>\n     <use style=\"fill:#1f77b4;fill-opacity:0.8;stroke:#1f77b4;stroke-opacity:0.8;\" x=\"64.715504\" xlink:href=\"#m8b9911dbbf\" y=\"305.285676\"/>\n     <use style=\"fill:#1f77b4;fill-opacity:0.8;stroke:#1f77b4;stroke-opacity:0.8;\" x=\"64.45216\" xlink:href=\"#m8b9911dbbf\" y=\"310.059264\"/>\n     <use style=\"fill:#1f77b4;fill-opacity:0.8;stroke:#1f77b4;stroke-opacity:0.8;\" x=\"64.12476\" xlink:href=\"#m8b9911dbbf\" y=\"308.304686\"/>\n     <use style=\"fill:#1f77b4;fill-opacity:0.8;stroke:#1f77b4;stroke-opacity:0.8;\" x=\"64.117643\" xlink:href=\"#m8b9911dbbf\" y=\"304.049658\"/>\n     <use style=\"fill:#1f77b4;fill-opacity:0.8;stroke:#1f77b4;stroke-opacity:0.8;\" x=\"63.996647\" xlink:href=\"#m8b9911dbbf\" y=\"310.286578\"/>\n     <use style=\"fill:#1f77b4;fill-opacity:0.8;stroke:#1f77b4;stroke-opacity:0.8;\" x=\"63.953943\" xlink:href=\"#m8b9911dbbf\" y=\"310.222646\"/>\n     <use style=\"fill:#1f77b4;fill-opacity:0.8;stroke:#1f77b4;stroke-opacity:0.8;\" x=\"63.946825\" xlink:href=\"#m8b9911dbbf\" y=\"312.247159\"/>\n     <use style=\"fill:#1f77b4;fill-opacity:0.8;stroke:#1f77b4;stroke-opacity:0.8;\" x=\"63.889886\" xlink:href=\"#m8b9911dbbf\" y=\"306.159413\"/>\n     <use style=\"fill:#1f77b4;fill-opacity:0.8;stroke:#1f77b4;stroke-opacity:0.8;\" x=\"63.875651\" xlink:href=\"#m8b9911dbbf\" y=\"308.41124\"/>\n     <use style=\"fill:#1f77b4;fill-opacity:0.8;stroke:#1f77b4;stroke-opacity:0.8;\" x=\"63.79736\" xlink:href=\"#m8b9911dbbf\" y=\"312.531301\"/>\n     <use style=\"fill:#1f77b4;fill-opacity:0.8;stroke:#1f77b4;stroke-opacity:0.8;\" x=\"63.44149\" xlink:href=\"#m8b9911dbbf\" y=\"311.891981\"/>\n     <use style=\"fill:#1f77b4;fill-opacity:0.8;stroke:#1f77b4;stroke-opacity:0.8;\" x=\"63.398786\" xlink:href=\"#m8b9911dbbf\" y=\"311.479975\"/>\n     <use style=\"fill:#1f77b4;fill-opacity:0.8;stroke:#1f77b4;stroke-opacity:0.8;\" x=\"63.263556\" xlink:href=\"#m8b9911dbbf\" y=\"306.990529\"/>\n     <use style=\"fill:#1f77b4;fill-opacity:0.8;stroke:#1f77b4;stroke-opacity:0.8;\" x=\"63.220851\" xlink:href=\"#m8b9911dbbf\" y=\"312.261366\"/>\n     <use style=\"fill:#1f77b4;fill-opacity:0.8;stroke:#1f77b4;stroke-opacity:0.8;\" x=\"63.213734\" xlink:href=\"#m8b9911dbbf\" y=\"312.076673\"/>\n     <use style=\"fill:#1f77b4;fill-opacity:0.8;stroke:#1f77b4;stroke-opacity:0.8;\" x=\"63.17103\" xlink:href=\"#m8b9911dbbf\" y=\"295.560911\"/>\n     <use style=\"fill:#1f77b4;fill-opacity:0.8;stroke:#1f77b4;stroke-opacity:0.8;\" x=\"63.128325\" xlink:href=\"#m8b9911dbbf\" y=\"312.9291\"/>\n     <use style=\"fill:#1f77b4;fill-opacity:0.8;stroke:#1f77b4;stroke-opacity:0.8;\" x=\"62.971743\" xlink:href=\"#m8b9911dbbf\" y=\"312.09088\"/>\n     <use style=\"fill:#1f77b4;fill-opacity:0.8;stroke:#1f77b4;stroke-opacity:0.8;\" x=\"62.914803\" xlink:href=\"#m8b9911dbbf\" y=\"310.854862\"/>\n     <use style=\"fill:#1f77b4;fill-opacity:0.8;stroke:#1f77b4;stroke-opacity:0.8;\" x=\"62.893451\" xlink:href=\"#m8b9911dbbf\" y=\"307.565917\"/>\n     <use style=\"fill:#1f77b4;fill-opacity:0.8;stroke:#1f77b4;stroke-opacity:0.8;\" x=\"62.857864\" xlink:href=\"#m8b9911dbbf\" y=\"312.552611\"/>\n     <use style=\"fill:#1f77b4;fill-opacity:0.8;stroke:#1f77b4;stroke-opacity:0.8;\" x=\"62.829395\" xlink:href=\"#m8b9911dbbf\" y=\"310.869069\"/>\n     <use style=\"fill:#1f77b4;fill-opacity:0.8;stroke:#1f77b4;stroke-opacity:0.8;\" x=\"62.78669\" xlink:href=\"#m8b9911dbbf\" y=\"309.654362\"/>\n     <use style=\"fill:#1f77b4;fill-opacity:0.8;stroke:#1f77b4;stroke-opacity:0.8;\" x=\"62.772456\" xlink:href=\"#m8b9911dbbf\" y=\"304.340904\"/>\n     <use style=\"fill:#1f77b4;fill-opacity:0.8;stroke:#1f77b4;stroke-opacity:0.8;\" x=\"62.765338\" xlink:href=\"#m8b9911dbbf\" y=\"310.876173\"/>\n     <use style=\"fill:#1f77b4;fill-opacity:0.8;stroke:#1f77b4;stroke-opacity:0.8;\" x=\"62.644343\" xlink:href=\"#m8b9911dbbf\" y=\"311.295282\"/>\n     <use style=\"fill:#1f77b4;fill-opacity:0.8;stroke:#1f77b4;stroke-opacity:0.8;\" x=\"62.601638\" xlink:href=\"#m8b9911dbbf\" y=\"310.876173\"/>\n     <use style=\"fill:#1f77b4;fill-opacity:0.8;stroke:#1f77b4;stroke-opacity:0.8;\" x=\"62.601638\" xlink:href=\"#m8b9911dbbf\" y=\"309.341805\"/>\n     <use style=\"fill:#1f77b4;fill-opacity:0.8;stroke:#1f77b4;stroke-opacity:0.8;\" x=\"62.587403\" xlink:href=\"#m8b9911dbbf\" y=\"310.243956\"/>\n     <use style=\"fill:#1f77b4;fill-opacity:0.8;stroke:#1f77b4;stroke-opacity:0.8;\" x=\"62.473525\" xlink:href=\"#m8b9911dbbf\" y=\"308.446757\"/>\n     <use style=\"fill:#1f77b4;fill-opacity:0.8;stroke:#1f77b4;stroke-opacity:0.8;\" x=\"62.452173\" xlink:href=\"#m8b9911dbbf\" y=\"308.041855\"/>\n     <use style=\"fill:#1f77b4;fill-opacity:0.8;stroke:#1f77b4;stroke-opacity:0.8;\" x=\"62.388116\" xlink:href=\"#m8b9911dbbf\" y=\"313.04986\"/>\n     <use style=\"fill:#1f77b4;fill-opacity:0.8;stroke:#1f77b4;stroke-opacity:0.8;\" x=\"62.359647\" xlink:href=\"#m8b9911dbbf\" y=\"310.719895\"/>\n     <use style=\"fill:#1f77b4;fill-opacity:0.8;stroke:#1f77b4;stroke-opacity:0.8;\" x=\"62.352529\" xlink:href=\"#m8b9911dbbf\" y=\"311.55101\"/>\n     <use style=\"fill:#1f77b4;fill-opacity:0.8;stroke:#1f77b4;stroke-opacity:0.8;\" x=\"62.32406\" xlink:href=\"#m8b9911dbbf\" y=\"312.041156\"/>\n     <use style=\"fill:#1f77b4;fill-opacity:0.8;stroke:#1f77b4;stroke-opacity:0.8;\" x=\"62.231534\" xlink:href=\"#m8b9911dbbf\" y=\"310.172921\"/>\n     <use style=\"fill:#1f77b4;fill-opacity:0.8;stroke:#1f77b4;stroke-opacity:0.8;\" x=\"62.082069\" xlink:href=\"#m8b9911dbbf\" y=\"306.585626\"/>\n     <use style=\"fill:#1f77b4;fill-opacity:0.8;stroke:#1f77b4;stroke-opacity:0.8;\" x=\"62.074951\" xlink:href=\"#m8b9911dbbf\" y=\"312.161916\"/>\n     <use style=\"fill:#1f77b4;fill-opacity:0.8;stroke:#1f77b4;stroke-opacity:0.8;\" x=\"62.074951\" xlink:href=\"#m8b9911dbbf\" y=\"313.078274\"/>\n     <use style=\"fill:#1f77b4;fill-opacity:0.8;stroke:#1f77b4;stroke-opacity:0.8;\" x=\"61.99666\" xlink:href=\"#m8b9911dbbf\" y=\"310.400235\"/>\n     <use style=\"fill:#1f77b4;fill-opacity:0.8;stroke:#1f77b4;stroke-opacity:0.8;\" x=\"61.96819\" xlink:href=\"#m8b9911dbbf\" y=\"312.794132\"/>\n     <use style=\"fill:#1f77b4;fill-opacity:0.8;stroke:#1f77b4;stroke-opacity:0.8;\" x=\"61.96819\" xlink:href=\"#m8b9911dbbf\" y=\"310.144507\"/>\n     <use style=\"fill:#1f77b4;fill-opacity:0.8;stroke:#1f77b4;stroke-opacity:0.8;\" x=\"61.918369\" xlink:href=\"#m8b9911dbbf\" y=\"309.675672\"/>\n     <use style=\"fill:#1f77b4;fill-opacity:0.8;stroke:#1f77b4;stroke-opacity:0.8;\" x=\"61.889899\" xlink:href=\"#m8b9911dbbf\" y=\"309.654362\"/>\n     <use style=\"fill:#1f77b4;fill-opacity:0.8;stroke:#1f77b4;stroke-opacity:0.8;\" x=\"61.825843\" xlink:href=\"#m8b9911dbbf\" y=\"312.779925\"/>\n     <use style=\"fill:#1f77b4;fill-opacity:0.8;stroke:#1f77b4;stroke-opacity:0.8;\" x=\"61.825843\" xlink:href=\"#m8b9911dbbf\" y=\"312.097984\"/>\n     <use style=\"fill:#1f77b4;fill-opacity:0.8;stroke:#1f77b4;stroke-opacity:0.8;\" x=\"61.818725\" xlink:href=\"#m8b9911dbbf\" y=\"312.254262\"/>\n     <use style=\"fill:#1f77b4;fill-opacity:0.8;stroke:#1f77b4;stroke-opacity:0.8;\" x=\"61.761786\" xlink:href=\"#m8b9911dbbf\" y=\"313.113792\"/>\n     <use style=\"fill:#1f77b4;fill-opacity:0.8;stroke:#1f77b4;stroke-opacity:0.8;\" x=\"61.711964\" xlink:href=\"#m8b9911dbbf\" y=\"310.506788\"/>\n     <use style=\"fill:#1f77b4;fill-opacity:0.8;stroke:#1f77b4;stroke-opacity:0.8;\" x=\"61.66926\" xlink:href=\"#m8b9911dbbf\" y=\"307.45226\"/>\n     <use style=\"fill:#1f77b4;fill-opacity:0.8;stroke:#1f77b4;stroke-opacity:0.8;\" x=\"61.655025\" xlink:href=\"#m8b9911dbbf\" y=\"312.865168\"/>\n     <use style=\"fill:#1f77b4;fill-opacity:0.8;stroke:#1f77b4;stroke-opacity:0.8;\" x=\"61.50556\" xlink:href=\"#m8b9911dbbf\" y=\"309.675672\"/>\n     <use style=\"fill:#1f77b4;fill-opacity:0.8;stroke:#1f77b4;stroke-opacity:0.8;\" x=\"61.448621\" xlink:href=\"#m8b9911dbbf\" y=\"310.741205\"/>\n     <use style=\"fill:#1f77b4;fill-opacity:0.8;stroke:#1f77b4;stroke-opacity:0.8;\" x=\"61.427269\" xlink:href=\"#m8b9911dbbf\" y=\"313.078274\"/>\n     <use style=\"fill:#1f77b4;fill-opacity:0.8;stroke:#1f77b4;stroke-opacity:0.8;\" x=\"61.420151\" xlink:href=\"#m8b9911dbbf\" y=\"307.1326\"/>\n     <use style=\"fill:#1f77b4;fill-opacity:0.8;stroke:#1f77b4;stroke-opacity:0.8;\" x=\"61.398799\" xlink:href=\"#m8b9911dbbf\" y=\"311.266868\"/>\n     <use style=\"fill:#1f77b4;fill-opacity:0.8;stroke:#1f77b4;stroke-opacity:0.8;\" x=\"61.334742\" xlink:href=\"#m8b9911dbbf\" y=\"310.485477\"/>\n     <use style=\"fill:#1f77b4;fill-opacity:0.8;stroke:#1f77b4;stroke-opacity:0.8;\" x=\"61.277803\" xlink:href=\"#m8b9911dbbf\" y=\"309.959814\"/>\n     <use style=\"fill:#1f77b4;fill-opacity:0.8;stroke:#1f77b4;stroke-opacity:0.8;\" x=\"61.270686\" xlink:href=\"#m8b9911dbbf\" y=\"311.671771\"/>\n     <use style=\"fill:#1f77b4;fill-opacity:0.8;stroke:#1f77b4;stroke-opacity:0.8;\" x=\"61.270686\" xlink:href=\"#m8b9911dbbf\" y=\"312.247159\"/>\n     <use style=\"fill:#1f77b4;fill-opacity:0.8;stroke:#1f77b4;stroke-opacity:0.8;\" x=\"61.235099\" xlink:href=\"#m8b9911dbbf\" y=\"311.23135\"/>\n     <use style=\"fill:#1f77b4;fill-opacity:0.8;stroke:#1f77b4;stroke-opacity:0.8;\" x=\"61.213747\" xlink:href=\"#m8b9911dbbf\" y=\"312.985928\"/>\n     <use style=\"fill:#1f77b4;fill-opacity:0.8;stroke:#1f77b4;stroke-opacity:0.8;\" x=\"61.199512\" xlink:href=\"#m8b9911dbbf\" y=\"313.199035\"/>\n     <use style=\"fill:#1f77b4;fill-opacity:0.8;stroke:#1f77b4;stroke-opacity:0.8;\" x=\"61.199512\" xlink:href=\"#m8b9911dbbf\" y=\"312.112191\"/>\n     <use style=\"fill:#1f77b4;fill-opacity:0.8;stroke:#1f77b4;stroke-opacity:0.8;\" x=\"61.185277\" xlink:href=\"#m8b9911dbbf\" y=\"312.50999\"/>\n     <use style=\"fill:#1f77b4;fill-opacity:0.8;stroke:#1f77b4;stroke-opacity:0.8;\" x=\"61.17816\" xlink:href=\"#m8b9911dbbf\" y=\"312.893582\"/>\n     <use style=\"fill:#1f77b4;fill-opacity:0.8;stroke:#1f77b4;stroke-opacity:0.8;\" x=\"61.17816\" xlink:href=\"#m8b9911dbbf\" y=\"310.840655\"/>\n     <use style=\"fill:#1f77b4;fill-opacity:0.8;stroke:#1f77b4;stroke-opacity:0.8;\" x=\"61.14969\" xlink:href=\"#m8b9911dbbf\" y=\"310.769619\"/>\n     <use style=\"fill:#1f77b4;fill-opacity:0.8;stroke:#1f77b4;stroke-opacity:0.8;\" x=\"61.135456\" xlink:href=\"#m8b9911dbbf\" y=\"312.581026\"/>\n     <use style=\"fill:#1f77b4;fill-opacity:0.8;stroke:#1f77b4;stroke-opacity:0.8;\" x=\"61.121221\" xlink:href=\"#m8b9911dbbf\" y=\"312.524197\"/>\n     <use style=\"fill:#1f77b4;fill-opacity:0.8;stroke:#1f77b4;stroke-opacity:0.8;\" x=\"61.114103\" xlink:href=\"#m8b9911dbbf\" y=\"313.184828\"/>\n     <use style=\"fill:#1f77b4;fill-opacity:0.8;stroke:#1f77b4;stroke-opacity:0.8;\" x=\"61.099869\" xlink:href=\"#m8b9911dbbf\" y=\"312.723097\"/>\n     <use style=\"fill:#1f77b4;fill-opacity:0.8;stroke:#1f77b4;stroke-opacity:0.8;\" x=\"61.021577\" xlink:href=\"#m8b9911dbbf\" y=\"312.19033\"/>\n     <use style=\"fill:#1f77b4;fill-opacity:0.8;stroke:#1f77b4;stroke-opacity:0.8;\" x=\"61.007342\" xlink:href=\"#m8b9911dbbf\" y=\"312.268469\"/>\n     <use style=\"fill:#1f77b4;fill-opacity:0.8;stroke:#1f77b4;stroke-opacity:0.8;\" x=\"60.978873\" xlink:href=\"#m8b9911dbbf\" y=\"313.007239\"/>\n     <use style=\"fill:#1f77b4;fill-opacity:0.8;stroke:#1f77b4;stroke-opacity:0.8;\" x=\"60.971756\" xlink:href=\"#m8b9911dbbf\" y=\"310.194232\"/>\n     <use style=\"fill:#1f77b4;fill-opacity:0.8;stroke:#1f77b4;stroke-opacity:0.8;\" x=\"60.857877\" xlink:href=\"#m8b9911dbbf\" y=\"312.240055\"/>\n     <use style=\"fill:#1f77b4;fill-opacity:0.8;stroke:#1f77b4;stroke-opacity:0.8;\" x=\"60.85076\" xlink:href=\"#m8b9911dbbf\" y=\"312.282676\"/>\n     <use style=\"fill:#1f77b4;fill-opacity:0.8;stroke:#1f77b4;stroke-opacity:0.8;\" x=\"60.815173\" xlink:href=\"#m8b9911dbbf\" y=\"312.581026\"/>\n     <use style=\"fill:#1f77b4;fill-opacity:0.8;stroke:#1f77b4;stroke-opacity:0.8;\" x=\"60.793821\" xlink:href=\"#m8b9911dbbf\" y=\"311.899084\"/>\n     <use style=\"fill:#1f77b4;fill-opacity:0.8;stroke:#1f77b4;stroke-opacity:0.8;\" x=\"60.751116\" xlink:href=\"#m8b9911dbbf\" y=\"312.715993\"/>\n     <use style=\"fill:#1f77b4;fill-opacity:0.8;stroke:#1f77b4;stroke-opacity:0.8;\" x=\"60.751116\" xlink:href=\"#m8b9911dbbf\" y=\"311.43025\"/>\n     <use style=\"fill:#1f77b4;fill-opacity:0.8;stroke:#1f77b4;stroke-opacity:0.8;\" x=\"60.729764\" xlink:href=\"#m8b9911dbbf\" y=\"312.978825\"/>\n     <use style=\"fill:#1f77b4;fill-opacity:0.8;stroke:#1f77b4;stroke-opacity:0.8;\" x=\"60.708412\" xlink:href=\"#m8b9911dbbf\" y=\"311.984327\"/>\n     <use style=\"fill:#1f77b4;fill-opacity:0.8;stroke:#1f77b4;stroke-opacity:0.8;\" x=\"60.708412\" xlink:href=\"#m8b9911dbbf\" y=\"313.206138\"/>\n     <use style=\"fill:#1f77b4;fill-opacity:0.8;stroke:#1f77b4;stroke-opacity:0.8;\" x=\"60.701295\" xlink:href=\"#m8b9911dbbf\" y=\"311.494182\"/>\n     <use style=\"fill:#1f77b4;fill-opacity:0.8;stroke:#1f77b4;stroke-opacity:0.8;\" x=\"60.701295\" xlink:href=\"#m8b9911dbbf\" y=\"312.424747\"/>\n     <use style=\"fill:#1f77b4;fill-opacity:0.8;stroke:#1f77b4;stroke-opacity:0.8;\" x=\"60.694177\" xlink:href=\"#m8b9911dbbf\" y=\"312.595233\"/>\n     <use style=\"fill:#1f77b4;fill-opacity:0.8;stroke:#1f77b4;stroke-opacity:0.8;\" x=\"60.68706\" xlink:href=\"#m8b9911dbbf\" y=\"313.042757\"/>\n     <use style=\"fill:#1f77b4;fill-opacity:0.8;stroke:#1f77b4;stroke-opacity:0.8;\" x=\"60.679942\" xlink:href=\"#m8b9911dbbf\" y=\"311.273972\"/>\n     <use style=\"fill:#1f77b4;fill-opacity:0.8;stroke:#1f77b4;stroke-opacity:0.8;\" x=\"60.679942\" xlink:href=\"#m8b9911dbbf\" y=\"311.146108\"/>\n     <use style=\"fill:#1f77b4;fill-opacity:0.8;stroke:#1f77b4;stroke-opacity:0.8;\" x=\"60.637238\" xlink:href=\"#m8b9911dbbf\" y=\"312.623647\"/>\n     <use style=\"fill:#1f77b4;fill-opacity:0.8;stroke:#1f77b4;stroke-opacity:0.8;\" x=\"60.594534\" xlink:href=\"#m8b9911dbbf\" y=\"313.177724\"/>\n     <use style=\"fill:#1f77b4;fill-opacity:0.8;stroke:#1f77b4;stroke-opacity:0.8;\" x=\"60.587416\" xlink:href=\"#m8b9911dbbf\" y=\"313.184828\"/>\n     <use style=\"fill:#1f77b4;fill-opacity:0.8;stroke:#1f77b4;stroke-opacity:0.8;\" x=\"60.587416\" xlink:href=\"#m8b9911dbbf\" y=\"312.815443\"/>\n     <use style=\"fill:#1f77b4;fill-opacity:0.8;stroke:#1f77b4;stroke-opacity:0.8;\" x=\"60.573182\" xlink:href=\"#m8b9911dbbf\" y=\"309.448359\"/>\n     <use style=\"fill:#1f77b4;fill-opacity:0.8;stroke:#1f77b4;stroke-opacity:0.8;\" x=\"60.551829\" xlink:href=\"#m8b9911dbbf\" y=\"311.060865\"/>\n     <use style=\"fill:#1f77b4;fill-opacity:0.8;stroke:#1f77b4;stroke-opacity:0.8;\" x=\"60.516242\" xlink:href=\"#m8b9911dbbf\" y=\"313.362416\"/>\n     <use style=\"fill:#1f77b4;fill-opacity:0.8;stroke:#1f77b4;stroke-opacity:0.8;\" x=\"60.49489\" xlink:href=\"#m8b9911dbbf\" y=\"313.234553\"/>\n     <use style=\"fill:#1f77b4;fill-opacity:0.8;stroke:#1f77b4;stroke-opacity:0.8;\" x=\"60.487773\" xlink:href=\"#m8b9911dbbf\" y=\"311.963016\"/>\n     <use style=\"fill:#1f77b4;fill-opacity:0.8;stroke:#1f77b4;stroke-opacity:0.8;\" x=\"60.445069\" xlink:href=\"#m8b9911dbbf\" y=\"312.09088\"/>\n     <use style=\"fill:#1f77b4;fill-opacity:0.8;stroke:#1f77b4;stroke-opacity:0.8;\" x=\"60.409482\" xlink:href=\"#m8b9911dbbf\" y=\"313.24876\"/>\n     <use style=\"fill:#1f77b4;fill-opacity:0.8;stroke:#1f77b4;stroke-opacity:0.8;\" x=\"60.409482\" xlink:href=\"#m8b9911dbbf\" y=\"309.405737\"/>\n     <use style=\"fill:#1f77b4;fill-opacity:0.8;stroke:#1f77b4;stroke-opacity:0.8;\" x=\"60.409482\" xlink:href=\"#m8b9911dbbf\" y=\"312.63075\"/>\n     <use style=\"fill:#1f77b4;fill-opacity:0.8;stroke:#1f77b4;stroke-opacity:0.8;\" x=\"60.395247\" xlink:href=\"#m8b9911dbbf\" y=\"312.41054\"/>\n     <use style=\"fill:#1f77b4;fill-opacity:0.8;stroke:#1f77b4;stroke-opacity:0.8;\" x=\"60.345425\" xlink:href=\"#m8b9911dbbf\" y=\"311.359214\"/>\n     <use style=\"fill:#1f77b4;fill-opacity:0.8;stroke:#1f77b4;stroke-opacity:0.8;\" x=\"60.345425\" xlink:href=\"#m8b9911dbbf\" y=\"312.886478\"/>\n     <use style=\"fill:#1f77b4;fill-opacity:0.8;stroke:#1f77b4;stroke-opacity:0.8;\" x=\"60.338308\" xlink:href=\"#m8b9911dbbf\" y=\"313.085378\"/>\n     <use style=\"fill:#1f77b4;fill-opacity:0.8;stroke:#1f77b4;stroke-opacity:0.8;\" x=\"60.309838\" xlink:href=\"#m8b9911dbbf\" y=\"313.234553\"/>\n     <use style=\"fill:#1f77b4;fill-opacity:0.8;stroke:#1f77b4;stroke-opacity:0.8;\" x=\"60.295603\" xlink:href=\"#m8b9911dbbf\" y=\"312.801236\"/>\n     <use style=\"fill:#1f77b4;fill-opacity:0.8;stroke:#1f77b4;stroke-opacity:0.8;\" x=\"60.288486\" xlink:href=\"#m8b9911dbbf\" y=\"312.353712\"/>\n     <use style=\"fill:#1f77b4;fill-opacity:0.8;stroke:#1f77b4;stroke-opacity:0.8;\" x=\"60.252899\" xlink:href=\"#m8b9911dbbf\" y=\"313.376624\"/>\n     <use style=\"fill:#1f77b4;fill-opacity:0.8;stroke:#1f77b4;stroke-opacity:0.8;\" x=\"60.224429\" xlink:href=\"#m8b9911dbbf\" y=\"311.316593\"/>\n     <use style=\"fill:#1f77b4;fill-opacity:0.8;stroke:#1f77b4;stroke-opacity:0.8;\" x=\"60.224429\" xlink:href=\"#m8b9911dbbf\" y=\"306.699283\"/>\n     <use style=\"fill:#1f77b4;fill-opacity:0.8;stroke:#1f77b4;stroke-opacity:0.8;\" x=\"60.188842\" xlink:href=\"#m8b9911dbbf\" y=\"312.886478\"/>\n     <use style=\"fill:#1f77b4;fill-opacity:0.8;stroke:#1f77b4;stroke-opacity:0.8;\" x=\"60.181725\" xlink:href=\"#m8b9911dbbf\" y=\"313.24876\"/>\n     <use style=\"fill:#1f77b4;fill-opacity:0.8;stroke:#1f77b4;stroke-opacity:0.8;\" x=\"60.181725\" xlink:href=\"#m8b9911dbbf\" y=\"312.9291\"/>\n     <use style=\"fill:#1f77b4;fill-opacity:0.8;stroke:#1f77b4;stroke-opacity:0.8;\" x=\"60.16749\" xlink:href=\"#m8b9911dbbf\" y=\"310.847759\"/>\n     <use style=\"fill:#1f77b4;fill-opacity:0.8;stroke:#1f77b4;stroke-opacity:0.8;\" x=\"60.160373\" xlink:href=\"#m8b9911dbbf\" y=\"313.127999\"/>\n     <use style=\"fill:#1f77b4;fill-opacity:0.8;stroke:#1f77b4;stroke-opacity:0.8;\" x=\"60.160373\" xlink:href=\"#m8b9911dbbf\" y=\"312.822546\"/>\n     <use style=\"fill:#1f77b4;fill-opacity:0.8;stroke:#1f77b4;stroke-opacity:0.8;\" x=\"60.153255\" xlink:href=\"#m8b9911dbbf\" y=\"312.822546\"/>\n     <use style=\"fill:#1f77b4;fill-opacity:0.8;stroke:#1f77b4;stroke-opacity:0.8;\" x=\"60.146138\" xlink:href=\"#m8b9911dbbf\" y=\"313.262967\"/>\n     <use style=\"fill:#1f77b4;fill-opacity:0.8;stroke:#1f77b4;stroke-opacity:0.8;\" x=\"60.139021\" xlink:href=\"#m8b9911dbbf\" y=\"312.95041\"/>\n     <use style=\"fill:#1f77b4;fill-opacity:0.8;stroke:#1f77b4;stroke-opacity:0.8;\" x=\"60.124786\" xlink:href=\"#m8b9911dbbf\" y=\"313.206138\"/>\n     <use style=\"fill:#1f77b4;fill-opacity:0.8;stroke:#1f77b4;stroke-opacity:0.8;\" x=\"60.117669\" xlink:href=\"#m8b9911dbbf\" y=\"312.38923\"/>\n     <use style=\"fill:#1f77b4;fill-opacity:0.8;stroke:#1f77b4;stroke-opacity:0.8;\" x=\"60.110551\" xlink:href=\"#m8b9911dbbf\" y=\"312.50999\"/>\n     <use style=\"fill:#1f77b4;fill-opacity:0.8;stroke:#1f77b4;stroke-opacity:0.8;\" x=\"60.110551\" xlink:href=\"#m8b9911dbbf\" y=\"312.488679\"/>\n     <use style=\"fill:#1f77b4;fill-opacity:0.8;stroke:#1f77b4;stroke-opacity:0.8;\" x=\"60.103434\" xlink:href=\"#m8b9911dbbf\" y=\"312.765718\"/>\n     <use style=\"fill:#1f77b4;fill-opacity:0.8;stroke:#1f77b4;stroke-opacity:0.8;\" x=\"60.096316\" xlink:href=\"#m8b9911dbbf\" y=\"312.183227\"/>\n     <use style=\"fill:#1f77b4;fill-opacity:0.8;stroke:#1f77b4;stroke-opacity:0.8;\" x=\"60.082082\" xlink:href=\"#m8b9911dbbf\" y=\"311.963016\"/>\n     <use style=\"fill:#1f77b4;fill-opacity:0.8;stroke:#1f77b4;stroke-opacity:0.8;\" x=\"60.082082\" xlink:href=\"#m8b9911dbbf\" y=\"313.298485\"/>\n     <use style=\"fill:#1f77b4;fill-opacity:0.8;stroke:#1f77b4;stroke-opacity:0.8;\" x=\"60.082082\" xlink:href=\"#m8b9911dbbf\" y=\"312.744407\"/>\n     <use style=\"fill:#1f77b4;fill-opacity:0.8;stroke:#1f77b4;stroke-opacity:0.8;\" x=\"60.067847\" xlink:href=\"#m8b9911dbbf\" y=\"312.82965\"/>\n     <use style=\"fill:#1f77b4;fill-opacity:0.8;stroke:#1f77b4;stroke-opacity:0.8;\" x=\"60.067847\" xlink:href=\"#m8b9911dbbf\" y=\"312.318194\"/>\n     <use style=\"fill:#1f77b4;fill-opacity:0.8;stroke:#1f77b4;stroke-opacity:0.8;\" x=\"60.067847\" xlink:href=\"#m8b9911dbbf\" y=\"312.595233\"/>\n     <use style=\"fill:#1f77b4;fill-opacity:0.8;stroke:#1f77b4;stroke-opacity:0.8;\" x=\"60.060729\" xlink:href=\"#m8b9911dbbf\" y=\"312.460265\"/>\n     <use style=\"fill:#1f77b4;fill-opacity:0.8;stroke:#1f77b4;stroke-opacity:0.8;\" x=\"60.053612\" xlink:href=\"#m8b9911dbbf\" y=\"313.241656\"/>\n     <use style=\"fill:#1f77b4;fill-opacity:0.8;stroke:#1f77b4;stroke-opacity:0.8;\" x=\"60.053612\" xlink:href=\"#m8b9911dbbf\" y=\"310.982726\"/>\n     <use style=\"fill:#1f77b4;fill-opacity:0.8;stroke:#1f77b4;stroke-opacity:0.8;\" x=\"60.03226\" xlink:href=\"#m8b9911dbbf\" y=\"312.872271\"/>\n     <use style=\"fill:#1f77b4;fill-opacity:0.8;stroke:#1f77b4;stroke-opacity:0.8;\" x=\"60.025142\" xlink:href=\"#m8b9911dbbf\" y=\"312.993032\"/>\n     <use style=\"fill:#1f77b4;fill-opacity:0.8;stroke:#1f77b4;stroke-opacity:0.8;\" x=\"60.025142\" xlink:href=\"#m8b9911dbbf\" y=\"313.092481\"/>\n     <use style=\"fill:#1f77b4;fill-opacity:0.8;stroke:#1f77b4;stroke-opacity:0.8;\" x=\"60.018025\" xlink:href=\"#m8b9911dbbf\" y=\"312.943307\"/>\n     <use style=\"fill:#1f77b4;fill-opacity:0.8;stroke:#1f77b4;stroke-opacity:0.8;\" x=\"60.010908\" xlink:href=\"#m8b9911dbbf\" y=\"312.403437\"/>\n     <use style=\"fill:#1f77b4;fill-opacity:0.8;stroke:#1f77b4;stroke-opacity:0.8;\" x=\"60.010908\" xlink:href=\"#m8b9911dbbf\" y=\"313.000135\"/>\n     <use style=\"fill:#1f77b4;fill-opacity:0.8;stroke:#1f77b4;stroke-opacity:0.8;\" x=\"60.00379\" xlink:href=\"#m8b9911dbbf\" y=\"312.957514\"/>\n     <use style=\"fill:#1f77b4;fill-opacity:0.8;stroke:#1f77b4;stroke-opacity:0.8;\" x=\"59.989555\" xlink:href=\"#m8b9911dbbf\" y=\"313.191931\"/>\n     <use style=\"fill:#1f77b4;fill-opacity:0.8;stroke:#1f77b4;stroke-opacity:0.8;\" x=\"59.989555\" xlink:href=\"#m8b9911dbbf\" y=\"313.056964\"/>\n     <use style=\"fill:#1f77b4;fill-opacity:0.8;stroke:#1f77b4;stroke-opacity:0.8;\" x=\"59.975321\" xlink:href=\"#m8b9911dbbf\" y=\"313.113792\"/>\n     <use style=\"fill:#1f77b4;fill-opacity:0.8;stroke:#1f77b4;stroke-opacity:0.8;\" x=\"59.961086\" xlink:href=\"#m8b9911dbbf\" y=\"313.021446\"/>\n     <use style=\"fill:#1f77b4;fill-opacity:0.8;stroke:#1f77b4;stroke-opacity:0.8;\" x=\"59.953968\" xlink:href=\"#m8b9911dbbf\" y=\"313.191931\"/>\n     <use style=\"fill:#1f77b4;fill-opacity:0.8;stroke:#1f77b4;stroke-opacity:0.8;\" x=\"59.946851\" xlink:href=\"#m8b9911dbbf\" y=\"312.197434\"/>\n     <use style=\"fill:#1f77b4;fill-opacity:0.8;stroke:#1f77b4;stroke-opacity:0.8;\" x=\"59.939734\" xlink:href=\"#m8b9911dbbf\" y=\"312.836754\"/>\n     <use style=\"fill:#1f77b4;fill-opacity:0.8;stroke:#1f77b4;stroke-opacity:0.8;\" x=\"59.939734\" xlink:href=\"#m8b9911dbbf\" y=\"312.573922\"/>\n     <use style=\"fill:#1f77b4;fill-opacity:0.8;stroke:#1f77b4;stroke-opacity:0.8;\" x=\"59.925499\" xlink:href=\"#m8b9911dbbf\" y=\"312.474472\"/>\n     <use style=\"fill:#1f77b4;fill-opacity:0.8;stroke:#1f77b4;stroke-opacity:0.8;\" x=\"59.911264\" xlink:href=\"#m8b9911dbbf\" y=\"313.241656\"/>\n     <use style=\"fill:#1f77b4;fill-opacity:0.8;stroke:#1f77b4;stroke-opacity:0.8;\" x=\"59.911264\" xlink:href=\"#m8b9911dbbf\" y=\"313.397934\"/>\n     <use style=\"fill:#1f77b4;fill-opacity:0.8;stroke:#1f77b4;stroke-opacity:0.8;\" x=\"59.882795\" xlink:href=\"#m8b9911dbbf\" y=\"313.007239\"/>\n     <use style=\"fill:#1f77b4;fill-opacity:0.8;stroke:#1f77b4;stroke-opacity:0.8;\" x=\"59.882795\" xlink:href=\"#m8b9911dbbf\" y=\"312.467369\"/>\n     <use style=\"fill:#1f77b4;fill-opacity:0.8;stroke:#1f77b4;stroke-opacity:0.8;\" x=\"59.875677\" xlink:href=\"#m8b9911dbbf\" y=\"312.914893\"/>\n     <use style=\"fill:#1f77b4;fill-opacity:0.8;stroke:#1f77b4;stroke-opacity:0.8;\" x=\"59.875677\" xlink:href=\"#m8b9911dbbf\" y=\"313.042757\"/>\n     <use style=\"fill:#1f77b4;fill-opacity:0.8;stroke:#1f77b4;stroke-opacity:0.8;\" x=\"59.86856\" xlink:href=\"#m8b9911dbbf\" y=\"313.092481\"/>\n     <use style=\"fill:#1f77b4;fill-opacity:0.8;stroke:#1f77b4;stroke-opacity:0.8;\" x=\"59.861442\" xlink:href=\"#m8b9911dbbf\" y=\"313.191931\"/>\n     <use style=\"fill:#1f77b4;fill-opacity:0.8;stroke:#1f77b4;stroke-opacity:0.8;\" x=\"59.854325\" xlink:href=\"#m8b9911dbbf\" y=\"312.82965\"/>\n     <use style=\"fill:#1f77b4;fill-opacity:0.8;stroke:#1f77b4;stroke-opacity:0.8;\" x=\"59.854325\" xlink:href=\"#m8b9911dbbf\" y=\"310.535202\"/>\n     <use style=\"fill:#1f77b4;fill-opacity:0.8;stroke:#1f77b4;stroke-opacity:0.8;\" x=\"59.847208\" xlink:href=\"#m8b9911dbbf\" y=\"311.998534\"/>\n     <use style=\"fill:#1f77b4;fill-opacity:0.8;stroke:#1f77b4;stroke-opacity:0.8;\" x=\"59.84009\" xlink:href=\"#m8b9911dbbf\" y=\"312.502887\"/>\n     <use style=\"fill:#1f77b4;fill-opacity:0.8;stroke:#1f77b4;stroke-opacity:0.8;\" x=\"59.818738\" xlink:href=\"#m8b9911dbbf\" y=\"313.24876\"/>\n     <use style=\"fill:#1f77b4;fill-opacity:0.8;stroke:#1f77b4;stroke-opacity:0.8;\" x=\"59.818738\" xlink:href=\"#m8b9911dbbf\" y=\"313.341106\"/>\n     <use style=\"fill:#1f77b4;fill-opacity:0.8;stroke:#1f77b4;stroke-opacity:0.8;\" x=\"59.818738\" xlink:href=\"#m8b9911dbbf\" y=\"313.106689\"/>\n     <use style=\"fill:#1f77b4;fill-opacity:0.8;stroke:#1f77b4;stroke-opacity:0.8;\" x=\"59.818738\" xlink:href=\"#m8b9911dbbf\" y=\"313.376624\"/>\n     <use style=\"fill:#1f77b4;fill-opacity:0.8;stroke:#1f77b4;stroke-opacity:0.8;\" x=\"59.811621\" xlink:href=\"#m8b9911dbbf\" y=\"313.312692\"/>\n     <use style=\"fill:#1f77b4;fill-opacity:0.8;stroke:#1f77b4;stroke-opacity:0.8;\" x=\"59.811621\" xlink:href=\"#m8b9911dbbf\" y=\"312.936203\"/>\n     <use style=\"fill:#1f77b4;fill-opacity:0.8;stroke:#1f77b4;stroke-opacity:0.8;\" x=\"59.811621\" xlink:href=\"#m8b9911dbbf\" y=\"313.170621\"/>\n     <use style=\"fill:#1f77b4;fill-opacity:0.8;stroke:#1f77b4;stroke-opacity:0.8;\" x=\"59.804503\" xlink:href=\"#m8b9911dbbf\" y=\"313.142206\"/>\n     <use style=\"fill:#1f77b4;fill-opacity:0.8;stroke:#1f77b4;stroke-opacity:0.8;\" x=\"59.804503\" xlink:href=\"#m8b9911dbbf\" y=\"310.876173\"/>\n     <use style=\"fill:#1f77b4;fill-opacity:0.8;stroke:#1f77b4;stroke-opacity:0.8;\" x=\"59.783151\" xlink:href=\"#m8b9911dbbf\" y=\"313.36952\"/>\n     <use style=\"fill:#1f77b4;fill-opacity:0.8;stroke:#1f77b4;stroke-opacity:0.8;\" x=\"59.776034\" xlink:href=\"#m8b9911dbbf\" y=\"312.694682\"/>\n     <use style=\"fill:#1f77b4;fill-opacity:0.8;stroke:#1f77b4;stroke-opacity:0.8;\" x=\"59.761799\" xlink:href=\"#m8b9911dbbf\" y=\"312.850961\"/>\n     <use style=\"fill:#1f77b4;fill-opacity:0.8;stroke:#1f77b4;stroke-opacity:0.8;\" x=\"59.740447\" xlink:href=\"#m8b9911dbbf\" y=\"313.255863\"/>\n     <use style=\"fill:#1f77b4;fill-opacity:0.8;stroke:#1f77b4;stroke-opacity:0.8;\" x=\"59.740447\" xlink:href=\"#m8b9911dbbf\" y=\"311.487078\"/>\n     <use style=\"fill:#1f77b4;fill-opacity:0.8;stroke:#1f77b4;stroke-opacity:0.8;\" x=\"59.733329\" xlink:href=\"#m8b9911dbbf\" y=\"311.593632\"/>\n     <use style=\"fill:#1f77b4;fill-opacity:0.8;stroke:#1f77b4;stroke-opacity:0.8;\" x=\"59.733329\" xlink:href=\"#m8b9911dbbf\" y=\"310.542306\"/>\n     <use style=\"fill:#1f77b4;fill-opacity:0.8;stroke:#1f77b4;stroke-opacity:0.8;\" x=\"59.733329\" xlink:href=\"#m8b9911dbbf\" y=\"312.133502\"/>\n     <use style=\"fill:#1f77b4;fill-opacity:0.8;stroke:#1f77b4;stroke-opacity:0.8;\" x=\"59.726212\" xlink:href=\"#m8b9911dbbf\" y=\"313.27007\"/>\n     <use style=\"fill:#1f77b4;fill-opacity:0.8;stroke:#1f77b4;stroke-opacity:0.8;\" x=\"59.711977\" xlink:href=\"#m8b9911dbbf\" y=\"311.785428\"/>\n     <use style=\"fill:#1f77b4;fill-opacity:0.8;stroke:#1f77b4;stroke-opacity:0.8;\" x=\"59.711977\" xlink:href=\"#m8b9911dbbf\" y=\"312.82965\"/>\n     <use style=\"fill:#1f77b4;fill-opacity:0.8;stroke:#1f77b4;stroke-opacity:0.8;\" x=\"59.711977\" xlink:href=\"#m8b9911dbbf\" y=\"312.105088\"/>\n     <use style=\"fill:#1f77b4;fill-opacity:0.8;stroke:#1f77b4;stroke-opacity:0.8;\" x=\"59.711977\" xlink:href=\"#m8b9911dbbf\" y=\"313.120896\"/>\n     <use style=\"fill:#1f77b4;fill-opacity:0.8;stroke:#1f77b4;stroke-opacity:0.8;\" x=\"59.711977\" xlink:href=\"#m8b9911dbbf\" y=\"313.362416\"/>\n     <use style=\"fill:#1f77b4;fill-opacity:0.8;stroke:#1f77b4;stroke-opacity:0.8;\" x=\"59.697742\" xlink:href=\"#m8b9911dbbf\" y=\"313.092481\"/>\n     <use style=\"fill:#1f77b4;fill-opacity:0.8;stroke:#1f77b4;stroke-opacity:0.8;\" x=\"59.697742\" xlink:href=\"#m8b9911dbbf\" y=\"313.312692\"/>\n     <use style=\"fill:#1f77b4;fill-opacity:0.8;stroke:#1f77b4;stroke-opacity:0.8;\" x=\"59.690625\" xlink:href=\"#m8b9911dbbf\" y=\"311.572321\"/>\n     <use style=\"fill:#1f77b4;fill-opacity:0.8;stroke:#1f77b4;stroke-opacity:0.8;\" x=\"59.690625\" xlink:href=\"#m8b9911dbbf\" y=\"313.206138\"/>\n    </g>\n   </g>\n   <g id=\"PolyCollection_1\">\n    <path clip-path=\"url(#pae06d2e3d5)\" d=\"M 59.690625 310.692576 \nL 59.690625 313.990909 \nL 62.5869 311.200341 \nL 65.483175 309.421832 \nL 68.379451 308.167048 \nL 71.275726 306.992007 \nL 74.172001 305.835611 \nL 77.068276 304.671756 \nL 79.964551 303.522664 \nL 82.860826 302.418329 \nL 85.757102 301.322725 \nL 88.653377 300.210257 \nL 91.549652 299.124195 \nL 94.445927 298.034264 \nL 97.342202 296.918489 \nL 100.238477 295.812421 \nL 103.134753 294.701643 \nL 106.031028 293.590452 \nL 108.927303 292.479156 \nL 111.823578 291.347835 \nL 114.719853 290.215849 \nL 117.616128 289.083862 \nL 120.512404 287.951754 \nL 123.408679 286.819391 \nL 126.304954 285.687028 \nL 129.201229 284.556476 \nL 132.097504 283.444823 \nL 134.99378 282.33317 \nL 137.890055 281.209949 \nL 140.78633 280.087812 \nL 143.682605 278.973896 \nL 146.57888 277.859981 \nL 149.475155 276.745723 \nL 152.371431 275.631449 \nL 155.267706 274.512927 \nL 158.163981 273.38778 \nL 161.060256 272.262632 \nL 163.956531 271.147557 \nL 166.852806 270.036484 \nL 169.749082 268.925411 \nL 172.645357 267.814338 \nL 175.541632 266.703163 \nL 178.437907 265.591861 \nL 181.334182 264.469338 \nL 184.230457 263.346516 \nL 187.126733 262.223693 \nL 190.023008 261.100871 \nL 192.919283 259.978013 \nL 195.815558 258.855116 \nL 198.711833 257.732219 \nL 201.608109 256.609322 \nL 204.504384 255.486425 \nL 207.400659 254.363528 \nL 210.296934 253.24063 \nL 213.193209 252.117733 \nL 216.089484 250.994777 \nL 218.98576 249.871782 \nL 221.882035 248.748786 \nL 224.77831 247.629411 \nL 227.674585 246.516355 \nL 230.57086 245.403299 \nL 233.467135 244.290244 \nL 236.363411 243.177188 \nL 239.259686 242.064132 \nL 242.155961 240.951076 \nL 245.052236 239.83802 \nL 247.948511 238.724965 \nL 250.844786 237.611909 \nL 253.741062 236.498853 \nL 256.637337 235.385797 \nL 259.533612 234.272741 \nL 262.429887 233.159686 \nL 265.326162 232.04663 \nL 268.222438 230.933574 \nL 271.118713 229.820518 \nL 274.014988 228.707463 \nL 276.911263 227.594407 \nL 279.807538 226.481351 \nL 282.703813 225.368295 \nL 285.600089 224.255239 \nL 288.496364 223.142184 \nL 291.392639 222.029128 \nL 294.288914 220.916072 \nL 297.185189 219.803016 \nL 300.081464 218.68996 \nL 302.97774 217.576905 \nL 305.874015 216.463849 \nL 308.77029 215.348047 \nL 311.666565 214.230259 \nL 314.56284 213.112471 \nL 317.459116 211.994683 \nL 320.355391 210.876895 \nL 323.251666 209.759106 \nL 326.147941 208.641318 \nL 329.044216 207.52353 \nL 331.940491 206.405742 \nL 334.836767 205.287954 \nL 337.733042 204.170166 \nL 340.629317 203.052377 \nL 343.525592 201.934589 \nL 346.421867 200.816801 \nL 346.421867 21.809091 \nL 346.421867 21.809091 \nL 343.525592 24.758325 \nL 340.629317 27.707559 \nL 337.733042 30.656793 \nL 334.836767 33.606027 \nL 331.940491 36.555261 \nL 329.044216 39.504496 \nL 326.147941 42.45373 \nL 323.251666 45.402964 \nL 320.355391 48.352198 \nL 317.459116 51.301432 \nL 314.56284 54.250666 \nL 311.666565 57.1999 \nL 308.77029 60.149134 \nL 305.874015 63.098368 \nL 302.97774 66.047603 \nL 300.081464 68.996837 \nL 297.185189 71.946071 \nL 294.288914 74.895305 \nL 291.392639 77.844539 \nL 288.496364 80.793773 \nL 285.600089 83.743007 \nL 282.703813 86.692241 \nL 279.807538 89.641475 \nL 276.911263 92.59071 \nL 274.014988 95.539944 \nL 271.118713 98.489178 \nL 268.222438 101.438412 \nL 265.326162 104.387646 \nL 262.429887 107.33688 \nL 259.533612 110.286114 \nL 256.637337 113.235348 \nL 253.741062 116.184583 \nL 250.844786 119.133817 \nL 247.948511 122.083051 \nL 245.052236 125.032285 \nL 242.155961 127.981519 \nL 239.259686 130.930753 \nL 236.363411 133.879987 \nL 233.467135 136.829221 \nL 230.57086 139.778455 \nL 227.674585 142.72769 \nL 224.77831 145.676924 \nL 221.882035 148.626158 \nL 218.98576 151.575392 \nL 216.089484 154.524626 \nL 213.193209 157.47386 \nL 210.296934 160.423094 \nL 207.400659 163.372328 \nL 204.504384 166.321562 \nL 201.608109 169.271751 \nL 198.711833 172.222139 \nL 195.815558 175.172527 \nL 192.919283 178.122915 \nL 190.023008 181.073303 \nL 187.126733 184.02369 \nL 184.230457 186.974078 \nL 181.334182 189.924466 \nL 178.437907 192.874854 \nL 175.541632 195.825241 \nL 172.645357 198.775629 \nL 169.749082 201.726017 \nL 166.852806 204.676405 \nL 163.956531 207.626793 \nL 161.060256 210.57718 \nL 158.163981 213.527568 \nL 155.267706 216.477956 \nL 152.371431 219.428344 \nL 149.475155 222.378731 \nL 146.57888 225.329119 \nL 143.682605 228.279507 \nL 140.78633 231.229895 \nL 137.890055 234.172812 \nL 134.99378 237.112057 \nL 132.097504 240.051652 \nL 129.201229 243.007995 \nL 126.304954 245.969641 \nL 123.408679 248.931288 \nL 120.512404 251.882609 \nL 117.616128 254.832997 \nL 114.719853 257.778335 \nL 111.823578 260.715674 \nL 108.927303 263.653013 \nL 106.031028 266.594389 \nL 103.134753 269.554949 \nL 100.238477 272.526735 \nL 97.342202 275.486605 \nL 94.445927 278.454325 \nL 91.549652 281.430568 \nL 88.653377 284.406811 \nL 85.757102 287.383055 \nL 82.860826 290.338496 \nL 79.964551 293.257474 \nL 77.068276 296.176451 \nL 74.172001 299.095429 \nL 71.275726 302.083501 \nL 68.379451 304.989589 \nL 65.483175 307.553199 \nL 62.5869 309.266411 \nL 59.690625 310.692576 \nz\n\" style=\"fill:#1f77b4;fill-opacity:0.15;\"/>\n   </g>\n   <g id=\"matplotlib.axis_1\">\n    <g id=\"xtick_1\">\n     <g id=\"line2d_1\">\n      <defs>\n       <path d=\"M 0 0 \nL 0 3.5 \n\" id=\"m0c12cf5e9a\" style=\"stroke:#000000;stroke-width:0.8;\"/>\n      </defs>\n      <g>\n       <use style=\"stroke:#000000;stroke-width:0.8;\" x=\"94.380792\" xlink:href=\"#m0c12cf5e9a\" y=\"328.6\"/>\n      </g>\n     </g>\n     <g id=\"text_1\">\n      <!-- 5000 -->\n      <g transform=\"translate(81.655792 343.198437)scale(0.1 -0.1)\">\n       <defs>\n        <path d=\"M 10.796875 72.90625 \nL 49.515625 72.90625 \nL 49.515625 64.59375 \nL 19.828125 64.59375 \nL 19.828125 46.734375 \nQ 21.96875 47.46875 24.109375 47.828125 \nQ 26.265625 48.1875 28.421875 48.1875 \nQ 40.625 48.1875 47.75 41.5 \nQ 54.890625 34.8125 54.890625 23.390625 \nQ 54.890625 11.625 47.5625 5.09375 \nQ 40.234375 -1.421875 26.90625 -1.421875 \nQ 22.3125 -1.421875 17.546875 -0.640625 \nQ 12.796875 0.140625 7.71875 1.703125 \nL 7.71875 11.625 \nQ 12.109375 9.234375 16.796875 8.0625 \nQ 21.484375 6.890625 26.703125 6.890625 \nQ 35.15625 6.890625 40.078125 11.328125 \nQ 45.015625 15.765625 45.015625 23.390625 \nQ 45.015625 31 40.078125 35.4375 \nQ 35.15625 39.890625 26.703125 39.890625 \nQ 22.75 39.890625 18.8125 39.015625 \nQ 14.890625 38.140625 10.796875 36.28125 \nz\n\" id=\"DejaVuSans-53\"/>\n        <path d=\"M 31.78125 66.40625 \nQ 24.171875 66.40625 20.328125 58.90625 \nQ 16.5 51.421875 16.5 36.375 \nQ 16.5 21.390625 20.328125 13.890625 \nQ 24.171875 6.390625 31.78125 6.390625 \nQ 39.453125 6.390625 43.28125 13.890625 \nQ 47.125 21.390625 47.125 36.375 \nQ 47.125 51.421875 43.28125 58.90625 \nQ 39.453125 66.40625 31.78125 66.40625 \nz\nM 31.78125 74.21875 \nQ 44.046875 74.21875 50.515625 64.515625 \nQ 56.984375 54.828125 56.984375 36.375 \nQ 56.984375 17.96875 50.515625 8.265625 \nQ 44.046875 -1.421875 31.78125 -1.421875 \nQ 19.53125 -1.421875 13.0625 8.265625 \nQ 6.59375 17.96875 6.59375 36.375 \nQ 6.59375 54.828125 13.0625 64.515625 \nQ 19.53125 74.21875 31.78125 74.21875 \nz\n\" id=\"DejaVuSans-48\"/>\n       </defs>\n       <use xlink:href=\"#DejaVuSans-53\"/>\n       <use x=\"63.623047\" xlink:href=\"#DejaVuSans-48\"/>\n       <use x=\"127.246094\" xlink:href=\"#DejaVuSans-48\"/>\n       <use x=\"190.869141\" xlink:href=\"#DejaVuSans-48\"/>\n      </g>\n     </g>\n    </g>\n    <g id=\"xtick_2\">\n     <g id=\"line2d_2\">\n      <g>\n       <use style=\"stroke:#000000;stroke-width:0.8;\" x=\"129.967751\" xlink:href=\"#m0c12cf5e9a\" y=\"328.6\"/>\n      </g>\n     </g>\n     <g id=\"text_2\">\n      <!-- 10000 -->\n      <g transform=\"translate(114.061501 343.198437)scale(0.1 -0.1)\">\n       <defs>\n        <path d=\"M 12.40625 8.296875 \nL 28.515625 8.296875 \nL 28.515625 63.921875 \nL 10.984375 60.40625 \nL 10.984375 69.390625 \nL 28.421875 72.90625 \nL 38.28125 72.90625 \nL 38.28125 8.296875 \nL 54.390625 8.296875 \nL 54.390625 0 \nL 12.40625 0 \nz\n\" id=\"DejaVuSans-49\"/>\n       </defs>\n       <use xlink:href=\"#DejaVuSans-49\"/>\n       <use x=\"63.623047\" xlink:href=\"#DejaVuSans-48\"/>\n       <use x=\"127.246094\" xlink:href=\"#DejaVuSans-48\"/>\n       <use x=\"190.869141\" xlink:href=\"#DejaVuSans-48\"/>\n       <use x=\"254.492188\" xlink:href=\"#DejaVuSans-48\"/>\n      </g>\n     </g>\n    </g>\n    <g id=\"xtick_3\">\n     <g id=\"line2d_3\">\n      <g>\n       <use style=\"stroke:#000000;stroke-width:0.8;\" x=\"165.554709\" xlink:href=\"#m0c12cf5e9a\" y=\"328.6\"/>\n      </g>\n     </g>\n     <g id=\"text_3\">\n      <!-- 15000 -->\n      <g transform=\"translate(149.648459 343.198437)scale(0.1 -0.1)\">\n       <use xlink:href=\"#DejaVuSans-49\"/>\n       <use x=\"63.623047\" xlink:href=\"#DejaVuSans-53\"/>\n       <use x=\"127.246094\" xlink:href=\"#DejaVuSans-48\"/>\n       <use x=\"190.869141\" xlink:href=\"#DejaVuSans-48\"/>\n       <use x=\"254.492188\" xlink:href=\"#DejaVuSans-48\"/>\n      </g>\n     </g>\n    </g>\n    <g id=\"xtick_4\">\n     <g id=\"line2d_4\">\n      <g>\n       <use style=\"stroke:#000000;stroke-width:0.8;\" x=\"201.141668\" xlink:href=\"#m0c12cf5e9a\" y=\"328.6\"/>\n      </g>\n     </g>\n     <g id=\"text_4\">\n      <!-- 20000 -->\n      <g transform=\"translate(185.235418 343.198437)scale(0.1 -0.1)\">\n       <defs>\n        <path d=\"M 19.1875 8.296875 \nL 53.609375 8.296875 \nL 53.609375 0 \nL 7.328125 0 \nL 7.328125 8.296875 \nQ 12.9375 14.109375 22.625 23.890625 \nQ 32.328125 33.6875 34.8125 36.53125 \nQ 39.546875 41.84375 41.421875 45.53125 \nQ 43.3125 49.21875 43.3125 52.78125 \nQ 43.3125 58.59375 39.234375 62.25 \nQ 35.15625 65.921875 28.609375 65.921875 \nQ 23.96875 65.921875 18.8125 64.3125 \nQ 13.671875 62.703125 7.8125 59.421875 \nL 7.8125 69.390625 \nQ 13.765625 71.78125 18.9375 73 \nQ 24.125 74.21875 28.421875 74.21875 \nQ 39.75 74.21875 46.484375 68.546875 \nQ 53.21875 62.890625 53.21875 53.421875 \nQ 53.21875 48.921875 51.53125 44.890625 \nQ 49.859375 40.875 45.40625 35.40625 \nQ 44.1875 33.984375 37.640625 27.21875 \nQ 31.109375 20.453125 19.1875 8.296875 \nz\n\" id=\"DejaVuSans-50\"/>\n       </defs>\n       <use xlink:href=\"#DejaVuSans-50\"/>\n       <use x=\"63.623047\" xlink:href=\"#DejaVuSans-48\"/>\n       <use x=\"127.246094\" xlink:href=\"#DejaVuSans-48\"/>\n       <use x=\"190.869141\" xlink:href=\"#DejaVuSans-48\"/>\n       <use x=\"254.492188\" xlink:href=\"#DejaVuSans-48\"/>\n      </g>\n     </g>\n    </g>\n    <g id=\"xtick_5\">\n     <g id=\"line2d_5\">\n      <g>\n       <use style=\"stroke:#000000;stroke-width:0.8;\" x=\"236.728626\" xlink:href=\"#m0c12cf5e9a\" y=\"328.6\"/>\n      </g>\n     </g>\n     <g id=\"text_5\">\n      <!-- 25000 -->\n      <g transform=\"translate(220.822376 343.198437)scale(0.1 -0.1)\">\n       <use xlink:href=\"#DejaVuSans-50\"/>\n       <use x=\"63.623047\" xlink:href=\"#DejaVuSans-53\"/>\n       <use x=\"127.246094\" xlink:href=\"#DejaVuSans-48\"/>\n       <use x=\"190.869141\" xlink:href=\"#DejaVuSans-48\"/>\n       <use x=\"254.492188\" xlink:href=\"#DejaVuSans-48\"/>\n      </g>\n     </g>\n    </g>\n    <g id=\"xtick_6\">\n     <g id=\"line2d_6\">\n      <g>\n       <use style=\"stroke:#000000;stroke-width:0.8;\" x=\"272.315585\" xlink:href=\"#m0c12cf5e9a\" y=\"328.6\"/>\n      </g>\n     </g>\n     <g id=\"text_6\">\n      <!-- 30000 -->\n      <g transform=\"translate(256.409335 343.198437)scale(0.1 -0.1)\">\n       <defs>\n        <path d=\"M 40.578125 39.3125 \nQ 47.65625 37.796875 51.625 33 \nQ 55.609375 28.21875 55.609375 21.1875 \nQ 55.609375 10.40625 48.1875 4.484375 \nQ 40.765625 -1.421875 27.09375 -1.421875 \nQ 22.515625 -1.421875 17.65625 -0.515625 \nQ 12.796875 0.390625 7.625 2.203125 \nL 7.625 11.71875 \nQ 11.71875 9.328125 16.59375 8.109375 \nQ 21.484375 6.890625 26.8125 6.890625 \nQ 36.078125 6.890625 40.9375 10.546875 \nQ 45.796875 14.203125 45.796875 21.1875 \nQ 45.796875 27.640625 41.28125 31.265625 \nQ 36.765625 34.90625 28.71875 34.90625 \nL 20.21875 34.90625 \nL 20.21875 43.015625 \nL 29.109375 43.015625 \nQ 36.375 43.015625 40.234375 45.921875 \nQ 44.09375 48.828125 44.09375 54.296875 \nQ 44.09375 59.90625 40.109375 62.90625 \nQ 36.140625 65.921875 28.71875 65.921875 \nQ 24.65625 65.921875 20.015625 65.03125 \nQ 15.375 64.15625 9.8125 62.3125 \nL 9.8125 71.09375 \nQ 15.4375 72.65625 20.34375 73.4375 \nQ 25.25 74.21875 29.59375 74.21875 \nQ 40.828125 74.21875 47.359375 69.109375 \nQ 53.90625 64.015625 53.90625 55.328125 \nQ 53.90625 49.265625 50.4375 45.09375 \nQ 46.96875 40.921875 40.578125 39.3125 \nz\n\" id=\"DejaVuSans-51\"/>\n       </defs>\n       <use xlink:href=\"#DejaVuSans-51\"/>\n       <use x=\"63.623047\" xlink:href=\"#DejaVuSans-48\"/>\n       <use x=\"127.246094\" xlink:href=\"#DejaVuSans-48\"/>\n       <use x=\"190.869141\" xlink:href=\"#DejaVuSans-48\"/>\n       <use x=\"254.492188\" xlink:href=\"#DejaVuSans-48\"/>\n      </g>\n     </g>\n    </g>\n    <g id=\"xtick_7\">\n     <g id=\"line2d_7\">\n      <g>\n       <use style=\"stroke:#000000;stroke-width:0.8;\" x=\"307.902543\" xlink:href=\"#m0c12cf5e9a\" y=\"328.6\"/>\n      </g>\n     </g>\n     <g id=\"text_7\">\n      <!-- 35000 -->\n      <g transform=\"translate(291.996293 343.198437)scale(0.1 -0.1)\">\n       <use xlink:href=\"#DejaVuSans-51\"/>\n       <use x=\"63.623047\" xlink:href=\"#DejaVuSans-53\"/>\n       <use x=\"127.246094\" xlink:href=\"#DejaVuSans-48\"/>\n       <use x=\"190.869141\" xlink:href=\"#DejaVuSans-48\"/>\n       <use x=\"254.492188\" xlink:href=\"#DejaVuSans-48\"/>\n      </g>\n     </g>\n    </g>\n    <g id=\"xtick_8\">\n     <g id=\"line2d_8\">\n      <g>\n       <use style=\"stroke:#000000;stroke-width:0.8;\" x=\"343.489502\" xlink:href=\"#m0c12cf5e9a\" y=\"328.6\"/>\n      </g>\n     </g>\n     <g id=\"text_8\">\n      <!-- 40000 -->\n      <g transform=\"translate(327.583252 343.198437)scale(0.1 -0.1)\">\n       <defs>\n        <path d=\"M 37.796875 64.3125 \nL 12.890625 25.390625 \nL 37.796875 25.390625 \nz\nM 35.203125 72.90625 \nL 47.609375 72.90625 \nL 47.609375 25.390625 \nL 58.015625 25.390625 \nL 58.015625 17.1875 \nL 47.609375 17.1875 \nL 47.609375 0 \nL 37.796875 0 \nL 37.796875 17.1875 \nL 4.890625 17.1875 \nL 4.890625 26.703125 \nz\n\" id=\"DejaVuSans-52\"/>\n       </defs>\n       <use xlink:href=\"#DejaVuSans-52\"/>\n       <use x=\"63.623047\" xlink:href=\"#DejaVuSans-48\"/>\n       <use x=\"127.246094\" xlink:href=\"#DejaVuSans-48\"/>\n       <use x=\"190.869141\" xlink:href=\"#DejaVuSans-48\"/>\n       <use x=\"254.492188\" xlink:href=\"#DejaVuSans-48\"/>\n      </g>\n     </g>\n    </g>\n    <g id=\"text_9\">\n     <!-- Sales -->\n     <g transform=\"translate(189.747652 356.876562)scale(0.1 -0.1)\">\n      <defs>\n       <path d=\"M 53.515625 70.515625 \nL 53.515625 60.890625 \nQ 47.90625 63.578125 42.921875 64.890625 \nQ 37.9375 66.21875 33.296875 66.21875 \nQ 25.25 66.21875 20.875 63.09375 \nQ 16.5 59.96875 16.5 54.203125 \nQ 16.5 49.359375 19.40625 46.890625 \nQ 22.3125 44.4375 30.421875 42.921875 \nL 36.375 41.703125 \nQ 47.40625 39.59375 52.65625 34.296875 \nQ 57.90625 29 57.90625 20.125 \nQ 57.90625 9.515625 50.796875 4.046875 \nQ 43.703125 -1.421875 29.984375 -1.421875 \nQ 24.8125 -1.421875 18.96875 -0.25 \nQ 13.140625 0.921875 6.890625 3.21875 \nL 6.890625 13.375 \nQ 12.890625 10.015625 18.65625 8.296875 \nQ 24.421875 6.59375 29.984375 6.59375 \nQ 38.421875 6.59375 43.015625 9.90625 \nQ 47.609375 13.234375 47.609375 19.390625 \nQ 47.609375 24.75 44.3125 27.78125 \nQ 41.015625 30.8125 33.5 32.328125 \nL 27.484375 33.5 \nQ 16.453125 35.6875 11.515625 40.375 \nQ 6.59375 45.0625 6.59375 53.421875 \nQ 6.59375 63.09375 13.40625 68.65625 \nQ 20.21875 74.21875 32.171875 74.21875 \nQ 37.3125 74.21875 42.625 73.28125 \nQ 47.953125 72.359375 53.515625 70.515625 \nz\n\" id=\"DejaVuSans-83\"/>\n       <path d=\"M 34.28125 27.484375 \nQ 23.390625 27.484375 19.1875 25 \nQ 14.984375 22.515625 14.984375 16.5 \nQ 14.984375 11.71875 18.140625 8.90625 \nQ 21.296875 6.109375 26.703125 6.109375 \nQ 34.1875 6.109375 38.703125 11.40625 \nQ 43.21875 16.703125 43.21875 25.484375 \nL 43.21875 27.484375 \nz\nM 52.203125 31.203125 \nL 52.203125 0 \nL 43.21875 0 \nL 43.21875 8.296875 \nQ 40.140625 3.328125 35.546875 0.953125 \nQ 30.953125 -1.421875 24.3125 -1.421875 \nQ 15.921875 -1.421875 10.953125 3.296875 \nQ 6 8.015625 6 15.921875 \nQ 6 25.140625 12.171875 29.828125 \nQ 18.359375 34.515625 30.609375 34.515625 \nL 43.21875 34.515625 \nL 43.21875 35.40625 \nQ 43.21875 41.609375 39.140625 45 \nQ 35.0625 48.390625 27.6875 48.390625 \nQ 23 48.390625 18.546875 47.265625 \nQ 14.109375 46.140625 10.015625 43.890625 \nL 10.015625 52.203125 \nQ 14.9375 54.109375 19.578125 55.046875 \nQ 24.21875 56 28.609375 56 \nQ 40.484375 56 46.34375 49.84375 \nQ 52.203125 43.703125 52.203125 31.203125 \nz\n\" id=\"DejaVuSans-97\"/>\n       <path d=\"M 9.421875 75.984375 \nL 18.40625 75.984375 \nL 18.40625 0 \nL 9.421875 0 \nz\n\" id=\"DejaVuSans-108\"/>\n       <path d=\"M 56.203125 29.59375 \nL 56.203125 25.203125 \nL 14.890625 25.203125 \nQ 15.484375 15.921875 20.484375 11.0625 \nQ 25.484375 6.203125 34.421875 6.203125 \nQ 39.59375 6.203125 44.453125 7.46875 \nQ 49.3125 8.734375 54.109375 11.28125 \nL 54.109375 2.78125 \nQ 49.265625 0.734375 44.1875 -0.34375 \nQ 39.109375 -1.421875 33.890625 -1.421875 \nQ 20.796875 -1.421875 13.15625 6.1875 \nQ 5.515625 13.8125 5.515625 26.8125 \nQ 5.515625 40.234375 12.765625 48.109375 \nQ 20.015625 56 32.328125 56 \nQ 43.359375 56 49.78125 48.890625 \nQ 56.203125 41.796875 56.203125 29.59375 \nz\nM 47.21875 32.234375 \nQ 47.125 39.59375 43.09375 43.984375 \nQ 39.0625 48.390625 32.421875 48.390625 \nQ 24.90625 48.390625 20.390625 44.140625 \nQ 15.875 39.890625 15.1875 32.171875 \nz\n\" id=\"DejaVuSans-101\"/>\n       <path d=\"M 44.28125 53.078125 \nL 44.28125 44.578125 \nQ 40.484375 46.53125 36.375 47.5 \nQ 32.28125 48.484375 27.875 48.484375 \nQ 21.1875 48.484375 17.84375 46.4375 \nQ 14.5 44.390625 14.5 40.28125 \nQ 14.5 37.15625 16.890625 35.375 \nQ 19.28125 33.59375 26.515625 31.984375 \nL 29.59375 31.296875 \nQ 39.15625 29.25 43.1875 25.515625 \nQ 47.21875 21.78125 47.21875 15.09375 \nQ 47.21875 7.46875 41.1875 3.015625 \nQ 35.15625 -1.421875 24.609375 -1.421875 \nQ 20.21875 -1.421875 15.453125 -0.5625 \nQ 10.6875 0.296875 5.421875 2 \nL 5.421875 11.28125 \nQ 10.40625 8.6875 15.234375 7.390625 \nQ 20.0625 6.109375 24.8125 6.109375 \nQ 31.15625 6.109375 34.5625 8.28125 \nQ 37.984375 10.453125 37.984375 14.40625 \nQ 37.984375 18.0625 35.515625 20.015625 \nQ 33.0625 21.96875 24.703125 23.78125 \nL 21.578125 24.515625 \nQ 13.234375 26.265625 9.515625 29.90625 \nQ 5.8125 33.546875 5.8125 39.890625 \nQ 5.8125 47.609375 11.28125 51.796875 \nQ 16.75 56 26.8125 56 \nQ 31.78125 56 36.171875 55.265625 \nQ 40.578125 54.546875 44.28125 53.078125 \nz\n\" id=\"DejaVuSans-115\"/>\n      </defs>\n      <use xlink:href=\"#DejaVuSans-83\"/>\n      <use x=\"63.476562\" xlink:href=\"#DejaVuSans-97\"/>\n      <use x=\"124.755859\" xlink:href=\"#DejaVuSans-108\"/>\n      <use x=\"152.539062\" xlink:href=\"#DejaVuSans-101\"/>\n      <use x=\"214.0625\" xlink:href=\"#DejaVuSans-115\"/>\n     </g>\n    </g>\n   </g>\n   <g id=\"matplotlib.axis_2\">\n    <g id=\"ytick_1\">\n     <g id=\"line2d_9\">\n      <defs>\n       <path d=\"M 0 0 \nL -3.5 0 \n\" id=\"m58185b2967\" style=\"stroke:#000000;stroke-width:0.8;\"/>\n      </defs>\n      <g>\n       <use style=\"stroke:#000000;stroke-width:0.8;\" x=\"59.690625\" xlink:href=\"#m58185b2967\" y=\"313.49028\"/>\n      </g>\n     </g>\n     <g id=\"text_10\">\n      <!-- 0 -->\n      <g transform=\"translate(46.328125 317.289499)scale(0.1 -0.1)\">\n       <use xlink:href=\"#DejaVuSans-48\"/>\n      </g>\n     </g>\n    </g>\n    <g id=\"ytick_2\">\n     <g id=\"line2d_10\">\n      <g>\n       <use style=\"stroke:#000000;stroke-width:0.8;\" x=\"59.690625\" xlink:href=\"#m58185b2967\" y=\"242.454745\"/>\n      </g>\n     </g>\n     <g id=\"text_11\">\n      <!-- 10000 -->\n      <g transform=\"translate(20.878125 246.253964)scale(0.1 -0.1)\">\n       <use xlink:href=\"#DejaVuSans-49\"/>\n       <use x=\"63.623047\" xlink:href=\"#DejaVuSans-48\"/>\n       <use x=\"127.246094\" xlink:href=\"#DejaVuSans-48\"/>\n       <use x=\"190.869141\" xlink:href=\"#DejaVuSans-48\"/>\n       <use x=\"254.492188\" xlink:href=\"#DejaVuSans-48\"/>\n      </g>\n     </g>\n    </g>\n    <g id=\"ytick_3\">\n     <g id=\"line2d_11\">\n      <g>\n       <use style=\"stroke:#000000;stroke-width:0.8;\" x=\"59.690625\" xlink:href=\"#m58185b2967\" y=\"171.41921\"/>\n      </g>\n     </g>\n     <g id=\"text_12\">\n      <!-- 20000 -->\n      <g transform=\"translate(20.878125 175.218429)scale(0.1 -0.1)\">\n       <use xlink:href=\"#DejaVuSans-50\"/>\n       <use x=\"63.623047\" xlink:href=\"#DejaVuSans-48\"/>\n       <use x=\"127.246094\" xlink:href=\"#DejaVuSans-48\"/>\n       <use x=\"190.869141\" xlink:href=\"#DejaVuSans-48\"/>\n       <use x=\"254.492188\" xlink:href=\"#DejaVuSans-48\"/>\n      </g>\n     </g>\n    </g>\n    <g id=\"ytick_4\">\n     <g id=\"line2d_12\">\n      <g>\n       <use style=\"stroke:#000000;stroke-width:0.8;\" x=\"59.690625\" xlink:href=\"#m58185b2967\" y=\"100.383674\"/>\n      </g>\n     </g>\n     <g id=\"text_13\">\n      <!-- 30000 -->\n      <g transform=\"translate(20.878125 104.182893)scale(0.1 -0.1)\">\n       <use xlink:href=\"#DejaVuSans-51\"/>\n       <use x=\"63.623047\" xlink:href=\"#DejaVuSans-48\"/>\n       <use x=\"127.246094\" xlink:href=\"#DejaVuSans-48\"/>\n       <use x=\"190.869141\" xlink:href=\"#DejaVuSans-48\"/>\n       <use x=\"254.492188\" xlink:href=\"#DejaVuSans-48\"/>\n      </g>\n     </g>\n    </g>\n    <g id=\"ytick_5\">\n     <g id=\"line2d_13\">\n      <g>\n       <use style=\"stroke:#000000;stroke-width:0.8;\" x=\"59.690625\" xlink:href=\"#m58185b2967\" y=\"29.348139\"/>\n      </g>\n     </g>\n     <g id=\"text_14\">\n      <!-- 40000 -->\n      <g transform=\"translate(20.878125 33.147358)scale(0.1 -0.1)\">\n       <use xlink:href=\"#DejaVuSans-52\"/>\n       <use x=\"63.623047\" xlink:href=\"#DejaVuSans-48\"/>\n       <use x=\"127.246094\" xlink:href=\"#DejaVuSans-48\"/>\n       <use x=\"190.869141\" xlink:href=\"#DejaVuSans-48\"/>\n       <use x=\"254.492188\" xlink:href=\"#DejaVuSans-48\"/>\n      </g>\n     </g>\n    </g>\n    <g id=\"text_15\">\n     <!-- Units -->\n     <g transform=\"translate(14.798437 180.682031)rotate(-90)scale(0.1 -0.1)\">\n      <defs>\n       <path d=\"M 8.6875 72.90625 \nL 18.609375 72.90625 \nL 18.609375 28.609375 \nQ 18.609375 16.890625 22.84375 11.734375 \nQ 27.09375 6.59375 36.625 6.59375 \nQ 46.09375 6.59375 50.34375 11.734375 \nQ 54.59375 16.890625 54.59375 28.609375 \nL 54.59375 72.90625 \nL 64.5 72.90625 \nL 64.5 27.390625 \nQ 64.5 13.140625 57.4375 5.859375 \nQ 50.390625 -1.421875 36.625 -1.421875 \nQ 22.796875 -1.421875 15.734375 5.859375 \nQ 8.6875 13.140625 8.6875 27.390625 \nz\n\" id=\"DejaVuSans-85\"/>\n       <path d=\"M 54.890625 33.015625 \nL 54.890625 0 \nL 45.90625 0 \nL 45.90625 32.71875 \nQ 45.90625 40.484375 42.875 44.328125 \nQ 39.84375 48.1875 33.796875 48.1875 \nQ 26.515625 48.1875 22.3125 43.546875 \nQ 18.109375 38.921875 18.109375 30.90625 \nL 18.109375 0 \nL 9.078125 0 \nL 9.078125 54.6875 \nL 18.109375 54.6875 \nL 18.109375 46.1875 \nQ 21.34375 51.125 25.703125 53.5625 \nQ 30.078125 56 35.796875 56 \nQ 45.21875 56 50.046875 50.171875 \nQ 54.890625 44.34375 54.890625 33.015625 \nz\n\" id=\"DejaVuSans-110\"/>\n       <path d=\"M 9.421875 54.6875 \nL 18.40625 54.6875 \nL 18.40625 0 \nL 9.421875 0 \nz\nM 9.421875 75.984375 \nL 18.40625 75.984375 \nL 18.40625 64.59375 \nL 9.421875 64.59375 \nz\n\" id=\"DejaVuSans-105\"/>\n       <path d=\"M 18.3125 70.21875 \nL 18.3125 54.6875 \nL 36.8125 54.6875 \nL 36.8125 47.703125 \nL 18.3125 47.703125 \nL 18.3125 18.015625 \nQ 18.3125 11.328125 20.140625 9.421875 \nQ 21.96875 7.515625 27.59375 7.515625 \nL 36.8125 7.515625 \nL 36.8125 0 \nL 27.59375 0 \nQ 17.1875 0 13.234375 3.875 \nQ 9.28125 7.765625 9.28125 18.015625 \nL 9.28125 47.703125 \nL 2.6875 47.703125 \nL 2.6875 54.6875 \nL 9.28125 54.6875 \nL 9.28125 70.21875 \nz\n\" id=\"DejaVuSans-116\"/>\n      </defs>\n      <use xlink:href=\"#DejaVuSans-85\"/>\n      <use x=\"73.193359\" xlink:href=\"#DejaVuSans-110\"/>\n      <use x=\"136.572266\" xlink:href=\"#DejaVuSans-105\"/>\n      <use x=\"164.355469\" xlink:href=\"#DejaVuSans-116\"/>\n      <use x=\"203.564453\" xlink:href=\"#DejaVuSans-115\"/>\n     </g>\n    </g>\n   </g>\n   <g id=\"line2d_14\">\n    <path clip-path=\"url(#pae06d2e3d5)\" d=\"M 59.690625 311.674169 \nL 62.5869 310.135549 \nL 65.483175 308.59693 \nL 68.379451 307.05831 \nL 71.275726 305.51969 \nL 74.172001 303.981071 \nL 77.068276 302.442451 \nL 79.964551 300.903832 \nL 82.860826 299.365212 \nL 85.757102 297.826593 \nL 88.653377 296.287973 \nL 91.549652 294.749354 \nL 94.445927 293.210734 \nL 97.342202 291.672115 \nL 100.238477 290.133495 \nL 103.134753 288.594876 \nL 106.031028 287.056256 \nL 108.927303 285.517637 \nL 111.823578 283.979017 \nL 114.719853 282.440398 \nL 117.616128 280.901778 \nL 120.512404 279.363159 \nL 123.408679 277.824539 \nL 126.304954 276.28592 \nL 129.201229 274.7473 \nL 132.097504 273.20868 \nL 134.99378 271.670061 \nL 137.890055 270.131441 \nL 140.78633 268.592822 \nL 143.682605 267.054202 \nL 146.57888 265.515583 \nL 149.475155 263.976963 \nL 152.371431 262.438344 \nL 155.267706 260.899724 \nL 158.163981 259.361105 \nL 161.060256 257.822485 \nL 163.956531 256.283866 \nL 166.852806 254.745246 \nL 169.749082 253.206627 \nL 172.645357 251.668007 \nL 175.541632 250.129388 \nL 178.437907 248.590768 \nL 181.334182 247.052149 \nL 184.230457 245.513529 \nL 187.126733 243.97491 \nL 190.023008 242.43629 \nL 192.919283 240.89767 \nL 195.815558 239.359051 \nL 198.711833 237.820431 \nL 201.608109 236.281812 \nL 204.504384 234.743192 \nL 207.400659 233.204573 \nL 210.296934 231.665953 \nL 213.193209 230.127334 \nL 216.089484 228.588714 \nL 218.98576 227.050095 \nL 221.882035 225.511475 \nL 224.77831 223.972856 \nL 227.674585 222.434236 \nL 230.57086 220.895617 \nL 233.467135 219.356997 \nL 236.363411 217.818378 \nL 239.259686 216.279758 \nL 242.155961 214.741139 \nL 245.052236 213.202519 \nL 247.948511 211.6639 \nL 250.844786 210.12528 \nL 253.741062 208.58666 \nL 256.637337 207.048041 \nL 259.533612 205.509421 \nL 262.429887 203.970802 \nL 265.326162 202.432182 \nL 268.222438 200.893563 \nL 271.118713 199.354943 \nL 274.014988 197.816324 \nL 276.911263 196.277704 \nL 279.807538 194.739085 \nL 282.703813 193.200465 \nL 285.600089 191.661846 \nL 288.496364 190.123226 \nL 291.392639 188.584607 \nL 294.288914 187.045987 \nL 297.185189 185.507368 \nL 300.081464 183.968748 \nL 302.97774 182.430129 \nL 305.874015 180.891509 \nL 308.77029 179.35289 \nL 311.666565 177.81427 \nL 314.56284 176.27565 \nL 317.459116 174.737031 \nL 320.355391 173.198411 \nL 323.251666 171.659792 \nL 326.147941 170.121172 \nL 329.044216 168.582553 \nL 331.940491 167.043933 \nL 334.836767 165.505314 \nL 337.733042 163.966694 \nL 340.629317 162.428075 \nL 343.525592 160.889455 \nL 346.421867 159.350836 \n\" style=\"fill:none;stroke:#1f77b4;stroke-linecap:square;stroke-width:2.25;\"/>\n   </g>\n   <g id=\"patch_3\">\n    <path d=\"M 59.690625 328.6 \nL 59.690625 7.2 \n\" style=\"fill:none;stroke:#000000;stroke-linecap:square;stroke-linejoin:miter;stroke-width:0.8;\"/>\n   </g>\n   <g id=\"patch_4\">\n    <path d=\"M 59.690625 328.6 \nL 346.421867 328.6 \n\" style=\"fill:none;stroke:#000000;stroke-linecap:square;stroke-linejoin:miter;stroke-width:0.8;\"/>\n   </g>\n  </g>\n </g>\n <defs>\n  <clipPath id=\"pae06d2e3d5\">\n   <rect height=\"321.4\" width=\"286.731242\" x=\"59.690625\" y=\"7.2\"/>\n  </clipPath>\n </defs>\n</svg>\n",
      "image/png": "[encoded data removed]"
     },
     "metadata": {
      "needs_background": "light"
     }
    }
   ],
   "source": [
    "sns.lmplot(x='Sales',y='Units',data=df)"
   ]
  },
  {
   "cell_type": "code",
   "execution_count": 32,
   "metadata": {},
   "outputs": [
    {
     "output_type": "display_data",
     "data": {
      "application/vnd.plotly.v1+json": {
       "config": {
        "plotlyServerURL": "https://plot.ly"
       },
       "data": [
        {
         "hovertemplate": "Sales=%{x}<br>Units=%{y}<br>Restaurant=%{text}<extra></extra>",
         "legendgroup": "",
         "line": {
          "color": "#636efa",
          "dash": "solid"
         },
         "mode": "lines+markers+text",
         "name": "",
         "orientation": "v",
         "showlegend": false,
         "text": [
          "McDonald's",
          "Starbucks",
          "Chick-fil-A",
          "Taco Bell",
          "Wendy's",
          "Dunkin'",
          "Domino's",
          "Panera Bread"
         ],
         "type": "scatter",
         "x": [
          40412,
          21380,
          11320,
          11293,
          9762,
          9228,
          7044,
          5890
         ],
         "xaxis": "x",
         "y": [
          13846,
          15049,
          2470,
          6766,
          5852,
          9630,
          6126,
          2160
         ],
         "yaxis": "y"
        }
       ],
       "layout": {
        "legend": {
         "tracegroupgap": 0
        },
        "template": {
         "data": {
          "bar": [
           {
            "error_x": {
             "color": "#2a3f5f"
            },
            "error_y": {
             "color": "#2a3f5f"
            },
            "marker": {
             "line": {
              "color": "#E5ECF6",
              "width": 0.5
             }
            },
            "type": "bar"
           }
          ],
          "barpolar": [
           {
            "marker": {
             "line": {
              "color": "#E5ECF6",
              "width": 0.5
             }
            },
            "type": "barpolar"
           }
          ],
          "carpet": [
           {
            "aaxis": {
             "endlinecolor": "#2a3f5f",
             "gridcolor": "white",
             "linecolor": "white",
             "minorgridcolor": "white",
             "startlinecolor": "#2a3f5f"
            },
            "baxis": {
             "endlinecolor": "#2a3f5f",
             "gridcolor": "white",
             "linecolor": "white",
             "minorgridcolor": "white",
             "startlinecolor": "#2a3f5f"
            },
            "type": "carpet"
           }
          ],
          "choropleth": [
           {
            "colorbar": {
             "outlinewidth": 0,
             "ticks": ""
            },
            "type": "choropleth"
           }
          ],
          "contour": [
           {
            "colorbar": {
             "outlinewidth": 0,
             "ticks": ""
            },
            "colorscale": [
             [
              0,
              "#0d0887"
             ],
             [
              0.1111111111111111,
              "#46039f"
             ],
             [
              0.2222222222222222,
              "#7201a8"
             ],
             [
              0.3333333333333333,
              "#9c179e"
             ],
             [
              0.4444444444444444,
              "#bd3786"
             ],
             [
              0.5555555555555556,
              "#d8576b"
             ],
             [
              0.6666666666666666,
              "#ed7953"
             ],
             [
              0.7777777777777778,
              "#fb9f3a"
             ],
             [
              0.8888888888888888,
              "#fdca26"
             ],
             [
              1,
              "#f0f921"
             ]
            ],
            "type": "contour"
           }
          ],
          "contourcarpet": [
           {
            "colorbar": {
             "outlinewidth": 0,
             "ticks": ""
            },
            "type": "contourcarpet"
           }
          ],
          "heatmap": [
           {
            "colorbar": {
             "outlinewidth": 0,
             "ticks": ""
            },
            "colorscale": [
             [
              0,
              "#0d0887"
             ],
             [
              0.1111111111111111,
              "#46039f"
             ],
             [
              0.2222222222222222,
              "#7201a8"
             ],
             [
              0.3333333333333333,
              "#9c179e"
             ],
             [
              0.4444444444444444,
              "#bd3786"
             ],
             [
              0.5555555555555556,
              "#d8576b"
             ],
             [
              0.6666666666666666,
              "#ed7953"
             ],
             [
              0.7777777777777778,
              "#fb9f3a"
             ],
             [
              0.8888888888888888,
              "#fdca26"
             ],
             [
              1,
              "#f0f921"
             ]
            ],
            "type": "heatmap"
           }
          ],
          "heatmapgl": [
           {
            "colorbar": {
             "outlinewidth": 0,
             "ticks": ""
            },
            "colorscale": [
             [
              0,
              "#0d0887"
             ],
             [
              0.1111111111111111,
              "#46039f"
             ],
             [
              0.2222222222222222,
              "#7201a8"
             ],
             [
              0.3333333333333333,
              "#9c179e"
             ],
             [
              0.4444444444444444,
              "#bd3786"
             ],
             [
              0.5555555555555556,
              "#d8576b"
             ],
             [
              0.6666666666666666,
              "#ed7953"
             ],
             [
              0.7777777777777778,
              "#fb9f3a"
             ],
             [
              0.8888888888888888,
              "#fdca26"
             ],
             [
              1,
              "#f0f921"
             ]
            ],
            "type": "heatmapgl"
           }
          ],
          "histogram": [
           {
            "marker": {
             "colorbar": {
              "outlinewidth": 0,
              "ticks": ""
             }
            },
            "type": "histogram"
           }
          ],
          "histogram2d": [
           {
            "colorbar": {
             "outlinewidth": 0,
             "ticks": ""
            },
            "colorscale": [
             [
              0,
              "#0d0887"
             ],
             [
              0.1111111111111111,
              "#46039f"
             ],
             [
              0.2222222222222222,
              "#7201a8"
             ],
             [
              0.3333333333333333,
              "#9c179e"
             ],
             [
              0.4444444444444444,
              "#bd3786"
             ],
             [
              0.5555555555555556,
              "#d8576b"
             ],
             [
              0.6666666666666666,
              "#ed7953"
             ],
             [
              0.7777777777777778,
              "#fb9f3a"
             ],
             [
              0.8888888888888888,
              "#fdca26"
             ],
             [
              1,
              "#f0f921"
             ]
            ],
            "type": "histogram2d"
           }
          ],
          "histogram2dcontour": [
           {
            "colorbar": {
             "outlinewidth": 0,
             "ticks": ""
            },
            "colorscale": [
             [
              0,
              "#0d0887"
             ],
             [
              0.1111111111111111,
              "#46039f"
             ],
             [
              0.2222222222222222,
              "#7201a8"
             ],
             [
              0.3333333333333333,
              "#9c179e"
             ],
             [
              0.4444444444444444,
              "#bd3786"
             ],
             [
              0.5555555555555556,
              "#d8576b"
             ],
             [
              0.6666666666666666,
              "#ed7953"
             ],
             [
              0.7777777777777778,
              "#fb9f3a"
             ],
             [
              0.8888888888888888,
              "#fdca26"
             ],
             [
              1,
              "#f0f921"
             ]
            ],
            "type": "histogram2dcontour"
           }
          ],
          "mesh3d": [
           {
            "colorbar": {
             "outlinewidth": 0,
             "ticks": ""
            },
            "type": "mesh3d"
           }
          ],
          "parcoords": [
           {
            "line": {
             "colorbar": {
              "outlinewidth": 0,
              "ticks": ""
             }
            },
            "type": "parcoords"
           }
          ],
          "pie": [
           {
            "automargin": true,
            "type": "pie"
           }
          ],
          "scatter": [
           {
            "marker": {
             "colorbar": {
              "outlinewidth": 0,
              "ticks": ""
             }
            },
            "type": "scatter"
           }
          ],
          "scatter3d": [
           {
            "line": {
             "colorbar": {
              "outlinewidth": 0,
              "ticks": ""
             }
            },
            "marker": {
             "colorbar": {
              "outlinewidth": 0,
              "ticks": ""
             }
            },
            "type": "scatter3d"
           }
          ],
          "scattercarpet": [
           {
            "marker": {
             "colorbar": {
              "outlinewidth": 0,
              "ticks": ""
             }
            },
            "type": "scattercarpet"
           }
          ],
          "scattergeo": [
           {
            "marker": {
             "colorbar": {
              "outlinewidth": 0,
              "ticks": ""
             }
            },
            "type": "scattergeo"
           }
          ],
          "scattergl": [
           {
            "marker": {
             "colorbar": {
              "outlinewidth": 0,
              "ticks": ""
             }
            },
            "type": "scattergl"
           }
          ],
          "scattermapbox": [
           {
            "marker": {
             "colorbar": {
              "outlinewidth": 0,
              "ticks": ""
             }
            },
            "type": "scattermapbox"
           }
          ],
          "scatterpolar": [
           {
            "marker": {
             "colorbar": {
              "outlinewidth": 0,
              "ticks": ""
             }
            },
            "type": "scatterpolar"
           }
          ],
          "scatterpolargl": [
           {
            "marker": {
             "colorbar": {
              "outlinewidth": 0,
              "ticks": ""
             }
            },
            "type": "scatterpolargl"
           }
          ],
          "scatterternary": [
           {
            "marker": {
             "colorbar": {
              "outlinewidth": 0,
              "ticks": ""
             }
            },
            "type": "scatterternary"
           }
          ],
          "surface": [
           {
            "colorbar": {
             "outlinewidth": 0,
             "ticks": ""
            },
            "colorscale": [
             [
              0,
              "#0d0887"
             ],
             [
              0.1111111111111111,
              "#46039f"
             ],
             [
              0.2222222222222222,
              "#7201a8"
             ],
             [
              0.3333333333333333,
              "#9c179e"
             ],
             [
              0.4444444444444444,
              "#bd3786"
             ],
             [
              0.5555555555555556,
              "#d8576b"
             ],
             [
              0.6666666666666666,
              "#ed7953"
             ],
             [
              0.7777777777777778,
              "#fb9f3a"
             ],
             [
              0.8888888888888888,
              "#fdca26"
             ],
             [
              1,
              "#f0f921"
             ]
            ],
            "type": "surface"
           }
          ],
          "table": [
           {
            "cells": {
             "fill": {
              "color": "#EBF0F8"
             },
             "line": {
              "color": "white"
             }
            },
            "header": {
             "fill": {
              "color": "#C8D4E3"
             },
             "line": {
              "color": "white"
             }
            },
            "type": "table"
           }
          ]
         },
         "layout": {
          "annotationdefaults": {
           "arrowcolor": "#2a3f5f",
           "arrowhead": 0,
           "arrowwidth": 1
          },
          "autotypenumbers": "strict",
          "coloraxis": {
           "colorbar": {
            "outlinewidth": 0,
            "ticks": ""
           }
          },
          "colorscale": {
           "diverging": [
            [
             0,
             "#8e0152"
            ],
            [
             0.1,
             "#c51b7d"
            ],
            [
             0.2,
             "#de77ae"
            ],
            [
             0.3,
             "#f1b6da"
            ],
            [
             0.4,
             "#fde0ef"
            ],
            [
             0.5,
             "#f7f7f7"
            ],
            [
             0.6,
             "#e6f5d0"
            ],
            [
             0.7,
             "#b8e186"
            ],
            [
             0.8,
             "#7fbc41"
            ],
            [
             0.9,
             "#4d9221"
            ],
            [
             1,
             "#276419"
            ]
           ],
           "sequential": [
            [
             0,
             "#0d0887"
            ],
            [
             0.1111111111111111,
             "#46039f"
            ],
            [
             0.2222222222222222,
             "#7201a8"
            ],
            [
             0.3333333333333333,
             "#9c179e"
            ],
            [
             0.4444444444444444,
             "#bd3786"
            ],
            [
             0.5555555555555556,
             "#d8576b"
            ],
            [
             0.6666666666666666,
             "#ed7953"
            ],
            [
             0.7777777777777778,
             "#fb9f3a"
            ],
            [
             0.8888888888888888,
             "#fdca26"
            ],
            [
             1,
             "#f0f921"
            ]
           ],
           "sequentialminus": [
            [
             0,
             "#0d0887"
            ],
            [
             0.1111111111111111,
             "#46039f"
            ],
            [
             0.2222222222222222,
             "#7201a8"
            ],
            [
             0.3333333333333333,
             "#9c179e"
            ],
            [
             0.4444444444444444,
             "#bd3786"
            ],
            [
             0.5555555555555556,
             "#d8576b"
            ],
            [
             0.6666666666666666,
             "#ed7953"
            ],
            [
             0.7777777777777778,
             "#fb9f3a"
            ],
            [
             0.8888888888888888,
             "#fdca26"
            ],
            [
             1,
             "#f0f921"
            ]
           ]
          },
          "colorway": [
           "#636efa",
           "#EF553B",
           "#00cc96",
           "#ab63fa",
           "#FFA15A",
           "#19d3f3",
           "#FF6692",
           "#B6E880",
           "#FF97FF",
           "#FECB52"
          ],
          "font": {
           "color": "#2a3f5f"
          },
          "geo": {
           "bgcolor": "white",
           "lakecolor": "white",
           "landcolor": "#E5ECF6",
           "showlakes": true,
           "showland": true,
           "subunitcolor": "white"
          },
          "hoverlabel": {
           "align": "left"
          },
          "hovermode": "closest",
          "mapbox": {
           "style": "light"
          },
          "paper_bgcolor": "white",
          "plot_bgcolor": "#E5ECF6",
          "polar": {
           "angularaxis": {
            "gridcolor": "white",
            "linecolor": "white",
            "ticks": ""
           },
           "bgcolor": "#E5ECF6",
           "radialaxis": {
            "gridcolor": "white",
            "linecolor": "white",
            "ticks": ""
           }
          },
          "scene": {
           "xaxis": {
            "backgroundcolor": "#E5ECF6",
            "gridcolor": "white",
            "gridwidth": 2,
            "linecolor": "white",
            "showbackground": true,
            "ticks": "",
            "zerolinecolor": "white"
           },
           "yaxis": {
            "backgroundcolor": "#E5ECF6",
            "gridcolor": "white",
            "gridwidth": 2,
            "linecolor": "white",
            "showbackground": true,
            "ticks": "",
            "zerolinecolor": "white"
           },
           "zaxis": {
            "backgroundcolor": "#E5ECF6",
            "gridcolor": "white",
            "gridwidth": 2,
            "linecolor": "white",
            "showbackground": true,
            "ticks": "",
            "zerolinecolor": "white"
           }
          },
          "shapedefaults": {
           "line": {
            "color": "#2a3f5f"
           }
          },
          "ternary": {
           "aaxis": {
            "gridcolor": "white",
            "linecolor": "white",
            "ticks": ""
           },
           "baxis": {
            "gridcolor": "white",
            "linecolor": "white",
            "ticks": ""
           },
           "bgcolor": "#E5ECF6",
           "caxis": {
            "gridcolor": "white",
            "linecolor": "white",
            "ticks": ""
           }
          },
          "title": {
           "x": 0.05
          },
          "xaxis": {
           "automargin": true,
           "gridcolor": "white",
           "linecolor": "white",
           "ticks": "",
           "title": {
            "standoff": 15
           },
           "zerolinecolor": "white",
           "zerolinewidth": 2
          },
          "yaxis": {
           "automargin": true,
           "gridcolor": "white",
           "linecolor": "white",
           "ticks": "",
           "title": {
            "standoff": 15
           },
           "zerolinecolor": "white",
           "zerolinewidth": 2
          }
         }
        },
        "title": {
         "text": "Sales vs Units for the top 10 Restaurants"
        },
        "xaxis": {
         "anchor": "y",
         "domain": [
          0,
          1
         ],
         "title": {
          "text": "Sales"
         }
        },
        "yaxis": {
         "anchor": "x",
         "domain": [
          0,
          1
         ],
         "title": {
          "text": "Units"
         }
        }
       }
      }
     },
     "metadata": {}
    }
   ],
   "source": [
    "plot1 = df[df[\"Restaurant\"].isin([\"McDonald's\",\"Starbucks\",\"Chick-fil-A\",\"Taco Bell\",\"Burger King\"\n",
    "                                  \"Subway\",\"Wendy's\",\"Dunkin'\",\"Domino's\",\"Panera Bread\"])]\n",
    "px.line(plot1, \n",
    "        x=\"Sales\", \n",
    "        y=\"Units\", \n",
    "        text=\"Restaurant\",\n",
    "       title=\"Sales vs Units for the top 10 Restaurants\")"
   ]
  },
  {
   "cell_type": "code",
   "execution_count": 33,
   "metadata": {},
   "outputs": [],
   "source": [
    "plot2 = df[df[\"Restaurant\"].isin([\"McDonald's\",\"Starbucks\",\"Chick-fil-A\",\"Taco Bell\",\"Burger King\"\n",
    "                                  \"Subway\",\"Wendy's\",\"Dunkin'\",\"Domino's\",\"Panera Bread\",\"Pizza Hut\",\n",
    "                                  \"Chipotle Mexican Grill\",\"Sonic Drive-In\",\"KFC\",\"Olive Garden\",\"Applebee's\",\n",
    "                                  \"Panda Express\",\"Arby's\",\"Popeyes Louisiana Kitchen\",\"Little Caesars\"])]"
   ]
  },
  {
   "cell_type": "code",
   "execution_count": 34,
   "metadata": {},
   "outputs": [
    {
     "output_type": "display_data",
     "data": {
      "application/vnd.plotly.v1+json": {
       "config": {
        "plotlyServerURL": "https://plot.ly"
       },
       "data": [
        {
         "alignmentgroup": "True",
         "hovertemplate": "Restaurant=%{text}<br>gl_units=%{y}<extra></extra>",
         "legendgroup": "",
         "marker": {
          "color": "#636efa"
         },
         "name": "",
         "offsetgroup": "",
         "orientation": "v",
         "showlegend": false,
         "text": [
          "McDonald's",
          "Starbucks",
          "Chick-fil-A",
          "Taco Bell",
          "Wendy's",
          "Dunkin'",
          "Domino's",
          "Panera Bread",
          "Pizza Hut",
          "Chipotle Mexican Grill",
          "Sonic Drive-In",
          "KFC",
          "Olive Garden",
          "Applebee's",
          "Panda Express",
          "Arby's",
          "Popeyes Louisiana Kitchen",
          "Little Caesars"
         ],
         "textposition": "auto",
         "type": "bar",
         "x": [
          "McDonald's",
          "Starbucks",
          "Chick-fil-A",
          "Taco Bell",
          "Wendy's",
          "Dunkin'",
          "Domino's",
          "Panera Bread",
          "Pizza Hut",
          "Chipotle Mexican Grill",
          "Sonic Drive-In",
          "KFC",
          "Olive Garden",
          "Applebee's",
          "Panda Express",
          "Arby's",
          "Popeyes Louisiana Kitchen",
          "Little Caesars"
         ],
         "xaxis": "x",
         "y": [
          0,
          1,
          1,
          1,
          1,
          1,
          1,
          1,
          0,
          1,
          0,
          0,
          1,
          0,
          1,
          1,
          1,
          0
         ],
         "yaxis": "y"
        }
       ],
       "layout": {
        "barmode": "relative",
        "legend": {
         "tracegroupgap": 0
        },
        "template": {
         "data": {
          "bar": [
           {
            "error_x": {
             "color": "#2a3f5f"
            },
            "error_y": {
             "color": "#2a3f5f"
            },
            "marker": {
             "line": {
              "color": "#E5ECF6",
              "width": 0.5
             }
            },
            "type": "bar"
           }
          ],
          "barpolar": [
           {
            "marker": {
             "line": {
              "color": "#E5ECF6",
              "width": 0.5
             }
            },
            "type": "barpolar"
           }
          ],
          "carpet": [
           {
            "aaxis": {
             "endlinecolor": "#2a3f5f",
             "gridcolor": "white",
             "linecolor": "white",
             "minorgridcolor": "white",
             "startlinecolor": "#2a3f5f"
            },
            "baxis": {
             "endlinecolor": "#2a3f5f",
             "gridcolor": "white",
             "linecolor": "white",
             "minorgridcolor": "white",
             "startlinecolor": "#2a3f5f"
            },
            "type": "carpet"
           }
          ],
          "choropleth": [
           {
            "colorbar": {
             "outlinewidth": 0,
             "ticks": ""
            },
            "type": "choropleth"
           }
          ],
          "contour": [
           {
            "colorbar": {
             "outlinewidth": 0,
             "ticks": ""
            },
            "colorscale": [
             [
              0,
              "#0d0887"
             ],
             [
              0.1111111111111111,
              "#46039f"
             ],
             [
              0.2222222222222222,
              "#7201a8"
             ],
             [
              0.3333333333333333,
              "#9c179e"
             ],
             [
              0.4444444444444444,
              "#bd3786"
             ],
             [
              0.5555555555555556,
              "#d8576b"
             ],
             [
              0.6666666666666666,
              "#ed7953"
             ],
             [
              0.7777777777777778,
              "#fb9f3a"
             ],
             [
              0.8888888888888888,
              "#fdca26"
             ],
             [
              1,
              "#f0f921"
             ]
            ],
            "type": "contour"
           }
          ],
          "contourcarpet": [
           {
            "colorbar": {
             "outlinewidth": 0,
             "ticks": ""
            },
            "type": "contourcarpet"
           }
          ],
          "heatmap": [
           {
            "colorbar": {
             "outlinewidth": 0,
             "ticks": ""
            },
            "colorscale": [
             [
              0,
              "#0d0887"
             ],
             [
              0.1111111111111111,
              "#46039f"
             ],
             [
              0.2222222222222222,
              "#7201a8"
             ],
             [
              0.3333333333333333,
              "#9c179e"
             ],
             [
              0.4444444444444444,
              "#bd3786"
             ],
             [
              0.5555555555555556,
              "#d8576b"
             ],
             [
              0.6666666666666666,
              "#ed7953"
             ],
             [
              0.7777777777777778,
              "#fb9f3a"
             ],
             [
              0.8888888888888888,
              "#fdca26"
             ],
             [
              1,
              "#f0f921"
             ]
            ],
            "type": "heatmap"
           }
          ],
          "heatmapgl": [
           {
            "colorbar": {
             "outlinewidth": 0,
             "ticks": ""
            },
            "colorscale": [
             [
              0,
              "#0d0887"
             ],
             [
              0.1111111111111111,
              "#46039f"
             ],
             [
              0.2222222222222222,
              "#7201a8"
             ],
             [
              0.3333333333333333,
              "#9c179e"
             ],
             [
              0.4444444444444444,
              "#bd3786"
             ],
             [
              0.5555555555555556,
              "#d8576b"
             ],
             [
              0.6666666666666666,
              "#ed7953"
             ],
             [
              0.7777777777777778,
              "#fb9f3a"
             ],
             [
              0.8888888888888888,
              "#fdca26"
             ],
             [
              1,
              "#f0f921"
             ]
            ],
            "type": "heatmapgl"
           }
          ],
          "histogram": [
           {
            "marker": {
             "colorbar": {
              "outlinewidth": 0,
              "ticks": ""
             }
            },
            "type": "histogram"
           }
          ],
          "histogram2d": [
           {
            "colorbar": {
             "outlinewidth": 0,
             "ticks": ""
            },
            "colorscale": [
             [
              0,
              "#0d0887"
             ],
             [
              0.1111111111111111,
              "#46039f"
             ],
             [
              0.2222222222222222,
              "#7201a8"
             ],
             [
              0.3333333333333333,
              "#9c179e"
             ],
             [
              0.4444444444444444,
              "#bd3786"
             ],
             [
              0.5555555555555556,
              "#d8576b"
             ],
             [
              0.6666666666666666,
              "#ed7953"
             ],
             [
              0.7777777777777778,
              "#fb9f3a"
             ],
             [
              0.8888888888888888,
              "#fdca26"
             ],
             [
              1,
              "#f0f921"
             ]
            ],
            "type": "histogram2d"
           }
          ],
          "histogram2dcontour": [
           {
            "colorbar": {
             "outlinewidth": 0,
             "ticks": ""
            },
            "colorscale": [
             [
              0,
              "#0d0887"
             ],
             [
              0.1111111111111111,
              "#46039f"
             ],
             [
              0.2222222222222222,
              "#7201a8"
             ],
             [
              0.3333333333333333,
              "#9c179e"
             ],
             [
              0.4444444444444444,
              "#bd3786"
             ],
             [
              0.5555555555555556,
              "#d8576b"
             ],
             [
              0.6666666666666666,
              "#ed7953"
             ],
             [
              0.7777777777777778,
              "#fb9f3a"
             ],
             [
              0.8888888888888888,
              "#fdca26"
             ],
             [
              1,
              "#f0f921"
             ]
            ],
            "type": "histogram2dcontour"
           }
          ],
          "mesh3d": [
           {
            "colorbar": {
             "outlinewidth": 0,
             "ticks": ""
            },
            "type": "mesh3d"
           }
          ],
          "parcoords": [
           {
            "line": {
             "colorbar": {
              "outlinewidth": 0,
              "ticks": ""
             }
            },
            "type": "parcoords"
           }
          ],
          "pie": [
           {
            "automargin": true,
            "type": "pie"
           }
          ],
          "scatter": [
           {
            "marker": {
             "colorbar": {
              "outlinewidth": 0,
              "ticks": ""
             }
            },
            "type": "scatter"
           }
          ],
          "scatter3d": [
           {
            "line": {
             "colorbar": {
              "outlinewidth": 0,
              "ticks": ""
             }
            },
            "marker": {
             "colorbar": {
              "outlinewidth": 0,
              "ticks": ""
             }
            },
            "type": "scatter3d"
           }
          ],
          "scattercarpet": [
           {
            "marker": {
             "colorbar": {
              "outlinewidth": 0,
              "ticks": ""
             }
            },
            "type": "scattercarpet"
           }
          ],
          "scattergeo": [
           {
            "marker": {
             "colorbar": {
              "outlinewidth": 0,
              "ticks": ""
             }
            },
            "type": "scattergeo"
           }
          ],
          "scattergl": [
           {
            "marker": {
             "colorbar": {
              "outlinewidth": 0,
              "ticks": ""
             }
            },
            "type": "scattergl"
           }
          ],
          "scattermapbox": [
           {
            "marker": {
             "colorbar": {
              "outlinewidth": 0,
              "ticks": ""
             }
            },
            "type": "scattermapbox"
           }
          ],
          "scatterpolar": [
           {
            "marker": {
             "colorbar": {
              "outlinewidth": 0,
              "ticks": ""
             }
            },
            "type": "scatterpolar"
           }
          ],
          "scatterpolargl": [
           {
            "marker": {
             "colorbar": {
              "outlinewidth": 0,
              "ticks": ""
             }
            },
            "type": "scatterpolargl"
           }
          ],
          "scatterternary": [
           {
            "marker": {
             "colorbar": {
              "outlinewidth": 0,
              "ticks": ""
             }
            },
            "type": "scatterternary"
           }
          ],
          "surface": [
           {
            "colorbar": {
             "outlinewidth": 0,
             "ticks": ""
            },
            "colorscale": [
             [
              0,
              "#0d0887"
             ],
             [
              0.1111111111111111,
              "#46039f"
             ],
             [
              0.2222222222222222,
              "#7201a8"
             ],
             [
              0.3333333333333333,
              "#9c179e"
             ],
             [
              0.4444444444444444,
              "#bd3786"
             ],
             [
              0.5555555555555556,
              "#d8576b"
             ],
             [
              0.6666666666666666,
              "#ed7953"
             ],
             [
              0.7777777777777778,
              "#fb9f3a"
             ],
             [
              0.8888888888888888,
              "#fdca26"
             ],
             [
              1,
              "#f0f921"
             ]
            ],
            "type": "surface"
           }
          ],
          "table": [
           {
            "cells": {
             "fill": {
              "color": "#EBF0F8"
             },
             "line": {
              "color": "white"
             }
            },
            "header": {
             "fill": {
              "color": "#C8D4E3"
             },
             "line": {
              "color": "white"
             }
            },
            "type": "table"
           }
          ]
         },
         "layout": {
          "annotationdefaults": {
           "arrowcolor": "#2a3f5f",
           "arrowhead": 0,
           "arrowwidth": 1
          },
          "autotypenumbers": "strict",
          "coloraxis": {
           "colorbar": {
            "outlinewidth": 0,
            "ticks": ""
           }
          },
          "colorscale": {
           "diverging": [
            [
             0,
             "#8e0152"
            ],
            [
             0.1,
             "#c51b7d"
            ],
            [
             0.2,
             "#de77ae"
            ],
            [
             0.3,
             "#f1b6da"
            ],
            [
             0.4,
             "#fde0ef"
            ],
            [
             0.5,
             "#f7f7f7"
            ],
            [
             0.6,
             "#e6f5d0"
            ],
            [
             0.7,
             "#b8e186"
            ],
            [
             0.8,
             "#7fbc41"
            ],
            [
             0.9,
             "#4d9221"
            ],
            [
             1,
             "#276419"
            ]
           ],
           "sequential": [
            [
             0,
             "#0d0887"
            ],
            [
             0.1111111111111111,
             "#46039f"
            ],
            [
             0.2222222222222222,
             "#7201a8"
            ],
            [
             0.3333333333333333,
             "#9c179e"
            ],
            [
             0.4444444444444444,
             "#bd3786"
            ],
            [
             0.5555555555555556,
             "#d8576b"
            ],
            [
             0.6666666666666666,
             "#ed7953"
            ],
            [
             0.7777777777777778,
             "#fb9f3a"
            ],
            [
             0.8888888888888888,
             "#fdca26"
            ],
            [
             1,
             "#f0f921"
            ]
           ],
           "sequentialminus": [
            [
             0,
             "#0d0887"
            ],
            [
             0.1111111111111111,
             "#46039f"
            ],
            [
             0.2222222222222222,
             "#7201a8"
            ],
            [
             0.3333333333333333,
             "#9c179e"
            ],
            [
             0.4444444444444444,
             "#bd3786"
            ],
            [
             0.5555555555555556,
             "#d8576b"
            ],
            [
             0.6666666666666666,
             "#ed7953"
            ],
            [
             0.7777777777777778,
             "#fb9f3a"
            ],
            [
             0.8888888888888888,
             "#fdca26"
            ],
            [
             1,
             "#f0f921"
            ]
           ]
          },
          "colorway": [
           "#636efa",
           "#EF553B",
           "#00cc96",
           "#ab63fa",
           "#FFA15A",
           "#19d3f3",
           "#FF6692",
           "#B6E880",
           "#FF97FF",
           "#FECB52"
          ],
          "font": {
           "color": "#2a3f5f"
          },
          "geo": {
           "bgcolor": "white",
           "lakecolor": "white",
           "landcolor": "#E5ECF6",
           "showlakes": true,
           "showland": true,
           "subunitcolor": "white"
          },
          "hoverlabel": {
           "align": "left"
          },
          "hovermode": "closest",
          "mapbox": {
           "style": "light"
          },
          "paper_bgcolor": "white",
          "plot_bgcolor": "#E5ECF6",
          "polar": {
           "angularaxis": {
            "gridcolor": "white",
            "linecolor": "white",
            "ticks": ""
           },
           "bgcolor": "#E5ECF6",
           "radialaxis": {
            "gridcolor": "white",
            "linecolor": "white",
            "ticks": ""
           }
          },
          "scene": {
           "xaxis": {
            "backgroundcolor": "#E5ECF6",
            "gridcolor": "white",
            "gridwidth": 2,
            "linecolor": "white",
            "showbackground": true,
            "ticks": "",
            "zerolinecolor": "white"
           },
           "yaxis": {
            "backgroundcolor": "#E5ECF6",
            "gridcolor": "white",
            "gridwidth": 2,
            "linecolor": "white",
            "showbackground": true,
            "ticks": "",
            "zerolinecolor": "white"
           },
           "zaxis": {
            "backgroundcolor": "#E5ECF6",
            "gridcolor": "white",
            "gridwidth": 2,
            "linecolor": "white",
            "showbackground": true,
            "ticks": "",
            "zerolinecolor": "white"
           }
          },
          "shapedefaults": {
           "line": {
            "color": "#2a3f5f"
           }
          },
          "ternary": {
           "aaxis": {
            "gridcolor": "white",
            "linecolor": "white",
            "ticks": ""
           },
           "baxis": {
            "gridcolor": "white",
            "linecolor": "white",
            "ticks": ""
           },
           "bgcolor": "#E5ECF6",
           "caxis": {
            "gridcolor": "white",
            "linecolor": "white",
            "ticks": ""
           }
          },
          "title": {
           "x": 0.05
          },
          "xaxis": {
           "automargin": true,
           "gridcolor": "white",
           "linecolor": "white",
           "ticks": "",
           "title": {
            "standoff": 15
           },
           "zerolinecolor": "white",
           "zerolinewidth": 2
          },
          "yaxis": {
           "automargin": true,
           "gridcolor": "white",
           "linecolor": "white",
           "ticks": "",
           "title": {
            "standoff": 15
           },
           "zerolinecolor": "white",
           "zerolinewidth": 2
          }
         }
        },
        "title": {
         "text": "Gain or loss in Units sold for top 20 Restaurants"
        },
        "xaxis": {
         "anchor": "y",
         "domain": [
          0,
          1
         ],
         "title": {
          "text": "Restaurant"
         }
        },
        "yaxis": {
         "anchor": "x",
         "domain": [
          0,
          1
         ],
         "title": {
          "text": "gl_units"
         }
        }
       }
      }
     },
     "metadata": {}
    }
   ],
   "source": [
    "px.bar(plot2,\n",
    "      x='Restaurant',\n",
    "      y= 'gl_units',\n",
    "      text = 'Restaurant',\n",
    "      title = 'Gain or loss in Units sold for top 20 Restaurants')"
   ]
  },
  {
   "cell_type": "code",
   "execution_count": 35,
   "metadata": {},
   "outputs": [
    {
     "output_type": "display_data",
     "data": {
      "application/vnd.plotly.v1+json": {
       "config": {
        "plotlyServerURL": "https://plot.ly"
       },
       "data": [
        {
         "alignmentgroup": "True",
         "hovertemplate": "Restaurant=%{text}<br>gl_sales=%{y}<extra></extra>",
         "legendgroup": "",
         "marker": {
          "color": "#636efa"
         },
         "name": "",
         "offsetgroup": "",
         "orientation": "v",
         "showlegend": false,
         "text": [
          "McDonald's",
          "Starbucks",
          "Chick-fil-A",
          "Taco Bell",
          "Wendy's",
          "Dunkin'",
          "Domino's",
          "Panera Bread",
          "Pizza Hut",
          "Chipotle Mexican Grill",
          "Sonic Drive-In",
          "KFC",
          "Olive Garden",
          "Applebee's",
          "Panda Express",
          "Arby's",
          "Popeyes Louisiana Kitchen",
          "Little Caesars"
         ],
         "textposition": "auto",
         "type": "bar",
         "x": [
          "McDonald's",
          "Starbucks",
          "Chick-fil-A",
          "Taco Bell",
          "Wendy's",
          "Dunkin'",
          "Domino's",
          "Panera Bread",
          "Pizza Hut",
          "Chipotle Mexican Grill",
          "Sonic Drive-In",
          "KFC",
          "Olive Garden",
          "Applebee's",
          "Panda Express",
          "Arby's",
          "Popeyes Louisiana Kitchen",
          "Little Caesars"
         ],
         "xaxis": "x",
         "y": [
          1,
          1,
          1,
          1,
          1,
          1,
          1,
          1,
          1,
          1,
          1,
          1,
          1,
          0,
          1,
          1,
          1,
          1
         ],
         "yaxis": "y"
        }
       ],
       "layout": {
        "barmode": "relative",
        "legend": {
         "tracegroupgap": 0
        },
        "template": {
         "data": {
          "bar": [
           {
            "error_x": {
             "color": "#2a3f5f"
            },
            "error_y": {
             "color": "#2a3f5f"
            },
            "marker": {
             "line": {
              "color": "#E5ECF6",
              "width": 0.5
             }
            },
            "type": "bar"
           }
          ],
          "barpolar": [
           {
            "marker": {
             "line": {
              "color": "#E5ECF6",
              "width": 0.5
             }
            },
            "type": "barpolar"
           }
          ],
          "carpet": [
           {
            "aaxis": {
             "endlinecolor": "#2a3f5f",
             "gridcolor": "white",
             "linecolor": "white",
             "minorgridcolor": "white",
             "startlinecolor": "#2a3f5f"
            },
            "baxis": {
             "endlinecolor": "#2a3f5f",
             "gridcolor": "white",
             "linecolor": "white",
             "minorgridcolor": "white",
             "startlinecolor": "#2a3f5f"
            },
            "type": "carpet"
           }
          ],
          "choropleth": [
           {
            "colorbar": {
             "outlinewidth": 0,
             "ticks": ""
            },
            "type": "choropleth"
           }
          ],
          "contour": [
           {
            "colorbar": {
             "outlinewidth": 0,
             "ticks": ""
            },
            "colorscale": [
             [
              0,
              "#0d0887"
             ],
             [
              0.1111111111111111,
              "#46039f"
             ],
             [
              0.2222222222222222,
              "#7201a8"
             ],
             [
              0.3333333333333333,
              "#9c179e"
             ],
             [
              0.4444444444444444,
              "#bd3786"
             ],
             [
              0.5555555555555556,
              "#d8576b"
             ],
             [
              0.6666666666666666,
              "#ed7953"
             ],
             [
              0.7777777777777778,
              "#fb9f3a"
             ],
             [
              0.8888888888888888,
              "#fdca26"
             ],
             [
              1,
              "#f0f921"
             ]
            ],
            "type": "contour"
           }
          ],
          "contourcarpet": [
           {
            "colorbar": {
             "outlinewidth": 0,
             "ticks": ""
            },
            "type": "contourcarpet"
           }
          ],
          "heatmap": [
           {
            "colorbar": {
             "outlinewidth": 0,
             "ticks": ""
            },
            "colorscale": [
             [
              0,
              "#0d0887"
             ],
             [
              0.1111111111111111,
              "#46039f"
             ],
             [
              0.2222222222222222,
              "#7201a8"
             ],
             [
              0.3333333333333333,
              "#9c179e"
             ],
             [
              0.4444444444444444,
              "#bd3786"
             ],
             [
              0.5555555555555556,
              "#d8576b"
             ],
             [
              0.6666666666666666,
              "#ed7953"
             ],
             [
              0.7777777777777778,
              "#fb9f3a"
             ],
             [
              0.8888888888888888,
              "#fdca26"
             ],
             [
              1,
              "#f0f921"
             ]
            ],
            "type": "heatmap"
           }
          ],
          "heatmapgl": [
           {
            "colorbar": {
             "outlinewidth": 0,
             "ticks": ""
            },
            "colorscale": [
             [
              0,
              "#0d0887"
             ],
             [
              0.1111111111111111,
              "#46039f"
             ],
             [
              0.2222222222222222,
              "#7201a8"
             ],
             [
              0.3333333333333333,
              "#9c179e"
             ],
             [
              0.4444444444444444,
              "#bd3786"
             ],
             [
              0.5555555555555556,
              "#d8576b"
             ],
             [
              0.6666666666666666,
              "#ed7953"
             ],
             [
              0.7777777777777778,
              "#fb9f3a"
             ],
             [
              0.8888888888888888,
              "#fdca26"
             ],
             [
              1,
              "#f0f921"
             ]
            ],
            "type": "heatmapgl"
           }
          ],
          "histogram": [
           {
            "marker": {
             "colorbar": {
              "outlinewidth": 0,
              "ticks": ""
             }
            },
            "type": "histogram"
           }
          ],
          "histogram2d": [
           {
            "colorbar": {
             "outlinewidth": 0,
             "ticks": ""
            },
            "colorscale": [
             [
              0,
              "#0d0887"
             ],
             [
              0.1111111111111111,
              "#46039f"
             ],
             [
              0.2222222222222222,
              "#7201a8"
             ],
             [
              0.3333333333333333,
              "#9c179e"
             ],
             [
              0.4444444444444444,
              "#bd3786"
             ],
             [
              0.5555555555555556,
              "#d8576b"
             ],
             [
              0.6666666666666666,
              "#ed7953"
             ],
             [
              0.7777777777777778,
              "#fb9f3a"
             ],
             [
              0.8888888888888888,
              "#fdca26"
             ],
             [
              1,
              "#f0f921"
             ]
            ],
            "type": "histogram2d"
           }
          ],
          "histogram2dcontour": [
           {
            "colorbar": {
             "outlinewidth": 0,
             "ticks": ""
            },
            "colorscale": [
             [
              0,
              "#0d0887"
             ],
             [
              0.1111111111111111,
              "#46039f"
             ],
             [
              0.2222222222222222,
              "#7201a8"
             ],
             [
              0.3333333333333333,
              "#9c179e"
             ],
             [
              0.4444444444444444,
              "#bd3786"
             ],
             [
              0.5555555555555556,
              "#d8576b"
             ],
             [
              0.6666666666666666,
              "#ed7953"
             ],
             [
              0.7777777777777778,
              "#fb9f3a"
             ],
             [
              0.8888888888888888,
              "#fdca26"
             ],
             [
              1,
              "#f0f921"
             ]
            ],
            "type": "histogram2dcontour"
           }
          ],
          "mesh3d": [
           {
            "colorbar": {
             "outlinewidth": 0,
             "ticks": ""
            },
            "type": "mesh3d"
           }
          ],
          "parcoords": [
           {
            "line": {
             "colorbar": {
              "outlinewidth": 0,
              "ticks": ""
             }
            },
            "type": "parcoords"
           }
          ],
          "pie": [
           {
            "automargin": true,
            "type": "pie"
           }
          ],
          "scatter": [
           {
            "marker": {
             "colorbar": {
              "outlinewidth": 0,
              "ticks": ""
             }
            },
            "type": "scatter"
           }
          ],
          "scatter3d": [
           {
            "line": {
             "colorbar": {
              "outlinewidth": 0,
              "ticks": ""
             }
            },
            "marker": {
             "colorbar": {
              "outlinewidth": 0,
              "ticks": ""
             }
            },
            "type": "scatter3d"
           }
          ],
          "scattercarpet": [
           {
            "marker": {
             "colorbar": {
              "outlinewidth": 0,
              "ticks": ""
             }
            },
            "type": "scattercarpet"
           }
          ],
          "scattergeo": [
           {
            "marker": {
             "colorbar": {
              "outlinewidth": 0,
              "ticks": ""
             }
            },
            "type": "scattergeo"
           }
          ],
          "scattergl": [
           {
            "marker": {
             "colorbar": {
              "outlinewidth": 0,
              "ticks": ""
             }
            },
            "type": "scattergl"
           }
          ],
          "scattermapbox": [
           {
            "marker": {
             "colorbar": {
              "outlinewidth": 0,
              "ticks": ""
             }
            },
            "type": "scattermapbox"
           }
          ],
          "scatterpolar": [
           {
            "marker": {
             "colorbar": {
              "outlinewidth": 0,
              "ticks": ""
             }
            },
            "type": "scatterpolar"
           }
          ],
          "scatterpolargl": [
           {
            "marker": {
             "colorbar": {
              "outlinewidth": 0,
              "ticks": ""
             }
            },
            "type": "scatterpolargl"
           }
          ],
          "scatterternary": [
           {
            "marker": {
             "colorbar": {
              "outlinewidth": 0,
              "ticks": ""
             }
            },
            "type": "scatterternary"
           }
          ],
          "surface": [
           {
            "colorbar": {
             "outlinewidth": 0,
             "ticks": ""
            },
            "colorscale": [
             [
              0,
              "#0d0887"
             ],
             [
              0.1111111111111111,
              "#46039f"
             ],
             [
              0.2222222222222222,
              "#7201a8"
             ],
             [
              0.3333333333333333,
              "#9c179e"
             ],
             [
              0.4444444444444444,
              "#bd3786"
             ],
             [
              0.5555555555555556,
              "#d8576b"
             ],
             [
              0.6666666666666666,
              "#ed7953"
             ],
             [
              0.7777777777777778,
              "#fb9f3a"
             ],
             [
              0.8888888888888888,
              "#fdca26"
             ],
             [
              1,
              "#f0f921"
             ]
            ],
            "type": "surface"
           }
          ],
          "table": [
           {
            "cells": {
             "fill": {
              "color": "#EBF0F8"
             },
             "line": {
              "color": "white"
             }
            },
            "header": {
             "fill": {
              "color": "#C8D4E3"
             },
             "line": {
              "color": "white"
             }
            },
            "type": "table"
           }
          ]
         },
         "layout": {
          "annotationdefaults": {
           "arrowcolor": "#2a3f5f",
           "arrowhead": 0,
           "arrowwidth": 1
          },
          "autotypenumbers": "strict",
          "coloraxis": {
           "colorbar": {
            "outlinewidth": 0,
            "ticks": ""
           }
          },
          "colorscale": {
           "diverging": [
            [
             0,
             "#8e0152"
            ],
            [
             0.1,
             "#c51b7d"
            ],
            [
             0.2,
             "#de77ae"
            ],
            [
             0.3,
             "#f1b6da"
            ],
            [
             0.4,
             "#fde0ef"
            ],
            [
             0.5,
             "#f7f7f7"
            ],
            [
             0.6,
             "#e6f5d0"
            ],
            [
             0.7,
             "#b8e186"
            ],
            [
             0.8,
             "#7fbc41"
            ],
            [
             0.9,
             "#4d9221"
            ],
            [
             1,
             "#276419"
            ]
           ],
           "sequential": [
            [
             0,
             "#0d0887"
            ],
            [
             0.1111111111111111,
             "#46039f"
            ],
            [
             0.2222222222222222,
             "#7201a8"
            ],
            [
             0.3333333333333333,
             "#9c179e"
            ],
            [
             0.4444444444444444,
             "#bd3786"
            ],
            [
             0.5555555555555556,
             "#d8576b"
            ],
            [
             0.6666666666666666,
             "#ed7953"
            ],
            [
             0.7777777777777778,
             "#fb9f3a"
            ],
            [
             0.8888888888888888,
             "#fdca26"
            ],
            [
             1,
             "#f0f921"
            ]
           ],
           "sequentialminus": [
            [
             0,
             "#0d0887"
            ],
            [
             0.1111111111111111,
             "#46039f"
            ],
            [
             0.2222222222222222,
             "#7201a8"
            ],
            [
             0.3333333333333333,
             "#9c179e"
            ],
            [
             0.4444444444444444,
             "#bd3786"
            ],
            [
             0.5555555555555556,
             "#d8576b"
            ],
            [
             0.6666666666666666,
             "#ed7953"
            ],
            [
             0.7777777777777778,
             "#fb9f3a"
            ],
            [
             0.8888888888888888,
             "#fdca26"
            ],
            [
             1,
             "#f0f921"
            ]
           ]
          },
          "colorway": [
           "#636efa",
           "#EF553B",
           "#00cc96",
           "#ab63fa",
           "#FFA15A",
           "#19d3f3",
           "#FF6692",
           "#B6E880",
           "#FF97FF",
           "#FECB52"
          ],
          "font": {
           "color": "#2a3f5f"
          },
          "geo": {
           "bgcolor": "white",
           "lakecolor": "white",
           "landcolor": "#E5ECF6",
           "showlakes": true,
           "showland": true,
           "subunitcolor": "white"
          },
          "hoverlabel": {
           "align": "left"
          },
          "hovermode": "closest",
          "mapbox": {
           "style": "light"
          },
          "paper_bgcolor": "white",
          "plot_bgcolor": "#E5ECF6",
          "polar": {
           "angularaxis": {
            "gridcolor": "white",
            "linecolor": "white",
            "ticks": ""
           },
           "bgcolor": "#E5ECF6",
           "radialaxis": {
            "gridcolor": "white",
            "linecolor": "white",
            "ticks": ""
           }
          },
          "scene": {
           "xaxis": {
            "backgroundcolor": "#E5ECF6",
            "gridcolor": "white",
            "gridwidth": 2,
            "linecolor": "white",
            "showbackground": true,
            "ticks": "",
            "zerolinecolor": "white"
           },
           "yaxis": {
            "backgroundcolor": "#E5ECF6",
            "gridcolor": "white",
            "gridwidth": 2,
            "linecolor": "white",
            "showbackground": true,
            "ticks": "",
            "zerolinecolor": "white"
           },
           "zaxis": {
            "backgroundcolor": "#E5ECF6",
            "gridcolor": "white",
            "gridwidth": 2,
            "linecolor": "white",
            "showbackground": true,
            "ticks": "",
            "zerolinecolor": "white"
           }
          },
          "shapedefaults": {
           "line": {
            "color": "#2a3f5f"
           }
          },
          "ternary": {
           "aaxis": {
            "gridcolor": "white",
            "linecolor": "white",
            "ticks": ""
           },
           "baxis": {
            "gridcolor": "white",
            "linecolor": "white",
            "ticks": ""
           },
           "bgcolor": "#E5ECF6",
           "caxis": {
            "gridcolor": "white",
            "linecolor": "white",
            "ticks": ""
           }
          },
          "title": {
           "x": 0.05
          },
          "xaxis": {
           "automargin": true,
           "gridcolor": "white",
           "linecolor": "white",
           "ticks": "",
           "title": {
            "standoff": 15
           },
           "zerolinecolor": "white",
           "zerolinewidth": 2
          },
          "yaxis": {
           "automargin": true,
           "gridcolor": "white",
           "linecolor": "white",
           "ticks": "",
           "title": {
            "standoff": 15
           },
           "zerolinecolor": "white",
           "zerolinewidth": 2
          }
         }
        },
        "title": {
         "text": "Gain or loss in Sales Amount for top 20 Restaurants"
        },
        "xaxis": {
         "anchor": "y",
         "domain": [
          0,
          1
         ],
         "title": {
          "text": "Restaurant"
         }
        },
        "yaxis": {
         "anchor": "x",
         "domain": [
          0,
          1
         ],
         "title": {
          "text": "gl_sales"
         }
        }
       }
      }
     },
     "metadata": {}
    }
   ],
   "source": [
    "px.bar(plot2,\n",
    "      x='Restaurant',\n",
    "      y= 'gl_sales',\n",
    "      text = 'Restaurant',\n",
    "      title = 'Gain or loss in Sales Amount for top 20 Restaurants')"
   ]
  },
  {
   "cell_type": "code",
   "execution_count": 36,
   "metadata": {},
   "outputs": [
    {
     "output_type": "display_data",
     "data": {
      "application/vnd.plotly.v1+json": {
       "config": {
        "plotlyServerURL": "https://plot.ly"
       },
       "data": [
        {
         "alignmentgroup": "True",
         "hovertemplate": "Segment_Category=%{x}<br>count=%{y}<extra></extra>",
         "legendgroup": "",
         "marker": {
          "color": "#636efa"
         },
         "name": "",
         "offsetgroup": "",
         "orientation": "v",
         "showlegend": false,
         "textposition": "auto",
         "type": "bar",
         "x": [
          "Quick Service & Burger",
          "Quick Service & Coffee Cafe",
          "Quick Service & Chicken",
          "Quick Service & Mexican",
          "Quick Service & Burger",
          "Quick Service & Sandwich",
          "Quick Service & Burger",
          "Quick Service & Coffee Cafe",
          "Quick Service & Pizza",
          "Fast Casual & Bakery Cafe",
          "Quick Service & Pizza",
          "Fast Casual & Mexican",
          "Quick Service & Burger",
          "Quick Service & Chicken",
          "Casual Dining & Italian/Pizza",
          "Casual Dining & Varied Menu",
          "Fast Casual & Asian/Noodle",
          "Quick Service & Sandwich",
          "Quick Service & Chicken",
          "Quick Service & Pizza",
          "Quick Service & Frozen Desserts",
          "Casual Dining & Sports Bar",
          "Casual Dining & Varied Menu",
          "Quick Service & Burger",
          "Family Dining & Family Style",
          "Casual Dining & Steak",
          "Family Dining & Family Style",
          "Quick Service & Pizza",
          "Casual Dining & Steak",
          "Quick Service & Burger",
          "Casual Dining & Seafood",
          "Family Dining & Family Style",
          "Casual Dining & Varied Menu",
          "Fast Casual & Sandwich",
          "Quick Service & Burger",
          "Fast Casual & Chicken",
          "Casual Dining & Steak",
          "Quick Service & Burger",
          "Quick Service & Family Casual",
          "Fast Casual & Burger",
          "Casual Dining & Varied Menu",
          "Fast Casual & Chicken",
          "Quick Service & Burger",
          "Fast Casual & Chicken",
          "Family Dining & Family Style",
          "Fast Casual & Sandwich",
          "Quick Service & Chicken",
          "Casual Dining & Varied Menu",
          "Casual Dining & Varied Menu",
          "Quick Service & Burger",
          "Quick Service & Burger",
          "Casual Dining & Asian",
          "Fast Casual & Mexican",
          "Quick Service & Chicken",
          "Quick Service & Snack",
          "Casual Dining & Sports Bar",
          "Quick Service & Mexican",
          "Fast Casual & Sandwich",
          "Family Dining & Family Style",
          "Fast Casual & Mexican",
          "Quick Service & Pizza",
          "Casual Dining & Varied Menu",
          "Fast Casual & Sandwich",
          "Casual Dining & Varied Menu",
          "Quick Service & Chicken",
          "Quick Service & Coffee Cafe",
          "Steak",
          "Casual Dining & Italian/Pizza",
          "Fast Casual & Sandwich",
          "Quick Service & Pizza",
          "Fast Casual & Burger",
          "Casual Dining & Italian/Pizza",
          "Quick Service & Frozen Desserts",
          "Casual Dining & Varied Menu",
          "Casual Dining & Seafood",
          "Quick Service & Burger",
          "Quick Service & Beverage",
          "Sports Bar",
          "Quick Service & Coffee Cafe",
          "Quick Service & Seafood",
          "Quick Service & Snack",
          "Family Dining & Family Style",
          "Family Dining & Family Style",
          "Fast Casual & Burger",
          "Quick Service & Burger",
          "Fast Casual & Asian/Noodle",
          "Quick Service & Bakery Cafe",
          "Quick Service & Beverage",
          "Fast Casual & Sandwich",
          "Fast Casual & Chicken",
          "Fast Casual & Burger",
          "Casual Dining & Steak",
          "Fast Casual & Pizza",
          "Quick Service & Beverage",
          "Casual Dining & Italian/Pizza",
          "Fine Dining & Steak",
          "Quick Service & Pizza",
          "Casual Dining & Sports Bar",
          "Quick Service & Sandwich",
          "Quick Service & Pizza",
          "Quick Service & Sandwich",
          "Mexican",
          "Varied Menu",
          "Chicken",
          "Italian/Pizza",
          "Pizza",
          "Seafood",
          "Steak",
          "Pizza",
          "Mexican",
          "Steak",
          "Frozen Desserts",
          "Pizza",
          "Coffee Cafe",
          "BBQ",
          "Sandwich",
          "Bakery Cafe",
          "Burger",
          "Asian",
          "Varied Menu",
          "Family Style",
          "Family Style",
          "Sports Bar",
          "Sandwich",
          "Pizza",
          "BBQ",
          "Mexican",
          "Steak",
          "Varied Menu",
          "Family Style",
          "Mexican",
          "Steak",
          "Coffee Cafe",
          "Burger",
          "Bakery Cafe",
          "Varied Menu",
          "Asian/Noodle",
          "Italian/Pizza",
          "Burger",
          "Mexican",
          "Pizza",
          "Seafood",
          "Frozen Desserts",
          "Asian/Noodle",
          "Mexican",
          "Steak",
          "Burger",
          "Sandwich",
          "Family Casual",
          "Varied Menu",
          "Varied Menu",
          "Bakery Cafe",
          "Pizza",
          "Family Style",
          "Steak",
          "Mexican",
          "Sandwich",
          "Mexican",
          "Seafood",
          "Burger",
          "Sandwich",
          "Mexican",
          "Pizza",
          "Italian/Pizza",
          "Italian/Pizza",
          "Varied Menu",
          "Family Casual",
          "Family Style",
          "Steak",
          "Sandwich",
          "Snack",
          "Italian/Pizza",
          "Varied Menu",
          "Family Casual",
          "Sandwich",
          "Varied Menu",
          "Bakery Cafe",
          "BBQ",
          "Varied Menu",
          "Italian/Pizza",
          "Varied Menu",
          "Varied Menu",
          "Burger",
          "Family Style",
          "Healthy",
          "Chicken",
          "Pizza",
          "Seafood",
          "Varied Menu",
          "Burger",
          "Pizza",
          "Family Style",
          "Mexican",
          "Varied Menu",
          "Snack",
          "Bakery Cafe",
          "Italian/Pizza",
          "Varied Menu",
          "Varied Menu",
          "Sports Bar",
          "Family Style",
          "BBQ",
          "Steak",
          "BBQ",
          "Seafood",
          "Italian/Pizza",
          "Varied Menu",
          "Bakery Cafe",
          "Family Style",
          "Chicken",
          "Burger",
          "Seafood",
          "Varied Menu",
          "Italian/Pizza",
          "Chicken",
          "Bakery Cafe",
          "Family Style",
          "Sports Bar",
          "Italian/Pizza",
          "Ethnic",
          "Frozen Desserts",
          "Bakery Cafe",
          "Mexican",
          "Sports Bar",
          "Seafood",
          "Varied Menu",
          "Seafood",
          "Mexican",
          "Chicken",
          "Varied Menu",
          "Family Casual",
          "Snack",
          "Asian",
          "Burger",
          "BBQ",
          "Sports Bar",
          "Coffee Cafe",
          "Frozen Desserts",
          "Snack",
          "Asian/Noodle",
          "Varied Menu",
          "Coffee Cafe",
          "Mexican",
          "BBQ",
          "Asian",
          "Varied Menu",
          "Chicken",
          "Mexican",
          "Burger",
          "Chicken"
         ],
         "xaxis": "x",
         "y": [
          1,
          1,
          1,
          1,
          1,
          1,
          1,
          1,
          1,
          1,
          1,
          1,
          1,
          1,
          1,
          1,
          1,
          1,
          1,
          1,
          1,
          1,
          1,
          1,
          1,
          1,
          1,
          1,
          1,
          1,
          1,
          1,
          1,
          1,
          1,
          1,
          1,
          1,
          1,
          1,
          1,
          1,
          1,
          1,
          1,
          1,
          1,
          1,
          1,
          1,
          1,
          1,
          1,
          1,
          1,
          1,
          1,
          1,
          1,
          1,
          1,
          1,
          1,
          1,
          1,
          1,
          1,
          1,
          1,
          1,
          1,
          1,
          1,
          1,
          1,
          1,
          1,
          1,
          1,
          1,
          1,
          1,
          1,
          1,
          1,
          1,
          1,
          1,
          1,
          1,
          1,
          1,
          1,
          1,
          1,
          1,
          1,
          1,
          1,
          1,
          1,
          1,
          1,
          1,
          1,
          1,
          1,
          1,
          1,
          1,
          1,
          1,
          1,
          1,
          1,
          1,
          1,
          1,
          1,
          1,
          1,
          1,
          1,
          1,
          1,
          1,
          1,
          1,
          1,
          1,
          1,
          1,
          1,
          1,
          1,
          1,
          1,
          1,
          1,
          1,
          1,
          1,
          1,
          1,
          1,
          1,
          1,
          1,
          1,
          1,
          1,
          1,
          1,
          1,
          1,
          1,
          1,
          1,
          1,
          1,
          1,
          1,
          1,
          1,
          1,
          1,
          1,
          1,
          1,
          1,
          1,
          1,
          1,
          1,
          1,
          1,
          1,
          1,
          1,
          1,
          1,
          1,
          1,
          1,
          1,
          1,
          1,
          1,
          1,
          1,
          1,
          1,
          1,
          1,
          1,
          1,
          1,
          1,
          1,
          1,
          1,
          1,
          1,
          1,
          1,
          1,
          1,
          1,
          1,
          1,
          1,
          1,
          1,
          1,
          1,
          1,
          1,
          1,
          1,
          1,
          1,
          1,
          1,
          1,
          1,
          1,
          1,
          1,
          1,
          1,
          1,
          1,
          1,
          1,
          1,
          1,
          1,
          1,
          1,
          1,
          1,
          1,
          1,
          1,
          1,
          1,
          1,
          1,
          1,
          1
         ],
         "yaxis": "y"
        }
       ],
       "layout": {
        "barmode": "relative",
        "legend": {
         "tracegroupgap": 0
        },
        "template": {
         "data": {
          "bar": [
           {
            "error_x": {
             "color": "#2a3f5f"
            },
            "error_y": {
             "color": "#2a3f5f"
            },
            "marker": {
             "line": {
              "color": "#E5ECF6",
              "width": 0.5
             }
            },
            "type": "bar"
           }
          ],
          "barpolar": [
           {
            "marker": {
             "line": {
              "color": "#E5ECF6",
              "width": 0.5
             }
            },
            "type": "barpolar"
           }
          ],
          "carpet": [
           {
            "aaxis": {
             "endlinecolor": "#2a3f5f",
             "gridcolor": "white",
             "linecolor": "white",
             "minorgridcolor": "white",
             "startlinecolor": "#2a3f5f"
            },
            "baxis": {
             "endlinecolor": "#2a3f5f",
             "gridcolor": "white",
             "linecolor": "white",
             "minorgridcolor": "white",
             "startlinecolor": "#2a3f5f"
            },
            "type": "carpet"
           }
          ],
          "choropleth": [
           {
            "colorbar": {
             "outlinewidth": 0,
             "ticks": ""
            },
            "type": "choropleth"
           }
          ],
          "contour": [
           {
            "colorbar": {
             "outlinewidth": 0,
             "ticks": ""
            },
            "colorscale": [
             [
              0,
              "#0d0887"
             ],
             [
              0.1111111111111111,
              "#46039f"
             ],
             [
              0.2222222222222222,
              "#7201a8"
             ],
             [
              0.3333333333333333,
              "#9c179e"
             ],
             [
              0.4444444444444444,
              "#bd3786"
             ],
             [
              0.5555555555555556,
              "#d8576b"
             ],
             [
              0.6666666666666666,
              "#ed7953"
             ],
             [
              0.7777777777777778,
              "#fb9f3a"
             ],
             [
              0.8888888888888888,
              "#fdca26"
             ],
             [
              1,
              "#f0f921"
             ]
            ],
            "type": "contour"
           }
          ],
          "contourcarpet": [
           {
            "colorbar": {
             "outlinewidth": 0,
             "ticks": ""
            },
            "type": "contourcarpet"
           }
          ],
          "heatmap": [
           {
            "colorbar": {
             "outlinewidth": 0,
             "ticks": ""
            },
            "colorscale": [
             [
              0,
              "#0d0887"
             ],
             [
              0.1111111111111111,
              "#46039f"
             ],
             [
              0.2222222222222222,
              "#7201a8"
             ],
             [
              0.3333333333333333,
              "#9c179e"
             ],
             [
              0.4444444444444444,
              "#bd3786"
             ],
             [
              0.5555555555555556,
              "#d8576b"
             ],
             [
              0.6666666666666666,
              "#ed7953"
             ],
             [
              0.7777777777777778,
              "#fb9f3a"
             ],
             [
              0.8888888888888888,
              "#fdca26"
             ],
             [
              1,
              "#f0f921"
             ]
            ],
            "type": "heatmap"
           }
          ],
          "heatmapgl": [
           {
            "colorbar": {
             "outlinewidth": 0,
             "ticks": ""
            },
            "colorscale": [
             [
              0,
              "#0d0887"
             ],
             [
              0.1111111111111111,
              "#46039f"
             ],
             [
              0.2222222222222222,
              "#7201a8"
             ],
             [
              0.3333333333333333,
              "#9c179e"
             ],
             [
              0.4444444444444444,
              "#bd3786"
             ],
             [
              0.5555555555555556,
              "#d8576b"
             ],
             [
              0.6666666666666666,
              "#ed7953"
             ],
             [
              0.7777777777777778,
              "#fb9f3a"
             ],
             [
              0.8888888888888888,
              "#fdca26"
             ],
             [
              1,
              "#f0f921"
             ]
            ],
            "type": "heatmapgl"
           }
          ],
          "histogram": [
           {
            "marker": {
             "colorbar": {
              "outlinewidth": 0,
              "ticks": ""
             }
            },
            "type": "histogram"
           }
          ],
          "histogram2d": [
           {
            "colorbar": {
             "outlinewidth": 0,
             "ticks": ""
            },
            "colorscale": [
             [
              0,
              "#0d0887"
             ],
             [
              0.1111111111111111,
              "#46039f"
             ],
             [
              0.2222222222222222,
              "#7201a8"
             ],
             [
              0.3333333333333333,
              "#9c179e"
             ],
             [
              0.4444444444444444,
              "#bd3786"
             ],
             [
              0.5555555555555556,
              "#d8576b"
             ],
             [
              0.6666666666666666,
              "#ed7953"
             ],
             [
              0.7777777777777778,
              "#fb9f3a"
             ],
             [
              0.8888888888888888,
              "#fdca26"
             ],
             [
              1,
              "#f0f921"
             ]
            ],
            "type": "histogram2d"
           }
          ],
          "histogram2dcontour": [
           {
            "colorbar": {
             "outlinewidth": 0,
             "ticks": ""
            },
            "colorscale": [
             [
              0,
              "#0d0887"
             ],
             [
              0.1111111111111111,
              "#46039f"
             ],
             [
              0.2222222222222222,
              "#7201a8"
             ],
             [
              0.3333333333333333,
              "#9c179e"
             ],
             [
              0.4444444444444444,
              "#bd3786"
             ],
             [
              0.5555555555555556,
              "#d8576b"
             ],
             [
              0.6666666666666666,
              "#ed7953"
             ],
             [
              0.7777777777777778,
              "#fb9f3a"
             ],
             [
              0.8888888888888888,
              "#fdca26"
             ],
             [
              1,
              "#f0f921"
             ]
            ],
            "type": "histogram2dcontour"
           }
          ],
          "mesh3d": [
           {
            "colorbar": {
             "outlinewidth": 0,
             "ticks": ""
            },
            "type": "mesh3d"
           }
          ],
          "parcoords": [
           {
            "line": {
             "colorbar": {
              "outlinewidth": 0,
              "ticks": ""
             }
            },
            "type": "parcoords"
           }
          ],
          "pie": [
           {
            "automargin": true,
            "type": "pie"
           }
          ],
          "scatter": [
           {
            "marker": {
             "colorbar": {
              "outlinewidth": 0,
              "ticks": ""
             }
            },
            "type": "scatter"
           }
          ],
          "scatter3d": [
           {
            "line": {
             "colorbar": {
              "outlinewidth": 0,
              "ticks": ""
             }
            },
            "marker": {
             "colorbar": {
              "outlinewidth": 0,
              "ticks": ""
             }
            },
            "type": "scatter3d"
           }
          ],
          "scattercarpet": [
           {
            "marker": {
             "colorbar": {
              "outlinewidth": 0,
              "ticks": ""
             }
            },
            "type": "scattercarpet"
           }
          ],
          "scattergeo": [
           {
            "marker": {
             "colorbar": {
              "outlinewidth": 0,
              "ticks": ""
             }
            },
            "type": "scattergeo"
           }
          ],
          "scattergl": [
           {
            "marker": {
             "colorbar": {
              "outlinewidth": 0,
              "ticks": ""
             }
            },
            "type": "scattergl"
           }
          ],
          "scattermapbox": [
           {
            "marker": {
             "colorbar": {
              "outlinewidth": 0,
              "ticks": ""
             }
            },
            "type": "scattermapbox"
           }
          ],
          "scatterpolar": [
           {
            "marker": {
             "colorbar": {
              "outlinewidth": 0,
              "ticks": ""
             }
            },
            "type": "scatterpolar"
           }
          ],
          "scatterpolargl": [
           {
            "marker": {
             "colorbar": {
              "outlinewidth": 0,
              "ticks": ""
             }
            },
            "type": "scatterpolargl"
           }
          ],
          "scatterternary": [
           {
            "marker": {
             "colorbar": {
              "outlinewidth": 0,
              "ticks": ""
             }
            },
            "type": "scatterternary"
           }
          ],
          "surface": [
           {
            "colorbar": {
             "outlinewidth": 0,
             "ticks": ""
            },
            "colorscale": [
             [
              0,
              "#0d0887"
             ],
             [
              0.1111111111111111,
              "#46039f"
             ],
             [
              0.2222222222222222,
              "#7201a8"
             ],
             [
              0.3333333333333333,
              "#9c179e"
             ],
             [
              0.4444444444444444,
              "#bd3786"
             ],
             [
              0.5555555555555556,
              "#d8576b"
             ],
             [
              0.6666666666666666,
              "#ed7953"
             ],
             [
              0.7777777777777778,
              "#fb9f3a"
             ],
             [
              0.8888888888888888,
              "#fdca26"
             ],
             [
              1,
              "#f0f921"
             ]
            ],
            "type": "surface"
           }
          ],
          "table": [
           {
            "cells": {
             "fill": {
              "color": "#EBF0F8"
             },
             "line": {
              "color": "white"
             }
            },
            "header": {
             "fill": {
              "color": "#C8D4E3"
             },
             "line": {
              "color": "white"
             }
            },
            "type": "table"
           }
          ]
         },
         "layout": {
          "annotationdefaults": {
           "arrowcolor": "#2a3f5f",
           "arrowhead": 0,
           "arrowwidth": 1
          },
          "autotypenumbers": "strict",
          "coloraxis": {
           "colorbar": {
            "outlinewidth": 0,
            "ticks": ""
           }
          },
          "colorscale": {
           "diverging": [
            [
             0,
             "#8e0152"
            ],
            [
             0.1,
             "#c51b7d"
            ],
            [
             0.2,
             "#de77ae"
            ],
            [
             0.3,
             "#f1b6da"
            ],
            [
             0.4,
             "#fde0ef"
            ],
            [
             0.5,
             "#f7f7f7"
            ],
            [
             0.6,
             "#e6f5d0"
            ],
            [
             0.7,
             "#b8e186"
            ],
            [
             0.8,
             "#7fbc41"
            ],
            [
             0.9,
             "#4d9221"
            ],
            [
             1,
             "#276419"
            ]
           ],
           "sequential": [
            [
             0,
             "#0d0887"
            ],
            [
             0.1111111111111111,
             "#46039f"
            ],
            [
             0.2222222222222222,
             "#7201a8"
            ],
            [
             0.3333333333333333,
             "#9c179e"
            ],
            [
             0.4444444444444444,
             "#bd3786"
            ],
            [
             0.5555555555555556,
             "#d8576b"
            ],
            [
             0.6666666666666666,
             "#ed7953"
            ],
            [
             0.7777777777777778,
             "#fb9f3a"
            ],
            [
             0.8888888888888888,
             "#fdca26"
            ],
            [
             1,
             "#f0f921"
            ]
           ],
           "sequentialminus": [
            [
             0,
             "#0d0887"
            ],
            [
             0.1111111111111111,
             "#46039f"
            ],
            [
             0.2222222222222222,
             "#7201a8"
            ],
            [
             0.3333333333333333,
             "#9c179e"
            ],
            [
             0.4444444444444444,
             "#bd3786"
            ],
            [
             0.5555555555555556,
             "#d8576b"
            ],
            [
             0.6666666666666666,
             "#ed7953"
            ],
            [
             0.7777777777777778,
             "#fb9f3a"
            ],
            [
             0.8888888888888888,
             "#fdca26"
            ],
            [
             1,
             "#f0f921"
            ]
           ]
          },
          "colorway": [
           "#636efa",
           "#EF553B",
           "#00cc96",
           "#ab63fa",
           "#FFA15A",
           "#19d3f3",
           "#FF6692",
           "#B6E880",
           "#FF97FF",
           "#FECB52"
          ],
          "font": {
           "color": "#2a3f5f"
          },
          "geo": {
           "bgcolor": "white",
           "lakecolor": "white",
           "landcolor": "#E5ECF6",
           "showlakes": true,
           "showland": true,
           "subunitcolor": "white"
          },
          "hoverlabel": {
           "align": "left"
          },
          "hovermode": "closest",
          "mapbox": {
           "style": "light"
          },
          "paper_bgcolor": "white",
          "plot_bgcolor": "#E5ECF6",
          "polar": {
           "angularaxis": {
            "gridcolor": "white",
            "linecolor": "white",
            "ticks": ""
           },
           "bgcolor": "#E5ECF6",
           "radialaxis": {
            "gridcolor": "white",
            "linecolor": "white",
            "ticks": ""
           }
          },
          "scene": {
           "xaxis": {
            "backgroundcolor": "#E5ECF6",
            "gridcolor": "white",
            "gridwidth": 2,
            "linecolor": "white",
            "showbackground": true,
            "ticks": "",
            "zerolinecolor": "white"
           },
           "yaxis": {
            "backgroundcolor": "#E5ECF6",
            "gridcolor": "white",
            "gridwidth": 2,
            "linecolor": "white",
            "showbackground": true,
            "ticks": "",
            "zerolinecolor": "white"
           },
           "zaxis": {
            "backgroundcolor": "#E5ECF6",
            "gridcolor": "white",
            "gridwidth": 2,
            "linecolor": "white",
            "showbackground": true,
            "ticks": "",
            "zerolinecolor": "white"
           }
          },
          "shapedefaults": {
           "line": {
            "color": "#2a3f5f"
           }
          },
          "ternary": {
           "aaxis": {
            "gridcolor": "white",
            "linecolor": "white",
            "ticks": ""
           },
           "baxis": {
            "gridcolor": "white",
            "linecolor": "white",
            "ticks": ""
           },
           "bgcolor": "#E5ECF6",
           "caxis": {
            "gridcolor": "white",
            "linecolor": "white",
            "ticks": ""
           }
          },
          "title": {
           "x": 0.05
          },
          "xaxis": {
           "automargin": true,
           "gridcolor": "white",
           "linecolor": "white",
           "ticks": "",
           "title": {
            "standoff": 15
           },
           "zerolinecolor": "white",
           "zerolinewidth": 2
          },
          "yaxis": {
           "automargin": true,
           "gridcolor": "white",
           "linecolor": "white",
           "ticks": "",
           "title": {
            "standoff": 15
           },
           "zerolinecolor": "white",
           "zerolinewidth": 2
          }
         }
        },
        "title": {
         "text": "Most Ordered Type of Food"
        },
        "xaxis": {
         "anchor": "y",
         "domain": [
          0,
          1
         ],
         "title": {
          "text": "Segment_Category"
         }
        },
        "yaxis": {
         "anchor": "x",
         "domain": [
          0,
          1
         ],
         "title": {
          "text": "count"
         }
        }
       }
      }
     },
     "metadata": {}
    }
   ],
   "source": [
    "px.bar(df,  #taking a look at the most ordered food type\n",
    "      x='Segment_Category',\n",
    "      title = 'Most Ordered Type of Food')"
   ]
  }
 ]
}